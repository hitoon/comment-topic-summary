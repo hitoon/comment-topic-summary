{
 "cells": [
  {
   "cell_type": "code",
   "execution_count": 1,
   "metadata": {},
   "outputs": [],
   "source": [
    "# coding:utf-8\n",
    "\n",
    "\n",
    "import pickle\n",
    "import gensim\n",
    "from gensim import corpora, models\n",
    "import pandas as pd\n",
    "import pyLDAvis\n",
    "import pyLDAvis.gensim  # don't skip this\n",
    "import matplotlib.pyplot as plt\n",
    "import mecab_util\n",
    "import warnings\n",
    "warnings.filterwarnings('ignore')\n",
    "from gensim.models import CoherenceModel\n",
    "import pprint"
   ]
  },
  {
   "cell_type": "code",
   "execution_count": 2,
   "metadata": {},
   "outputs": [],
   "source": [
    "TOPIC_NUM = 20 # if  None: coherenceで選択\n",
    "\n",
    "SEPARATE_COMMENT_TO_ONE = False # コメントも1文ずつに分ける\n",
    "\n",
    "COMMENT_ROUGE = False # コメントとのROUGEを計算するか\n",
    "\n",
    "SELECT_SENTENCE_NUM = None # if None: 3割抽出\n",
    "\n",
    "USE_MALLET = False # model: malletを使用するか"
   ]
  },
  {
   "cell_type": "code",
   "execution_count": 3,
   "metadata": {},
   "outputs": [],
   "source": [
    "def load_pkl(path):\n",
    "    with open(path, \"rb\") as f:\n",
    "        data = pickle.load(f)\n",
    "    return data\n",
    "\n",
    "def fix_text(text):\n",
    "    text = text.replace('\\n', ' ')\n",
    "    text = text.replace('\\u3000', ' ')\n",
    "    text = text.replace('!', ' ')\n",
    "    text = text.replace('！', ' ')\n",
    "    text = text.replace('?', ' ')\n",
    "    text = text.replace('？', ' ')\n",
    "    text = text.replace('.', ' ')\n",
    "    text = text.replace('。', ' ')\n",
    "    return text\n",
    "\n",
    "def load_title(articles, target_url):\n",
    "    article_title = articles[target_url][1]\n",
    "    return article_title\n",
    "\n",
    "def load_article_text(articles, target_url):\n",
    "    article_text = articles[target_url][-1]\n",
    "    article_text = \"。\".join(fix_text(article_text).split())\n",
    "    return article_text\n",
    "\n",
    "def load_article_comments(articles, target_url):\n",
    "    file_name = \"./comments/\" + articles[target_url][0].split(\"/\")[-1][5:] + \".p\"\n",
    "    comments = load_pkl(file_name)\n",
    "    # user, date, comment, agree, disagree\n",
    "    comment_texts = [i[\"comment\"] for i in comments]\n",
    "    return comment_texts\n",
    "\n",
    "def separate_comment2sentence(comment_texts):\n",
    "    all_sentences = []# 各コメントも一文ずつに分ける\n",
    "    for c in comment_texts:\n",
    "        for s in c.split():\n",
    "            all_sentences.append(s)\n",
    "    return all_sentences\n",
    "\n",
    "def remove_outlier_sentence(sentences, mecabed_list, minimum=5, maximum=20):\n",
    "    # 短い文章を削除\n",
    "    new_sentences = []\n",
    "    new_mecabed_list = []\n",
    "    for s, m in zip(sentences, mecabed_list):\n",
    "        if len(m) < minimum or len(m) > maximum:\n",
    "            pass\n",
    "        else:\n",
    "            new_sentences.append(s)\n",
    "            new_mecabed_list.append(m)\n",
    "    return new_sentences, new_mecabed_list\n",
    "\n",
    "def format_topics_sentences(ldamodel, corpus, texts, topic_num):\n",
    "    # Init output\n",
    "    sent_topics_df = pd.DataFrame()\n",
    "\n",
    "    # Get main topic in each document\n",
    "    for i, row in enumerate(ldamodel[corpus]):\n",
    "        row = sorted(row, key=lambda x: (x[1]), reverse=True)\n",
    "        # Get the Dominant topic, Perc Contribution and Keywords for each document\n",
    "        for j, (topic_num, prop_topic) in enumerate(row):\n",
    "            if j == 0:  # => dominant topic\n",
    "                wp = ldamodel.show_topic(topic_num)\n",
    "                topic_keywords = \", \".join([word for word, prop in wp])\n",
    "                sent_topics_df = sent_topics_df.append(pd.Series([int(topic_num), round(prop_topic,4), topic_keywords]), ignore_index=True)\n",
    "            else:\n",
    "                break\n",
    "    sent_topics_df.columns = ['Dominant_Topic', 'Perc_Contribution', 'Topic_Keywords']\n",
    "    # Perc_Contribution: 指定された文書のトピックの寄与率\n",
    "\n",
    "    # Add original text to the end of the output\n",
    "    contents = pd.Series(texts)\n",
    "    sent_topics_df = pd.concat([sent_topics_df, contents], axis=1)\n",
    "    return(sent_topics_df)\n",
    "\n",
    "def top_topic_sentences(df_topic_sents_keywords):\n",
    "    # Group top 5 sentences under each topic\n",
    "    sent_topics_sorteddf = pd.DataFrame()\n",
    "    sent_topics_outdf_grpd = df_topic_sents_keywords.groupby('Dominant_Topic')\n",
    "    \n",
    "    for i, grp in sent_topics_outdf_grpd:\n",
    "        sent_topics_sorteddf = pd.concat([sent_topics_sorteddf, grp.sort_values(['Perc_Contribution'], ascending=[0]).head(1)], axis=0)\n",
    "    \n",
    "    # Reset Index    \n",
    "    sent_topics_sorteddf.reset_index(drop=True, inplace=True)\n",
    "    # Format\n",
    "    sent_topics_sorteddf.columns = ['Topic_Num', \"Topic_Perc_Contrib\", \"Keywords\", \"Text\"]\n",
    "    return sent_topics_sorteddf\n",
    "\n",
    "def compute_coherence_values(dictionary, corpus, texts, limit, start=2, step=3):\n",
    "    \"\"\"\n",
    "    Compute c_v coherence for various number of topics\n",
    "\n",
    "    Parameters:\n",
    "    ----------\n",
    "    dictionary : Gensim dictionary\n",
    "    corpus : Gensim corpus\n",
    "    texts : List of input texts\n",
    "    limit : Max num of topics\n",
    "\n",
    "    Returns:\n",
    "    -------\n",
    "    model_list : List of LDA topic models\n",
    "    coherence_values : Coherence values corresponding to the LDA model with respective number of topics\n",
    "    \"\"\"\n",
    "    coherence_values = []\n",
    "    model_list = []\n",
    "    for num_topics in range(start, limit, step):\n",
    "        model = gensim.models.LdaModel(corpus=corpus, id2word=dictionary,num_topics=num_topics, random_state = 1)\n",
    "        model_list.append(model)\n",
    "        coherencemodel = CoherenceModel(model=model, texts=texts, dictionary=dictionary, coherence='c_v')\n",
    "        coherence_values.append(coherencemodel.get_coherence())\n",
    "\n",
    "    return model_list, coherence_values"
   ]
  },
  {
   "cell_type": "code",
   "execution_count": 4,
   "metadata": {},
   "outputs": [],
   "source": [
    "target = \"https://headlines.yahoo.co.jp/hl?a=20181118-00000030-asahi-soci\"\n",
    "#target = \"https://headlines.yahoo.co.jp/hl?a=20181128-00000013-exmusic-musi\"\n",
    "\n",
    "#target = \"https://headlines.yahoo.co.jp/hl?a=20181118-00000530-san-soci\"\n",
    "#target = \"https://headlines.yahoo.co.jp/hl?a=20181122-00010002-mrt-l45\"\n",
    "#target = \"https://headlines.yahoo.co.jp/hl?a=20181122-00010002-mrt-l45\"\n",
    "#target = \"https://headlines.yahoo.co.jp/hl?a=20181123-35129123-cnn-int\"\n",
    "\n",
    "#target = \"https://headlines.yahoo.co.jp/hl?a=20181119-00010010-abema-soci\" #ない\n",
    "#target = \"https://headlines.yahoo.co.jp/hl?a=20181122-00000081-reut-bus_all\"\n",
    "#target = \"https://headlines.yahoo.co.jp/hl?a=20181119-00025348-mbsnewsv-l28'\""
   ]
  },
  {
   "cell_type": "code",
   "execution_count": 5,
   "metadata": {},
   "outputs": [],
   "source": [
    "articles = load_pkl(\"./yahoo_news_url.p\")"
   ]
  },
  {
   "cell_type": "code",
   "execution_count": 6,
   "metadata": {},
   "outputs": [
    {
     "name": "stdout",
     "output_type": "stream",
     "text": [
      "title:  留学生の在留資格審査が厳格に　日本への門、一気に狭く（朝日新聞デジタル） - Yahoo!ニュース\n"
     ]
    }
   ],
   "source": [
    "title = load_title(articles, target)\n",
    "print(\"title: \", title)"
   ]
  },
  {
   "cell_type": "code",
   "execution_count": 7,
   "metadata": {},
   "outputs": [
    {
     "name": "stdout",
     "output_type": "stream",
     "text": [
      "文書数:  10\n",
      "東京入国管理局が、日本語学校などで学ぶため来日する留学生の在留資格審査を厳格化させていることが、関係者の話で分かった。不法就労などへの対策強化が背景にあるが、東南アジアなど一部の国では在留資格の交付率が激減し、日本留学への門が一気に閉ざされた形となっている。【写真】外国人労働者に関する野党合同ヒアリングに出席し、思いを述べた後、涙を拭う技能実習生。法務省によると、留学生は２０１７年末で国内に約３１万人おり、５年前から１０万人以上増えている。一方、就労目的の来日も指摘され、在留資格が取り消される例も出ている。政府は現在、外国人労働者受け入れ拡大のため、新たな在留資格を盛り込んだ出入国管理法改正案の成立を目指している。成立した場合は就労目的の外国人に新たな道が開ける一方、留学希望者は減る可能性がある。留学生は主に４月と１０月に入学するため、在留資格審査の時期が集中する。東京入管が日本語学校向けにまとめた資料によると、今年の４月期は２万９８０１件の申請があり、７７・７％が交付されたが、１０月期は１万６４９５件の申請に対し、６５・６％の交付にとどまった。数値には一部の専門学校などのデータが含まれていないという\n"
     ]
    }
   ],
   "source": [
    "article_text = load_article_text(articles, target)\n",
    "#print(\"本文: \\n\", article_text)\n",
    "#print(\"文字数: \", len(article_text))\n",
    "print(\"文書数: \", len(article_text.split(\"。\")))\n",
    "print(article_text)"
   ]
  },
  {
   "cell_type": "code",
   "execution_count": 8,
   "metadata": {},
   "outputs": [],
   "source": [
    "sentences = article_text.split(\"。\")\n",
    "if len(sentences) < 10:\n",
    "    print(\"sentencesが10未満\")"
   ]
  },
  {
   "cell_type": "code",
   "execution_count": 9,
   "metadata": {},
   "outputs": [],
   "source": [
    "raw_comments = load_article_comments(articles, target)\n",
    "comment_texts = [fix_text(i) for i in raw_comments]"
   ]
  },
  {
   "cell_type": "code",
   "execution_count": 10,
   "metadata": {
    "scrolled": true
   },
   "outputs": [
    {
     "name": "stdout",
     "output_type": "stream",
     "text": [
      "['もっと厳しくして欲しい  不良外国人を入れたら治安も悪化するし、将来的に外国人生活保護も激増して日本の社会保障は崩壊します ',\n",
      " 'どう厳格化されたのかが分からない  この内容じゃ、厳格化というより申請が集中するから審査が追い付いていないだけみたいな感じ',\n",
      " 'ルールを 厳格化することじゃない ルール自体が的得てないんだ ルールであってルールで無してっか事だと思う 法整備に 的得た、ポリシー理念が何もないんだ '\n",
      " 'だから 夜盗 としては、そこを突いてくる 当然な流れ イタチごっこだろ',\n",
      " '厳格化ではなく今までがゆるゆるだったのではないか ',\n",
      " '狭くなる、という言い回しは印象操作  法の適用を厳密化した、で十分   不法滞在につながることを阻止しようというもの  '\n",
      " '日本語ができない人を労働者として受け入れるというのは理解できない  '\n",
      " '日本語ができるようにと考えると、どうしても日本語と語順が近い韓国になってしまい、これは後の憂いの元になりかねない  '\n",
      " '企業が労働条件や賃金を上げていけば、人は集まるだろうに  '\n",
      " '女性が家に入っても十分大丈夫という環境も作っていかないと、いつまでたっても子どもの数は増えていかない ',\n",
      " 'これもそうですが、最近の国会の議論は十分な議論もなくなし崩し的に審議が進められて、「ハイ、○○時間審議したので（強行）採決します」となっている '\n",
      " '（採決の際、議論の中身がどうこうはあまり論じられない ） '\n",
      " '今後何らかの問題が生じたときに「やはりこうすべきでした」の反省ではなく、「だってあの時皆さんで決めたことでしょう '\n",
      " '」と政府与党側が言い逃れをするようなことにならないでほしい  切に願う ',\n",
      " '特に、韓国から入ってくる人間は厳格に扱うべきだ ',\n",
      " '在留資格の付与に関しては、政策目標を明確にし、過去の制度運営状況を観察しながら、担当行政庁の裁量権を広く認める方向で考えなければならない   '\n",
      " 'その目標に関しては、日本に骨を埋める人材、日本社会・日本文化を尊重する人材、日本を侵害しようとする勢力に対して日本の為に戦う人材を獲得するということを、是非とも明確に掲げてもらいたい   '\n",
      " 'そういう人材であれば、低賃金で雇うことなど、違法であり、決して許されないことが明確になる  違法企業に対しては断固たる制裁を課す  '\n",
      " 'これにより安い労働力受け入れにより日本人の賃金上昇が抑えられるという事態が抑止される   '\n",
      " '更新に際しても、外国人の素行がある程度具体的に把握され、それを勘案して判断を下せるようにしてもらいたい ',\n",
      " '本来は、日本で日本語を勉強した留学生に対してこそ、就職をしやすくするべき 理由は、少なくもと一定の期間日本で生活をしている実績があるということ '\n",
      " 'また、最低でも1年、最長で2年日本語を専門的に勉強した実績があるということです 但し、卒業には最低JLPT N2の取得を条件として貰いたいと思います  '\n",
      " 'たとえ、技能実習生を終えた方が特定技能1号になるとしても、3年の実習を終えているとはいえ、限られた職場のなかで過ごした3年よりも、懸命に日本語を勉強し、またアルバイト先で日本の仕事のルールを学んだ生徒達の方が、まだ日本に馴染んでくれようというものです ',\n",
      " '厳格化なんて当たり前すぎる  '\n",
      " '本当に日本で学びたいのならば、奨学金などを得られるレベルの学力と日本に来るまでにある程度日本語なり文化なりを学習する姿勢があるはず  '\n",
      " '学力もないのに日本で学びたいのなら、学費を卒業まで賄える預金を携えて日本で責任者を確保した上で来日させるべき  '\n",
      " '欧米では学生ＶＩＳＡ取得の際、それが当たり前   以前いた職場の低層階部分に語学学校が入っていたが、学校職員も外人（もしくは帰化 '\n",
      " '）の人で構成されており、日本文化的な教育を全くしていないため、立ち入りが制限されるオフィス階まで学生が来て使用し、様々な害を被った  '\n",
      " '問題が起こった際は、呼んだ側にも責任を取るように厳罰化しなければ、呼びっぱなしで無責任な学校が増えるだけ ']\n"
     ]
    }
   ],
   "source": [
    "if SEPARATE_COMMENT_TO_ONE is True:\n",
    "    comment_sentences = separate_comment2sentence(comment_texts)# コメントも1文ずつに分ける\n",
    "else:\n",
    "    comment_sentences = comment_texts\n",
    "pprint.pprint(comment_sentences[:10])"
   ]
  },
  {
   "cell_type": "code",
   "execution_count": 11,
   "metadata": {},
   "outputs": [],
   "source": [
    "#from sklearn.model_selection import train_test_split\n",
    "#comment_sentences, test_comment_sentences = train_test_split(comment_sentences, test_size = 0.2)"
   ]
  },
  {
   "cell_type": "code",
   "execution_count": 12,
   "metadata": {},
   "outputs": [],
   "source": [
    "mecabed_list, nouns_dict = mecab_util.basic_process(comment_sentences)\n",
    "\n",
    "comment_sentences, mecabed_list = remove_outlier_sentence(comment_sentences, mecabed_list)"
   ]
  },
  {
   "cell_type": "code",
   "execution_count": 13,
   "metadata": {},
   "outputs": [
    {
     "name": "stdout",
     "output_type": "stream",
     "text": [
      "使えるコメント数:  505\n",
      "['もっと厳しくして欲しい  不良外国人を入れたら治安も悪化するし、将来的に外国人生活保護も激増して日本の社会保障は崩壊します ',\n",
      " 'どう厳格化されたのかが分からない  この内容じゃ、厳格化というより申請が集中するから審査が追い付いていないだけみたいな感じ',\n",
      " 'ルールを 厳格化することじゃない ルール自体が的得てないんだ ルールであってルールで無してっか事だと思う 法整備に 的得た、ポリシー理念が何もないんだ '\n",
      " 'だから 夜盗 としては、そこを突いてくる 当然な流れ イタチごっこだろ',\n",
      " '特に、韓国から入ってくる人間は厳格に扱うべきだ ',\n",
      " '人数を絞るより悪徳仲介業者を取り除く方が双方のため',\n",
      " '現在の日本語専門学校の留学生には、問題が多すぎる  留学生とは名ばかりで不法就労の温床であり、学校側も審査、立ち入り を厳格すべきである ',\n",
      " '人が足りていないのはわかるが、このままを維持するために誰彼侵入させるのは本当にどうかと思う '\n",
      " '国としてどうありたいのか、何を大事に未来に向かうのか、きちんとロードマップやビジョンを国民に示すべき 少なくとも今は不法滞在などの問題は解決すべき ',\n",
      " '警察も日本語が話せないという理由で、大柄な態度の外国人に甘かったり、見て見ぬふりするのももう少し取締を強化してほしい ',\n",
      " 'さらなる厳格化をおねがいしたいです  ベトナムや、中国を受け入れるデメリットの方がはるかに大きい 明らかに悪いことする目的な奴が増えている ',\n",
      " '日本に来るのは本当に真面目に仕事をする人なのか勉強ができて優秀な人かこのふたパターンでいいと思う  '\n",
      " '仕事をするか見極めるには1、2年ベトナムで働かせてみて気持ちがぶれなかったら来させればいいと思う だいたいボロがでるからね   やっぱね '\n",
      " '安易にいれるべきやないと思うよ ']\n"
     ]
    }
   ],
   "source": [
    "print(\"使えるコメント数: \", len(mecabed_list))\n",
    "pprint.pprint(comment_sentences[:10])"
   ]
  },
  {
   "cell_type": "code",
   "execution_count": 14,
   "metadata": {},
   "outputs": [
    {
     "name": "stdout",
     "output_type": "stream",
     "text": [
      "[['厳しく', '不良外国人', '治安', '悪化', '将来的', '外国人生活保護', '激増', '日本', '社会保障', '崩壊'],\n",
      " ['厳格', '分から', '内容', '厳格化', 'いう', '申請', '集中', '審査', '追い付い'],\n",
      " ['ルール',\n",
      "  '厳格',\n",
      "  'ルール',\n",
      "  '自体',\n",
      "  '得て',\n",
      "  'ルール',\n",
      "  'ルール',\n",
      "  '無し',\n",
      "  'てっか',\n",
      "  '法整備',\n",
      "  '得',\n",
      "  'ポリシー',\n",
      "  '理念',\n",
      "  '夜盗',\n",
      "  '突い',\n",
      "  '流れ',\n",
      "  'イタチごっこ'],\n",
      " ['韓国', '入っ', '人間', '厳格', '扱う'],\n",
      " ['人数', '絞る', '悪徳', '仲介業者', '取り除く', '双方'],\n",
      " ['現在',\n",
      "  '日本語',\n",
      "  '専門学校',\n",
      "  '留学生',\n",
      "  '多',\n",
      "  '留学生',\n",
      "  '名ばかり',\n",
      "  '不法就労',\n",
      "  '温床',\n",
      "  '学校',\n",
      "  '側',\n",
      "  '審査',\n",
      "  '立ち入り',\n",
      "  '厳格'],\n",
      " ['足り',\n",
      "  'このまま',\n",
      "  '維持',\n",
      "  '誰彼',\n",
      "  '侵入',\n",
      "  'せる',\n",
      "  '国',\n",
      "  '未来',\n",
      "  '向かう',\n",
      "  'ロードマップ',\n",
      "  'ビジョン',\n",
      "  '国民',\n",
      "  '示す',\n",
      "  '不法滞在',\n",
      "  '解決'],\n",
      " ['警察', '日本語', '話せ', '大柄', '態度', '外国人', '甘かっ', '取締', '強化'],\n",
      " ['厳格化',\n",
      "  'おねがい',\n",
      "  'ベトナム',\n",
      "  '中国',\n",
      "  '受け入れる',\n",
      "  'デメリット',\n",
      "  'はるか',\n",
      "  '大きい',\n",
      "  '明らか',\n",
      "  '悪いこと',\n",
      "  '目的',\n",
      "  '増え'],\n",
      " ['日本',\n",
      "  '真面目',\n",
      "  '優秀',\n",
      "  'パターン',\n",
      "  '見極める',\n",
      "  '2年',\n",
      "  'ベトナム',\n",
      "  '働かせ',\n",
      "  'ぶれ',\n",
      "  '来さ',\n",
      "  'せれ',\n",
      "  'ボロ',\n",
      "  'でる',\n",
      "  '安易',\n",
      "  'いれる',\n",
      "  'ないと']]\n"
     ]
    }
   ],
   "source": [
    "pprint.pprint(mecabed_list[:10])"
   ]
  },
  {
   "cell_type": "code",
   "execution_count": 15,
   "metadata": {},
   "outputs": [
    {
     "name": "stdout",
     "output_type": "stream",
     "text": [
      "辞書数:  679\n"
     ]
    }
   ],
   "source": [
    "dictionary = gensim.corpora.Dictionary(mecabed_list)\n",
    "# 文章ごとの単語のリストから辞書を作る\n",
    "\n",
    "dictionary.filter_extremes(no_below=2, no_above=0.1)\n",
    "#dictionary.filter_extremes(no_below=1)\n",
    "#dictionary.filter_extremes(no_below=5, no_above=0.2)\n",
    "# no_berow: 使われてる文章がno_berow個以下の単語無視\n",
    "# no_above: 使われてる文章の割合がno_above以上の場合無視\n",
    "print(\"辞書数: \", len(dictionary))"
   ]
  },
  {
   "cell_type": "code",
   "execution_count": 16,
   "metadata": {},
   "outputs": [],
   "source": [
    "corpus = [dictionary.doc2bow(doc) for doc in mecabed_list]"
   ]
  },
  {
   "cell_type": "code",
   "execution_count": 17,
   "metadata": {},
   "outputs": [
    {
     "name": "stdout",
     "output_type": "stream",
     "text": [
      "[[(0, 1), (1, 1), (2, 1), (3, 1), (4, 1), (5, 1)],\n",
      " [(6, 1), (7, 1), (8, 1), (9, 1), (10, 1)],\n",
      " [(11, 4), (12, 1), (13, 1), (14, 1), (15, 1)],\n",
      " [(16, 1), (17, 1), (18, 1)],\n",
      " [(19, 1), (20, 1), (21, 1)],\n",
      " [(9, 1),\n",
      "  (22, 1),\n",
      "  (23, 1),\n",
      "  (24, 1),\n",
      "  (25, 1),\n",
      "  (26, 1),\n",
      "  (27, 1),\n",
      "  (28, 1),\n",
      "  (29, 1),\n",
      "  (30, 1)],\n",
      " [(31, 1),\n",
      "  (32, 1),\n",
      "  (33, 1),\n",
      "  (34, 1),\n",
      "  (35, 1),\n",
      "  (36, 1),\n",
      "  (37, 1),\n",
      "  (38, 1),\n",
      "  (39, 1),\n",
      "  (40, 1)],\n",
      " [(28, 1), (41, 1), (42, 1), (43, 1), (44, 1)],\n",
      " [(8, 1),\n",
      "  (45, 1),\n",
      "  (46, 1),\n",
      "  (47, 1),\n",
      "  (48, 1),\n",
      "  (49, 1),\n",
      "  (50, 1),\n",
      "  (51, 1),\n",
      "  (52, 1)],\n",
      " [(46, 1), (53, 1), (54, 1), (55, 1), (56, 1), (57, 1), (58, 1), (59, 1)]]\n"
     ]
    }
   ],
   "source": [
    "pprint.pprint(corpus[:10])"
   ]
  },
  {
   "cell_type": "code",
   "execution_count": 18,
   "metadata": {},
   "outputs": [
    {
     "name": "stdout",
     "output_type": "stream",
     "text": [
      "トピック数:  20\n"
     ]
    }
   ],
   "source": [
    "# Can take a long time to run.\n",
    "if TOPIC_NUM is None:\n",
    "    model_list, coherence_values = compute_coherence_values(dictionary=dictionary, corpus=corpus, texts=mecabed_list, start=3, limit=60, step=3)\n",
    "    max_index = coherence_values.index(max(coherence_values))\n",
    "    limit=60; start=3; step=3;\n",
    "    x = range(start, limit, step)\n",
    "    topic_num = x[max_index]\n",
    "else:\n",
    "    topic_num = TOPIC_NUM\n",
    "\n",
    "print(\"トピック数: \", topic_num)"
   ]
  },
  {
   "cell_type": "code",
   "execution_count": 19,
   "metadata": {},
   "outputs": [],
   "source": [
    "if TOPIC_NUM is None:\n",
    "    # Print the coherence scores\n",
    "    for m, cv in zip(x, coherence_values):\n",
    "        print(\"Num Topics =\", m, \" has Coherence Value of\", round(cv, 4))\n",
    "        \n",
    "     # Show graph\n",
    "    limit=60; start=3; step=3;\n",
    "    x = range(start, limit, step)\n",
    "    plt.plot(x, coherence_values)\n",
    "    plt.xlabel(\"Num Topics\")\n",
    "    plt.ylabel(\"Coherence score\")\n",
    "    plt.legend((\"coherence_values\"), loc='best')\n",
    "    plt.show()"
   ]
  },
  {
   "cell_type": "code",
   "execution_count": 20,
   "metadata": {},
   "outputs": [],
   "source": [
    "# 昔の\n",
    "#tfidf = gensim.models.TfidfModel(corpus)\n",
    "#corpus_tfidf = tfidf[corpus]\n",
    "#lda = gensim.models.LdaModel(corpus=corpus_tfidf, id2word=dictionary,num_topics=topic_num, random_state = 1)\n",
    "\n",
    "if USE_MALLET is False:\n",
    "    lda = gensim.models.LdaModel(corpus=corpus, id2word=dictionary,num_topics=topic_num, random_state = 1)\n",
    "else:\n",
    "    mallet_path = './mallet-2.0.8/bin/mallet'\n",
    "    lda = gensim.models.wrappers.LdaMallet(mallet_path, corpus=corpus, id2word=dictionary, num_topics=topic_num)"
   ]
  },
  {
   "cell_type": "code",
   "execution_count": 21,
   "metadata": {
    "scrolled": true
   },
   "outputs": [
    {
     "name": "stdout",
     "output_type": "stream",
     "text": [
      "tpc_0: 0.024*\"法律\" + 0.024*\"文句\" + 0.024*\"中国人\" + 0.016*\"形\" + 0.016*\"就労\" + 0.016*\"審査\" + 0.016*\"登録\" + 0.008*\"経団...\n",
      "tpc_1: 0.028*\"入国\" + 0.024*\"審査\" + 0.020*\"記事\" + 0.016*\"すれ\" + 0.016*\"賛成\" + 0.016*\"安倍\" + 0.012*\"国外追放\" + 0.012*\"...\n",
      "tpc_2: 0.026*\"目的\" + 0.021*\"しろ\" + 0.017*\"ビザ\" + 0.016*\"大勢\" + 0.016*\"対応\" + 0.016*\"日本人\" + 0.015*\"労働\" + 0.013*\"入...\n",
      "tpc_3: 0.044*\"日本語学校\" + 0.027*\"なっ\" + 0.024*\"大学\" + 0.020*\"学生\" + 0.017*\"目的\" + 0.017*\"日本人\" + 0.017*\"審査\" + 0.017...\n",
      "tpc_4: 0.034*\"目的\" + 0.025*\"日本語学校\" + 0.025*\"入国\" + 0.017*\"受け入れ\" + 0.017*\"審査\" + 0.017*\"不法滞在\" + 0.017*\"野放し\" + 0...\n",
      "tpc_5: 0.023*\"記事\" + 0.016*\"結婚\" + 0.016*\"入っ\" + 0.016*\"分から\" + 0.016*\"示し\" + 0.016*\"関係者\" + 0.016*\"犯罪\" + 0.016*\"...\n",
      "tpc_6: 0.031*\"犯罪\" + 0.025*\"ルール\" + 0.019*\"なっ\" + 0.019*\"基準\" + 0.016*\"学生\" + 0.013*\"移民\" + 0.013*\"中国\" + 0.013*\"減...\n",
      "tpc_7: 0.032*\"日本語\" + 0.022*\"入国\" + 0.016*\"ベトナム\" + 0.016*\"日本人\" + 0.016*\"帰化\" + 0.012*\"朝日新聞\" + 0.011*\"朝鮮\" + 0.0...\n",
      "tpc_8: 0.024*\"就労\" + 0.018*\"処罰\" + 0.018*\"大半\" + 0.018*\"先\" + 0.017*\"ビザ\" + 0.015*\"犯罪\" + 0.012*\"目的\" + 0.012*\"ベトナ...\n",
      "tpc_9: 0.018*\"入国\" + 0.018*\"東南アジア\" + 0.014*\"日本人\" + 0.014*\"ビザ\" + 0.014*\"普通に\" + 0.014*\"犯罪\" + 0.014*\"目的\" + 0.01...\n",
      "tpc_10: 0.035*\"狭く\" + 0.030*\"韓国人\" + 0.022*\"学生\" + 0.020*\"朝日\" + 0.020*\"ベトナム\" + 0.015*\"大学\" + 0.015*\"中国人\" + 0.015...\n",
      "tpc_11: 0.025*\"人間\" + 0.025*\"ルール\" + 0.025*\"労働者\" + 0.017*\"とっく\" + 0.017*\"優秀\" + 0.017*\"適用\" + 0.017*\"なっ\" + 0.017*...\n",
      "tpc_12: 0.034*\"国民\" + 0.027*\"外人\" + 0.018*\"受け入れ\" + 0.018*\"増える\" + 0.018*\"学校\" + 0.018*\"狭く\" + 0.015*\"日本人\" + 0.013...\n",
      "tpc_13: 0.030*\"日本人\" + 0.025*\"受け入れる\" + 0.020*\"中国人\" + 0.020*\"当たり前\" + 0.020*\"審査\" + 0.015*\"学校\" + 0.010*\"せる\" + 0....\n",
      "tpc_14: 0.023*\"犯罪\" + 0.018*\"大学\" + 0.018*\"生活保護\" + 0.018*\"措置\" + 0.012*\"増え\" + 0.012*\"優秀\" + 0.012*\"日本語\" + 0.012*...\n",
      "tpc_15: 0.026*\"中国人\" + 0.021*\"韓国人\" + 0.021*\"犯罪者\" + 0.021*\"在留資格\" + 0.021*\"なっ\" + 0.016*\"違法\" + 0.016*\"申請\" + 0.01...\n",
      "tpc_16: 0.043*\"目的\" + 0.037*\"審査\" + 0.019*\"韓国人\" + 0.019*\"大学\" + 0.014*\"日本語学校\" + 0.014*\"朝日新聞\" + 0.014*\"厳しい\" + 0....\n",
      "tpc_17: 0.024*\"移民\" + 0.024*\"ビザ\" + 0.018*\"言っ\" + 0.012*\"働き\" + 0.012*\"入国\" + 0.012*\"日本人\" + 0.012*\"厳格化\" + 0.012*\"...\n",
      "tpc_18: 0.029*\"審査\" + 0.025*\"在留資格\" + 0.025*\"なっ\" + 0.025*\"受け入れ\" + 0.017*\"外国人労働者\" + 0.013*\"全て\" + 0.013*\"やっ\" + 0...\n",
      "tpc_19: 0.032*\"不法滞在\" + 0.032*\"異常\" + 0.022*\"基本\" + 0.022*\"子供\" + 0.022*\"制度\" + 0.011*\"アルバイト\" + 0.011*\"反日\" + 0.01...\n"
     ]
    }
   ],
   "source": [
    "for i in range(topic_num):\n",
    "    print('tpc_{0}: {1}'.format(i, lda.print_topic(i)[0:100]+'...'))"
   ]
  },
  {
   "cell_type": "code",
   "execution_count": 22,
   "metadata": {},
   "outputs": [
    {
     "name": "stdout",
     "output_type": "stream",
     "text": [
      "0.024*\"法律\" + 0.024*\"文句\" + 0.024*\"中国人\" + 0.016*\"形\" + 0.016*\"就労\" + 0.016*\"審査\" + 0.016*\"登録\" + 0.008*\"経団連\" + 0.008*\"大学\" + 0.008*\"難民\"\n",
      "0.028*\"入国\" + 0.024*\"審査\" + 0.020*\"記事\" + 0.016*\"すれ\" + 0.016*\"賛成\" + 0.016*\"安倍\" + 0.012*\"国外追放\" + 0.012*\"不法滞在\" + 0.012*\"厳格化\" + 0.012*\"治安\"\n",
      "0.026*\"目的\" + 0.021*\"しろ\" + 0.017*\"ビザ\" + 0.016*\"大勢\" + 0.016*\"対応\" + 0.016*\"日本人\" + 0.015*\"労働\" + 0.013*\"入れる\" + 0.011*\"日本国内\" + 0.011*\"不法就労\"\n",
      "0.044*\"日本語学校\" + 0.027*\"なっ\" + 0.024*\"大学\" + 0.020*\"学生\" + 0.017*\"目的\" + 0.017*\"日本人\" + 0.017*\"審査\" + 0.017*\"就労ビザ\" + 0.014*\"学校\" + 0.012*\"言っ\"\n",
      "0.034*\"目的\" + 0.025*\"日本語学校\" + 0.025*\"入国\" + 0.017*\"受け入れ\" + 0.017*\"審査\" + 0.017*\"不法滞在\" + 0.017*\"野放し\" + 0.017*\"使う\" + 0.017*\"外国人労働者\" + 0.017*\"拡大\"\n",
      "0.023*\"記事\" + 0.016*\"結婚\" + 0.016*\"入っ\" + 0.016*\"分から\" + 0.016*\"示し\" + 0.016*\"関係者\" + 0.016*\"犯罪\" + 0.016*\"人たち\" + 0.016*\"口座\" + 0.008*\"人手不足\"\n",
      "0.031*\"犯罪\" + 0.025*\"ルール\" + 0.019*\"なっ\" + 0.019*\"基準\" + 0.016*\"学生\" + 0.013*\"移民\" + 0.013*\"中国\" + 0.013*\"減ら\" + 0.013*\"先\" + 0.013*\"自体\"\n",
      "0.032*\"日本語\" + 0.022*\"入国\" + 0.016*\"ベトナム\" + 0.016*\"日本人\" + 0.016*\"帰化\" + 0.012*\"朝日新聞\" + 0.011*\"朝鮮\" + 0.011*\"方々\" + 0.011*\"移民\" + 0.011*\"内部\"\n",
      "0.024*\"就労\" + 0.018*\"処罰\" + 0.018*\"大半\" + 0.018*\"先\" + 0.017*\"ビザ\" + 0.015*\"犯罪\" + 0.012*\"目的\" + 0.012*\"ベトナム人\" + 0.012*\"居る\" + 0.012*\"日本人\"\n",
      "0.018*\"入国\" + 0.018*\"東南アジア\" + 0.014*\"日本人\" + 0.014*\"ビザ\" + 0.014*\"普通に\" + 0.014*\"犯罪\" + 0.014*\"目的\" + 0.014*\"海外\" + 0.011*\"おかしい\" + 0.009*\"持っ\"\n",
      "0.035*\"狭く\" + 0.030*\"韓国人\" + 0.022*\"学生\" + 0.020*\"朝日\" + 0.020*\"ベトナム\" + 0.015*\"大学\" + 0.015*\"中国人\" + 0.015*\"いら\" + 0.015*\"中国\" + 0.015*\"多\"\n",
      "0.025*\"人間\" + 0.025*\"ルール\" + 0.025*\"労働者\" + 0.017*\"とっく\" + 0.017*\"優秀\" + 0.017*\"適用\" + 0.017*\"なっ\" + 0.017*\"日本人\" + 0.009*\"入学\" + 0.009*\"成り立た\"\n",
      "0.034*\"国民\" + 0.027*\"外人\" + 0.018*\"受け入れ\" + 0.018*\"増える\" + 0.018*\"学校\" + 0.018*\"狭く\" + 0.015*\"日本人\" + 0.013*\"中国人\" + 0.013*\"治安\" + 0.012*\"法律\"\n",
      "0.030*\"日本人\" + 0.025*\"受け入れる\" + 0.020*\"中国人\" + 0.020*\"当たり前\" + 0.020*\"審査\" + 0.015*\"学校\" + 0.010*\"せる\" + 0.010*\"政府\" + 0.010*\"入国\" + 0.010*\"制限\"\n",
      "0.023*\"犯罪\" + 0.018*\"大学\" + 0.018*\"生活保護\" + 0.018*\"措置\" + 0.012*\"増え\" + 0.012*\"優秀\" + 0.012*\"日本語\" + 0.012*\"日本人\" + 0.012*\"せる\" + 0.012*\"社会\"\n",
      "0.026*\"中国人\" + 0.021*\"韓国人\" + 0.021*\"犯罪者\" + 0.021*\"在留資格\" + 0.021*\"なっ\" + 0.016*\"違法\" + 0.016*\"申請\" + 0.016*\"外国人労働者\" + 0.016*\"日本語\" + 0.016*\"すれ\"\n",
      "0.043*\"目的\" + 0.037*\"審査\" + 0.019*\"韓国人\" + 0.019*\"大学\" + 0.014*\"日本語学校\" + 0.014*\"朝日新聞\" + 0.014*\"厳しい\" + 0.010*\"関わっ\" + 0.010*\"他\" + 0.010*\"多\"\n",
      "0.024*\"移民\" + 0.024*\"ビザ\" + 0.018*\"言っ\" + 0.012*\"働き\" + 0.012*\"入国\" + 0.012*\"日本人\" + 0.012*\"厳格化\" + 0.012*\"目的\" + 0.012*\"なっ\" + 0.012*\"韓国\"\n",
      "0.029*\"審査\" + 0.025*\"在留資格\" + 0.025*\"なっ\" + 0.025*\"受け入れ\" + 0.017*\"外国人労働者\" + 0.013*\"全て\" + 0.013*\"やっ\" + 0.011*\"厳格化\" + 0.009*\"設け\" + 0.009*\"生活保護\"\n",
      "0.032*\"不法滞在\" + 0.032*\"異常\" + 0.022*\"基本\" + 0.022*\"子供\" + 0.022*\"制度\" + 0.011*\"アルバイト\" + 0.011*\"反日\" + 0.011*\"不法滞在者\" + 0.011*\"言い\" + 0.011*\"規制\"\n"
     ]
    }
   ],
   "source": [
    "for i in range(topic_num):\n",
    "    print(lda.print_topic(i))"
   ]
  },
  {
   "cell_type": "code",
   "execution_count": 23,
   "metadata": {},
   "outputs": [
    {
     "name": "stdout",
     "output_type": "stream",
     "text": [
      "Perplexity:  -7.6318626000982315\n",
      "Coherence Score:  0.5695345664916243\n"
     ]
    }
   ],
   "source": [
    "if USE_MALLET is False:\n",
    "    # Compute Perplexity\n",
    "    print('Perplexity: ', lda.log_perplexity(corpus))  # a measure of how good the model is. lower the better.\n",
    "    \n",
    "    # Compute Coherence Score\n",
    "    coherence_model_lda = CoherenceModel(model=lda, texts=mecabed_list, dictionary=dictionary, coherence='c_v')\n",
    "    coherence_lda = coherence_model_lda.get_coherence()\n",
    "    print('Coherence Score: ', coherence_lda)"
   ]
  },
  {
   "cell_type": "code",
   "execution_count": 24,
   "metadata": {
    "scrolled": false
   },
   "outputs": [
    {
     "data": {
      "text/html": [
       "\n",
       "<link rel=\"stylesheet\" type=\"text/css\" href=\"https://cdn.rawgit.com/bmabey/pyLDAvis/files/ldavis.v1.0.0.css\">\n",
       "\n",
       "\n",
       "<div id=\"ldavis_el7057757050920968834833248\"></div>\n",
       "<script type=\"text/javascript\">\n",
       "\n",
       "var ldavis_el7057757050920968834833248_data = {\"mdsDat\": {\"x\": [-0.040094059255924124, 0.0062533615590112885, 0.06943468282363018, -0.007013687239975759, 0.06450840367486987, -0.030648145553495026, 0.09426027155184333, 0.16259518725810368, -0.07270244734408897, -0.1170358278588804, 0.11687135596074144, -0.076694212575746, -0.042652170480359866, -0.016709325563522875, 0.00123265725042542, -0.016617441174671805, -0.027769048509500592, 0.010906438996922492, 0.029449413439604097, -0.10757540695898622], \"y\": [-0.0988267420010979, -0.10778919423345745, -0.04139895883617328, -0.07492196712026719, -0.06688752800190426, 0.022278636234746955, -0.025362564462616914, 0.029689110193448925, 0.05832823918904173, -0.052409970393293794, 0.10985843622027473, 0.15708102808892, -0.050888094125769875, -0.000952395029456141, 0.054688415308536374, 0.10230773414244304, -0.03201931244675526, 0.03454064948699227, -0.03463560465868928, 0.017320082445077947], \"topics\": [1, 2, 3, 4, 5, 6, 7, 8, 9, 10, 11, 12, 13, 14, 15, 16, 17, 18, 19, 20], \"cluster\": [1, 1, 1, 1, 1, 1, 1, 1, 1, 1, 1, 1, 1, 1, 1, 1, 1, 1, 1, 1], \"Freq\": [8.583449363708496, 6.513200759887695, 6.445032119750977, 6.2574028968811035, 5.894820213317871, 5.854463577270508, 5.789567470550537, 5.505210876464844, 5.435795783996582, 5.352506160736084, 5.035539627075195, 4.773398399353027, 4.58705997467041, 4.463264465332031, 4.217972278594971, 3.397979974746704, 3.2275068759918213, 3.187230110168457, 3.066852569580078, 2.411750316619873]}, \"tinfo\": {\"Category\": [\"Default\", \"Default\", \"Default\", \"Default\", \"Default\", \"Default\", \"Default\", \"Default\", \"Default\", \"Default\", \"Default\", \"Default\", \"Default\", \"Default\", \"Default\", \"Default\", \"Default\", \"Default\", \"Default\", \"Default\", \"Default\", \"Default\", \"Default\", \"Default\", \"Default\", \"Default\", \"Default\", \"Default\", \"Default\", \"Default\", \"Topic1\", \"Topic1\", \"Topic1\", \"Topic1\", \"Topic1\", \"Topic1\", \"Topic1\", \"Topic1\", \"Topic1\", \"Topic1\", \"Topic1\", \"Topic1\", \"Topic1\", \"Topic1\", \"Topic1\", \"Topic1\", \"Topic1\", \"Topic1\", \"Topic1\", \"Topic1\", \"Topic1\", \"Topic1\", \"Topic1\", \"Topic1\", \"Topic1\", \"Topic1\", \"Topic1\", \"Topic1\", \"Topic1\", \"Topic1\", \"Topic1\", \"Topic1\", \"Topic1\", \"Topic1\", \"Topic1\", \"Topic1\", \"Topic1\", \"Topic1\", \"Topic1\", \"Topic1\", \"Topic1\", \"Topic1\", \"Topic1\", \"Topic1\", \"Topic1\", \"Topic1\", \"Topic1\", \"Topic1\", \"Topic1\", \"Topic1\", \"Topic1\", \"Topic1\", \"Topic1\", \"Topic1\", \"Topic1\", \"Topic1\", \"Topic2\", \"Topic2\", \"Topic2\", \"Topic2\", \"Topic2\", \"Topic2\", \"Topic2\", \"Topic2\", \"Topic2\", \"Topic2\", \"Topic2\", \"Topic2\", \"Topic2\", \"Topic2\", \"Topic2\", \"Topic2\", \"Topic2\", \"Topic2\", \"Topic2\", \"Topic2\", \"Topic2\", \"Topic2\", \"Topic2\", \"Topic2\", \"Topic2\", \"Topic2\", \"Topic2\", \"Topic2\", \"Topic2\", \"Topic2\", \"Topic2\", \"Topic2\", \"Topic2\", \"Topic2\", \"Topic2\", \"Topic2\", \"Topic2\", \"Topic2\", \"Topic2\", \"Topic2\", \"Topic2\", \"Topic2\", \"Topic2\", \"Topic2\", \"Topic2\", \"Topic2\", \"Topic2\", \"Topic2\", \"Topic2\", \"Topic2\", \"Topic2\", \"Topic2\", \"Topic3\", \"Topic3\", \"Topic3\", \"Topic3\", \"Topic3\", \"Topic3\", \"Topic3\", \"Topic3\", \"Topic3\", \"Topic3\", \"Topic3\", \"Topic3\", \"Topic3\", \"Topic3\", \"Topic3\", \"Topic3\", \"Topic3\", \"Topic3\", \"Topic3\", \"Topic3\", \"Topic3\", \"Topic3\", \"Topic3\", \"Topic3\", \"Topic3\", \"Topic3\", \"Topic3\", \"Topic3\", \"Topic3\", \"Topic3\", \"Topic3\", \"Topic3\", \"Topic3\", \"Topic3\", \"Topic3\", \"Topic3\", \"Topic3\", \"Topic3\", \"Topic3\", \"Topic3\", \"Topic3\", \"Topic3\", \"Topic3\", \"Topic3\", \"Topic3\", \"Topic3\", \"Topic3\", \"Topic3\", \"Topic3\", \"Topic3\", \"Topic3\", \"Topic3\", \"Topic3\", \"Topic4\", \"Topic4\", \"Topic4\", \"Topic4\", \"Topic4\", \"Topic4\", \"Topic4\", \"Topic4\", \"Topic4\", \"Topic4\", \"Topic4\", \"Topic4\", \"Topic4\", \"Topic4\", \"Topic4\", \"Topic4\", \"Topic4\", \"Topic4\", \"Topic4\", \"Topic4\", \"Topic4\", \"Topic4\", \"Topic4\", \"Topic4\", \"Topic4\", \"Topic4\", \"Topic4\", \"Topic4\", \"Topic4\", \"Topic4\", \"Topic4\", \"Topic4\", \"Topic4\", \"Topic4\", \"Topic4\", \"Topic4\", \"Topic4\", \"Topic4\", \"Topic4\", \"Topic4\", \"Topic4\", \"Topic4\", \"Topic4\", \"Topic4\", \"Topic4\", \"Topic4\", \"Topic4\", \"Topic4\", \"Topic4\", \"Topic4\", \"Topic4\", \"Topic4\", \"Topic4\", \"Topic4\", \"Topic4\", \"Topic4\", \"Topic5\", \"Topic5\", \"Topic5\", \"Topic5\", \"Topic5\", \"Topic5\", \"Topic5\", \"Topic5\", \"Topic5\", \"Topic5\", \"Topic5\", \"Topic5\", \"Topic5\", \"Topic5\", \"Topic5\", \"Topic5\", \"Topic5\", \"Topic5\", \"Topic5\", \"Topic5\", \"Topic5\", \"Topic5\", \"Topic5\", \"Topic5\", \"Topic5\", \"Topic5\", \"Topic5\", \"Topic5\", \"Topic5\", \"Topic5\", \"Topic5\", \"Topic5\", \"Topic5\", \"Topic5\", \"Topic5\", \"Topic5\", \"Topic5\", \"Topic5\", \"Topic5\", \"Topic5\", \"Topic5\", \"Topic5\", \"Topic5\", \"Topic5\", \"Topic5\", \"Topic5\", \"Topic5\", \"Topic5\", \"Topic5\", \"Topic5\", \"Topic5\", \"Topic5\", \"Topic5\", \"Topic6\", \"Topic6\", \"Topic6\", \"Topic6\", \"Topic6\", \"Topic6\", \"Topic6\", \"Topic6\", \"Topic6\", \"Topic6\", \"Topic6\", \"Topic6\", \"Topic6\", \"Topic6\", \"Topic6\", \"Topic6\", \"Topic6\", \"Topic6\", \"Topic6\", \"Topic6\", \"Topic6\", \"Topic6\", \"Topic6\", \"Topic6\", \"Topic6\", \"Topic6\", \"Topic6\", \"Topic6\", \"Topic6\", \"Topic6\", \"Topic6\", \"Topic6\", \"Topic6\", \"Topic6\", \"Topic6\", \"Topic6\", \"Topic6\", \"Topic6\", \"Topic6\", \"Topic6\", \"Topic6\", \"Topic6\", \"Topic6\", \"Topic6\", \"Topic6\", \"Topic6\", \"Topic6\", \"Topic6\", \"Topic6\", \"Topic6\", \"Topic6\", \"Topic6\", \"Topic6\", \"Topic6\", \"Topic6\", \"Topic6\", \"Topic7\", \"Topic7\", \"Topic7\", \"Topic7\", \"Topic7\", \"Topic7\", \"Topic7\", \"Topic7\", \"Topic7\", \"Topic7\", \"Topic7\", \"Topic7\", \"Topic7\", \"Topic7\", \"Topic7\", \"Topic7\", \"Topic7\", \"Topic7\", \"Topic7\", \"Topic7\", \"Topic7\", \"Topic7\", \"Topic7\", \"Topic7\", \"Topic7\", \"Topic7\", \"Topic7\", \"Topic7\", \"Topic7\", \"Topic7\", \"Topic7\", \"Topic7\", \"Topic7\", \"Topic7\", \"Topic7\", \"Topic7\", \"Topic7\", \"Topic7\", \"Topic7\", \"Topic7\", \"Topic7\", \"Topic7\", \"Topic7\", \"Topic7\", \"Topic7\", \"Topic7\", \"Topic7\", \"Topic7\", \"Topic7\", \"Topic7\", \"Topic7\", \"Topic7\", \"Topic8\", \"Topic8\", \"Topic8\", \"Topic8\", \"Topic8\", \"Topic8\", \"Topic8\", \"Topic8\", \"Topic8\", \"Topic8\", \"Topic8\", \"Topic8\", \"Topic8\", \"Topic8\", \"Topic8\", \"Topic8\", \"Topic8\", \"Topic8\", \"Topic8\", \"Topic8\", \"Topic8\", \"Topic8\", \"Topic8\", \"Topic8\", \"Topic8\", \"Topic8\", \"Topic8\", \"Topic8\", \"Topic8\", \"Topic8\", \"Topic8\", \"Topic8\", \"Topic8\", \"Topic8\", \"Topic8\", \"Topic8\", \"Topic8\", \"Topic8\", \"Topic8\", \"Topic8\", \"Topic8\", \"Topic8\", \"Topic8\", \"Topic8\", \"Topic8\", \"Topic8\", \"Topic8\", \"Topic8\", \"Topic8\", \"Topic8\", \"Topic8\", \"Topic8\", \"Topic8\", \"Topic8\", \"Topic8\", \"Topic9\", \"Topic9\", \"Topic9\", \"Topic9\", \"Topic9\", \"Topic9\", \"Topic9\", \"Topic9\", \"Topic9\", \"Topic9\", \"Topic9\", \"Topic9\", \"Topic9\", \"Topic9\", \"Topic9\", \"Topic9\", \"Topic9\", \"Topic9\", \"Topic9\", \"Topic9\", \"Topic9\", \"Topic9\", \"Topic9\", \"Topic9\", \"Topic9\", \"Topic9\", \"Topic9\", \"Topic9\", \"Topic9\", \"Topic9\", \"Topic9\", \"Topic9\", \"Topic9\", \"Topic9\", \"Topic9\", \"Topic9\", \"Topic9\", \"Topic9\", \"Topic9\", \"Topic9\", \"Topic9\", \"Topic9\", \"Topic9\", \"Topic9\", \"Topic9\", \"Topic9\", \"Topic9\", \"Topic9\", \"Topic9\", \"Topic9\", \"Topic9\", \"Topic9\", \"Topic9\", \"Topic10\", \"Topic10\", \"Topic10\", \"Topic10\", \"Topic10\", \"Topic10\", \"Topic10\", \"Topic10\", \"Topic10\", \"Topic10\", \"Topic10\", \"Topic10\", \"Topic10\", \"Topic10\", \"Topic10\", \"Topic10\", \"Topic10\", \"Topic10\", \"Topic10\", \"Topic10\", \"Topic10\", \"Topic10\", \"Topic10\", \"Topic10\", \"Topic10\", \"Topic10\", \"Topic10\", \"Topic10\", \"Topic10\", \"Topic10\", \"Topic10\", \"Topic10\", \"Topic10\", \"Topic10\", \"Topic10\", \"Topic10\", \"Topic10\", \"Topic10\", \"Topic10\", \"Topic10\", \"Topic10\", \"Topic10\", \"Topic10\", \"Topic10\", \"Topic10\", \"Topic10\", \"Topic10\", \"Topic10\", \"Topic10\", \"Topic11\", \"Topic11\", \"Topic11\", \"Topic11\", \"Topic11\", \"Topic11\", \"Topic11\", \"Topic11\", \"Topic11\", \"Topic11\", \"Topic11\", \"Topic11\", \"Topic11\", \"Topic11\", \"Topic11\", \"Topic11\", \"Topic11\", \"Topic11\", \"Topic11\", \"Topic11\", \"Topic11\", \"Topic11\", \"Topic11\", \"Topic11\", \"Topic11\", \"Topic11\", \"Topic11\", \"Topic11\", \"Topic11\", \"Topic11\", \"Topic11\", \"Topic11\", \"Topic11\", \"Topic11\", \"Topic11\", \"Topic11\", \"Topic11\", \"Topic11\", \"Topic11\", \"Topic11\", \"Topic11\", \"Topic11\", \"Topic11\", \"Topic11\", \"Topic11\", \"Topic11\", \"Topic11\", \"Topic11\", \"Topic11\", \"Topic11\", \"Topic11\", \"Topic11\", \"Topic11\", \"Topic11\", \"Topic11\", \"Topic12\", \"Topic12\", \"Topic12\", \"Topic12\", \"Topic12\", \"Topic12\", \"Topic12\", \"Topic12\", \"Topic12\", \"Topic12\", \"Topic12\", \"Topic12\", \"Topic12\", \"Topic12\", \"Topic12\", \"Topic12\", \"Topic12\", \"Topic12\", \"Topic12\", \"Topic12\", \"Topic12\", \"Topic12\", \"Topic12\", \"Topic12\", \"Topic12\", \"Topic12\", \"Topic12\", \"Topic12\", \"Topic12\", \"Topic12\", \"Topic12\", \"Topic12\", \"Topic12\", \"Topic12\", \"Topic12\", \"Topic12\", \"Topic12\", \"Topic12\", \"Topic12\", \"Topic12\", \"Topic12\", \"Topic12\", \"Topic12\", \"Topic12\", \"Topic12\", \"Topic12\", \"Topic12\", \"Topic12\", \"Topic12\", \"Topic12\", \"Topic12\", \"Topic12\", \"Topic12\", \"Topic12\", \"Topic12\", \"Topic13\", \"Topic13\", \"Topic13\", \"Topic13\", \"Topic13\", \"Topic13\", \"Topic13\", \"Topic13\", \"Topic13\", \"Topic13\", \"Topic13\", \"Topic13\", \"Topic13\", \"Topic13\", \"Topic13\", \"Topic13\", \"Topic13\", \"Topic13\", \"Topic13\", \"Topic13\", \"Topic13\", \"Topic13\", \"Topic13\", \"Topic13\", \"Topic13\", \"Topic13\", \"Topic13\", \"Topic13\", \"Topic13\", \"Topic13\", \"Topic13\", \"Topic13\", \"Topic13\", \"Topic13\", \"Topic13\", \"Topic13\", \"Topic13\", \"Topic13\", \"Topic13\", \"Topic13\", \"Topic13\", \"Topic13\", \"Topic13\", \"Topic13\", \"Topic13\", \"Topic13\", \"Topic13\", \"Topic13\", \"Topic13\", \"Topic14\", \"Topic14\", \"Topic14\", \"Topic14\", \"Topic14\", \"Topic14\", \"Topic14\", \"Topic14\", \"Topic14\", \"Topic14\", \"Topic14\", \"Topic14\", \"Topic14\", \"Topic14\", \"Topic14\", \"Topic14\", \"Topic14\", \"Topic14\", \"Topic14\", \"Topic14\", \"Topic14\", \"Topic14\", \"Topic14\", \"Topic14\", \"Topic14\", \"Topic14\", \"Topic14\", \"Topic14\", \"Topic14\", \"Topic14\", \"Topic14\", \"Topic14\", \"Topic14\", \"Topic14\", \"Topic14\", \"Topic14\", \"Topic14\", \"Topic14\", \"Topic14\", \"Topic14\", \"Topic14\", \"Topic14\", \"Topic14\", \"Topic14\", \"Topic14\", \"Topic14\", \"Topic14\", \"Topic14\", \"Topic14\", \"Topic14\", \"Topic14\", \"Topic14\", \"Topic14\", \"Topic15\", \"Topic15\", \"Topic15\", \"Topic15\", \"Topic15\", \"Topic15\", \"Topic15\", \"Topic15\", \"Topic15\", \"Topic15\", \"Topic15\", \"Topic15\", \"Topic15\", \"Topic15\", \"Topic15\", \"Topic15\", \"Topic15\", \"Topic15\", \"Topic15\", \"Topic15\", \"Topic15\", \"Topic15\", \"Topic15\", \"Topic15\", \"Topic15\", \"Topic15\", \"Topic15\", \"Topic15\", \"Topic15\", \"Topic15\", \"Topic15\", \"Topic15\", \"Topic15\", \"Topic15\", \"Topic15\", \"Topic15\", \"Topic15\", \"Topic15\", \"Topic15\", \"Topic15\", \"Topic15\", \"Topic15\", \"Topic15\", \"Topic15\", \"Topic15\", \"Topic15\", \"Topic15\", \"Topic15\", \"Topic15\", \"Topic15\", \"Topic15\", \"Topic15\", \"Topic15\", \"Topic15\", \"Topic16\", \"Topic16\", \"Topic16\", \"Topic16\", \"Topic16\", \"Topic16\", \"Topic16\", \"Topic16\", \"Topic16\", \"Topic16\", \"Topic16\", \"Topic16\", \"Topic16\", \"Topic16\", \"Topic16\", \"Topic16\", \"Topic16\", \"Topic16\", \"Topic16\", \"Topic16\", \"Topic16\", \"Topic16\", \"Topic16\", \"Topic16\", \"Topic16\", \"Topic16\", \"Topic16\", \"Topic16\", \"Topic16\", \"Topic16\", \"Topic16\", \"Topic16\", \"Topic16\", \"Topic16\", \"Topic16\", \"Topic16\", \"Topic16\", \"Topic16\", \"Topic16\", \"Topic16\", \"Topic16\", \"Topic16\", \"Topic16\", \"Topic16\", \"Topic16\", \"Topic16\", \"Topic16\", \"Topic16\", \"Topic17\", \"Topic17\", \"Topic17\", \"Topic17\", \"Topic17\", \"Topic17\", \"Topic17\", \"Topic17\", \"Topic17\", \"Topic17\", \"Topic17\", \"Topic17\", \"Topic17\", \"Topic17\", \"Topic17\", \"Topic17\", \"Topic17\", \"Topic17\", \"Topic17\", \"Topic17\", \"Topic17\", \"Topic17\", \"Topic17\", \"Topic17\", \"Topic17\", \"Topic17\", \"Topic17\", \"Topic17\", \"Topic17\", \"Topic17\", \"Topic17\", \"Topic17\", \"Topic17\", \"Topic17\", \"Topic17\", \"Topic17\", \"Topic17\", \"Topic17\", \"Topic17\", \"Topic17\", \"Topic17\", \"Topic17\", \"Topic17\", \"Topic17\", \"Topic17\", \"Topic17\", \"Topic17\", \"Topic17\", \"Topic17\", \"Topic17\", \"Topic18\", \"Topic18\", \"Topic18\", \"Topic18\", \"Topic18\", \"Topic18\", \"Topic18\", \"Topic18\", \"Topic18\", \"Topic18\", \"Topic18\", \"Topic18\", \"Topic18\", \"Topic18\", \"Topic18\", \"Topic18\", \"Topic18\", \"Topic18\", \"Topic18\", \"Topic18\", \"Topic18\", \"Topic18\", \"Topic18\", \"Topic18\", \"Topic18\", \"Topic18\", \"Topic18\", \"Topic18\", \"Topic18\", \"Topic18\", \"Topic18\", \"Topic18\", \"Topic18\", \"Topic18\", \"Topic18\", \"Topic18\", \"Topic18\", \"Topic18\", \"Topic18\", \"Topic18\", \"Topic18\", \"Topic18\", \"Topic18\", \"Topic18\", \"Topic18\", \"Topic18\", \"Topic18\", \"Topic18\", \"Topic18\", \"Topic18\", \"Topic18\", \"Topic18\", \"Topic19\", \"Topic19\", \"Topic19\", \"Topic19\", \"Topic19\", \"Topic19\", \"Topic19\", \"Topic19\", \"Topic19\", \"Topic19\", \"Topic19\", \"Topic19\", \"Topic19\", \"Topic19\", \"Topic19\", \"Topic19\", \"Topic19\", \"Topic19\", \"Topic19\", \"Topic19\", \"Topic19\", \"Topic19\", \"Topic19\", \"Topic19\", \"Topic19\", \"Topic19\", \"Topic19\", \"Topic19\", \"Topic19\", \"Topic19\", \"Topic19\", \"Topic19\", \"Topic19\", \"Topic19\", \"Topic19\", \"Topic19\", \"Topic19\", \"Topic19\", \"Topic19\", \"Topic19\", \"Topic19\", \"Topic19\", \"Topic19\", \"Topic19\", \"Topic19\", \"Topic19\", \"Topic19\", \"Topic19\", \"Topic19\", \"Topic19\", \"Topic19\", \"Topic20\", \"Topic20\", \"Topic20\", \"Topic20\", \"Topic20\", \"Topic20\", \"Topic20\", \"Topic20\", \"Topic20\", \"Topic20\", \"Topic20\", \"Topic20\", \"Topic20\", \"Topic20\", \"Topic20\", \"Topic20\", \"Topic20\", \"Topic20\", \"Topic20\", \"Topic20\", \"Topic20\", \"Topic20\", \"Topic20\", \"Topic20\", \"Topic20\", \"Topic20\", \"Topic20\", \"Topic20\", \"Topic20\", \"Topic20\", \"Topic20\", \"Topic20\", \"Topic20\", \"Topic20\", \"Topic20\", \"Topic20\", \"Topic20\", \"Topic20\", \"Topic20\", \"Topic20\", \"Topic20\", \"Topic20\"], \"Freq\": [23.0, 15.0, 34.0, 21.0, 17.0, 13.0, 8.0, 16.0, 14.0, 16.0, 38.0, 22.0, 26.0, 12.0, 22.0, 15.0, 7.0, 21.0, 29.0, 9.0, 13.0, 21.0, 13.0, 10.0, 32.0, 15.0, 8.0, 14.0, 22.0, 12.0, 2.636312961578369, 1.771948218345642, 4.365043640136719, 1.771948218345642, 1.771948218345642, 1.771948218345642, 1.7719484567642212, 2.6363131999969482, 2.6363131999969482, 11.279962539672852, 1.771948218345642, 1.771948218345642, 1.7719484567642212, 2.6363131999969482, 0.9075832366943359, 0.9075832366943359, 0.9075832366943359, 0.9075832366943359, 0.9075832366943359, 0.9075832366943359, 0.9075832366943359, 0.9075832366943359, 0.9075832366943359, 0.9075832366943359, 0.9075832366943359, 0.9075833559036255, 0.9075831174850464, 0.9075832366943359, 0.9075832366943359, 0.9075832366943359, 1.771948218345642, 0.9075832366943359, 2.6363131999969482, 1.771948218345642, 1.771948218345642, 6.093773365020752, 2.6363131999969482, 5.229408264160156, 6.958138942718506, 1.771948218345642, 1.771948218345642, 1.771948218345642, 3.086590051651001, 1.771948218345642, 1.771948218345642, 3.500678539276123, 2.6363131999969482, 4.365044116973877, 2.6363131999969482, 4.365043640136719, 4.365044116973877, 2.6363131999969482, 2.6363131999969482, 1.8507782220840454, 1.771948218345642, 1.771948218345642, 1.7786530256271362, 1.7786530256271362, 1.7786530256271362, 1.7786530256271362, 1.7786530256271362, 1.253339171409607, 1.7786530256271362, 1.7786529064178467, 3.5139248371124268, 6.6441521644592285, 0.9110174179077148, 0.9110174179077148, 0.9110174179077148, 0.9110174179077148, 0.9110174179077148, 0.9110174179077148, 0.9110174179077148, 0.9110174179077148, 0.9110174179077148, 0.9110174179077148, 0.9110174179077148, 0.9110174179077148, 0.9110174179077148, 0.9110174179077148, 0.9110174179077148, 0.9110174179077148, 0.9110174179077148, 0.9110174179077148, 0.9110174179077148, 0.9110174179077148, 1.2256344556808472, 1.7786530256271362, 5.2491960525512695, 1.7786530256271362, 1.7786532640457153, 2.310164451599121, 2.6462888717651367, 3.5139248371124268, 3.5139248371124268, 1.7786530256271362, 2.218355655670166, 3.513925313949585, 1.7786530256271362, 1.7786530256271362, 1.7786530256271362, 2.646289110183716, 2.9890403747558594, 1.7786530256271362, 1.7786530256271362, 1.7786530256271362, 1.7786532640457153, 1.7786530256271362, 1.5717413425445557, 1.5717413425445557, 2.338444471359253, 2.338444471359253, 1.5717413425445557, 1.5717413425445557, 1.5717413425445557, 3.1051478385925293, 1.5717413425445557, 1.5717413425445557, 3.1051478385925293, 1.5717413425445557, 0.8050382137298584, 0.8050382137298584, 0.8050382137298584, 0.8050382733345032, 0.8050382137298584, 0.8050382137298584, 0.8050382137298584, 0.8050382137298584, 0.8050382137298584, 0.8050382137298584, 0.8050382137298584, 0.8050382137298584, 0.8050382137298584, 0.8050380945205688, 0.8050382733345032, 0.8050382137298584, 0.8050382733345032, 0.8050382733345032, 3.8718504905700684, 1.5717413425445557, 3.1051478385925293, 5.405256748199463, 1.5717413425445557, 2.338444471359253, 2.338444232940674, 1.5717413425445557, 4.638553619384766, 2.338444471359253, 2.338444471359253, 1.5717413425445557, 2.338444471359253, 2.338444232940674, 1.5717413425445557, 1.5717414617538452, 1.5717413425445557, 2.338444471359253, 1.5717414617538452, 1.5717413425445557, 1.5717413425445557, 1.5717411041259766, 1.5717413425445557, 1.6165812015533447, 1.6165812015533447, 1.6165812015533447, 1.6165813207626343, 2.4051573276519775, 1.3330219984054565, 0.8280049562454224, 0.8280049562454224, 0.8280049562454224, 0.8280049562454224, 0.8280049562454224, 0.8280049562454224, 0.8280049562454224, 0.8280049562454224, 0.8280049562454224, 0.8280049562454224, 0.8280048966407776, 0.8280051350593567, 0.8280049562454224, 0.8280049562454224, 0.8280049562454224, 0.8280049562454224, 0.8280049562454224, 0.8280049562454224, 0.8280049562454224, 1.6165812015533447, 0.8280049562454224, 0.8280051350593567, 0.8280051350593567, 0.8280049562454224, 1.6165812015533447, 1.6165812015533447, 1.6165812015533447, 4.770885944366455, 2.4051570892333984, 4.770885944366455, 3.1937336921691895, 1.6165812015533447, 5.559462070465088, 4.770885944366455, 1.6165812015533447, 1.6165812015533447, 1.6165812015533447, 2.043158769607544, 1.6165812015533447, 1.6165812015533447, 1.6165812015533447, 1.6165812015533447, 1.6165812015533447, 1.3058617115020752, 1.6165812015533447, 1.1249115467071533, 1.5446633100509644, 1.6165812015533447, 1.6165812015533447, 1.6165812015533447, 1.7166461944580078, 0.9580221772193909, 0.8792577981948853, 0.8792577981948853, 0.8792577981948853, 0.8792577981948853, 0.8792577981948853, 0.8792577981948853, 0.8792577981948853, 0.8792577981948853, 0.87925785779953, 0.8792577981948853, 0.8792577981948853, 0.8792577981948853, 0.8792576193809509, 0.87925785779953, 0.8792577981948853, 0.8792577981948853, 0.8792577981948853, 0.8792577981948853, 0.8792577981948853, 0.8792577981948853, 0.8792577981948853, 0.8792577981948853, 0.8792577981948853, 0.87925785779953, 0.8792577981948853, 0.8792577981948853, 0.8792576193809509, 1.7166461944580078, 1.7166461944580078, 7.578364849090576, 6.640336513519287, 3.391423463821411, 2.5540342330932617, 2.5540342330932617, 1.7166461944580078, 3.391422986984253, 1.7166461944580078, 1.7166461944580078, 2.554034471511841, 1.7166461944580078, 1.7166461944580078, 0.8793886303901672, 0.8792577981948853, 0.8792577981948853, 0.8792577981948853, 0.8792577981948853, 0.8792577981948853, 0.8792577981948853, 0.87925785779953, 0.8792577981948853, 0.8792577981948853, 1.6296672821044922, 1.6296672821044922, 1.6296672821044922, 2.4246270656585693, 1.6296675205230713, 2.4246270656585693, 0.8347076177597046, 0.8347076177597046, 0.8347077369689941, 0.8347077369689941, 0.8347076177597046, 0.8347076177597046, 0.8347076177597046, 0.8347077369689941, 0.8347076177597046, 0.8347076177597046, 0.8347076177597046, 0.8347076177597046, 0.8347077369689941, 0.8347076177597046, 0.8347076177597046, 0.8347076177597046, 0.8347077369689941, 0.8347076177597046, 0.8347076177597046, 0.8347076177597046, 0.8347076177597046, 0.8347076177597046, 0.8347076177597046, 0.8347076177597046, 1.6296672821044922, 1.6296672821044922, 3.2195866107940674, 1.6296672821044922, 1.6296672821044922, 1.6296672821044922, 1.6296672821044922, 2.022416830062866, 1.6296672821044922, 3.2195868492126465, 1.6296672821044922, 1.6296672821044922, 1.6296672821044922, 1.6296672821044922, 2.4246270656585693, 2.4246270656585693, 1.3032015562057495, 2.4246273040771484, 1.191543459892273, 2.4246270656585693, 1.6296672821044922, 1.6296672821044922, 1.2632180452346802, 1.6296672821044922, 1.6296672821044922, 1.6296672821044922, 1.7569352388381958, 3.4710183143615723, 0.899893581867218, 0.899893581867218, 0.899893581867218, 0.899893581867218, 0.899893581867218, 0.899893581867218, 0.899893581867218, 0.899893581867218, 0.899893581867218, 0.899893581867218, 0.8998936414718628, 0.899893581867218, 0.899893581867218, 0.899893581867218, 0.899893581867218, 0.899893581867218, 0.899893581867218, 1.7569351196289062, 0.899893581867218, 0.899893581867218, 0.8998934030532837, 0.899893581867218, 3.4710183143615723, 2.61397647857666, 6.042142868041992, 5.18510103225708, 1.7569351196289062, 1.7569351196289062, 2.61397647857666, 2.61397647857666, 1.7569351196289062, 1.7569351196289062, 1.7569351196289062, 3.8634259700775146, 2.1506507396698, 1.7569351196289062, 1.7569351196289062, 1.7569351196289062, 2.074148654937744, 2.613976240158081, 1.7569351196289062, 1.7569351196289062, 2.6139767169952393, 2.6139767169952393, 2.61397647857666, 1.7569351196289062, 1.7569351196289062, 1.7569351196289062, 1.7569351196289062, 1.7569351196289062, 1.7399343252182007, 1.7399343252182007, 3.437431573867798, 0.8911859393119812, 0.8911859393119812, 0.8911859393119812, 0.8911859393119812, 0.8911859393119812, 0.8911859393119812, 0.8911859393119812, 0.8911859393119812, 0.891185998916626, 0.8911859393119812, 0.8911859393119812, 0.8911859393119812, 0.8911859393119812, 0.8911859393119812, 0.8911859393119812, 0.8911859393119812, 0.891185998916626, 0.891185998916626, 0.8911859393119812, 0.8911859393119812, 0.8911859393119812, 0.8911859393119812, 0.8911859393119812, 0.8911859393119812, 0.891185998916626, 0.8911859393119812, 0.8911859393119812, 2.5886828899383545, 1.7399343252182007, 1.7399343252182007, 2.5886831283569336, 2.5886826515197754, 3.437431573867798, 3.4374313354492188, 4.28618049621582, 2.5886828899383545, 2.5886828899383545, 1.7399343252182007, 1.7399343252182007, 1.7399343252182007, 2.5886828899383545, 2.5886826515197754, 1.7399343252182007, 1.7399343252182007, 2.5886826515197754, 3.4374313354492188, 1.7399342060089111, 1.7399343252182007, 1.7399343252182007, 2.5886826515197754, 1.7399342060089111, 0.8911859393119812, 1.6847805976867676, 1.6847805976867676, 1.6847805976867676, 1.6847805976867676, 1.6847805976867676, 0.8629364967346191, 0.8629363775253296, 0.8629363775253296, 0.8629363775253296, 0.8629363775253296, 0.8629363775253296, 0.8629363775253296, 0.8629364967346191, 0.8629363775253296, 0.8629363775253296, 0.86293625831604, 0.8629364967346191, 0.8629363775253296, 0.8629363775253296, 0.8629363775253296, 0.8629363775253296, 0.8629363775253296, 0.8629363775253296, 0.86293625831604, 0.8629363775253296, 0.8629363775253296, 0.8629363775253296, 0.8629363775253296, 0.8629363775253296, 0.8629363775253296, 1.6847805976867676, 4.150313854217529, 3.2584474086761475, 4.9721574783325195, 3.3284692764282227, 1.6847805976867676, 1.6847805976867676, 1.6062730550765991, 1.6847805976867676, 2.506624937057495, 1.3158767223358154, 3.214414596557617, 1.6847807168960571, 1.6847805976867676, 1.6847805976867676, 1.1334779262542725, 1.3008887767791748, 0.8629364967346191, 0.8629364967346191, 0.8629364967346191, 0.8629364967346191, 0.8629364967346191, 0.8629364967346191, 2.5407581329345703, 1.707722544670105, 1.707722544670105, 1.707722544670105, 1.707722544670105, 1.707722544670105, 1.707722544670105, 1.707722544670105, 1.707722544670105, 2.5407581329345703, 0.874687135219574, 0.874687135219574, 0.874687135219574, 0.874687135219574, 0.874687135219574, 0.874687135219574, 0.8746873140335083, 0.874687135219574, 0.874687135219574, 0.874687135219574, 0.874687135219574, 0.874687135219574, 0.874687135219574, 0.874687135219574, 0.874687135219574, 0.874687135219574, 0.874687135219574, 0.874687135219574, 2.0534322261810303, 0.874687135219574, 3.3737943172454834, 1.707722544670105, 1.388179063796997, 4.206829071044922, 1.707722544670105, 1.5891324281692505, 2.3640081882476807, 2.7082338333129883, 1.5153191089630127, 1.707722544670105, 2.5407581329345703, 1.707722544670105, 1.707722544670105, 1.707722544670105, 1.5251905918121338, 1.707722544670105, 1.707722544670105, 1.707722544670105, 0.8746873140335083, 1.660632610321045, 1.6606324911117554, 2.4706969261169434, 1.6606324911117554, 1.6606324911117554, 0.8505678176879883, 0.8505678176879883, 0.8505678176879883, 0.8505678176879883, 0.8505678176879883, 0.8505678176879883, 0.8505678176879883, 0.8505677580833435, 0.8505677580833435, 0.8505678176879883, 0.8505678176879883, 0.8505678176879883, 0.8505678176879883, 0.8505678176879883, 0.8505678176879883, 0.8505678176879883, 0.8505678176879883, 0.8505678176879883, 0.8505678176879883, 0.8505678176879883, 0.8505678176879883, 0.8505678176879883, 0.8505678176879883, 0.8505678176879883, 0.8505678176879883, 4.900891304016113, 0.8505678176879883, 1.6606324911117554, 1.6606324911117554, 1.6606324911117554, 2.4706971645355225, 1.6606324911117554, 3.280761957168579, 1.6606324911117554, 1.8310127258300781, 1.6606324911117554, 1.6606324911117554, 1.6606324911117554, 2.4706971645355225, 1.6606324911117554, 1.6606324911117554, 1.6606324911117554, 0.8505678176879883, 0.8505678176879883, 0.8505678176879883, 0.8505678176879883, 0.8505679368972778, 0.8505678176879883, 0.8505678176879883, 0.8505678176879883, 1.7150890827178955, 1.7150890827178955, 2.55171799659729, 1.7150890827178955, 0.8784602880477905, 0.8784602880477905, 0.8784602880477905, 0.8784602880477905, 0.8784602880477905, 0.8784602880477905, 0.8784602880477905, 0.8784602880477905, 0.8784602880477905, 0.8784602880477905, 0.8784602880477905, 0.8784602880477905, 0.8784602880477905, 0.8784602880477905, 0.8784602880477905, 0.8784602880477905, 1.7150890827178955, 0.8784602880477905, 0.8784602880477905, 0.8784602880477905, 0.8784602880477905, 0.8784602880477905, 0.8784602880477905, 0.8784602880477905, 0.8784603476524353, 0.8784602880477905, 0.8784602880477905, 1.7150890827178955, 2.55171799659729, 1.7150890827178955, 3.3883464336395264, 1.7150890827178955, 1.7150890827178955, 2.55171799659729, 1.7150890827178955, 1.7150890827178955, 1.7150890827178955, 1.7150890827178955, 1.7150890827178955, 1.7150890827178955, 1.3810111284255981, 1.7150890827178955, 0.8784603476524353, 0.8784603476524353, 0.8784603476524353, 0.8784603476524353, 0.8784603476524353, 0.8784603476524353, 0.8784602880477905, 0.8784602880477905, 0.8784602880477905, 1.6811542510986328, 1.6811542510986328, 1.6809911727905273, 1.6811542510986328, 1.6811543703079224, 0.8610790967941284, 0.8610789775848389, 0.8610789775848389, 0.8610789775848389, 0.8610789775848389, 0.8610789775848389, 1.6811542510986328, 0.8610789775848389, 0.8610790967941284, 0.8610789775848389, 0.8610789775848389, 0.8610789775848389, 0.8610790967941284, 0.8610789775848389, 0.8610789775848389, 0.8610789775848389, 0.8610789775848389, 0.8610789775848389, 0.8610789775848389, 0.8610789775848389, 0.8610789775848389, 0.8610789775848389, 0.8610790967941284, 1.6811542510986328, 1.6811542510986328, 1.680861234664917, 3.3213050365448, 1.6811542510986328, 2.5012295246124268, 3.320984125137329, 1.6810365915298462, 1.6811542510986328, 1.6811542510986328, 1.6811543703079224, 1.6811542510986328, 1.6811542510986328, 1.6811542510986328, 1.6811543703079224, 1.6811543703079224, 1.6811542510986328, 1.6811542510986328, 1.2293051481246948, 0.8610789775848389, 0.8610789775848389, 1.7191449403762817, 1.7185877561569214, 3.396360158920288, 0.8805376291275024, 0.8805376291275024, 0.8805376291275024, 0.8805376291275024, 0.8805376291275024, 0.8805376291275024, 0.8805376291275024, 0.8805375695228577, 0.8805376291275024, 0.880537748336792, 0.8805376291275024, 0.8800385594367981, 0.8805376291275024, 0.8805376291275024, 0.8805376291275024, 0.8805376291275024, 0.8805376291275024, 0.8805376291275024, 0.880537748336792, 0.8805376291275024, 0.8805376291275024, 0.8805376291275024, 0.8805376291275024, 0.8805376291275024, 0.8805376291275024, 0.8805376291275024, 0.8805376291275024, 2.5577521324157715, 1.7191449403762817, 4.234967231750488, 1.7186977863311768, 1.7191449403762817, 1.7191449403762817, 1.7191449403762817, 2.1737849712371826, 2.5577523708343506, 1.7191451787948608, 1.3338979482650757, 1.7191449403762817, 1.718835473060608, 1.3422198295593262, 0.880537748336792, 0.880537748336792, 0.880537748336792, 0.8805376291275024, 0.8805376291275024, 0.8805376291275024, 0.8805376291275024, 0.8805376291275024, 0.8805376291275024, 1.5645859241485596, 2.32779860496521, 2.32779860496521, 1.5645860433578491, 1.5645860433578491, 1.5645859241485596, 0.8013732433319092, 0.8013732433319092, 0.8013732433319092, 0.8013733625411987, 0.8013732433319092, 0.8013732433319092, 0.8013732433319092, 0.8013732433319092, 0.8013732433319092, 0.8013732433319092, 0.8013732433319092, 0.8013732433319092, 0.8013733625411987, 0.8013732433319092, 0.8013732433319092, 0.8013732433319092, 0.8013732433319092, 0.8013732433319092, 0.8013732433319092, 0.8013732433319092, 0.8013732433319092, 0.8013732433319092, 0.8013732433319092, 0.8013732433319092, 0.8013732433319092, 1.5645859241485596, 1.5645859241485596, 2.327798366546631, 3.0910112857818604, 1.5645859241485596, 1.5645859241485596, 2.1743602752685547, 1.9210904836654663, 1.5645859241485596, 1.133183240890503, 1.5645859241485596, 1.5645859241485596, 1.5645859241485596, 1.5645859241485596, 1.5648677349090576, 0.8019117712974548, 0.8018606305122375, 0.8017816543579102, 0.8013732433319092, 0.8013732433319092, 0.8013731241226196, 0.8013732433319092, 0.8013732433319092, 1.619379997253418, 1.619379997253418, 1.619379997253418, 1.619379997253418, 1.619380235671997, 0.8294385075569153, 0.8294385075569153, 0.8294385075569153, 0.8294385075569153, 0.8294385075569153, 0.8294385075569153, 0.8294385075569153, 0.8294386267662048, 0.8294385075569153, 0.8294385075569153, 0.8294385075569153, 0.8294385075569153, 0.8294383883476257, 0.8294385075569153, 0.8294385075569153, 0.8294386267662048, 0.8294385075569153, 0.8294385075569153, 0.8294383883476257, 0.8294385075569153, 0.8294385075569153, 0.8294385075569153, 0.8294386267662048, 0.8294385075569153, 0.8294385075569153, 2.4093217849731445, 1.619380235671997, 1.619380235671997, 1.619379997253418, 0.8294385075569153, 0.8294385075569153, 0.8294385075569153, 0.8294385075569153, 0.8294386267662048, 0.8294386267662048, 0.8294385075569153, 0.8294385075569153, 0.8294385075569153, 0.8294385075569153, 0.8294385075569153, 0.8294386267662048, 0.8294385075569153, 0.8294385075569153, 2.331753730773926, 1.5672441720962524, 0.802734911441803, 0.802734911441803, 0.802734911441803, 0.802734911441803, 0.802734911441803, 0.802734911441803, 0.802734911441803, 0.802734911441803, 0.8027349710464478, 0.802734911441803, 0.802734911441803, 0.802734911441803, 0.802734911441803, 0.802734911441803, 0.802734911441803, 0.802734911441803, 0.8027347922325134, 0.802734911441803, 0.802734911441803, 2.331753969192505, 0.802734911441803, 0.802734911441803, 0.8027347922325134, 0.8027347922325134, 0.802734911441803, 0.8027349710464478, 0.8027349710464478, 0.802734911441803, 1.5672441720962524, 2.331753730773926, 1.5672441720962524, 1.5672441720962524, 0.8027349710464478, 0.8027349710464478, 0.8027349710464478, 0.8027349710464478, 0.8027349710464478, 0.8027349710464478, 0.8027349710464478, 0.8027349710464478, 0.802734911441803, 0.802734911441803, 0.802734911441803, 0.802734911441803, 0.802734911441803, 0.802734911441803, 0.802734911441803, 0.802734911441803, 1.6152955293655396, 0.8273465037345886, 0.8273465037345886, 0.8273465037345886, 0.8273465037345886, 0.8273466229438782, 0.8273465037345886, 0.8273465037345886, 0.8273465037345886, 0.8273465037345886, 0.8273465037345886, 0.8273465037345886, 0.8273465037345886, 0.8273465037345886, 0.8273465037345886, 0.8273465037345886, 0.8273465037345886, 0.8273465037345886, 1.6152955293655396, 2.403244733810425, 0.8273465037345886, 0.8273464441299438, 0.8273465037345886, 0.8273465037345886, 0.8273465037345886, 0.8273465037345886, 0.8273465037345886, 0.8273465037345886, 0.8273465037345886, 0.8273465037345886, 2.403244733810425, 2.4032444953918457, 1.6152955293655396, 1.6152955293655396, 1.6152955293655396, 0.8273465037345886, 0.8273465037345886, 0.8273465037345886, 0.8273465037345886, 0.8273465037345886, 0.8273465037345886, 0.8273465037345886, 0.8273465037345886, 0.8273465037345886, 0.8273465037345886, 0.8273465037345886, 0.8273465037345886, 0.8273465037345886, 0.8273465037345886, 0.8273465037345886, 0.8273465037345886, 0.8273465037345886, 1.5834224224090576, 0.8110213875770569, 0.8110212087631226, 0.8110213875770569, 0.8110212087631226, 0.8110212087631226, 0.8110212087631226, 0.8110212087631226, 0.8110212087631226, 0.8110212087631226, 0.8110212087631226, 0.8110212087631226, 0.8110212087631226, 0.8110212087631226, 0.8110212087631226, 0.8110212087631226, 1.5834224224090576, 0.8110212087631226, 0.8110212087631226, 0.8110212087631226, 0.8110212087631226, 0.8110212087631226, 0.8110212087631226, 0.8110212087631226, 0.8110212087631226, 0.8110212087631226, 0.8110212087631226, 0.8110212087631226, 0.8110212087631226, 0.8110212087631226, 1.5834224224090576, 2.355823516845703, 3.128225088119507, 2.355823516845703, 1.5834224224090576, 1.5834224224090576, 1.5834225416183472, 1.5834224224090576, 0.8110213875770569, 0.8110213875770569, 0.8110213875770569, 0.8110213875770569, 0.8110212087631226, 0.8110212087631226, 0.8110212087631226, 0.8110212087631226, 0.8110212087631226, 0.8110212087631226, 0.8110212087631226, 0.8110212087631226, 0.8110212087631226, 1.5897901058197021, 0.8142827749252319, 0.8142827153205872, 0.8142827153205872, 0.8142827153205872, 0.8142827153205872, 0.8142827749252319, 0.8142827153205872, 0.8142827153205872, 0.8142827153205872, 0.8142827153205872, 0.8142827153205872, 2.3652970790863037, 0.8142827153205872, 0.8142827153205872, 0.8142827153205872, 0.8142827153205872, 0.8142827153205872, 0.8142827153205872, 0.8142827153205872, 0.8142827153205872, 1.5897901058197021, 0.8142827153205872, 0.8142827153205872, 0.8142827153205872, 0.8142827749252319, 0.8142827153205872, 0.8142827749252319, 0.8142825961112976, 2.365297794342041, 1.5897901058197021, 0.8142827153205872, 0.8142827153205872, 0.8142827153205872, 0.8142827749252319, 0.8142827153205872, 0.8142827153205872, 0.8142827153205872, 0.8142827153205872, 0.8142827153205872, 0.8142827153205872, 0.8142827153205872], \"Term\": [\"\\u65e5\\u672c\\u8a9e\\u5b66\\u6821\", \"\\u97d3\\u56fd\\u4eba\", \"\\u5be9\\u67fb\", \"\\u4e2d\\u56fd\\u4eba\", \"\\u72ed\\u304f\", \"\\u4e0d\\u6cd5\\u6ede\\u5728\", \"\\u30eb\\u30fc\\u30eb\", \"\\u56fd\\u6c11\", \"\\u65e5\\u672c\\u8a9e\", \"\\u5c31\\u52b4\", \"\\u76ee\\u7684\", \"\\u5927\\u5b66\", \"\\u5165\\u56fd\", \"\\u8a18\\u4e8b\", \"\\u72af\\u7f6a\", \"\\u5728\\u7559\\u8cc7\\u683c\", \"\\u7570\\u5e38\", \"\\u5b66\\u751f\", \"\\u65e5\\u672c\\u4eba\", \"\\u30d9\\u30c8\\u30ca\\u30e0\", \"\\u5916\\u56fd\\u4eba\\u52b4\\u50cd\\u8005\", \"\\u53d7\\u3051\\u5165\\u308c\", \"\\u79fb\\u6c11\", \"\\u4e2d\\u56fd\", \"\\u306a\\u3063\", \"\\u5916\\u4eba\", \"\\u6cd5\\u5f8b\", \"\\u53d7\\u3051\\u5165\\u308c\\u308b\", \"\\u30d3\\u30b6\", \"\\u751f\\u6d3b\\u4fdd\\u8b77\", \"\\u8a3c\", \"\\u51fa\\u5e2d\", \"\\u5c31\\u52b4\\u30d3\\u30b6\", \"\\u6b63\\u3057\\u3044\", \"\\u53d6\\u5f97\", \"\\u6cbb\\u7642\", \"\\u8a8d\\u53ef\", \"\\u5897\\u3084\\u3057\", \"\\u91d1\\u5132\\u3051\", \"\\u65e5\\u672c\\u8a9e\\u5b66\\u6821\", \"\\u3044\\u3046\", \"\\u9580\\u6238\", \"\\u5165\\u308a\\u53e3\", \"\\u7c21\\u5358\", \"\\u67d0\\u56fd\", \"\\u308f\\u304b\\u3089\\u3093\", \"\\u4ed6\\u56fd\", \"\\u5834\\u5f53\\u305f\\u308a\", \"\\u4e16\", \"\\u671d\\u65e5\\u65b0\\u805e\\u793e\", \"\\u7533\\u3057\\u8a33\\u306a\\u3044\", \"\\u5065\\u4fdd\", \"\\u72af\\u7f6a\\u6b74\", \"\\u6cbb\\u5b89\\u306e\\u60aa\\u5316\", \"\\u6b86\\u3069\", \"\\u30f6\\u6708\", \"\\u4e0d\\u5f53\", \"\\u306f\\u308b\\u304b\", \"\\u5352\\u696d\", \"\\u660e\\u3089\\u304b\", \"\\u77db\\u76fe\", \"\\u53cc\\u65b9\", \"\\u4e0d\\u6b63\", \"\\u30d6\\u30e9\\u30c3\\u30af\\u4f01\\u696d\", \"\\u5f37\\u5236\", \"\\u5927\\u5b66\", \"\\u5e30\\u56fd\", \"\\u5b66\\u751f\", \"\\u306a\\u3063\", \"\\u5974\\u96b7\", \"\\u653f\\u7b56\", \"\\u4e16\\u754c\", \"\\u8a00\\u3063\", \"\\u5f37\\u5316\", \"\\u81ea\\u6c11\\u515a\", \"\\u5b66\\u6821\", \"\\u3057\\u308d\", \"\\u65e5\\u672c\\u4eba\", \"\\u5f53\\u305f\\u308a\\u524d\", \"\\u5be9\\u67fb\", \"\\u76ee\\u7684\", \"\\u5c31\\u52b4\", \"\\u52b4\\u50cd\", \"\\u5236\\u5ea6\", \"\\u53d7\\u3051\\u5165\\u308c\", \"\\u51fa\\u7a3c\\u304e\", \"\\u6bcd\\u56fd\", \"\\u4eba\\u53e3\", \"\\u99c5\", \"\\u6012\\u3089\", \"\\u91ce\\u515a\", \"\\u601d\\u3048\", \"\\u76e3\\u8996\", \"\\u56fd\\u6c11\\u5065\\u5eb7\\u4fdd\\u967a\", \"\\u5897\\u3048\\u308b\", \"\\u56fd\\u6c11\", \"\\u8ab0\\u5f7c\", \"\\u69d8\\u5b50\", \"\\u591a\\u984d\", \"\\u6d41\\u5165\", \"\\u5408\\u308f\\u305b\", \"\\u3053\\u3044\\u3064\", \"\\u533b\\u7642\", \"\\u52a0\\u5165\", \"\\u884c\\u65b9\\u4e0d\\u660e\", \"\\u5408\\u683c\", \"\\u8db3\\u308a\", \"\\u50cd\\u304b\", \"\\u4f5c\\u308b\", \"\\u4fb5\\u5165\", \"\\u30a4\\u30f3\\u30c9\\u30cd\\u30b7\\u30a2\", \"\\u73fe\\u884c\", \"\\u73fe\\u72b6\", \"\\u8a34\\u3048\\u308b\", \"\\u629c\\u3051\\u7a74\", \"\\u73fe\\u6642\\u70b9\", \"\\u4eba\\u9054\", \"\\u5909\\u308f\\u3089\", \"\\u5916\\u4eba\", \"\\u8a00\\u3048\", \"\\u60aa\\u5316\", \"\\u6cd5\\u5f8b\", \"\\u6cbb\\u5b89\", \"\\u72ed\\u304f\", \"\\u5b66\\u6821\", \"\\u5c06\\u6765\", \"\\u601d\\u3063\", \"\\u53d7\\u3051\\u5165\\u308c\", \"\\u8cc7\\u683c\", \"\\u308f\\u304b\\u3089\", \"\\u671d\\u65e5\", \"\\u4e2d\\u56fd\\u4eba\", \"\\u65e5\\u672c\\u4eba\", \"\\u8a18\\u4e8b\", \"\\u751f\\u6d3b\\u4fdd\\u8b77\", \"\\u53d7\\u3051\\u5165\\u308c\\u308b\", \"\\u5236\\u5ea6\", \"\\u306a\\u3063\", \"\\u65e5\\u672c\\u56fd\", \"\\u7de9\\u548c\", \"\\u9006\", \"\\u56fd\\u5916\\u8ffd\\u653e\", \"\\u4f1a\\u8a71\", \"\\u8abf\\u67fb\", \"\\u3044\\u4eba\", \"\\u8cdb\\u6210\", \"\\u5b9f\\u614b\", \"\\u5f8c\\u624b\", \"\\u5b89\\u500d\", \"\\u76e3\\u8996\", \"\\u8857\", \"\\u51f6\\u60aa\\u72af\\u7f6a\", \"\\u65b9\\u5411\", \"\\u4ee5\\u524d\", \"\\u5165\\u53e3\", \"\\u3088\\u305d\", \"\\u90e8\\u5206\", \"\\u53b3\\u7f70\\u5316\", \"\\u3084\\u308a\\u65b9\", \"\\u4e0b\\u3052\", \"\\u3069\\u3061\\u3089\", \"\\u308f\\u304b\\u3063\", \"\\u3080\\u3084\\u307f\", \"\\u60c5\\u5831\", \"\\u4f55\\u51e6\", \"\\u652f\\u63f4\", \"\\u30e6\\u30eb\\u30e6\\u30eb\", \"\\u6b74\\u53f2\", \"\\u8a18\\u4e8b\", \"\\u30d0\\u30ab\", \"\\u3059\\u308c\", \"\\u5165\\u56fd\", \"\\u6cd5\\u6848\", \"\\u6cbb\\u5b89\", \"\\u4e0d\\u6cd5\\u5c31\\u52b4\", \"\\u30b3\\u30f3\\u30d3\\u30cb\", \"\\u5be9\\u67fb\", \"\\u4e0d\\u6cd5\\u6ede\\u5728\", \"\\u53b3\\u683c\\u5316\", \"\\u5206\\u304b\\u3089\", \"\\u56fd\\u6c11\", \"\\u53d7\\u3051\\u5165\\u308c\", \"\\u671d\\u65e5\\u65b0\\u805e\", \"\\u97d3\\u56fd\", \"\\u305b\\u308b\", \"\\u76ee\\u7684\", \"\\u5916\\u4eba\", \"\\u5c31\\u52b4\", \"\\u79fb\\u6c11\", \"\\u5916\\u56fd\\u4eba\\u52b4\\u50cd\\u8005\", \"\\u306a\\u3063\", \"\\u4fdd\\u8a3c\\u4eba\", \"\\u767a\\u899a\", \"\\u5897\\u7a0e\", \"\\u8a2d\\u3051\", \"\\u5168\\u3066\", \"\\u65b0\\u3057\\u3044\", \"\\u6b32\\u3057\", \"\\u5f71\\u97ff\", \"\\u53b3\\u5bc6\", \"\\u3069\\u3061\\u3089\", \"\\u6c17\\u3065\\u3044\", \"\\u5c45\\u9152\\u5c4b\", \"\\u5bfe\\u51e6\", \"\\u51b7\\u305f\\u3044\", \"\\u66f8\\u304b\", \"\\u5e73\\u548c\", \"\\u8ca2\\u732e\", \"\\u4e0d\\u90fd\\u5408\", \"\\u6210\\u308a\\u7acb\\u3063\", \"\\u4ef2\\u4ecb\\u696d\\u8005\", \"\\u5927\\u91cf\", \"\\u8a66\\u9a13\", \"\\u96c7\\u7528\", \"\\u6570\\u5e74\", \"\\u6cd5\\u52d9\\u7701\", \"\\u30b7\\u30b9\\u30c6\\u30e0\", \"\\u7121\\u511f\", \"\\u9805\\u76ee\", \"\\u65b0\\u305f\", \"\\u305d\\u3061\\u3089\", \"\\u5b98\\u50da\", \"\\u3057\\u308c\", \"\\u7de9\", \"\\u5728\\u7559\\u8cc7\\u683c\", \"\\u3084\\u3063\", \"\\u53d7\\u3051\\u5165\\u308c\", \"\\u5916\\u56fd\\u4eba\\u52b4\\u50cd\\u8005\", \"\\u73fe\\u5728\", \"\\u5be9\\u67fb\", \"\\u306a\\u3063\", \"\\u4e0d\\u6b63\", \"\\u91d1\", \"\\u57fa\\u6e96\", \"\\u53b3\\u683c\\u5316\", \"\\u5165\\u3063\", \"\\u53b3\\u3057\\u3044\", \"\\u5897\\u3048\", \"\\u8a18\\u4e8b\", \"\\u751f\\u6d3b\\u4fdd\\u8b77\", \"\\u5916\\u56fd\", \"\\u79fb\\u6c11\", \"\\u653f\\u6cbb\\u5bb6\", \"\\u5236\\u5ea6\", \"\\u5b66\\u6821\", \"\\u30d3\\u30b6\", \"\\u76ee\\u7684\", \"\\u95a2\\u308f\\u3063\", \"\\u5973\\u6027\", \"\\u7279\\u5b9a\", \"\\u6b63\\u76f4\", \"\\u56fd\\u8cbb\", \"\\u8abf\\u5b50\", \"\\u72ed\\u3081\\u308b\", \"\\u8af8\\u56fd\", \"\\u5fb9\\u5e95\", \"\\u884c\\u3051\", \"\\u76e3\\u7763\", \"\\u304f\\u3089\\u307e\\u3057\", \"\\u305d\\u3061\\u3089\", \"\\u65b0\\u305f\", \"\\u9805\\u76ee\", \"\\u5be9\\u67fb\\u7d50\\u679c\", \"\\u89b3\\u70b9\", \"\\u4e0d\\u8db3\", \"\\u5165\\u56fd\\u7ba1\\u7406\", \"\\u6b63\\u898f\", \"10\\u5e74\", \"\\u304b\\u3089\\u3060\", \"F\\u30e9\\u30f3\", \"\\u88dc\\u52a9\\u91d1\", \"\\u5b89\\u4fa1\", \"\\u7d9a\\u3044\", \"\\u4eba\\u54e1\", \"\\u7121\\u3057\", \"\\u82e5\\u3044\", \"\\u540d\\u76ee\", \"\\u5728\\u7559\", \"\\u76ee\\u7684\", \"\\u5be9\\u67fb\", \"\\u97d3\\u56fd\\u4eba\", \"\\u671d\\u65e5\\u65b0\\u805e\", \"\\u53b3\\u3057\\u3044\", \"\\u4ed6\", \"\\u5927\\u5b66\", \"\\u601d\\u3063\", \"\\u591a\", \"\\u65e5\\u672c\\u8a9e\\u5b66\\u6821\", \"\\u8a00\\u3063\", \"\\u4e0d\\u6cd5\\u6ede\\u5728\", \"\\u50cd\\u304f\", \"\\u305d\\u308c\\u306a\\u308a\", \"\\u304a\\u304b\\u3057\\u3044\", \"\\u79fb\\u6c11\\u653f\\u7b56\", \"\\u5f7c\\u3089\", \"\\u5728\\u7559\\u8cc7\\u683c\", \"\\u5236\\u5ea6\", \"\\u30ab\\u30cd\", \"\\u6e1b\\u3089\\u3057\", \"\\u958b\\u304f\", \"\\u65b0\\u5927\\u4e45\\u4fdd\", \"\\u65e5\\u672c\\u56fd\\u7c4d\", \"\\u53d7\\u5165\", \"\\u666e\\u901a\\u306b\", \"\\u6301\\u3063\", \"\\u6d77\\u5916\", \"\\u306a\\u3051\\u308c\", \"\\u5229\\u7528\", \"\\u4f55\\u51e6\", \"\\u5dee\\u5225\", \"\\u56f0\\u96e3\", \"\\u52a9\\u3051\", \"\\u4e0d\\u6cd5\\u6ede\\u5728\\u8005\", \"\\u8ca2\\u732e\", \"\\u5e73\\u548c\", \"\\u8cc7\\u91d1\", \"\\u30cd\\u30c3\\u30c8\", \"\\u4e00\\u6383\", \"\\u8cc3\\u91d1\", \"\\u5974\\u7b49\", \"\\u4eca\\u5f8c\", \"\\u9001\\u308a\", \"\\u6392\\u65a5\", \"\\u5909\\u308f\\u3063\", \"\\u8abf\\u3079\", \"1000\\u4e07\\u5186\", \"\\u5e97\", \"\\u30d1\\u30bf\\u30fc\\u30f3\", \"\\u4e0d\\u8db3\", \"\\u9664\\u67d3\", \"\\u4fdd\\u967a\", \"\\u30cd\\u30c8\\u30a6\\u30e8\", \"\\u6771\\u5357\\u30a2\\u30b8\\u30a2\", \"\\u5b89\\u6613\", \"\\u5074\", \"\\u898f\\u5236\", \"\\u52b4\\u50cd\\u529b\", \"\\u304a\\u304b\\u3057\\u3044\", \"\\u5bb6\\u65cf\", \"\\u5165\\u56fd\", \"\\u8cdb\\u6210\", \"\\u3089\\u308c\", \"\\u512a\\u9047\", \"\\u30d0\\u30a4\\u30c8\", \"\\u30d3\\u30b6\", \"\\u72af\\u7f6a\", \"\\u5ec3\\u6b62\", \"\\u65e5\\u672c\\u4eba\", \"\\u8981\\u3089\", \"\\u76ee\\u7684\", \"\\u53b3\\u683c\\u5316\", \"\\u65e5\\u672c\\u8a9e\", \"\\u5916\\u56fd\", \"\\u5916\\u4eba\", \"\\u5b66\\u751f\", \"\\u306a\\u3063\", \"\\u30cd\\u30d1\\u30fc\\u30eb\", \"\\u671d\\u65e5\", \"\\u99ac\\u9e7f\", \"\\u5f15\\u3063\\u5f35\\u3063\", \"\\u58f2\\u6625\\u5a66\", \"\\u602a\\u3057\\u3044\", \"\\u6492\\u3044\", \"\\u884c\\u65b9\", \"\\u696d\\u8005\", \"\\u5165\\u56fd\\u62d2\\u5426\", \"\\u79c1\\u7acb\\u5927\\u5b66\", \"\\u9ebb\\u85ac\", \"\\u5b66\\u554f\", \"\\u7de0\\u3081\\u51fa\\u3057\", \"\\u6dd8\\u6c70\", \"\\u3042\\u305f\\u308a\", \"\\u30b5\\u30fc\\u30d3\\u30b9\\u696d\", \"\\u653e\\u7f6e\", \"\\u6765\\u308c\", \"\\u5fa9\\u6d3b\", \"\\u6e29\\u5e8a\", \"\\u516c\\u8868\", \"\\u5b9a\\u54e1\", \"\\u6280\\u80fd\\u5b9f\\u7fd2\\u5236\\u5ea6\", \"\\u30d9\\u30c8\\u30ca\\u30e0\", \"\\u3044\\u3089\", \"\\u72ed\\u304f\", \"\\u97d3\\u56fd\\u4eba\", \"\\u5165\\u308c\\u308b\", \"\\u5074\", \"\\u591a\", \"\\u4e2d\\u56fd\", \"\\u5c02\\u9580\\u5b66\\u6821\", \"\\u52b4\\u50cd\\u529b\", \"\\u5ec3\\u6b62\", \"\\u5b66\\u751f\", \"\\u6e1b\\u308b\", \"\\u512a\\u79c0\", \"\\u4f7f\\u3046\", \"\\u7a0e\\u91d1\", \"\\u52b4\\u50cd\\u8005\", \"\\u5b66\\u6821\", \"\\u5148\", \"\\u9580\", \"\\u4e2d\\u56fd\\u4eba\", \"\\u5927\\u5b66\", \"\\u30d3\\u30b6\", \"\\u53b3\\u3057\\u3044\", \"\\u97d3\\u56fd\", \"\\u4e0d\\u6cd5\\u5c31\\u52b4\", \"\\u53d7\\u3051\\u5165\\u308c\\u308b\", \"\\u53d7\\u3051\\u5165\\u308c\", \"\\u6fc0\\u6e1b\", \"\\u6170\\u5b89\\u5a66\\u554f\\u984c\", \"\\u72af\\u7f6a\\u8005\", \"\\u5148\\u751f\", \"\\u64b2\\u6ec5\", \"\\u65b0\\u805e\\u793e\", \"\\u53ca\\u3070\", \"\\u6e1b\\u3063\", \"\\u96c6\\u307e\\u3063\", \"\\u585e\\u3044\", \"\\u652f\\u7d66\", \"\\u73fe\\u91d1\", \"\\u3042\\u3044\\u3064\\u3089\", \"\\u653e\\u984c\", \"\\u898b\\u305b\", \"\\u3069\\u308c\", \"\\u751f\\u6d3b\\u8cbb\", \"\\u306a\\u3057\", \"\\u73fe\\u5730\", \"\\u3067\\u3042\\u308b\", \"\\u7af9\\u5cf6\", \"\\u5c16\\u95a3\\u8af8\\u5cf6\", \"\\u30b4\\u30df\", \"\\u30d5\\u30a4\\u30ea\\u30c3\\u30d4\\u30f3\", \"\\u9811\\u5f35\\u3063\", \"\\u96c7\\u3046\", \"\\u6765\\u308c\", \"\\u3044\\u56fd\", \"\\u793a\\u3059\", \"\\u4ef6\", \"\\u7533\\u8acb\", \"\\u899a\\u3048\", \"\\u6b62\\u3081\", \"\\u9055\\u6cd5\", \"\\u5165\\u56fd\\u5be9\\u67fb\", \"\\u97d3\\u56fd\\u4eba\", \"\\u5728\\u7559\\u8cc7\\u683c\", \"\\u4e2d\\u56fd\\u4eba\", \"\\u3059\\u308c\", \"\\u5916\\u56fd\\u4eba\\u52b4\\u50cd\\u8005\", \"\\u5b50\\u4f9b\", \"\\u5f62\", \"\\u3044\\u3089\", \"\\u65e5\\u672c\\u8a9e\", \"\\u5c31\\u52b4\", \"\\u57fa\\u6e96\", \"\\u53cd\\u5bfe\", \"\\u72ed\\u304f\", \"\\u306a\\u3063\", \"\\u6ede\\u5728\", \"\\u9580\", \"\\u6771\\u5357\\u30a2\\u30b8\\u30a2\", \"\\u76ee\\u7684\", \"\\u5927\\u5b66\", \"\\u5927\\u534a\", \"\\u6642\\u4ee3\", \"\\u7d71\\u8a08\", \"\\u30eb\\u30fc\\u30c8\", \"\\u88cf\", \"\\u5236\\u9650\", \"\\u77e5\\u308c\", \"\\u5f97\\u4f53\", \"\\u6280\\u80fd\\u5b9f\\u7fd2\", \"\\u540c\\u69d8\", \"\\u6765\\u5e74\", \"\\u6027\\u72af\\u7f6a\", \"\\u5165\\u7ba1\\u6cd5\", \"\\u90fd\\u5185\", \"\\u624b\\u7d9a\\u304d\", \"\\u7d66\\u6599\", \"\\u6368\\u3066\", \"\\u96c7\\u7528\", \"\\u5927\\u91cf\", \"\\u8a66\\u9a13\", \"\\u8a00\\u3048\\u308b\", \"\\u4eca\\u5f8c\", \"\\u5909\\u308f\\u3063\", \"\\u9001\\u308a\", \"\\u6392\\u65a5\", \"\\u30e1\\u30c7\\u30a3\\u30a2\", \"\\u308b\\u3057\", \"\\u98f2\\u98df\\u5e97\", \"\\u9006\\u884c\", \"\\u30de\\u30ca\\u30fc\", \"\\u9ad8\\u304f\", \"\\u6c38\\u4f4f\", \"\\u53d7\\u3051\\u5165\\u308c\\u308b\", \"\\u5f53\\u305f\\u308a\\u524d\", \"\\u65e5\\u672c\\u4eba\", \"\\u4e2d\\u56fd\\u4eba\", \"\\u653f\\u5e9c\", \"\\u5b89\\u500d\", \"\\u8cc7\\u683c\", \"\\u512a\\u9047\", \"\\u5b66\\u6821\", \"\\u8981\\u3089\", \"\\u5be9\\u67fb\", \"\\u305b\\u308b\", \"\\u5897\\u3048\", \"\\u5165\\u56fd\", \"\\u6ede\\u5728\", \"\\u72af\\u7f6a\", \"\\u3067\\u3042\\u308b\", \"\\u4e0d\\u826f\\u5916\\u56fd\\u4eba\", \"\\u5974\\u96b7\", \"\\u5206\\u304b\\u3089\\u3093\", \"\\u76ee\\u7684\", \"\\u96e3\\u6c11\", \"\\u5927\\u52e2\", \"\\u9577\\u3044\", \"\\u5229\\u76ca\", \"\\u7a3c\\u304e\", \"\\u4f4e\\u8cc3\\u91d1\", \"\\u5f8c\\u624b\", \"\\u5968\\u5b66\\u91d1\", \"\\u65e5\\u672c\\u56fd\\u5185\", \"\\u4f7f\\u308f\", \"\\u5bfe\\u5fdc\", \"\\u8cac\\u4efb\", \"\\u7f70\\u5247\", \"\\u89e3\\u308b\", \"\\u5834\", \"\\u306f\\u3044\\u308a\", \"\\u8af8\\u541b\", \"\\u6570\\u5e74\", \"\\u6cd5\\u52d9\\u7701\", \"\\u60c5\\u3051\\u306a\\u3044\", \"\\u5206\\u304b\\u3063\", \"1000\\u4e07\\u5186\", \"\\u8abf\\u3079\", \"\\u533b\\u7642\\u4fdd\\u967a\", \"\\u82f1\\u8a9e\", \"\\u5185\\u95a3\", \"\\u8b70\\u8ad6\", \"\\u9003\\u3052\", \"\\u52dd\\u624b\", \"\\u5165\\u308c\\u308b\", \"\\u514d\\u9664\", \"\\u3057\\u308d\", \"\\u30a2\\u30e1\\u30ea\\u30ab\", \"\\u5c31\\u5b66\", \"\\u76ee\\u7684\", \"\\u91d1\", \"\\u5916\\u56fd\", \"\\u52b4\\u50cd\", \"\\u30d3\\u30b6\", \"\\u7570\\u5e38\", \"\\u4e0d\\u6cd5\\u5c31\\u52b4\", \"\\u65e5\\u672c\\u4eba\", \"\\u5f53\\u305f\\u308a\\u524d\", \"\\u4e0d\\u6cd5\\u6ede\\u5728\", \"\\u5916\\u56fd\\u4eba\\u52b4\\u50cd\\u8005\", \"\\u5236\\u5ea6\", \"\\u5b66\\u751f\", \"\\u72af\\u7f6a\", \"\\u306a\\u3063\", \"\\u7de0\\u3081\\u51fa\\u3057\", \"\\u671d\\u9bae\", \"\\u5185\\u90e8\", \"\\u5e30\\u5316\", \"\\u7d0d\\u5f97\", \"\\u30b9\\u30d1\\u30a4\", \"\\u73fe\\u5b9f\", \"\\u6b74\\u53f2\", \"\\u82e6\\u52b4\", \"\\u60aa\\u5fb3\", \"\\u4e0d\\u826f\", \"\\u6210\\u308a\\u7acb\\u305f\", \"\\u6210\\u308a\\u7acb\\u3063\", \"\\u4e0d\\u90fd\\u5408\", \"\\u4ef2\\u4ecb\\u696d\\u8005\", \"\\u7518\\u304b\\u3063\", \"\\u6b8b\\u308b\", \"\\u4e00\\u6383\", \"\\u6761\\u4ef6\", \"\\u308b\\u3057\", \"\\u98f2\\u98df\\u5e97\", \"\\u82f1\\u8a9e\", \"\\u7269\\u4fa1\", \"10\\u5e74\", \"\\u5165\\u56fd\\u7ba1\\u7406\", \"\\u304b\\u3089\\u3060\", \"\\u6b63\\u898f\", \"\\u6d41\\u308c\", \"\\u963b\\u6b62\", \"\\u3069\\u308c\", \"\\u73fe\\u5730\", \"\\u65e5\\u672c\\u8a9e\", \"\\u306a\\u3057\", \"\\u6c38\\u4f4f\", \"\\u899a\\u3048\", \"\\u65b9\\u3005\", \"\\u30d9\\u30c8\\u30ca\\u30e0\", \"\\u56fd\\u5185\", \"\\u5165\\u56fd\", \"\\u53cd\\u5bfe\", \"\\u671d\\u65e5\\u65b0\\u805e\", \"\\u601d\\u3063\", \"\\u4e2d\\u56fd\", \"\\u97d3\\u56fd\", \"\\u65e5\\u672c\\u4eba\", \"\\u79fb\\u6c11\", \"\\u53d7\\u3051\\u5165\\u308c\\u308b\", \"\\u56fd\\u6c11\", \"\\u7406\\u89e3\", \"\\u53d7\\u3051\\u5165\\u308c\", \"\\u3057\\u308d\", \"\\u306a\\u3063\", \"\\u9055\\u6cd5\", \"\\u4e3b\", \"\\u4e0d\\u826f\\u5916\\u56fd\\u4eba\", \"\\u5168\\u3066\", \"\\u4e0e\\u3048\\u308b\", \"\\u898b\\u6975\\u3081\\u308b\", \"\\u63aa\\u7f6e\", \"\\u793e\\u4f1a\", \"\\u7de0\\u3081\\u51fa\\u3059\", \"\\u89b3\\u5149\\u5ba2\", \"\\u8cc3\\u4e0a\\u3052\", \"\\u5927\\u5352\", \"\\u6587\\u5316\", \"\\u30e1\\u30ea\\u30c3\\u30c8\", \"\\u7121\\u511f\", \"\\u30af\\u30ba\", \"\\u53d6\\u308c\", \"\\u6c38\\u4f4f\\u6a29\", \"\\u5e97\", \"\\u30d1\\u30bf\\u30fc\\u30f3\", \"\\u7269\\u4fa1\", \"\\u4e0d\\u6cd5\\u5c31\\u52b4\\u8005\", \"\\u5e0c\\u671b\", \"\\u30de\\u30ca\\u30fc\", \"\\u771f\\u9762\\u76ee\", \"\\u514d\\u9664\", \"\\u6fc0\\u5897\", \"\\u305b\\u308c\", \"K\", \"\\u3046\\u307e\\u304f\", \"\\u8ca7\\u56f0\", \"\\u6c17\\u3065\\u3051\", \"\\u3067\\u308b\", \"\\u5b66\\u7fd2\", \"\\u3053\\u306e\\u307e\\u307e\", \"\\u5bb6\\u65cf\", \"\\u751f\\u6d3b\\u4fdd\\u8b77\", \"\\u512a\\u79c0\", \"\\u72af\\u7f6a\", \"\\u8cc7\\u683c\", \"\\u30eb\\u30fc\\u30eb\", \"\\u5927\\u5b66\", \"\\u30d9\\u30c8\\u30ca\\u30e0\", \"\\u4e2d\\u56fd\", \"\\u305b\\u308b\", \"\\u5897\\u3048\", \"\\u65e5\\u672c\\u8a9e\", \"\\u65e5\\u672c\\u8a9e\\u5b66\\u6821\", \"\\u97d3\\u56fd\", \"\\u65e5\\u672c\\u4eba\", \"\\u4e0d\\u6cd5\", \"\\u4f01\\u696d\", \"\\u4e0d\\u826f\\u5916\\u56fd\\u4eba\", \"\\u7387\", \"\\u304a\\u91d1\", \"\\u30b7\\u30b9\\u30c6\\u30e0\", \"\\u3057\\u308d\", \"\\u53cd\\u65e5\\u6559\\u80b2\", \"\\u79fb\\u6c11\", \"\\u3053\\u306e\\u56fd\", \"\\u53d6\\u308a\\u7de0\\u307e\\u3089\", \"\\u74b0\\u5883\", \"\\u30ce\\u30fc\", \"\\u50cd\\u304d\", \"\\u5fc5\\u6b7b\", \"\\u4e8b\\u4ef6\", \"\\u6027\", \"\\u5974\\u7b49\", \"\\u8cc3\\u91d1\", \"\\u6761\\u4ef6\", \"\\u62e1\\u5927\", \"\\u9006\\u884c\", \"\\u52dd\\u624b\", \"\\u8b70\\u8ad6\", \"\\u5185\\u95a3\", \"\\u9003\\u3052\", \"\\u5e0c\\u671b\", \"F\\u30e9\\u30f3\", \"\\u88dc\\u52a9\\u91d1\", \"\\u8077\\u5834\", \"\\u9ebb\\u85ac\", \"\\u559c\\u3093\", \"\\u8cc7\\u683c\\u8005\", \"\\u8a34\\u3048\\u308b\", \"\\u73fe\\u72b6\", \"\\u629c\\u3051\\u7a74\", \"\\u73fe\\u6642\\u70b9\", \"\\u8f9e\\u3081\", \"\\u77db\\u76fe\", \"\\u5c31\\u5b66\", \"\\u79fb\\u6c11\", \"\\u5b66\\u3076\", \"\\u8a00\\u3063\", \"\\u30d3\\u30b6\", \"\\u30d0\\u30a4\\u30c8\", \"\\u5165\\u3063\", \"\\u97d3\\u56fd\", \"\\u53b3\\u683c\\u5316\", \"\\u5916\\u4eba\", \"\\u5c31\\u52b4\", \"\\u5927\\u5b66\", \"\\u5165\\u56fd\", \"\\u65e5\\u672c\\u4eba\", \"\\u306a\\u3063\", \"\\u76ee\\u7684\", \"\\u52b4\\u50cd\", \"\\u6cd5\\u6848\", \"\\u72af\\u7f6a\", \"\\u6e1b\\u3089\", \"\\u7981\\u6b62\", \"\\u30eb\\u30fc\\u30eb\", \"\\u30b9\\u30fc\\u30d1\\u30fc\", \"\\u30c6\\u30ec\\u30d3\", \"\\u305b\\u3088\", \"\\u90fd\\u5e02\\u90e8\", \"\\u8868\\u73fe\", \"\\u66b4\\u52d5\", \"\\u5370\\u8c61\", \"\\u7cde\", \"\\u5165\\u7ba1\", \"\\u6025\\u5897\", \"\\u53ce\\u5165\", \"\\u9664\\u67d3\", \"\\u30c8\\u30e9\\u30d6\\u30eb\", \"\\u5927\\u962a\", \"\\u6d41\\u308c\", \"\\u963b\\u6b62\", \"\\u8077\\u5834\", \"\\u9ad8\\u304f\", \"\\u570f\", \"\\u8a55\\u4fa1\", \"\\u30a2\\u30b8\\u30a2\", \"EU\", \"\\u6fc0\\u5897\", \"\\u7121\\u3057\", \"\\u82e5\\u3044\", \"\\u30b5\\u30fc\\u30d3\\u30b9\\u696d\", \"\\u653e\\u7f6e\", \"\\u57fa\\u6e96\", \"\\u81ea\\u4f53\", \"\\u72af\\u7f6a\", \"\\u4ed6\", \"\\u5148\", \"\\u30d0\\u30a4\\u30c8\", \"\\u4e2d\\u56fd\", \"\\u5b66\\u751f\", \"\\u306a\\u3063\", \"\\u79fb\\u6c11\", \"\\u6e1b\\u308b\", \"\\u5be9\\u67fb\", \"\\u76ee\\u7684\", \"\\u52b4\\u50cd\", \"\\u653f\\u5e9c\", \"\\u53e3\\u5ea7\", \"\\u62d2\\u5426\", \"\\u53d7\\u3051\\u3066\", \"\\u9055\\u53cd\", \"\\u8a3c\\u660e\", \"\\u5236\\u5ea6\", \"\\u304a\\u304b\\u3057\\u3044\", \"\\u74b0\\u5883\", \"\\u8cac\\u4efb\\u8005\", \"\\u51e6\\u7f70\", \"\\u5927\\u534a\", \"\\u30d9\\u30c8\\u30ca\\u30e0\\u4eba\", \"\\u5c45\\u308b\", \"\\u4e00\\u90e8\", \"\\u8857\", \"\\u65b9\\u5411\", \"\\u51f6\\u60aa\\u72af\\u7f6a\", \"\\u306a\\u306e\\u304b\", \"\\u52d5\\u304b\", \"\\u6b32\\u3057\", \"\\u5f71\\u97ff\", \"\\u306a\\u3051\\u308c\", \"\\u5229\\u7528\", \"\\u73fe\\u5b9f\", \"\\u4e8b\\u4ef6\", \"\\u5fc5\\u6b7b\", \"\\u5f97\\u4f53\", \"\\u77e5\\u308c\", \"\\u89e3\\u308b\", \"\\u8cac\\u4efb\", \"\\u7f70\\u5247\", \"\\u7de0\\u3081\\u51fa\\u3059\", \"\\u6b63\\u76f4\", \"\\u7279\\u5b9a\", \"\\u30b9\\u30fc\\u30d1\\u30fc\", \"\\u30c6\\u30ec\\u30d3\", \"\\u4f4f\\u307f\", \"\\u65b0\\u805e\\u793e\", \"\\u64b2\\u6ec5\", \"\\u4e0d\\u6cd5\\u5165\\u56fd\", \"\\u6271\\u3044\", \"\\u5148\", \"\\u5c31\\u52b4\", \"\\u5165\\u3063\", \"\\u4e2d\\u56fd\", \"\\u30d3\\u30b6\", \"\\u72af\\u7f6a\", \"\\u5728\\u7559\\u8cc7\\u683c\", \"\\u5c02\\u9580\\u5b66\\u6821\", \"\\u5b66\\u751f\", \"\\u65e5\\u672c\\u8a9e\\u5b66\\u6821\", \"\\u5165\\u56fd\", \"\\u65e5\\u672c\\u4eba\", \"\\u76ee\\u7684\", \"\\u3089\\u308c\", \"\\u51fa\\u7a3c\\u304e\", \"\\u5b66\\u3073\", \"\\u7518\\u3044\", \"\\u8ffd\\u3044\\u8fd4\\u3057\", \"\\u7406\\u89e3\", \"\\u304a\\u304b\\u3057\\u3044\", \"\\u3082\\u3063\\u3068\\u3082\\u3063\\u3068\", \"\\u793a\\u3057\", \"\\u4eba\\u305f\\u3061\", \"\\u95a2\\u4fc2\\u8005\", \"\\u53e3\\u5ea7\", \"\\u7d50\\u5a5a\", \"\\u771f\\u5263\", \"\\u308f\\u304b\\u3063\", \"\\u3080\\u3084\\u307f\", \"\\u60c5\\u5831\", \"\\u76f8\\u5fdc\", \"\\u6709\\u76ca\", \"\\u9280\\u884c\", \"\\u5927\\u5b66\\u9662\", \"\\u66f8\\u304b\", \"\\u30cd\\u30c3\\u30c8\", \"\\u8cc7\\u91d1\", \"\\u7518\\u304b\\u3063\", \"\\u6b8b\\u308b\", \"\\u8a00\\u3048\\u308b\", \"\\u5206\\u304b\\u3063\", \"\\u60c5\\u3051\\u306a\\u3044\", \"\\u30af\\u30ba\", \"\\u53d6\\u308c\", \"\\u6c38\\u4f4f\\u6a29\", \"\\u5be9\\u67fb\\u7d50\\u679c\", \"\\u5165\\u7ba1\", \"\\u7cde\", \"\\u3042\\u3044\\u3064\\u3089\", \"\\u4e16\", \"\\u671d\\u65e5\\u65b0\\u805e\\u793e\", \"\\u8a18\\u4e8b\", \"\\u5206\\u304b\\u3089\", \"\\u5165\\u3063\", \"\\u72af\\u7f6a\", \"\\u6ede\\u5728\", \"\\u5236\\u9650\", \"\\u751f\\u6d3b\\u4fdd\\u8b77\", \"\\u6170\\u5b89\\u5a66\\u554f\\u984c\", \"\\u671d\\u65e5\", \"\\u534a\\u5206\", \"\\u72af\\u3057\", \"\\u52c9\\u5b66\", \"\\u601d\\u3063\", \"\\u66f8\\u3044\", \"\\u5974\\u96b7\", \"\\u5bfe\\u7b56\", \"\\u5e30\\u56fd\", \"\\u5236\\u5ea6\", \"\\u6587\\u53e5\", \"\\u767b\\u9332\", \"\\u5165\\u53e3\", \"\\u4ee5\\u524d\", \"\\u306f\\u306d\", \"\\u53b3\\u5bc6\", \"\\u771f\\u5263\", \"\\u5c0e\\u5165\", \"\\u6027\", \"\\u6280\\u80fd\\u5b9f\\u7fd2\", \"\\u7d4c\\u56e3\\u9023\", \"\\u5834\", \"\\u8af8\\u541b\", \"\\u306f\\u3044\\u308a\", \"\\u89b3\\u5149\\u5ba2\", \"\\u8cc3\\u4e0a\\u3052\", \"\\u5927\\u5352\", \"\\u8abf\\u5b50\", \"\\u56fd\\u8cbb\", \"\\u305b\\u3088\", \"\\u53ca\\u3070\", \"\\u6cd5\\u5f8b\", \"\\u6307\\u7d0b\", \"\\u5224\\u65ad\", \"\\u4eba\\u624b\\u4e0d\\u8db3\", \"\\u7121\\u8996\", \"\\u5927\\u304d\\u3044\", \"\\u96e3\\u6c11\", \"\\u60aa\\u7528\", \"\\u5f79\\u6240\", \"\\u5f62\", \"\\u4e2d\\u56fd\\u4eba\", \"\\u5c31\\u52b4\", \"\\u5be9\\u67fb\", \"\\u306a\\u3063\", \"\\u5b66\\u751f\", \"\\u9001\\u9084\", \"\\u5b66\\u6821\", \"\\u76ee\\u7684\", \"\\u5927\\u5b66\", \"\\u3082\\u3063\\u3068\\u3082\\u3063\\u3068\", \"\\u5909\\u308f\\u3089\", \"\\u53d7\\u3051\\u5165\\u308c\", \"\\u8cdb\\u6210\", \"\\u30c1\\u30a7\\u30c3\\u30af\", \"\\u5728\\u7559\", \"\\u9069\\u7528\", \"\\u5165\\u56fd\", \"\\u65b9\\u3005\", \"\\u4f4f\\u3093\", \"\\u3068\\u3063\\u304f\", \"\\u306f\\u306d\", \"\\u4e0b\\u3052\", \"\\u51b7\\u305f\\u3044\", \"\\u5927\\u5b66\\u9662\", \"\\u6210\\u308a\\u7acb\\u305f\", \"\\u4e0d\\u826f\", \"\\u6368\\u3066\", \"\\u7d66\\u6599\", \"\\u4eca\\u9803\", \"\\u304f\\u3089\\u307e\\u3057\", \"\\u76e3\\u7763\", \"\\u66b4\\u52d5\", \"\\u96c6\\u307e\\u3063\", \"\\u585e\\u3044\", \"\\u884c\\u65b9\", \"\\u6492\\u3044\", \"\\u884c\\u65b9\\u4e0d\\u660e\", \"\\u9069\\u7528\", \"\\u30eb\\u30fc\\u30eb\", \"\\u3044\\u3044\\u3093\\u3058\\u3083\\u306a\\u3044\", \"\\u5de5\\u4f5c\\u54e1\", \"\\u4eba\\u305f\\u3061\", \"\\u9045\", \"\\u8cea\", \"\\u7a74\", \"\\u30b6\\u30eb\", \"\\u7d4c\\u55b6\", \"\\u5bfe\\u8c61\", \"\\u4eba\\u53e3\", \"\\u4eba\\u9593\", \"\\u52b4\\u50cd\\u8005\", \"\\u512a\\u79c0\", \"\\u65e5\\u672c\\u4eba\", \"\\u306a\\u3063\", \"\\u4f4f\\u3093\", \"\\u56fd\\u6c11\\u5065\\u5eb7\\u4fdd\\u967a\", \"\\u30d3\\u30b6\", \"\\u5341\", \"\\u5165\\u56fd\\u5be9\\u67fb\", \"\\u3057\\u308c\", \"\\u72ed\\u304f\", \"\\u3059\\u308c\", \"\\u5b66\\u751f\", \"\\u5c31\\u52b4\", \"\\u304a\\u91d1\", \"\\u540d\\u76ee\", \"\\u4e0e\\u3048\", \"\\u5728\\u7559\\u8cc7\\u683c\", \"\\u751f\\u6d3b\\u4fdd\\u8b77\", \"\\u50cd\\u304f\", \"\\u308f\\u304b\\u3089\", \"\\u91ce\\u653e\\u3057\", \"\\u306a\\u306e\\u304b\", \"\\u52d5\\u304b\", \"\\u90e8\\u5206\", \"\\u3088\\u305d\", \"\\u6709\\u76ca\", \"\\u76f8\\u5fdc\", \"\\u52a9\\u3051\", \"\\u56f0\\u96e3\", \"\\u5dee\\u5225\", \"\\u898b\\u51fa\\u3057\", \"\\u624b\\u7d9a\\u304d\", \"\\u90fd\\u5185\", \"\\u8868\\u73fe\", \"\\u602a\\u3057\\u3044\", \"\\u4ed6\\u56fd\", \"\\u62e1\\u5927\", \"\\u533b\\u7642\", \"\\u8ffd\\u3044\\u8fd4\\u3057\", \"\\u90fd\\u5408\", \"\\u52c9\\u5b66\", \"\\u30d3\\u30b8\\u30cd\\u30b9\", \"\\u5916\\u56fd\\u4eba\\u72af\\u7f6a\", \"\\u6b63\\u3057\\u3044\", \"\\u9045\\u3044\", \"\\u30b9\\u30d1\\u30a4\", \"\\u7279\\u4e9c\", \"\\u4eba\\u6750\", \"\\u904e\\u53bb\", \"\\u672c\\u6765\", \"\\u4f7f\\u3046\", \"\\u65e5\\u672c\\u8a9e\\u5b66\\u6821\", \"\\u76ee\\u7684\", \"\\u5165\\u56fd\", \"\\u4e0d\\u6cd5\\u6ede\\u5728\", \"\\u5916\\u56fd\\u4eba\\u52b4\\u50cd\\u8005\", \"\\u53d7\\u3051\\u5165\\u308c\", \"\\u5be9\\u67fb\", \"\\u72ed\\u304f\", \"\\u6b62\\u3081\", \"\\u52b4\\u50cd\", \"\\u56fd\\u6c11\", \"\\u7ba1\\u7406\", \"\\u96e3\\u3057\\u3044\", \"\\u5bfe\\u5fdc\", \"\\u4e0d\\u826f\\u5916\\u56fd\\u4eba\", \"\\u5897\\u3048\\u308b\", \"\\u6e1b\\u308b\", \"\\u65b9\\u3005\", \"\\u751f\\u6d3b\\u4fdd\\u8b77\", \"\\u306a\\u3063\", \"\\u57fa\\u672c\", \"\\u3084\\u308a\\u65b9\", \"\\u53b3\\u7f70\\u5316\", \"\\u6c17\\u3065\\u3044\", \"\\u5c45\\u9152\\u5c4b\", \"\\u5bfe\\u51e6\", \"\\u4e0d\\u6cd5\\u6ede\\u5728\\u8005\", \"\\u81ea\\u5206\\u305f\\u3061\", \"\\u30e1\\u30ea\\u30c3\\u30c8\", \"\\u884c\\u3051\", \"\\u5834\\u5f53\\u305f\\u308a\", \"\\u52a0\\u5165\", \"\\u7570\\u5e38\", \"\\u65e9\\u6025\", \"\\u751f\\u6d3b\", \"\\u6307\\u7d0b\", \"\\u7f70\\u91d1\", \"\\u72af\\u3057\", \"\\u793e\\u4f1a\\u4fdd\\u969c\", \"\\u6280\\u8853\", \"\\u5065\\u5eb7\\u4fdd\\u967a\", \"\\u5b50\\u4f9b\", \"\\u767b\\u9332\", \"\\u7d50\\u5a5a\", \"\\u7518\\u3044\", \"\\u53cd\\u65e5\", \"\\u74b0\\u5883\", \"\\u8a00\\u3044\", \"\\u9580\\u6238\", \"\\u4e0d\\u6cd5\\u6ede\\u5728\", \"\\u5236\\u5ea6\", \"\\u4e2d\\u56fd\\u4eba\", \"\\u4fdd\\u967a\", \"\\u5974\\u3089\", \"\\u30a2\\u30eb\\u30d0\\u30a4\\u30c8\", \"\\u671d\\u9bae\\u4eba\", \"\\u771f\\u9762\\u76ee\", \"\\u53d6\\u308a\\u7de0\\u307e\\u3063\", \"\\u30cd\\u30c8\\u30a6\\u30e8\", \"\\u4e0d\\u6cd5\", \"\\u5b66\\u751f\", \"\\u52b4\\u50cd\"], \"Total\": [23.0, 15.0, 34.0, 21.0, 17.0, 13.0, 8.0, 16.0, 14.0, 16.0, 38.0, 22.0, 26.0, 12.0, 22.0, 15.0, 7.0, 21.0, 29.0, 9.0, 13.0, 21.0, 13.0, 10.0, 32.0, 15.0, 8.0, 14.0, 22.0, 12.0, 3.4050540924072266, 2.540689706802368, 6.777184009552002, 3.3130908012390137, 3.329265832901001, 3.373725175857544, 3.3780784606933594, 5.073046684265137, 5.099483966827393, 23.338058471679688, 4.079793930053711, 4.153584957122803, 4.226067066192627, 6.613410472869873, 2.439537286758423, 2.4430277347564697, 2.448725700378418, 2.4518320560455322, 2.466265916824341, 2.466265916824341, 2.466265916824341, 2.4712843894958496, 2.4712843894958496, 2.4712843894958496, 2.4712843894958496, 2.476410388946533, 2.486388921737671, 2.48638916015625, 2.48638916015625, 2.48638916015625, 4.947542667388916, 2.486389398574829, 7.5018439292907715, 4.977816104888916, 5.019237995147705, 22.616899490356445, 9.036002159118652, 21.464988708496094, 32.07709503173828, 5.7042646408081055, 5.748217582702637, 5.801342487335205, 12.39278507232666, 6.533967971801758, 6.592648029327393, 18.324193954467773, 12.382840156555176, 29.657135009765625, 13.234798431396484, 34.87453842163086, 38.45724105834961, 16.073192596435547, 16.468210220336914, 14.723786354064941, 21.20536231994629, 8.184762001037598, 2.5472309589385986, 3.3351800441741943, 3.3846192359924316, 3.395979642868042, 3.395979642868042, 2.5289175510406494, 4.080636978149414, 4.168215274810791, 8.394150733947754, 16.428110122680664, 2.442807912826538, 2.442807912826538, 2.442807912826538, 2.446298360824585, 2.446298360824585, 2.446298360824585, 2.451996326446533, 2.4551026821136475, 2.4675443172454834, 2.4681713581085205, 2.4681713581085205, 2.4745547771453857, 2.474555015563965, 2.474555015563965, 2.4896597862243652, 2.4942076206207275, 2.4996705055236816, 2.4996705055236816, 2.4996705055236816, 2.4996707439422607, 3.37272572517395, 4.99787712097168, 15.641529083251953, 5.737597465515137, 5.76035213470459, 8.125419616699219, 10.65696907043457, 17.60435676574707, 18.324193954467773, 6.640365123748779, 9.940119743347168, 21.20536231994629, 7.568633556365967, 8.361054420471191, 9.144001960754395, 21.493371963500977, 29.657135009765625, 12.030656814575195, 12.194945335388184, 14.011879920959473, 14.723786354064941, 32.07709503173828, 2.3453657627105713, 2.3453657627105713, 3.9000179767608643, 3.935863494873047, 3.1941144466400146, 3.2130014896392822, 3.945207357406616, 7.9003071784973145, 3.9996721744537354, 4.011436462402344, 7.991207122802734, 4.080636978149414, 2.3418753147125244, 2.3418753147125244, 2.3418753147125244, 2.343172311782837, 2.343172311782837, 2.3510642051696777, 2.3510642051696777, 2.354170322418213, 2.354170322418213, 2.366611957550049, 2.367238759994507, 2.3686041831970215, 2.3686041831970215, 2.3686039447784424, 2.373622417449951, 2.379316568374634, 2.381648540496826, 2.3887274265289307, 12.030656814575195, 4.811058521270752, 12.217951774597168, 26.3539981842041, 5.615984916687012, 10.65696907043457, 11.431145668029785, 6.474485397338867, 34.87453842163086, 13.58357048034668, 13.697468757629395, 7.258080005645752, 16.428110122680664, 21.20536231994629, 10.55456829071045, 11.370156288146973, 11.395536422729492, 38.45724105834961, 15.641529083251953, 16.073192596435547, 13.733650207519531, 13.7567720413208, 32.07709503173828, 2.3891119956970215, 2.3891119956970215, 2.3891119956970215, 3.2265005111694336, 5.538914203643799, 3.2364399433135986, 2.36374831199646, 2.36374831199646, 2.3650453090667725, 2.367238759994507, 2.3760433197021484, 2.3760433197021484, 2.3760433197021484, 2.3884849548339844, 2.390477180480957, 2.3954954147338867, 2.3954954147338867, 2.410600423812866, 2.410600423812866, 2.410600423812866, 2.422380208969116, 2.422380208969116, 2.422380208969116, 2.4335713386535645, 2.4335713386535645, 4.756953239440918, 2.437164545059204, 2.4379241466522217, 2.437924385070801, 2.4379241466522217, 4.775391578674316, 4.8813252449035645, 4.888656139373779, 15.392598152160645, 8.8773832321167, 21.20536231994629, 13.7567720413208, 5.714610576629639, 34.87453842163086, 32.07709503173828, 7.5018439292907715, 8.146404266357422, 8.22976016998291, 13.697468757629395, 9.589343070983887, 10.619277000427246, 11.461874008178711, 12.030656814575195, 12.194945335388184, 7.392663955688477, 13.733650207519531, 5.789813041687012, 14.723786354064941, 18.324193954467773, 22.87419319152832, 38.45724105834961, 2.486736297607422, 2.472654342651367, 2.4125607013702393, 2.4125607013702393, 2.4138572216033936, 2.4138574600219727, 2.416051149368286, 2.416051149368286, 2.416051149368286, 2.4248554706573486, 2.4372973442077637, 2.4372971057891846, 2.4379241466522217, 2.437924385070801, 2.4379241466522217, 2.4392895698547363, 2.441426992416382, 2.444307804107666, 2.4594125747680664, 2.4594125747680664, 2.4594125747680664, 2.4594125747680664, 2.469423294067383, 2.469423294067383, 2.477189302444458, 2.4823834896087646, 2.4823834896087646, 2.487955093383789, 2.487955093383789, 4.879709720611572, 5.734889984130859, 38.45724105834961, 34.87453842163086, 15.219825744628906, 10.55456829071045, 10.619277000427246, 6.511955261230469, 22.616899490356445, 9.940119743347168, 9.976909637451172, 23.338058471679688, 12.39278507232666, 13.58357048034668, 6.659968376159668, 4.14028263092041, 8.99896240234375, 4.128236293792725, 3.2912676334381104, 15.392598152160645, 14.723786354064941, 2.5169837474823, 3.3430182933807373, 2.5137128829956055, 2.401879072189331, 2.401879072189331, 2.401879072189331, 4.760725021362305, 3.9549648761749268, 6.407859802246094, 2.370131731033325, 2.370131731033325, 2.373622417449951, 2.3793206214904785, 2.3793206214904785, 2.3793206214904785, 2.3824267387390137, 2.3954954147338867, 2.3954954147338867, 2.3968605995178223, 2.3968605995178223, 2.4169838428497314, 2.426994562149048, 2.426994562149048, 2.4287636280059814, 2.4287636280059814, 2.4287636280059814, 2.4287636280059814, 2.4399547576904297, 2.4399547576904297, 2.4435479640960693, 2.4435479640960693, 2.444307804107666, 2.445481777191162, 4.7792840003967285, 4.79899787902832, 9.793527603149414, 5.746488571166992, 5.805441379547119, 6.4609904289245605, 6.504276752471924, 8.99896240234375, 6.537851333618164, 26.3539981842041, 7.9003071784973145, 8.108612060546875, 8.285032272338867, 9.020907402038574, 22.87419319152832, 22.926856994628906, 6.536908149719238, 29.657135009765625, 5.615185260772705, 38.45724105834961, 13.697468757629395, 14.73147964477539, 7.392663955688477, 15.641529083251953, 21.464988708496094, 32.07709503173828, 2.5260426998138428, 9.144001960754395, 2.435704469680786, 2.435704469680786, 2.435704469680786, 2.4414024353027344, 2.4569504261016846, 2.4569504261016846, 2.4575774669647217, 2.4790656566619873, 2.4790656566619873, 2.4890763759613037, 2.4908456802368164, 2.5020368099212646, 2.5063893795013428, 2.506389617919922, 2.507608413696289, 2.507608413696289, 2.517749786376953, 4.942613124847412, 2.5333659648895264, 2.5333659648895264, 2.5333657264709473, 2.5366365909576416, 9.939825057983398, 7.506608486175537, 17.60435676574707, 15.219825744628906, 5.794099807739258, 5.805441379547119, 9.976909637451172, 10.70195484161377, 6.455670356750488, 6.504276752471924, 6.536908149719238, 21.464988708496094, 9.111665725708008, 7.403193473815918, 8.158525466918945, 8.265782356262207, 11.557141304016113, 18.324193954467773, 9.013471603393555, 9.124032974243164, 21.493371963500977, 22.616899490356445, 22.87419319152832, 10.619277000427246, 11.370156288146973, 11.431145668029785, 14.011879920959473, 21.20536231994629, 2.5094566345214844, 3.2993979454040527, 8.2252836227417, 2.4239208698272705, 2.4239208698272705, 2.4239208698272705, 2.425217628479004, 2.4274113178253174, 2.448657274246216, 2.448657274246216, 2.449284315109253, 2.449284553527832, 2.4506497383117676, 2.455667734146118, 2.455667734146118, 2.4707727432250977, 2.4707727432250977, 2.4707727432250977, 2.4707727432250977, 2.4825525283813477, 2.4825525283813477, 2.4825525283813477, 2.4825525283813477, 2.4825525283813477, 2.493743658065796, 2.493743658065796, 2.517749786376953, 2.525073289871216, 2.528343677520752, 2.528343677520752, 7.363575458526611, 4.962621212005615, 4.986881732940674, 7.4888176918029785, 8.100130081176758, 15.219825744628906, 15.392598152160645, 21.493371963500977, 12.217951774597168, 13.7567720413208, 7.279597282409668, 7.332764625549316, 7.506608486175537, 14.73147964477539, 16.073192596435547, 8.22976016998291, 8.251741409301758, 17.60435676574707, 32.07709503173828, 9.04762077331543, 9.124032974243164, 9.793527603149414, 38.45724105834961, 22.616899490356445, 5.580486297607422, 2.455648183822632, 3.25060772895813, 3.293036460876465, 3.3200130462646484, 4.078624725341797, 2.397016763687134, 2.397016763687134, 2.398313522338867, 2.4005069732666016, 2.4005069732666016, 2.4005069732666016, 2.4005069732666016, 2.406205177307129, 2.406205177307129, 2.421753168106079, 2.4217529296875, 2.422380208969116, 2.422380208969116, 2.422380208969116, 2.4237453937530518, 2.4287636280059814, 2.4287636280059814, 2.4287636280059814, 2.4287636280059814, 2.4376485347747803, 2.443868398666382, 2.443868398666382, 2.4538791179656982, 2.470432758331299, 2.4724111557006836, 4.912405967712402, 14.011879920959473, 13.234798431396484, 29.657135009765625, 21.493371963500977, 7.423099040985107, 7.991207122802734, 7.568633556365967, 8.285032272338867, 18.324193954467773, 5.615185260772705, 34.87453842163086, 11.395536422729492, 11.461874008178711, 26.3539981842041, 9.04762077331543, 22.926856994628906, 2.4825525283813477, 7.3262505531311035, 5.7042646408081055, 3.2603743076324463, 38.45724105834961, 3.2369205951690674, 3.311066150665283, 2.4780306816101074, 2.4780306816101074, 3.2447335720062256, 3.2729902267456055, 4.011436462402344, 4.076671600341797, 4.153266429901123, 4.183054447174072, 6.524600028991699, 2.408207654953003, 2.408207654953003, 2.408207654953003, 2.4095046520233154, 2.4095046520233154, 2.4095046520233154, 2.4335713386535645, 2.4335713386535645, 2.434936761856079, 2.4349365234375, 2.4399547576904297, 2.4399547576904297, 2.4548697471618652, 2.455059766769409, 2.4650704860687256, 2.4650704860687256, 2.4650704860687256, 2.4650704860687256, 5.794099807739258, 2.481623888015747, 12.382840156555176, 5.6888957023620605, 4.9484453201293945, 38.45724105834961, 8.146404266357422, 7.392663955688477, 16.468210220336914, 22.87419319152832, 7.261445045471191, 11.431145668029785, 29.657135009765625, 13.234798431396484, 13.58357048034668, 13.7567720413208, 14.723786354064941, 21.464988708496094, 22.926856994628906, 32.07709503173828, 2.5020368099212646, 2.43208909034729, 2.43208909034729, 4.106518268585205, 3.289130449295044, 3.967702865600586, 2.385236978530884, 2.3887274265289307, 2.3887274265289307, 2.3887274265289307, 2.409973621368408, 2.409973621368408, 2.410600423812866, 2.410600423812866, 2.410600423812866, 2.411965847015381, 2.411965847015381, 2.4169838428497314, 2.4420998096466064, 2.443868398666382, 2.443868398666382, 2.455059766769409, 2.458653211593628, 2.4594125747680664, 2.4594125747680664, 2.4594125747680664, 2.4594125747680664, 2.460631847381592, 2.460631847381592, 2.4707727432250977, 2.4707727432250977, 14.73147964477539, 2.4707727432250977, 4.912405967712402, 4.962621212005615, 5.569600582122803, 9.939825057983398, 7.309052467346191, 26.3539981842041, 8.251741409301758, 10.55456829071045, 9.940119743347168, 10.70195484161377, 11.370156288146973, 29.657135009765625, 13.733650207519531, 14.011879920959473, 16.428110122680664, 4.834186553955078, 21.20536231994629, 12.382840156555176, 32.07709503173828, 7.4888176918029785, 3.2991411685943604, 7.3262505531311035, 5.538914203643799, 2.485217332839966, 2.485217332839966, 4.908199787139893, 4.068753242492676, 2.4118010997772217, 2.413098096847534, 2.413098096847534, 2.413098096847534, 2.4152915477752686, 2.42409610748291, 2.437164545059204, 2.4385299682617188, 2.4385299682617188, 2.4385299682617188, 2.4435479640960693, 2.4435479640960693, 2.458653211593628, 2.4677634239196777, 2.4686639308929443, 2.470432758331299, 4.828085422515869, 2.481623888015747, 2.4871959686279297, 2.512953519821167, 2.512953519821167, 2.512953519821167, 2.512953519821167, 2.512953519821167, 2.5162241458892822, 2.5162241458892822, 2.5162241458892822, 6.537851333618164, 12.194945335388184, 7.403193473815918, 22.926856994628906, 7.568633556365967, 8.970197677612305, 22.616899490356445, 9.939825057983398, 10.70195484161377, 11.395536422729492, 11.461874008178711, 14.73147964477539, 23.338058471679688, 11.370156288146973, 29.657135009765625, 7.235885143280029, 3.2829275131225586, 7.3262505531311035, 6.554717063903809, 4.886376857757568, 4.756953239440918, 12.382840156555176, 3.3543784618377686, 13.733650207519531, 3.218813180923462, 3.2739546298980713, 4.06622838973999, 4.104111194610596, 4.155035495758057, 2.3952476978302, 2.3952476978302, 2.3965444564819336, 2.426994562149048, 2.426994562149048, 2.4420998096466064, 4.7848615646362305, 2.4538791179656982, 2.4650704860687256, 2.4650704860687256, 2.4650704860687256, 2.4650704860687256, 2.4686639308929443, 2.469423294067383, 2.469423294067383, 2.47064208984375, 2.4890763759613037, 2.4963998794555664, 2.4963998794555664, 2.4996705055236816, 2.4996705055236816, 2.4996705055236816, 2.4996707439422607, 4.940219402313232, 4.947542667388916, 4.9484453201293945, 13.733650207519531, 6.643049716949463, 12.39278507232666, 22.87419319152832, 9.020907402038574, 9.589343070983887, 11.370156288146973, 13.697468757629395, 15.641529083251953, 16.073192596435547, 22.616899490356445, 26.3539981842041, 29.657135009765625, 32.07709503173828, 38.45724105834961, 16.468210220336914, 5.615984916687012, 22.926856994628906, 3.3222098350524902, 4.108259677886963, 8.970197677612305, 2.4137797355651855, 2.4137797355651855, 2.415076494216919, 2.4172701835632324, 2.4229683876037598, 2.438516139984131, 2.439143180847168, 2.4405086040496826, 2.4405086040496826, 2.4455268383026123, 2.445526599884033, 2.445481777191162, 2.4553074836730957, 2.458488941192627, 2.460631847381592, 2.460631847381592, 2.47064208984375, 2.4724111557006836, 2.483602523803711, 2.483602523803711, 2.483602523803711, 2.483602523803711, 2.4871959686279297, 2.487955093383789, 2.487955093383789, 2.507608413696289, 2.507608413696289, 8.22976016998291, 5.726959228515625, 22.926856994628906, 6.511955261230469, 9.013471603393555, 9.020907402038574, 10.70195484161377, 21.464988708496094, 32.07709503173828, 13.733650207519531, 9.111665725708008, 34.87453842163086, 38.45724105834961, 16.468210220336914, 7.423099040985107, 3.23045015335083, 4.139352321624756, 2.518202304840088, 3.234102725982666, 3.2605834007263184, 14.723786354064941, 8.99896240234375, 4.06622838973999, 2.3383851051330566, 3.93898606300354, 5.580486297607422, 3.970733404159546, 4.012402057647705, 4.025740623474121, 2.3418753147125244, 2.3418753147125244, 2.3418753147125244, 2.34757399559021, 2.347573757171631, 2.36374831199646, 2.36374831199646, 2.370131731033325, 2.370131731033325, 2.385236978530884, 2.3952476978302, 2.3952476978302, 2.397016763687134, 2.397016763687134, 2.408207654953003, 2.408207654953003, 2.408207654953003, 2.4118010997772217, 2.4125607013702393, 2.4125607013702393, 2.4137797355651855, 2.4137797355651855, 2.421004056930542, 2.4239208698272705, 2.4239208698272705, 4.806081771850586, 4.80874490737915, 9.013471603393555, 16.073192596435547, 9.589343070983887, 10.70195484161377, 22.87419319152832, 22.926856994628906, 15.392598152160645, 6.455670356750488, 21.464988708496094, 23.338058471679688, 26.3539981842041, 29.657135009765625, 38.45724105834961, 8.108612060546875, 8.184762001037598, 4.044807434082031, 3.9760169982910156, 3.142533302307129, 4.834186553955078, 8.99896240234375, 3.9916832447052, 2.391842842102051, 3.1797919273376465, 3.1804187297821045, 3.23045015335083, 3.9559261798858643, 2.366410732269287, 2.3686041831970215, 2.3686041831970215, 2.3686039447784424, 2.374302387237549, 2.374302387237549, 2.3897111415863037, 2.389850378036499, 2.390477180480957, 2.3968605995178223, 2.3968605995178223, 2.411965847015381, 2.411965847015381, 2.4237453937530518, 2.4349365234375, 2.434936761856079, 2.4385299682617188, 2.4385299682617188, 2.4385299682617188, 2.4392895698547363, 2.4405086040496826, 2.4405086040496826, 2.4506497383117676, 2.466265916824341, 2.466265916824341, 12.030656814575195, 7.258080005645752, 9.589343070983887, 22.926856994628906, 9.04762077331543, 4.078624725341797, 12.194945335388184, 3.2993979454040527, 9.144001960754395, 3.287278652191162, 3.1992526054382324, 3.2109313011169434, 9.940119743347168, 4.0641703605651855, 5.7042646408081055, 7.364226818084717, 9.036002159118652, 14.723786354064941, 5.579573631286621, 3.936560869216919, 2.343172311782837, 2.343172311782837, 2.3644182682037354, 2.3650453090667725, 2.366410732269287, 2.3959195613861084, 2.3965444564819336, 2.398313522338867, 2.408189296722412, 2.4095046520233154, 2.4095046520233154, 2.4095046520233154, 2.413098096847534, 2.413098096847534, 2.413098096847534, 2.4138574600219727, 2.4138572216033936, 2.415076494216919, 2.425217628479004, 8.125419616699219, 3.1720516681671143, 3.1868896484375, 3.199446201324463, 3.2066092491149902, 3.2231626510620117, 3.2369205951690674, 3.2721917629241943, 3.2771401405334473, 7.332764625549316, 21.493371963500977, 16.073192596435547, 34.87453842163086, 32.07709503173828, 21.464988708496094, 4.919382572174072, 18.324193954467773, 38.45724105834961, 22.616899490356445, 3.9916832447052, 4.99787712097168, 21.20536231994629, 7.9003071784973145, 3.3011460304260254, 5.734889984130859, 4.82279109954834, 26.3539981842041, 5.569600582122803, 4.05212926864624, 2.3878579139709473, 2.3644182682037354, 2.366611957550049, 2.3884849548339844, 2.389850378036499, 2.409973621368408, 2.409973621368408, 2.4217529296875, 2.421753168106079, 2.4235622882843018, 2.4372971057891846, 2.4372973442077637, 2.438516139984131, 2.448657274246216, 2.448657274246216, 2.4569504261016846, 2.4569504261016846, 2.4675443172454834, 4.82279109954834, 8.970197677612305, 3.12982439994812, 3.1731858253479004, 3.1797919273376465, 3.1870391368865967, 3.230756998062134, 3.2342474460601807, 3.2861180305480957, 3.3009026050567627, 3.301661968231201, 3.3351800441741943, 9.753862380981445, 11.557141304016113, 7.403193473815918, 29.657135009765625, 32.07709503173828, 4.05212926864624, 4.168215274810791, 22.87419319152832, 4.0944132804870605, 8.100130081176758, 4.8813252449035645, 17.60435676574707, 12.217951774597168, 21.464988708496094, 16.073192596435547, 4.886376857757568, 4.879709720611572, 3.99895977973938, 15.392598152160645, 12.194945335388184, 6.659968376159668, 8.361054420471191, 2.356762409210205, 2.34757399559021, 2.347573757171631, 2.3510642051696777, 2.3510642051696777, 2.374302387237549, 2.374302387237549, 2.3793206214904785, 2.3793206214904785, 2.3793206214904785, 2.3888425827026367, 2.406205177307129, 2.406205177307129, 2.4229683876037598, 2.4414024353027344, 2.448725700378418, 4.7848615646362305, 2.451996326446533, 3.142533302307129, 3.2081055641174316, 3.2109313011169434, 3.231813907623291, 3.2392406463623047, 3.3130908012390137, 3.9022254943847656, 3.967702865600586, 4.026303291320801, 4.032261371612549, 4.037273406982422, 4.041141033172607, 8.158525466918945, 23.338058471679688, 38.45724105834961, 26.3539981842041, 13.58357048034668, 13.7567720413208, 21.20536231994629, 34.87453842163086, 17.60435676574707, 4.986881732940674, 16.468210220336914, 16.428110122680664, 4.897753715515137, 4.048172950744629, 6.524600028991699, 7.3262505531311035, 8.394150733947754, 9.111665725708008, 5.569600582122803, 12.194945335388184, 32.07709503173828, 2.3629746437072754, 2.354170322418213, 2.354170322418213, 2.3760433197021484, 2.3760433197021484, 2.3760433197021484, 2.3824267387390137, 2.4132254123687744, 2.42409610748291, 2.4248554706573486, 2.4518320560455322, 2.4551026821136475, 7.261445045471191, 3.144111394882202, 3.145638942718506, 3.1720516681671143, 3.19275164604187, 3.1992526054382324, 3.21905517578125, 3.2423465251922607, 3.319467544555664, 7.279597282409668, 3.936560869216919, 3.9559261798858643, 3.9760169982910156, 4.061237335205078, 4.06622838973999, 4.073443412780762, 4.153584957122803, 13.58357048034668, 14.723786354064941, 21.493371963500977, 4.7792840003967285, 4.786736965179443, 6.421787261962891, 4.831573486328125, 4.828085422515869, 4.7960429191589355, 4.79899787902832, 7.235885143280029, 21.464988708496094, 16.468210220336914], \"loglift\": [30.0, 29.0, 28.0, 27.0, 26.0, 25.0, 24.0, 23.0, 22.0, 21.0, 20.0, 19.0, 18.0, 17.0, 16.0, 15.0, 14.0, 13.0, 12.0, 11.0, 10.0, 9.0, 8.0, 7.0, 6.0, 5.0, 4.0, 3.0, 2.0, 1.0, 2.19950008392334, 2.0950000286102295, 2.015399932861328, 1.8294999599456787, 1.8246999979019165, 1.811400055885315, 1.8100999593734741, 1.8007999658584595, 1.7956000566482544, 1.7282999753952026, 1.621399998664856, 1.6033999919891357, 1.5860999822616577, 1.535599946975708, 1.466599941253662, 1.4651000499725342, 1.4628000259399414, 1.4615000486373901, 1.4557000398635864, 1.4557000398635864, 1.4557000398635864, 1.4536000490188599, 1.4536000490188599, 1.4536000490188599, 1.4536000490188599, 1.4515999555587769, 1.4474999904632568, 1.4474999904632568, 1.4474999904632568, 1.4474999904632568, 1.4285000562667847, 1.4474999904632568, 1.409600019454956, 1.4223999977111816, 1.4141000509262085, 1.1439000368118286, 1.2235000133514404, 1.0432000160217285, 0.9271000027656555, 1.2862000465393066, 1.278499960899353, 1.2692999839782715, 1.0652999877929688, 1.1504000425338745, 1.1414999961853027, 0.8001000285148621, 0.9083999991416931, 0.5393000245094299, 0.8418999910354614, 0.37720000743865967, 0.2793999910354614, 0.647599995136261, 0.6233000159263611, 0.3815000057220459, -0.026799999177455902, 0.9251000285148621, 2.3722000122070312, 2.1026999950408936, 2.0880000591278076, 2.0845999717712402, 2.0845999717712402, 2.029400110244751, 1.9009000062942505, 1.879699945449829, 1.8604999780654907, 1.8260999917984009, 1.7450000047683716, 1.7450000047683716, 1.7450000047683716, 1.7436000108718872, 1.7436000108718872, 1.7436000108718872, 1.7411999702453613, 1.7400000095367432, 1.7348999977111816, 1.7346999645233154, 1.7346999645233154, 1.732100009918213, 1.732100009918213, 1.732100009918213, 1.7259999513626099, 1.7242000102996826, 1.722000002861023, 1.722000002861023, 1.722000002861023, 1.722000002861023, 1.719099998474121, 1.698199987411499, 1.6395000219345093, 1.5601999759674072, 1.5562000274658203, 1.4737000465393066, 1.3382999897003174, 1.1198999881744385, 1.0799000263214111, 1.4140000343322754, 1.2315000295639038, 0.9337999820709229, 1.2832000255584717, 1.1835999488830566, 1.094099998474121, 0.6367999911308289, 0.436599999666214, 0.8197000026702881, 0.8062000274658203, 0.6672999858856201, 0.6176999807357788, -0.16089999675750732, 2.341599941253662, 2.341599941253662, 2.2304000854492188, 2.2211999893188477, 2.0327000617980957, 2.0267999172210693, 1.8214999437332153, 1.8079999685287476, 1.807800054550171, 1.804900050163269, 1.7965999841690063, 1.7877999544143677, 1.6740000247955322, 1.6740000247955322, 1.6740000247955322, 1.6734999418258667, 1.6734999418258667, 1.6700999736785889, 1.6700999736785889, 1.6687999963760376, 1.6687999963760376, 1.6634999513626099, 1.6633000373840332, 1.6627000570297241, 1.6627000570297241, 1.6627000570297241, 1.660599946975708, 1.6582000255584717, 1.6571999788284302, 1.6541999578475952, 1.6081000566482544, 1.6231000423431396, 1.371999979019165, 1.1576000452041626, 1.468400001525879, 1.225100040435791, 1.1549999713897705, 1.326200008392334, 0.7245000004768372, 0.9825000166893005, 0.9740999937057495, 1.211899995803833, 0.7924000024795532, 0.5371000170707703, 0.8374999761581421, 0.7631000280380249, 0.7608000040054321, -0.05820000171661377, 0.4440999925136566, 0.41690000891685486, 0.5741999745368958, 0.5724999904632568, -0.27410000562667847, 2.3808000087738037, 2.3808000087738037, 2.3808000087738037, 2.0803000926971436, 1.9371999502182007, 1.8844000101089478, 1.7223999500274658, 1.7223999500274658, 1.7218999862670898, 1.720900058746338, 1.7172000408172607, 1.7172000408172607, 1.7172000408172607, 1.7120000123977661, 1.7111999988555908, 1.7091000080108643, 1.7091000080108643, 1.7028000354766846, 1.7028000354766846, 1.7028000354766846, 1.6979000568389893, 1.6979000568389893, 1.6979000568389893, 1.6933000087738037, 1.6933000087738037, 1.6921000480651855, 1.6917999982833862, 1.691499948501587, 1.691499948501587, 1.691499948501587, 1.6881999969482422, 1.6663000583648682, 1.6648000478744507, 1.600100040435791, 1.465499997138977, 1.2797000408172607, 1.3111000061035156, 1.5087000131607056, 0.9351000189781189, 0.8658000230789185, 1.2366000413894653, 1.154099941253662, 1.1440000534057617, 0.8687000274658203, 0.991100013256073, 0.8889999985694885, 0.8126999735832214, 0.7642999887466431, 0.7506999969482422, 1.0377999544143677, 0.6319000124931335, 1.1330000162124634, 0.516700029373169, 0.3434999883174896, 0.1216999962925911, -0.3977999985218048, 2.4605000019073486, 1.8828999996185303, 1.8216999769210815, 1.8216999769210815, 1.8212000131607056, 1.8212000131607056, 1.8202999830245972, 1.8202999830245972, 1.8202999830245972, 1.81659996509552, 1.8114999532699585, 1.8114999532699585, 1.8113000392913818, 1.8113000392913818, 1.8113000392913818, 1.8107000589370728, 1.8098000288009644, 1.8086999654769897, 1.8025000095367432, 1.8025000095367432, 1.8025000095367432, 1.8025000095367432, 1.7984000444412231, 1.7984000444412231, 1.795300006866455, 1.7932000160217285, 1.7932000160217285, 1.7910000085830688, 1.7910000085830688, 1.7863999605178833, 1.624899983406067, 1.2067999839782715, 1.1725000143051147, 1.329699993133545, 1.4121999740600586, 1.4061000347137451, 1.4977999925613403, 0.9336000084877014, 1.0749000310897827, 1.0712000131607056, 0.6187000274658203, 0.8543999791145325, 0.7626000046730042, 0.8065000176429749, 1.2817000150680542, 0.505299985408783, 1.284600019454956, 1.5111000537872314, -0.03150000050663948, 0.013000000268220901, 1.7793999910354614, 1.4954999685287476, 1.7806999683380127, 2.4500999450683594, 2.4500999450683594, 2.4500999450683594, 2.1631999015808105, 1.9514000415802002, 1.8660999536514282, 1.7942999601364136, 1.7942999601364136, 1.7928999662399292, 1.7905000448226929, 1.7905000448226929, 1.7905000448226929, 1.789199948310852, 1.7836999893188477, 1.7836999893188477, 1.7831000089645386, 1.7831000089645386, 1.7747999429702759, 1.7705999612808228, 1.7705999612808228, 1.7698999643325806, 1.7698999643325806, 1.7698999643325806, 1.7698999643325806, 1.7653000354766846, 1.7653000354766846, 1.763800024986267, 1.763800024986267, 1.7634999752044678, 1.7630000114440918, 1.7620999813079834, 1.7578999996185303, 1.7254999876022339, 1.5778000354766846, 1.5674999952316284, 1.4606000185012817, 1.4538999795913696, 1.3451000452041626, 1.448699951171875, 0.7355999946594238, 1.2594000101089478, 1.2333999872207642, 1.211899995803833, 1.1267999410629272, 0.5935999751091003, 0.5913000106811523, 1.2252999544143677, 0.33390000462532043, 1.2877000570297241, 0.07410000264644623, 0.7091000080108643, 0.6363999843597412, 1.0710999965667725, 0.5763999819755554, 0.2599000036716461, -0.14180000126361847, 2.4860000610351562, 1.8804999589920044, 1.8533999919891357, 1.8533999919891357, 1.8533999919891357, 1.851099967956543, 1.8446999788284302, 1.8446999788284302, 1.844499945640564, 1.835800051689148, 1.835800051689148, 1.8316999673843384, 1.8309999704360962, 1.8265000581741333, 1.8248000144958496, 1.8248000144958496, 1.8243000507354736, 1.8243000507354736, 1.8202999830245972, 1.8148000240325928, 1.8141000270843506, 1.8141000270843506, 1.8141000270843506, 1.8128000497817993, 1.7970000505447388, 1.7941999435424805, 1.7797000408172607, 1.7723000049591064, 1.6557999849319458, 1.6539000272750854, 1.5096999406814575, 1.4395999908447266, 1.547700047492981, 1.5401999950408936, 1.5351999998092651, 1.1341999769210815, 1.4053000211715698, 1.4107999801635742, 1.313599944114685, 1.3006000518798828, 1.1313999891281128, 0.9017999768257141, 1.2139999866485596, 1.201799988746643, 0.7422000169754028, 0.6912999749183655, 0.6800000071525574, 1.0499999523162842, 0.9817000031471252, 0.9763000011444092, 0.7728000283241272, 0.35839998722076416, 2.5332999229431152, 2.2595999240875244, 2.0269999504089355, 1.898900032043457, 1.898900032043457, 1.898900032043457, 1.8983999490737915, 1.8974000215530396, 1.888700008392334, 1.888700008392334, 1.8884999752044678, 1.8884999752044678, 1.8878999948501587, 1.8859000205993652, 1.8859000205993652, 1.879699945449829, 1.879699945449829, 1.879699945449829, 1.879699945449829, 1.875, 1.875, 1.875, 1.875, 1.875, 1.8704999685287476, 1.8704999685287476, 1.8609000444412231, 1.8580000400543213, 1.8566999435424805, 1.8566999435424805, 1.854099988937378, 1.8514000177383423, 1.846500039100647, 1.8372000455856323, 1.7587000131607056, 1.4115999937057495, 1.4003000259399414, 1.2870999574661255, 1.3476999998092651, 1.229099988937378, 1.4681999683380127, 1.4609999656677246, 1.4375, 1.160599946975708, 1.0735000371932983, 1.3456000089645386, 1.342900037765503, 0.9825000166893005, 0.666100025177002, 1.2508000135421753, 1.242400050163269, 1.1715999841690063, 0.20110000669956207, 0.3346000015735626, 1.065000057220459, 2.535399913787842, 2.255000114440918, 2.242000102996826, 2.233799934387207, 2.0280001163482666, 1.8904999494552612, 1.8904999494552612, 1.8899999856948853, 1.8890999555587769, 1.8890999555587769, 1.8890999555587769, 1.8890999555587769, 1.8867000341415405, 1.8867000341415405, 1.8803000450134277, 1.8803000450134277, 1.8799999952316284, 1.8799999952316284, 1.8799999952316284, 1.8794000148773193, 1.8774000406265259, 1.8774000406265259, 1.8774000406265259, 1.8774000406265259, 1.8737000226974487, 1.8711999654769897, 1.8711999654769897, 1.8671000003814697, 1.8603999614715576, 1.8595999479293823, 1.8420000076293945, 1.6953999996185303, 1.510599970817566, 1.1262999773025513, 1.0469000339508057, 1.4292000532150269, 1.3554999828338623, 1.3621000051498413, 1.3193000555038452, 0.9229000210762024, 1.4611999988555908, 0.5281000137329102, 1.000599980354309, 0.9947999715805054, 0.16220000386238098, 0.8349999785423279, 0.042899999767541885, 1.8554999828338623, 0.7732999920845032, 1.0234999656677246, 1.582900047302246, -0.8848000168800354, 1.5901000499725342, 2.6628000736236572, 2.555299997329712, 2.555299997329712, 2.2857000827789307, 2.277100086212158, 2.0736000537872314, 2.057499885559082, 2.0388998985290527, 2.0316998958587646, 1.9845000505447388, 1.9148000478744507, 1.9148000478744507, 1.9148000478744507, 1.9142999649047852, 1.9142999649047852, 1.9142999649047852, 1.9043999910354614, 1.9043999910354614, 1.9038000106811523, 1.9038000106811523, 1.9017000198364258, 1.9017000198364258, 1.8955999612808228, 1.8955999612808228, 1.8914999961853027, 1.8914999961853027, 1.8914999961853027, 1.8914999961853027, 1.8903000354766846, 1.8847999572753906, 1.6273000240325928, 1.7242000102996826, 1.656499981880188, 0.7148000001907349, 1.3652000427246094, 1.3903000354766846, 0.9865000247955322, 0.7939000129699707, 1.360700011253357, 1.0263999700546265, 0.47040000557899475, 0.8798999786376953, 0.8539000153541565, 0.8411999940872192, 0.6603000164031982, 0.39629998803138733, 0.3305000066757202, -0.005400000140070915, 1.8766000270843506, 2.607100009918213, 2.607100009918213, 2.480600118637085, 2.3052000999450684, 2.1177000999450684, 1.9574999809265137, 1.9559999704360962, 1.9559999704360962, 1.9559999704360962, 1.9471999406814575, 1.9471999406814575, 1.9469000101089478, 1.9469000101089478, 1.9469000101089478, 1.9464000463485718, 1.9464000463485718, 1.9443000555038452, 1.933899998664856, 1.9332000017166138, 1.9332000017166138, 1.9285999536514282, 1.9271999597549438, 1.926900029182434, 1.926900029182434, 1.926900029182434, 1.926900029182434, 1.9263999462127686, 1.9263999462127686, 1.9222999811172485, 1.9222999811172485, 1.888100028038025, 1.9222999811172485, 1.904099941253662, 1.8939000368118286, 1.778499960899353, 1.59660005569458, 1.506700038909912, 0.9050999879837036, 1.3854000568389893, 1.2369999885559082, 1.1993000507354736, 1.1253999471664429, 1.0649000406265259, 0.5034000277519226, 0.8759999871253967, 0.85589998960495, 0.6969000101089478, 1.251099944114685, -0.22750000655651093, 0.31049999594688416, -0.6413000226020813, 0.8133999705314636, 1.6331000328063965, 0.8353000283241272, 1.1150000095367432, 2.6712000370025635, 2.6712000370025635, 2.388000011444092, 2.1782000064849854, 2.0322000980377197, 2.031599998474121, 2.031599998474121, 2.031599998474121, 2.0306999683380127, 2.027100086212158, 2.021699905395508, 2.0211000442504883, 2.0211000442504883, 2.0211000442504883, 2.0190999507904053, 2.0190999507904053, 2.0129001140594482, 2.009200096130371, 2.0088000297546387, 2.0081000328063965, 2.0071001052856445, 2.0035998821258545, 2.0013999938964844, 1.9910999536514282, 1.9910999536514282, 1.9910999536514282, 1.9910999536514282, 1.9910999536514282, 1.989799976348877, 1.989799976348877, 1.989799976348877, 1.7039999961853027, 1.4779000282287598, 1.579699993133545, 1.1301000118255615, 1.5576000213623047, 1.3876999616622925, 0.8601999878883362, 1.284999966621399, 1.2111999988555908, 1.1483999490737915, 1.1426000595092773, 0.8916000127792358, 0.43149998784065247, 0.933899998664856, 0.19189999997615814, 0.9334999918937683, 1.7237999439239502, 0.9211000204086304, 1.0322999954223633, 1.3260999917984009, 1.3529000282287598, 0.3962000012397766, 1.702299952507019, 0.29269999265670776, 2.4323999881744385, 2.4154000282287598, 2.1986000537872314, 2.1893999576568604, 2.1770999431610107, 2.0589001178741455, 2.0589001178741455, 2.058300018310547, 2.0457000732421875, 2.0457000732421875, 2.0394999980926514, 2.0360000133514404, 2.0346999168395996, 2.030100107192993, 2.030100107192993, 2.030100107192993, 2.030100107192993, 2.028700113296509, 2.02839994430542, 2.02839994430542, 2.027899980545044, 2.0204999446868896, 2.0174999237060547, 2.0174999237060547, 2.016200065612793, 2.016200065612793, 2.016200065612793, 2.016200065612793, 2.003999948501587, 2.002500057220459, 2.00219988822937, 1.6624000072479248, 1.707800030708313, 1.481600046157837, 1.1521999835968018, 1.4018000364303589, 1.3408000469207764, 1.1704000234603882, 0.9842000007629395, 0.8514999747276306, 0.8242999911308289, 0.482699990272522, 0.329800009727478, 0.21170000731945038, 0.13330000638961792, -0.04809999838471413, 0.4869000017642975, 1.2066999673843384, -0.19990000128746033, 2.450500011444092, 2.237799882888794, 2.1380999088287354, 2.1008999347686768, 2.1008999347686768, 2.1003000736236572, 2.099400043487549, 2.097100019454956, 2.0906999111175537, 2.090399980545044, 2.089900016784668, 2.089900016784668, 2.0878000259399414, 2.0878000259399414, 2.0873000621795654, 2.0838000774383545, 2.0824999809265137, 2.0815999507904053, 2.0815999507904053, 2.0776000022888184, 2.076900005340576, 2.0724000930786133, 2.0724000930786133, 2.0724000930786133, 2.0724000930786133, 2.0708999633789062, 2.0706000328063965, 2.0706000328063965, 2.062700033187866, 2.062700033187866, 1.9407000541687012, 1.905900001525879, 1.4204000234603882, 1.7771999835968018, 1.4523999691009521, 1.4515999555587769, 1.2806999683380127, 0.8192999958992004, 0.580299973487854, 1.0312999486923218, 1.1878000497817993, 0.09939999878406525, 0.00139999995008111, 0.6021999716758728, 0.9775000214576721, 1.809399962425232, 1.5614999532699585, 2.058500051498413, 1.8083000183105469, 1.8001999855041504, 0.29260000586509705, 0.7850000262260437, 1.5793999433517456, 2.7639999389648438, 2.6398000717163086, 2.2915000915527344, 2.234499931335449, 2.2239999771118164, 2.2207000255584717, 2.093400001525879, 2.093400001525879, 2.093400001525879, 2.0910000801086426, 2.0910000801086426, 2.0841000080108643, 2.0841000080108643, 2.081399917602539, 2.081399917602539, 2.0750999450683594, 2.0708999633789062, 2.0708999633789062, 2.070199966430664, 2.070199966430664, 2.065500020980835, 2.065500020980835, 2.065500020980835, 2.063999891281128, 2.063699960708618, 2.063699960708618, 2.063199996948242, 2.063199996948242, 2.0601999759674072, 2.059000015258789, 2.059000015258789, 2.043600082397461, 2.0429999828338623, 1.812000036239624, 1.517199993133545, 1.3528000116348267, 1.2430000305175781, 0.8125, 0.6863999962806702, 0.8795999884605408, 1.4258999824523926, 0.546999990940094, 0.4634000062942505, 0.3418000042438507, 0.22370000183582306, -0.03590000048279762, 0.8521000146865845, 0.8427000045776367, 1.5475000143051147, 1.5641000270843506, 1.799399971961975, 1.3687000274658203, 0.7473000288009644, 1.5601999759674072, 2.992000102996826, 2.707200050354004, 2.7070000171661377, 2.6914000511169434, 2.488800048828125, 2.3336000442504883, 2.33270001411438, 2.33270001411438, 2.33270001411438, 2.3303000926971436, 2.3303000926971436, 2.3238000869750977, 2.3238000869750977, 2.323499917984009, 2.3208000659942627, 2.3208000659942627, 2.314500093460083, 2.314500093460083, 2.3097000122070312, 2.3050999641418457, 2.3050999641418457, 2.3036000728607178, 2.3036000728607178, 2.3036000728607178, 2.303299903869629, 2.302799940109253, 2.302799940109253, 2.2985999584198, 2.29229998588562, 2.29229998588562, 1.773900032043457, 1.8818999528884888, 1.6033999919891357, 0.7317000031471252, 0.9925000071525574, 1.789199948310852, 0.6940000057220459, 2.001199960708618, 0.9818999767303467, 2.0048999786376953, 2.032099962234497, 2.02839994430542, 0.8984000086784363, 1.792799949645996, 1.4537999629974365, 1.1983000040054321, 0.9937999844551086, 0.5055000185966492, 2.561000108718872, 2.512500047683716, 2.3622000217437744, 2.3622000217437744, 2.3531999588012695, 2.3529000282287598, 2.352400064468384, 2.3399999141693115, 2.3396999835968018, 2.3389999866485596, 2.33489990234375, 2.3343000411987305, 2.3343000411987305, 2.3343000411987305, 2.3327999114990234, 2.3327999114990234, 2.3327999114990234, 2.3324999809265137, 2.3324999809265137, 2.3320000171661377, 2.3278000354766846, 2.1851000785827637, 2.0594000816345215, 2.0546998977661133, 2.050800085067749, 2.0485000610351562, 2.0434000492095947, 2.039099931716919, 2.0283000469207764, 2.0267999172210693, 1.8904000520706177, 1.2122999429702759, 1.1055999994277954, 0.3310000002384186, -0.25440001487731934, 0.14730000495910645, 1.6204999685287476, 0.30550000071525574, -0.4357999861240387, 0.0949999988079071, 1.8294999599456787, 1.604699969291687, 0.15950000286102295, 1.1468000411987305, 2.0195000171661377, 1.4672000408172607, 1.6404000520706177, -0.05790000036358833, 1.496399998664856, 1.8144999742507935, 3.0550999641418457, 2.3959999084472656, 2.3949999809265137, 2.3857998847961426, 2.3852999210357666, 2.3768999576568604, 2.3768999576568604, 2.371999979019165, 2.371999979019165, 2.3712000846862793, 2.365600109100342, 2.365600109100342, 2.3650999069213867, 2.3608999252319336, 2.3608999252319336, 2.357599973678589, 2.357599973678589, 2.353300094604492, 2.3522000312805176, 2.1289000511169434, 2.115499973297119, 2.1017000675201416, 2.0996999740600586, 2.097399950027466, 2.0838000774383545, 2.08270001411438, 2.066800117492676, 2.062299966812134, 2.0620999336242676, 2.052000045776367, 2.0452001094818115, 1.875499963760376, 1.9235999584197998, 0.5357999801635742, 0.45739999413490295, 1.857200026512146, 1.8289999961853027, 0.1264999955892563, 1.8468999862670898, 1.1646000146865845, 1.6711000204086304, 0.38830000162124634, 0.753600001335144, 0.19009999930858612, 0.47929999232292175, 1.6699999570846558, 1.6713999509811401, 1.8704999685287476, 0.522599995136261, 0.7555000185966492, 1.3603999614715576, 1.1328999996185303, 3.0868000984191895, 2.4217000007629395, 2.4217000007629395, 2.4202001094818115, 2.4202001094818115, 2.410399913787842, 2.410399913787842, 2.4082000255584717, 2.4082000255584717, 2.4082000255584717, 2.4042000770568848, 2.3970000743865967, 2.3970000743865967, 2.3901000022888184, 2.382499933242798, 2.379499912261963, 2.3785998821258545, 2.378200054168701, 2.130000114440918, 2.1094000339508057, 2.1085000038146973, 2.1019999980926514, 2.0996999740600586, 2.077199935913086, 1.9134999513626099, 1.8969000577926636, 1.882200002670288, 1.8806999921798706, 1.8795000314712524, 1.878499984741211, 1.8450000286102295, 1.1913000345230103, 0.9753999710083008, 1.0698000192642212, 1.3351999521255493, 1.32260000705719, 0.8899000287055969, 0.39239999651908875, 0.40689998865127563, 1.6682000160217285, 0.47360000014305115, 0.47609999775886536, 1.6863000392913818, 1.8767999410629272, 1.3995000123977661, 1.2835999727249146, 1.1475000381469727, 1.065500020980835, 1.5577000379562378, 0.7739999890327454, -0.1931000053882599, 3.3285000324249268, 2.6631999015808105, 2.6631999015808105, 2.653899908065796, 2.653899908065796, 2.653899908065796, 2.6512999534606934, 2.638400077819824, 2.6338999271392822, 2.6335999965667725, 2.622499942779541, 2.6212000846862793, 2.603100061416626, 2.373800039291382, 2.3733999729156494, 2.365000009536743, 2.3585000038146973, 2.3564999103546143, 2.3503000736236572, 2.343100070953369, 2.3196001052856445, 2.2032999992370605, 2.1491000652313232, 2.144200086593628, 2.1391000747680664, 2.1178998947143555, 2.1166999340057373, 2.1149001121520996, 2.095400094985962, 1.9768999814987183, 1.4989999532699585, 0.45159998536109924, 1.9551000595092773, 1.9535000324249268, 1.6597000360488892, 1.944200038909912, 1.9449000358581543, 1.9515999555587769, 1.9509999752044678, 1.5403000116348267, 0.4528999924659729, 0.7178999781608582], \"logprob\": [30.0, 29.0, 28.0, 27.0, 26.0, 25.0, 24.0, 23.0, 22.0, 21.0, 20.0, 19.0, 18.0, 17.0, 16.0, 15.0, 14.0, 13.0, 12.0, 11.0, 10.0, 9.0, 8.0, 7.0, 6.0, 5.0, 4.0, 3.0, 2.0, 1.0, -4.588600158691406, -4.985899925231934, -4.084400177001953, -4.985899925231934, -4.985899925231934, -4.985899925231934, -4.985899925231934, -4.588600158691406, -4.588600158691406, -3.134999990463257, -4.985899925231934, -4.985899925231934, -4.985899925231934, -4.588600158691406, -5.65500020980835, -5.65500020980835, -5.65500020980835, -5.65500020980835, -5.65500020980835, -5.65500020980835, -5.65500020980835, -5.65500020980835, -5.65500020980835, -5.65500020980835, -5.65500020980835, -5.65500020980835, -5.65500020980835, -5.65500020980835, -5.65500020980835, -5.65500020980835, -4.985899925231934, -5.65500020980835, -4.588600158691406, -4.985899925231934, -4.985899925231934, -3.750699996948242, -4.588600158691406, -3.903700113296509, -3.6180999279022217, -4.985899925231934, -4.985899925231934, -4.985899925231934, -4.4309000968933105, -4.985899925231934, -4.985899925231934, -4.305099964141846, -4.588600158691406, -4.084400177001953, -4.588600158691406, -4.084400177001953, -4.084400177001953, -4.588600158691406, -4.588600158691406, -4.942399978637695, -4.985899925231934, -4.985899925231934, -4.706099987030029, -4.706099987030029, -4.706099987030029, -4.706099987030029, -4.706099987030029, -5.05620002746582, -4.706099987030029, -4.706099987030029, -4.025300025939941, -3.3882999420166016, -5.375199794769287, -5.375199794769287, -5.375199794769287, -5.375199794769287, -5.375199794769287, -5.375199794769287, -5.375199794769287, -5.375199794769287, -5.375199794769287, -5.375199794769287, -5.375199794769287, -5.375199794769287, -5.375199794769287, -5.375199794769287, -5.375199794769287, -5.375199794769287, -5.375199794769287, -5.375199794769287, -5.375199794769287, -5.375199794769287, -5.078499794006348, -4.706099987030029, -3.6238999366760254, -4.706099987030029, -4.706099987030029, -4.444699764251709, -4.308800220489502, -4.025300025939941, -4.025300025939941, -4.706099987030029, -4.485199928283691, -4.025300025939941, -4.706099987030029, -4.706099987030029, -4.706099987030029, -4.308800220489502, -4.187099933624268, -4.706099987030029, -4.706099987030029, -4.706099987030029, -4.706099987030029, -4.706099987030029, -4.819300174713135, -4.819300174713135, -4.421999931335449, -4.421999931335449, -4.819300174713135, -4.819300174713135, -4.819300174713135, -4.138400077819824, -4.819300174713135, -4.819300174713135, -4.138400077819824, -4.819300174713135, -5.48829984664917, -5.48829984664917, -5.48829984664917, -5.48829984664917, -5.48829984664917, -5.48829984664917, -5.48829984664917, -5.48829984664917, -5.48829984664917, -5.48829984664917, -5.48829984664917, -5.48829984664917, -5.48829984664917, -5.48829984664917, -5.48829984664917, -5.48829984664917, -5.48829984664917, -5.48829984664917, -3.9177000522613525, -4.819300174713135, -4.138400077819824, -3.5841000080108643, -4.819300174713135, -4.421999931335449, -4.421999931335449, -4.819300174713135, -3.7370998859405518, -4.421999931335449, -4.421999931335449, -4.819300174713135, -4.421999931335449, -4.421999931335449, -4.819300174713135, -4.819300174713135, -4.819300174713135, -4.421999931335449, -4.819300174713135, -4.819300174713135, -4.819300174713135, -4.819300174713135, -4.819300174713135, -4.761600017547607, -4.761600017547607, -4.761600017547607, -4.761600017547607, -4.364299774169922, -4.954500198364258, -5.430699825286865, -5.430699825286865, -5.430699825286865, -5.430699825286865, -5.430699825286865, -5.430699825286865, -5.430699825286865, -5.430699825286865, -5.430699825286865, -5.430699825286865, -5.430699825286865, -5.430699825286865, -5.430699825286865, -5.430699825286865, -5.430699825286865, -5.430699825286865, -5.430699825286865, -5.430699825286865, -5.430699825286865, -4.761600017547607, -5.430699825286865, -5.430699825286865, -5.430699825286865, -5.430699825286865, -4.761600017547607, -4.761600017547607, -4.761600017547607, -3.6793999671936035, -4.364299774169922, -3.6793999671936035, -4.080699920654297, -4.761600017547607, -3.526400089263916, -3.6793999671936035, -4.761600017547607, -4.761600017547607, -4.761600017547607, -4.527400016784668, -4.761600017547607, -4.761600017547607, -4.761600017547607, -4.761600017547607, -4.761600017547607, -4.975100040435791, -4.761600017547607, -5.124199867248535, -4.80709981918335, -4.761600017547607, -4.761600017547607, -4.761600017547607, -4.641900062561035, -5.225100040435791, -5.3109002113342285, -5.3109002113342285, -5.3109002113342285, -5.3109002113342285, -5.3109002113342285, -5.3109002113342285, -5.3109002113342285, -5.3109002113342285, -5.3109002113342285, -5.3109002113342285, -5.3109002113342285, -5.3109002113342285, -5.3109002113342285, -5.3109002113342285, -5.3109002113342285, -5.3109002113342285, -5.3109002113342285, -5.3109002113342285, -5.3109002113342285, -5.3109002113342285, -5.3109002113342285, -5.3109002113342285, -5.3109002113342285, -5.3109002113342285, -5.3109002113342285, -5.3109002113342285, -5.3109002113342285, -4.641900062561035, -4.641900062561035, -3.156899929046631, -3.289099931716919, -3.9609999656677246, -4.24459981918335, -4.24459981918335, -4.641900062561035, -3.9609999656677246, -4.641900062561035, -4.641900062561035, -4.24459981918335, -4.641900062561035, -4.641900062561035, -5.310800075531006, -5.3109002113342285, -5.3109002113342285, -5.3109002113342285, -5.3109002113342285, -5.3109002113342285, -5.3109002113342285, -5.3109002113342285, -5.3109002113342285, -5.3109002113342285, -4.686999797821045, -4.686999797821045, -4.686999797821045, -4.289700031280518, -4.686999797821045, -4.289700031280518, -5.355999946594238, -5.355999946594238, -5.355999946594238, -5.355999946594238, -5.355999946594238, -5.355999946594238, -5.355999946594238, -5.355999946594238, -5.355999946594238, -5.355999946594238, -5.355999946594238, -5.355999946594238, -5.355999946594238, -5.355999946594238, -5.355999946594238, -5.355999946594238, -5.355999946594238, -5.355999946594238, -5.355999946594238, -5.355999946594238, -5.355999946594238, -5.355999946594238, -5.355999946594238, -5.355999946594238, -4.686999797821045, -4.686999797821045, -4.006100177764893, -4.686999797821045, -4.686999797821045, -4.686999797821045, -4.686999797821045, -4.471099853515625, -4.686999797821045, -4.006100177764893, -4.686999797821045, -4.686999797821045, -4.686999797821045, -4.686999797821045, -4.289700031280518, -4.289700031280518, -4.910600185394287, -4.289700031280518, -5.000100135803223, -4.289700031280518, -4.686999797821045, -4.686999797821045, -4.941699981689453, -4.686999797821045, -4.686999797821045, -4.686999797821045, -4.6006999015808105, -3.919800043106079, -5.269700050354004, -5.269700050354004, -5.269700050354004, -5.269700050354004, -5.269700050354004, -5.269700050354004, -5.269700050354004, -5.269700050354004, -5.269700050354004, -5.269700050354004, -5.269700050354004, -5.269700050354004, -5.269700050354004, -5.269700050354004, -5.269700050354004, -5.269700050354004, -5.269700050354004, -4.6006999015808105, -5.269700050354004, -5.269700050354004, -5.269700050354004, -5.269700050354004, -3.919800043106079, -4.203400135040283, -3.365499973297119, -3.518399953842163, -4.6006999015808105, -4.6006999015808105, -4.203400135040283, -4.203400135040283, -4.6006999015808105, -4.6006999015808105, -4.6006999015808105, -3.812700033187866, -4.398499965667725, -4.6006999015808105, -4.6006999015808105, -4.6006999015808105, -4.434700012207031, -4.203400135040283, -4.6006999015808105, -4.6006999015808105, -4.203400135040283, -4.203400135040283, -4.203400135040283, -4.6006999015808105, -4.6006999015808105, -4.6006999015808105, -4.6006999015808105, -4.6006999015808105, -4.559999942779541, -4.559999942779541, -3.8791000843048096, -5.229100227355957, -5.229100227355957, -5.229100227355957, -5.229100227355957, -5.229100227355957, -5.229100227355957, -5.229100227355957, -5.229100227355957, -5.229100227355957, -5.229100227355957, -5.229100227355957, -5.229100227355957, -5.229100227355957, -5.229100227355957, -5.229100227355957, -5.229100227355957, -5.229100227355957, -5.229100227355957, -5.229100227355957, -5.229100227355957, -5.229100227355957, -5.229100227355957, -5.229100227355957, -5.229100227355957, -5.229100227355957, -5.229100227355957, -5.229100227355957, -4.162700176239014, -4.559999942779541, -4.559999942779541, -4.162700176239014, -4.162700176239014, -3.8791000843048096, -3.8791000843048096, -3.6584999561309814, -4.162700176239014, -4.162700176239014, -4.559999942779541, -4.559999942779541, -4.559999942779541, -4.162700176239014, -4.162700176239014, -4.559999942779541, -4.559999942779541, -4.162700176239014, -3.8791000843048096, -4.559999942779541, -4.559999942779541, -4.559999942779541, -4.162700176239014, -4.559999942779541, -5.229100227355957, -4.579500198364258, -4.579500198364258, -4.579500198364258, -4.579500198364258, -4.579500198364258, -5.248600006103516, -5.248600006103516, -5.248600006103516, -5.248600006103516, -5.248600006103516, -5.248600006103516, -5.248600006103516, -5.248600006103516, -5.248600006103516, -5.248600006103516, -5.248600006103516, -5.248600006103516, -5.248600006103516, -5.248600006103516, -5.248600006103516, -5.248600006103516, -5.248600006103516, -5.248600006103516, -5.248600006103516, -5.248600006103516, -5.248600006103516, -5.248600006103516, -5.248600006103516, -5.248600006103516, -5.248600006103516, -4.579500198364258, -3.677999973297119, -3.9198999404907227, -3.497299909591675, -3.898699998855591, -4.579500198364258, -4.579500198364258, -4.627299785614014, -4.579500198364258, -4.182199954986572, -4.826700210571289, -3.933500051498413, -4.579500198364258, -4.579500198364258, -4.579500198364258, -4.975900173187256, -4.838099956512451, -5.248600006103516, -5.248600006103516, -5.248600006103516, -5.248600006103516, -5.248600006103516, -5.248600006103516, -4.153299808502197, -4.550600051879883, -4.550600051879883, -4.550600051879883, -4.550600051879883, -4.550600051879883, -4.550600051879883, -4.550600051879883, -4.550600051879883, -4.153299808502197, -5.219600200653076, -5.219600200653076, -5.219600200653076, -5.219600200653076, -5.219600200653076, -5.219600200653076, -5.219600200653076, -5.219600200653076, -5.219600200653076, -5.219600200653076, -5.219600200653076, -5.219600200653076, -5.219600200653076, -5.219600200653076, -5.219600200653076, -5.219600200653076, -5.219600200653076, -5.219600200653076, -4.366199970245361, -5.219600200653076, -3.8696999549865723, -4.550600051879883, -4.757699966430664, -3.6489999294281006, -4.550600051879883, -4.622499942779541, -4.225399971008301, -4.089399814605713, -4.670100212097168, -4.550600051879883, -4.153299808502197, -4.550600051879883, -4.550600051879883, -4.550600051879883, -4.663599967956543, -4.550600051879883, -4.550600051879883, -4.550600051879883, -5.219600200653076, -4.517499923706055, -4.517499923706055, -4.120200157165527, -4.517499923706055, -4.517499923706055, -5.186500072479248, -5.186500072479248, -5.186500072479248, -5.186500072479248, -5.186500072479248, -5.186500072479248, -5.186500072479248, -5.186500072479248, -5.186500072479248, -5.186500072479248, -5.186500072479248, -5.186500072479248, -5.186500072479248, -5.186500072479248, -5.186500072479248, -5.186500072479248, -5.186500072479248, -5.186500072479248, -5.186500072479248, -5.186500072479248, -5.186500072479248, -5.186500072479248, -5.186500072479248, -5.186500072479248, -5.186500072479248, -3.43530011177063, -5.186500072479248, -4.517499923706055, -4.517499923706055, -4.517499923706055, -4.120200157165527, -4.517499923706055, -3.8366000652313232, -4.517499923706055, -4.4197998046875, -4.517499923706055, -4.517499923706055, -4.517499923706055, -4.120200157165527, -4.517499923706055, -4.517499923706055, -4.517499923706055, -5.186500072479248, -5.186500072479248, -5.186500072479248, -5.186500072479248, -5.186500072479248, -5.186500072479248, -5.186500072479248, -5.186500072479248, -4.43179988861084, -4.43179988861084, -4.0345001220703125, -4.43179988861084, -5.100800037384033, -5.100800037384033, -5.100800037384033, -5.100800037384033, -5.100800037384033, -5.100800037384033, -5.100800037384033, -5.100800037384033, -5.100800037384033, -5.100800037384033, -5.100800037384033, -5.100800037384033, -5.100800037384033, -5.100800037384033, -5.100800037384033, -5.100800037384033, -4.43179988861084, -5.100800037384033, -5.100800037384033, -5.100800037384033, -5.100800037384033, -5.100800037384033, -5.100800037384033, -5.100800037384033, -5.100800037384033, -5.100800037384033, -5.100800037384033, -4.43179988861084, -4.0345001220703125, -4.43179988861084, -3.7509000301361084, -4.43179988861084, -4.43179988861084, -4.0345001220703125, -4.43179988861084, -4.43179988861084, -4.43179988861084, -4.43179988861084, -4.43179988861084, -4.43179988861084, -4.648399829864502, -4.43179988861084, -5.100800037384033, -5.100800037384033, -5.100800037384033, -5.100800037384033, -5.100800037384033, -5.100800037384033, -5.100800037384033, -5.100800037384033, -5.100800037384033, -4.411900043487549, -4.411900043487549, -4.4120001792907715, -4.411900043487549, -4.411900043487549, -5.080999851226807, -5.080999851226807, -5.080999851226807, -5.080999851226807, -5.080999851226807, -5.080999851226807, -4.411900043487549, -5.080999851226807, -5.080999851226807, -5.080999851226807, -5.080999851226807, -5.080999851226807, -5.080999851226807, -5.080999851226807, -5.080999851226807, -5.080999851226807, -5.080999851226807, -5.080999851226807, -5.080999851226807, -5.080999851226807, -5.080999851226807, -5.080999851226807, -5.080999851226807, -4.411900043487549, -4.411900043487549, -4.412099838256836, -3.731100082397461, -4.411900043487549, -4.014599800109863, -3.7311999797821045, -4.4120001792907715, -4.411900043487549, -4.411900043487549, -4.411900043487549, -4.411900043487549, -4.411900043487549, -4.411900043487549, -4.411900043487549, -4.411900043487549, -4.411900043487549, -4.411900043487549, -4.724999904632568, -5.080999851226807, -5.080999851226807, -4.362199783325195, -4.362500190734863, -3.681299924850464, -5.031300067901611, -5.031300067901611, -5.031300067901611, -5.031300067901611, -5.031300067901611, -5.031300067901611, -5.031300067901611, -5.031300067901611, -5.031300067901611, -5.031300067901611, -5.031300067901611, -5.031799793243408, -5.031300067901611, -5.031300067901611, -5.031300067901611, -5.031300067901611, -5.031300067901611, -5.031300067901611, -5.031300067901611, -5.031300067901611, -5.031300067901611, -5.031300067901611, -5.031300067901611, -5.031300067901611, -5.031300067901611, -5.031300067901611, -5.031300067901611, -3.964900016784668, -4.362199783325195, -3.460700035095215, -4.362500190734863, -4.362199783325195, -4.362199783325195, -4.362199783325195, -4.127600193023682, -3.964900016784668, -4.362199783325195, -4.615900039672852, -4.362199783325195, -4.362400054931641, -4.6097002029418945, -5.031300067901611, -5.031300067901611, -5.031300067901611, -5.031300067901611, -5.031300067901611, -5.031300067901611, -5.031300067901611, -5.031300067901611, -5.031300067901611, -4.399899959564209, -4.002600193023682, -4.002600193023682, -4.399899959564209, -4.399899959564209, -4.399899959564209, -5.068999767303467, -5.068999767303467, -5.068999767303467, -5.068999767303467, -5.068999767303467, -5.068999767303467, -5.068999767303467, -5.068999767303467, -5.068999767303467, -5.068999767303467, -5.068999767303467, -5.068999767303467, -5.068999767303467, -5.068999767303467, -5.068999767303467, -5.068999767303467, -5.068999767303467, -5.068999767303467, -5.068999767303467, -5.068999767303467, -5.068999767303467, -5.068999767303467, -5.068999767303467, -5.068999767303467, -5.068999767303467, -4.399899959564209, -4.399899959564209, -4.002600193023682, -3.7190001010894775, -4.399899959564209, -4.399899959564209, -4.070799827575684, -4.1946001052856445, -4.399899959564209, -4.722499847412109, -4.399899959564209, -4.399899959564209, -4.399899959564209, -4.399899959564209, -4.399700164794922, -5.068299770355225, -5.068299770355225, -5.068399906158447, -5.068999767303467, -5.068999767303467, -5.068999767303467, -5.068999767303467, -5.068999767303467, -4.1493000984191895, -4.1493000984191895, -4.1493000984191895, -4.1493000984191895, -4.1493000984191895, -4.818399906158447, -4.818399906158447, -4.818399906158447, -4.818399906158447, -4.818399906158447, -4.818399906158447, -4.818399906158447, -4.818399906158447, -4.818399906158447, -4.818399906158447, -4.818399906158447, -4.818399906158447, -4.818399906158447, -4.818399906158447, -4.818399906158447, -4.818399906158447, -4.818399906158447, -4.818399906158447, -4.818399906158447, -4.818399906158447, -4.818399906158447, -4.818399906158447, -4.818399906158447, -4.818399906158447, -4.818399906158447, -3.752000093460083, -4.1493000984191895, -4.1493000984191895, -4.1493000984191895, -4.818399906158447, -4.818399906158447, -4.818399906158447, -4.818399906158447, -4.818399906158447, -4.818399906158447, -4.818399906158447, -4.818399906158447, -4.818399906158447, -4.818399906158447, -4.818399906158447, -4.818399906158447, -4.818399906158447, -4.818399906158447, -3.733299970626831, -4.1305999755859375, -4.799600124359131, -4.799600124359131, -4.799600124359131, -4.799600124359131, -4.799600124359131, -4.799600124359131, -4.799600124359131, -4.799600124359131, -4.799600124359131, -4.799600124359131, -4.799600124359131, -4.799600124359131, -4.799600124359131, -4.799600124359131, -4.799600124359131, -4.799600124359131, -4.799600124359131, -4.799600124359131, -4.799600124359131, -3.733299970626831, -4.799600124359131, -4.799600124359131, -4.799600124359131, -4.799600124359131, -4.799600124359131, -4.799600124359131, -4.799600124359131, -4.799600124359131, -4.1305999755859375, -3.733299970626831, -4.1305999755859375, -4.1305999755859375, -4.799600124359131, -4.799600124359131, -4.799600124359131, -4.799600124359131, -4.799600124359131, -4.799600124359131, -4.799600124359131, -4.799600124359131, -4.799600124359131, -4.799600124359131, -4.799600124359131, -4.799600124359131, -4.799600124359131, -4.799600124359131, -4.799600124359131, -4.799600124359131, -4.087800025939941, -4.756899833679199, -4.756899833679199, -4.756899833679199, -4.756899833679199, -4.756899833679199, -4.756899833679199, -4.756899833679199, -4.756899833679199, -4.756899833679199, -4.756899833679199, -4.756899833679199, -4.756899833679199, -4.756899833679199, -4.756899833679199, -4.756899833679199, -4.756899833679199, -4.756899833679199, -4.087800025939941, -3.690500020980835, -4.756899833679199, -4.756899833679199, -4.756899833679199, -4.756899833679199, -4.756899833679199, -4.756899833679199, -4.756899833679199, -4.756899833679199, -4.756899833679199, -4.756899833679199, -3.690500020980835, -3.690500020980835, -4.087800025939941, -4.087800025939941, -4.087800025939941, -4.756899833679199, -4.756899833679199, -4.756899833679199, -4.756899833679199, -4.756899833679199, -4.756899833679199, -4.756899833679199, -4.756899833679199, -4.756899833679199, -4.756899833679199, -4.756899833679199, -4.756899833679199, -4.756899833679199, -4.756899833679199, -4.756899833679199, -4.756899833679199, -4.756899833679199, -4.069200038909912, -4.73829984664917, -4.73829984664917, -4.73829984664917, -4.73829984664917, -4.73829984664917, -4.73829984664917, -4.73829984664917, -4.73829984664917, -4.73829984664917, -4.73829984664917, -4.73829984664917, -4.73829984664917, -4.73829984664917, -4.73829984664917, -4.73829984664917, -4.069200038909912, -4.73829984664917, -4.73829984664917, -4.73829984664917, -4.73829984664917, -4.73829984664917, -4.73829984664917, -4.73829984664917, -4.73829984664917, -4.73829984664917, -4.73829984664917, -4.73829984664917, -4.73829984664917, -4.73829984664917, -4.069200038909912, -3.6719000339508057, -3.388400077819824, -3.6719000339508057, -4.069200038909912, -4.069200038909912, -4.069200038909912, -4.069200038909912, -4.73829984664917, -4.73829984664917, -4.73829984664917, -4.73829984664917, -4.73829984664917, -4.73829984664917, -4.73829984664917, -4.73829984664917, -4.73829984664917, -4.73829984664917, -4.73829984664917, -4.73829984664917, -4.73829984664917, -3.824899911880493, -4.49399995803833, -4.49399995803833, -4.49399995803833, -4.49399995803833, -4.49399995803833, -4.49399995803833, -4.49399995803833, -4.49399995803833, -4.49399995803833, -4.49399995803833, -4.49399995803833, -3.4275999069213867, -4.49399995803833, -4.49399995803833, -4.49399995803833, -4.49399995803833, -4.49399995803833, -4.49399995803833, -4.49399995803833, -4.49399995803833, -3.824899911880493, -4.49399995803833, -4.49399995803833, -4.49399995803833, -4.49399995803833, -4.49399995803833, -4.49399995803833, -4.49399995803833, -3.4275999069213867, -3.824899911880493, -4.49399995803833, -4.49399995803833, -4.49399995803833, -4.49399995803833, -4.49399995803833, -4.49399995803833, -4.49399995803833, -4.49399995803833, -4.49399995803833, -4.49399995803833, -4.49399995803833]}, \"token.table\": {\"Topic\": [6, 10, 5, 11, 10, 14, 5, 13, 1, 12, 8, 16, 5, 7, 3, 15, 18, 1, 3, 19, 1, 3, 6, 7, 8, 3, 12, 15, 1, 8, 1, 12, 1, 5, 6, 8, 9, 10, 14, 15, 6, 9, 10, 12, 18, 5, 11, 5, 18, 2, 3, 2, 12, 3, 13, 2, 4, 12, 18, 1, 3, 4, 7, 9, 10, 11, 12, 15, 1, 3, 5, 6, 8, 10, 12, 14, 18, 14, 17, 1, 2, 3, 6, 9, 10, 12, 13, 15, 16, 1, 12, 4, 5, 1, 5, 12, 16, 8, 9, 2, 12, 18, 3, 4, 8, 11, 6, 15, 8, 11, 1, 2, 3, 4, 6, 7, 8, 10, 11, 13, 14, 15, 17, 18, 19, 15, 19, 10, 17, 17, 18, 1, 11, 3, 16, 6, 7, 15, 17, 1, 3, 4, 9, 13, 16, 19, 3, 20, 3, 19, 2, 4, 6, 8, 11, 14, 15, 16, 9, 11, 3, 16, 1, 2, 5, 8, 14, 18, 19, 1, 3, 10, 14, 4, 5, 6, 10, 16, 3, 4, 5, 6, 11, 12, 20, 2, 11, 2, 5, 12, 16, 1, 2, 3, 4, 10, 20, 8, 9, 7, 14, 1, 9, 18, 3, 4, 12, 17, 11, 15, 19, 14, 15, 2, 7, 17, 14, 15, 4, 14, 6, 16, 4, 6, 10, 20, 7, 6, 7, 13, 1, 3, 6, 8, 9, 13, 14, 3, 4, 7, 13, 6, 12, 1, 2, 4, 6, 7, 8, 9, 10, 12, 13, 15, 16, 17, 18, 5, 11, 19, 8, 9, 1, 3, 5, 10, 7, 10, 11, 12, 15, 5, 6, 15, 9, 12, 9, 11, 12, 20, 3, 5, 9, 3, 12, 14, 18, 1, 4, 6, 11, 8, 14, 15, 3, 18, 1, 11, 1, 2, 4, 6, 7, 1, 6, 11, 12, 16, 17, 18, 20, 1, 3, 12, 15, 1, 2, 3, 5, 6, 7, 10, 11, 17, 10, 12, 2, 3, 4, 5, 10, 14, 17, 19, 20, 6, 20, 11, 18, 1, 5, 6, 9, 11, 12, 17, 19, 5, 6, 4, 11, 3, 5, 6, 18, 12, 1, 16, 1, 4, 6, 7, 13, 7, 9, 11, 12, 14, 15, 1, 2, 5, 7, 8, 9, 15, 16, 17, 18, 20, 7, 11, 13, 13, 15, 16, 18, 2, 18, 5, 10, 10, 16, 17, 1, 4, 6, 19, 2, 5, 14, 3, 4, 5, 7, 10, 12, 13, 14, 18, 6, 9, 9, 18, 4, 5, 6, 14, 17, 1, 19, 3, 17, 4, 11, 2, 8, 2, 3, 12, 3, 8, 6, 10, 5, 15, 2, 13, 17, 18, 3, 6, 2, 6, 1, 4, 5, 7, 9, 19, 20, 2, 5, 10, 2, 6, 4, 5, 6, 17, 20, 1, 6, 1, 2, 20, 2, 6, 7, 9, 2, 6, 1, 13, 14, 1, 2, 5, 8, 9, 13, 18, 6, 7, 10, 12, 18, 1, 2, 6, 9, 10, 11, 1, 2, 4, 7, 14, 15, 8, 15, 10, 12, 4, 6, 8, 11, 13, 15, 16, 1, 8, 12, 4, 6, 7, 10, 3, 17, 1, 3, 4, 5, 6, 7, 8, 9, 11, 13, 14, 15, 17, 19, 1, 4, 6, 8, 17, 18, 19, 7, 11, 5, 11, 14, 16, 3, 9, 4, 11, 15, 18, 1, 7, 11, 10, 13, 4, 18, 5, 15, 3, 15, 1, 1, 4, 6, 8, 13, 14, 15, 16, 10, 16, 3, 5, 8, 11, 12, 16, 9, 12, 16, 4, 9, 17, 6, 15, 10, 1, 2, 4, 5, 6, 10, 13, 14, 16, 19, 20, 9, 10, 16, 2, 20, 6, 19, 1, 2, 4, 5, 6, 7, 9, 10, 11, 13, 14, 17, 19, 20, 3, 4, 6, 7, 10, 1, 2, 3, 5, 7, 8, 10, 12, 14, 18, 12, 16, 19, 15, 19, 10, 13, 2, 19, 10, 1, 11, 13, 18, 8, 12, 16, 1, 11, 4, 14, 1, 3, 4, 5, 6, 7, 16, 18, 4, 17, 1, 3, 4, 5, 6, 8, 9, 11, 13, 19, 3, 20, 8, 17, 1, 11, 2, 5, 6, 8, 11, 13, 14, 1, 11, 12, 20, 7, 8, 12, 6, 14, 4, 9, 10, 18, 20, 9, 13, 12, 16, 1, 4, 2, 14, 1, 2, 3, 4, 5, 7, 10, 11, 13, 14, 17, 19, 2, 3, 4, 5, 7, 9, 11, 14, 16, 6, 14, 16, 2, 3, 2, 4, 3, 9, 5, 6, 11, 18, 1, 13, 6, 19, 3, 7, 9, 11, 12, 13, 19, 3, 9, 2, 3, 4, 5, 8, 11, 15, 19, 20, 2, 10, 18, 5, 17, 10, 14, 5, 8, 14, 16, 17, 1, 4, 5, 6, 8, 10, 11, 15, 18, 20, 4, 5, 8, 14, 16, 10, 17, 1, 20, 8, 18, 2, 4, 9, 10, 11, 12, 13, 16, 18, 2, 5, 8, 10, 13, 19, 1, 9, 14, 4, 3, 7, 6, 9, 2, 5, 8, 17, 1, 2, 3, 4, 6, 9, 10, 13, 17, 18, 1, 2, 4, 6, 9, 10, 2, 3, 4, 5, 6, 8, 10, 19, 9, 10, 19, 1, 2, 5, 6, 7, 15, 17, 2, 15, 11, 12, 17, 10, 8, 11, 13, 15, 12, 17, 1, 2, 4, 5, 7, 8, 12, 13, 16, 17, 20, 16, 18, 4, 9, 12, 14, 4, 10, 11, 5, 9, 6, 9, 11, 19, 20, 6, 13, 1, 4, 9, 15, 16, 3, 5, 6, 8, 13, 20, 1, 3, 14, 15, 1, 2, 5, 7, 13, 17, 7, 9, 1, 2, 3, 4, 5, 7, 9, 14, 15, 17, 1, 3, 4, 6, 7, 8, 10, 14, 15, 17, 18, 20, 2, 12, 5, 13, 3, 9, 11, 13, 14, 5, 6, 8, 9, 12, 3, 4, 11, 1, 7, 1, 3, 16, 6, 8, 9, 12, 16, 1, 3, 4, 5, 6, 7, 9, 10, 11, 14, 16, 17, 18, 19, 5, 16, 4, 20, 1, 3, 10, 11, 19, 2, 7, 10, 12, 13, 16, 19, 20, 1, 5, 18, 3, 7, 13, 15, 16, 1, 2, 3, 6, 7, 11, 4, 17, 8, 9, 1, 3, 4, 8, 13, 15, 16, 17, 18, 1, 9, 13, 7, 10, 13, 5, 12, 15, 4, 20, 11, 15, 18, 6, 19, 12, 13, 1, 11, 1, 2, 3, 4, 9, 10, 15, 16, 4, 6, 6, 12, 6, 7, 11, 12, 15, 3, 7, 1, 9, 12, 13, 1, 3, 6, 7, 11, 17, 1, 2, 6, 7, 9, 10, 13, 17, 4, 7, 8, 11, 14, 17, 4, 15, 2, 10, 17, 5, 9, 13, 3, 10, 9, 15, 4, 6, 7, 10, 3, 5, 13, 15, 2, 8, 2, 5, 1, 2, 5, 6, 11, 13, 16, 6, 14, 13, 17, 3, 9, 7, 19, 2, 3, 5, 12, 19, 3, 11, 2, 17, 10, 16, 3, 16, 8, 16, 11, 18, 4, 11, 9, 19, 4, 8, 10, 15, 9, 17, 2, 7, 9, 10, 20, 2, 13, 2, 8, 14, 19, 13, 18, 19, 4, 6, 17, 13, 17, 20, 9, 18, 6, 9, 9, 12, 17, 7, 18, 8, 15, 3, 11, 4, 8, 7, 14, 6, 8, 1, 2, 3, 9, 11, 13, 14, 2, 4, 5, 7, 8, 1, 3, 5, 20, 4, 10, 3, 12, 5, 8, 17, 18, 4, 13, 4, 5, 6, 8, 15, 5, 11, 15, 17, 19, 3, 15, 1, 2, 4, 5, 6, 7, 9, 10, 11, 12, 13, 15, 17, 18, 3, 10, 12, 14, 6, 3, 4, 5, 6, 7, 8, 11, 12, 1, 4, 5, 8, 10, 12, 15, 16, 19, 3, 16, 20, 1, 11, 9, 4, 6, 15, 14, 18, 3, 7, 14, 16, 4, 16, 16, 19, 2, 3, 7, 8, 15, 16, 3, 4, 5, 7, 8, 11, 16, 18, 1, 16, 11, 2, 8, 15, 17, 20, 3, 7, 10, 19, 11, 13, 7, 8, 3, 9, 3, 5, 6, 7, 8, 10, 11, 1, 15, 4, 7, 2, 15, 4, 15, 2, 5, 8, 19, 1, 19, 5, 15, 5, 11, 3, 11, 1, 6, 11, 16, 2, 4, 20, 1, 12, 9, 11, 12, 12, 16, 1, 2, 3, 4, 5, 6, 12, 13, 1, 6, 1, 10, 4, 10, 1, 2, 13, 15, 17, 2, 3, 6, 13, 18, 11, 14, 2, 3, 4, 5, 6, 9, 15, 5, 7, 3, 8, 10, 14, 5, 7, 12, 2, 6, 7, 9, 10, 11, 14, 19, 1, 7, 1, 4, 5, 6, 8, 9, 11, 13, 16, 12, 14, 8, 5, 14, 4, 12, 11, 13, 17, 11, 12, 6, 7, 16, 19, 5, 15, 9, 16, 20, 1, 2, 3, 4, 5, 6, 7, 9, 10, 12, 13, 14, 15, 16, 1, 6, 6, 7, 8, 14, 15, 17, 1, 2, 3, 6, 7, 8, 16, 18, 19, 3, 5, 3, 5, 7, 8, 10, 12, 15, 1, 3, 4, 5, 7, 8, 11, 11, 15, 2, 13, 2, 13, 2, 10, 4, 8, 1, 11, 13, 15, 17, 13, 14, 20, 5, 15, 18, 20, 11, 16, 6, 15, 20, 2, 4, 6, 10, 12, 16, 18, 19, 20, 8, 11, 1, 16, 1, 3, 8, 9, 17, 18, 1, 4, 10, 13, 20, 4, 13, 17, 20, 5, 18, 2, 3, 1, 3, 4, 5, 6, 7, 8, 9, 10, 11, 12, 13, 14, 15, 16, 17, 19, 16, 19, 16, 17, 6, 12, 19, 20, 1, 3, 13, 9, 15, 16, 2, 8, 4, 6, 12, 6, 12, 20, 6, 9, 14, 7, 11, 3, 4, 5, 6, 11, 12, 13, 14, 17, 5, 8, 11, 13, 1, 2, 4, 7, 8, 11, 18, 19, 3, 10, 2, 3, 18, 8, 9, 1, 4, 9, 14, 19, 1, 3, 6, 11, 12, 14, 16, 7, 11, 1, 12, 18, 2, 17, 4, 16, 20, 9, 18, 6, 9, 5, 10, 7, 10, 12, 15, 2, 4, 9, 11, 3, 10, 15, 3, 14, 20, 13, 14, 5, 6, 10, 14, 19, 20, 1, 2, 3, 10, 13, 17, 5, 14, 3, 11, 10, 11, 5, 20, 7, 18, 2, 18, 3, 15, 14, 19, 1, 9, 5, 13, 6, 9, 12, 17, 20, 6, 8, 19, 12, 6, 8, 10, 14, 15, 20, 8, 10, 11, 12, 17, 5, 10, 15, 1, 4, 10, 20, 2, 3, 9, 14, 15, 9, 16, 1, 3, 5, 9, 10, 13, 14, 17, 1, 2, 3, 4, 14, 16, 4, 5, 2, 13, 1, 13, 14, 16, 10, 14, 4, 9, 1, 5, 2, 15, 6, 10, 5, 17, 2, 3, 10, 17, 3, 5, 10, 13, 4, 6, 1, 12, 10, 15, 15, 12, 17, 6, 13, 1, 2, 9, 12, 14, 1, 13, 6, 16, 3, 6, 7, 11, 17, 2, 15, 18, 2, 4, 1, 3, 7, 13, 6, 15, 19, 6, 9, 1, 9, 12, 13, 17, 10, 13, 3, 18, 9, 13, 9, 15, 18, 3, 15, 18, 19, 1, 3, 9, 19, 4, 6, 14, 1, 2, 3, 8, 9, 11, 5, 10, 17, 18, 3, 19, 9, 19, 3, 7, 19, 3, 14, 2, 8, 19, 2, 3, 4, 7, 10, 12, 15, 1, 5, 7, 16, 10, 2, 7, 8, 9, 11, 14, 16, 19, 1, 5, 20, 1, 5, 5, 4, 16, 11, 14, 6, 14, 8, 18, 8, 10, 4, 9, 4, 12, 14, 19, 9, 14, 17, 3, 6, 7, 11, 12, 13, 14, 19, 1, 5, 7, 8, 12, 13, 4, 5, 8, 10, 9, 11, 3, 7, 2, 5, 9, 14, 7, 13], \"Freq\": [0.40984365344047546, 0.40984365344047546, 0.4066011607646942, 0.4066011607646942, 0.4026409089565277, 0.4026409089565277, 0.40495285391807556, 0.40495285391807556, 0.3979381322860718, 0.3979381322860718, 0.40805503726005554, 0.40805503726005554, 0.3989802598953247, 0.3989802598953247, 0.3195067346096039, 0.3195067346096039, 0.3195067346096039, 0.490220844745636, 0.245110422372818, 0.245110422372818, 0.13321594893932343, 0.13321594893932343, 0.13321594893932343, 0.39964786171913147, 0.26643189787864685, 0.5069441795349121, 0.25347208976745605, 0.25347208976745605, 0.3960281014442444, 0.3960281014442444, 0.3979381322860718, 0.3979381322860718, 0.11112391948699951, 0.11112391948699951, 0.22224783897399902, 0.11112391948699951, 0.11112391948699951, 0.11112391948699951, 0.11112391948699951, 0.11112391948699951, 0.2046506106853485, 0.2046506106853485, 0.2046506106853485, 0.2046506106853485, 0.2046506106853485, 0.4066011607646942, 0.4066011607646942, 0.41029056906700134, 0.41029056906700134, 0.40878087282180786, 0.40878087282180786, 0.39742088317871094, 0.39742088317871094, 0.3106735050678253, 0.6213470101356506, 0.20486240088939667, 0.40972480177879333, 0.20486240088939667, 0.20486240088939667, 0.24227075278759003, 0.08075691759586334, 0.08075691759586334, 0.08075691759586334, 0.08075691759586334, 0.24227075278759003, 0.08075691759586334, 0.08075691759586334, 0.08075691759586334, 0.08184678107500076, 0.2455403357744217, 0.08184678107500076, 0.08184678107500076, 0.2455403357744217, 0.08184678107500076, 0.08184678107500076, 0.08184678107500076, 0.08184678107500076, 0.41406556963920593, 0.41406556963920593, 0.08775366097688675, 0.08775366097688675, 0.1755073219537735, 0.08775366097688675, 0.1755073219537735, 0.08775366097688675, 0.1755073219537735, 0.08775366097688675, 0.08775366097688675, 0.08775366097688675, 0.3979381322860718, 0.3979381322860718, 0.4101850390434265, 0.4101850390434265, 0.2415294051170349, 0.2415294051170349, 0.2415294051170349, 0.2415294051170349, 0.4028112292289734, 0.4028112292289734, 0.39742088317871094, 0.39742088317871094, 0.8375707864761353, 0.42243310809135437, 0.42243310809135437, 0.4047316908836365, 0.4047316908836365, 0.42191746830940247, 0.42191746830940247, 0.4047316908836365, 0.4047316908836365, 0.21822425723075867, 0.06234978511929512, 0.06234978511929512, 0.15587446093559265, 0.06234978511929512, 0.03117489255964756, 0.09352467954158783, 0.06234978511929512, 0.03117489255964756, 0.06234978511929512, 0.09352467954158783, 0.03117489255964756, 0.03117489255964756, 0.06234978511929512, 0.03117489255964756, 0.425971657037735, 0.425971657037735, 0.4150230586528778, 0.4150230586528778, 0.4229370057582855, 0.4229370057582855, 0.4021896421909332, 0.4021896421909332, 0.4221895635128021, 0.4221895635128021, 0.25052088499069214, 0.25052088499069214, 0.25052088499069214, 0.25052088499069214, 0.22529160976409912, 0.11264580488204956, 0.22529160976409912, 0.11264580488204956, 0.11264580488204956, 0.11264580488204956, 0.11264580488204956, 0.4247781038284302, 0.4247781038284302, 0.42533931136131287, 0.42533931136131287, 0.12332566827535629, 0.12332566827535629, 0.24665133655071259, 0.12332566827535629, 0.12332566827535629, 0.12332566827535629, 0.12332566827535629, 0.12332566827535629, 0.40918734669685364, 0.40918734669685364, 0.4221895635128021, 0.4221895635128021, 0.2392042726278305, 0.2392042726278305, 0.11960213631391525, 0.11960213631391525, 0.11960213631391525, 0.11960213631391525, 0.11960213631391525, 0.4093281328678131, 0.4093281328678131, 0.4026409089565277, 0.4026409089565277, 0.1757810413837433, 0.1757810413837433, 0.1757810413837433, 0.3515620827674866, 0.1757810413837433, 0.15571989119052887, 0.15571989119052887, 0.15571989119052887, 0.15571989119052887, 0.15571989119052887, 0.15571989119052887, 0.15571989119052887, 0.40166130661964417, 0.40166130661964417, 0.39730092883110046, 0.39730092883110046, 0.4100831151008606, 0.4100831151008606, 0.15445242822170258, 0.15445242822170258, 0.30890485644340515, 0.15445242822170258, 0.15445242822170258, 0.15445242822170258, 0.4028112292289734, 0.4028112292289734, 0.398786336183548, 0.398786336183548, 0.3043104410171509, 0.3043104410171509, 0.3043104410171509, 0.21021859347820282, 0.42043718695640564, 0.21021859347820282, 0.21021859347820282, 0.504069983959198, 0.252034991979599, 0.252034991979599, 0.4142880141735077, 0.4142880141735077, 0.30292510986328125, 0.30292510986328125, 0.30292510986328125, 0.4142880141735077, 0.4142880141735077, 0.40728095173835754, 0.40728095173835754, 0.41721242666244507, 0.41721242666244507, 0.20837683975696564, 0.4167536795139313, 0.20837683975696564, 0.20837683975696564, 0.791752278804779, 0.24365811049938202, 0.24365811049938202, 0.48731622099876404, 0.11085359007120132, 0.11085359007120132, 0.22170718014240265, 0.11085359007120132, 0.11085359007120132, 0.22170718014240265, 0.22170718014240265, 0.4157089293003082, 0.2078544646501541, 0.2078544646501541, 0.2078544646501541, 0.4092409908771515, 0.4092409908771515, 0.08743477612733841, 0.043717388063669205, 0.08743477612733841, 0.08743477612733841, 0.1311521679162979, 0.043717388063669205, 0.043717388063669205, 0.1311521679162979, 0.043717388063669205, 0.1311521679162979, 0.08743477612733841, 0.043717388063669205, 0.043717388063669205, 0.043717388063669205, 0.3094237446784973, 0.3094237446784973, 0.3094237446784973, 0.4028112292289734, 0.4028112292289734, 0.4017826318740845, 0.20089131593704224, 0.20089131593704224, 0.20089131593704224, 0.3018161654472351, 0.10060539096593857, 0.20121078193187714, 0.20121078193187714, 0.10060539096593857, 0.2518426477909088, 0.2518426477909088, 0.5036852955818176, 0.4047873914241791, 0.4047873914241791, 0.41023141145706177, 0.41023141145706177, 0.41252490878105164, 0.41252490878105164, 0.41987723112106323, 0.30367109179496765, 0.6073421835899353, 0.11148026585578918, 0.22296053171157837, 0.33444079756736755, 0.22296053171157837, 0.4038102924823761, 0.4038102924823761, 0.41373881697654724, 0.41373881697654724, 0.2484014928340912, 0.2484014928340912, 0.4968029856681824, 0.4225449860095978, 0.4225449860095978, 0.402189701795578, 0.402189701795578, 0.39990168809890747, 0.1333005577325821, 0.2666011154651642, 0.1333005577325821, 0.1333005577325821, 0.1382000893354416, 0.1382000893354416, 0.1382000893354416, 0.1382000893354416, 0.1382000893354416, 0.1382000893354416, 0.1382000893354416, 0.1382000893354416, 0.20806969702243805, 0.20806969702243805, 0.20806969702243805, 0.4161393940448761, 0.08748029172420502, 0.08748029172420502, 0.17496058344841003, 0.08748029172420502, 0.08748029172420502, 0.17496058344841003, 0.17496058344841003, 0.08748029172420502, 0.08748029172420502, 0.4052252173423767, 0.4052252173423767, 0.0736183449625969, 0.1472366899251938, 0.0736183449625969, 0.1472366899251938, 0.1472366899251938, 0.0736183449625969, 0.0736183449625969, 0.1472366899251938, 0.1472366899251938, 0.41974008083343506, 0.41974008083343506, 0.41494229435920715, 0.41494229435920715, 0.1364954710006714, 0.1364954710006714, 0.1364954710006714, 0.1364954710006714, 0.1364954710006714, 0.1364954710006714, 0.1364954710006714, 0.1364954710006714, 0.4091137647628784, 0.4091137647628784, 0.4148344099521637, 0.4148344099521637, 0.25006502866744995, 0.25006502866744995, 0.25006502866744995, 0.25006502866744995, 0.804758608341217, 0.4054712951183319, 0.4054712951183319, 0.34474778175354004, 0.17237389087677002, 0.17237389087677002, 0.17237389087677002, 0.17237389087677002, 0.2803226113319397, 0.09344087541103363, 0.18688175082206726, 0.18688175082206726, 0.18688175082206726, 0.18688175082206726, 0.09305194020271301, 0.13957791030406952, 0.046525970101356506, 0.13957791030406952, 0.18610388040542603, 0.13957791030406952, 0.046525970101356506, 0.046525970101356506, 0.09305194020271301, 0.046525970101356506, 0.046525970101356506, 0.30310919880867004, 0.30310919880867004, 0.30310919880867004, 0.4174933433532715, 0.4174933433532715, 0.6289719939231873, 0.31448599696159363, 0.5996677875518799, 0.29983389377593994, 0.40283864736557007, 0.40283864736557007, 0.31255409121513367, 0.31255409121513367, 0.31255409121513367, 0.24799980223178864, 0.24799980223178864, 0.24799980223178864, 0.24799980223178864, 0.29649609327316284, 0.29649609327316284, 0.29649609327316284, 0.10252349078655243, 0.10252349078655243, 0.10252349078655243, 0.10252349078655243, 0.10252349078655243, 0.10252349078655243, 0.10252349078655243, 0.10252349078655243, 0.20504698157310486, 0.41173210740089417, 0.41173210740089417, 0.4126157760620117, 0.4126157760620117, 0.1535637080669403, 0.3071274161338806, 0.1535637080669403, 0.3071274161338806, 0.1535637080669403, 0.40837568044662476, 0.40837568044662476, 0.4267718493938446, 0.4267718493938446, 0.4148344099521637, 0.4148344099521637, 0.3955158591270447, 0.3955158591270447, 0.304606169462204, 0.304606169462204, 0.304606169462204, 0.6261516213417053, 0.31307581067085266, 0.30553099513053894, 0.6110619902610779, 0.4130517542362213, 0.4130517542362213, 0.24678383767604828, 0.24678383767604828, 0.24678383767604828, 0.24678383767604828, 0.42129698395729065, 0.42129698395729065, 0.4041130542755127, 0.4041130542755127, 0.12257117033004761, 0.12257117033004761, 0.12257117033004761, 0.24514234066009521, 0.12257117033004761, 0.24514234066009521, 0.12257117033004761, 0.23905976116657257, 0.23905976116657257, 0.47811952233314514, 0.4041130542755127, 0.4041130542755127, 0.837131142616272, 0.20923636853694916, 0.4184727370738983, 0.20923636853694916, 0.20923636853694916, 0.4046478867530823, 0.4046478867530823, 0.30125313997268677, 0.30125313997268677, 0.30125313997268677, 0.17225219309329987, 0.34450438618659973, 0.34450438618659973, 0.17225219309329987, 0.40411311388015747, 0.40411311388015747, 0.24067182838916779, 0.48134365677833557, 0.24067182838916779, 0.150150865316391, 0.150150865316391, 0.150150865316391, 0.150150865316391, 0.150150865316391, 0.150150865316391, 0.150150865316391, 0.1350768357515335, 0.270153671503067, 0.1350768357515335, 0.270153671503067, 0.270153671503067, 0.24139918386936188, 0.12069959193468094, 0.24139918386936188, 0.24139918386936188, 0.12069959193468094, 0.12069959193468094, 0.11094504594802856, 0.11094504594802856, 0.11094504594802856, 0.22189009189605713, 0.22189009189605713, 0.22189009189605713, 0.41255471110343933, 0.41255471110343933, 0.40296193957328796, 0.40296193957328796, 0.2085648626089096, 0.1042824313044548, 0.1042824313044548, 0.1042824313044548, 0.2085648626089096, 0.2085648626089096, 0.2085648626089096, 0.4732532501220703, 0.23662662506103516, 0.23662662506103516, 0.17258936166763306, 0.17258936166763306, 0.3451787233352661, 0.3451787233352661, 0.4267718493938446, 0.4267718493938446, 0.03794490545988083, 0.18972453474998474, 0.03794490545988083, 0.03794490545988083, 0.11383471637964249, 0.03794490545988083, 0.03794490545988083, 0.07588981091976166, 0.11383471637964249, 0.07588981091976166, 0.03794490545988083, 0.07588981091976166, 0.03794490545988083, 0.07588981091976166, 0.12345480918884277, 0.12345480918884277, 0.12345480918884277, 0.3703644275665283, 0.12345480918884277, 0.12345480918884277, 0.12345480918884277, 0.4033777713775635, 0.4033777713775635, 0.4066011607646942, 0.4066011607646942, 0.40975067019462585, 0.40975067019462585, 0.4165786802768707, 0.4165786802768707, 0.361081600189209, 0.1805408000946045, 0.1805408000946045, 0.1805408000946045, 0.3947317600250244, 0.3947317600250244, 0.8223382830619812, 0.40566790103912354, 0.40566790103912354, 0.4186754524707794, 0.4186754524707794, 0.25387242436408997, 0.5077448487281799, 0.4270082116127014, 0.4270082116127014, 0.7871878147125244, 0.24435652792453766, 0.12217826396226883, 0.12217826396226883, 0.12217826396226883, 0.12217826396226883, 0.12217826396226883, 0.12217826396226883, 0.12217826396226883, 0.4106883108615875, 0.4106883108615875, 0.27555495500564575, 0.13777747750282288, 0.13777747750282288, 0.13777747750282288, 0.13777747750282288, 0.27555495500564575, 0.3067132532596588, 0.3067132532596588, 0.3067132532596588, 0.313785582780838, 0.313785582780838, 0.313785582780838, 0.42191746830940247, 0.42191746830940247, 0.8070924878120422, 0.13583461940288544, 0.13583461940288544, 0.13583461940288544, 0.06791730970144272, 0.06791730970144272, 0.13583461940288544, 0.06791730970144272, 0.06791730970144272, 0.06791730970144272, 0.06791730970144272, 0.13583461940288544, 0.49036136269569397, 0.24518068134784698, 0.24518068134784698, 0.4073149263858795, 0.4073149263858795, 0.4202880263328552, 0.4202880263328552, 0.18216915428638458, 0.06072305142879486, 0.06072305142879486, 0.06072305142879486, 0.06072305142879486, 0.06072305142879486, 0.06072305142879486, 0.12144610285758972, 0.06072305142879486, 0.06072305142879486, 0.06072305142879486, 0.06072305142879486, 0.06072305142879486, 0.06072305142879486, 0.15374499559402466, 0.15374499559402466, 0.3074899911880493, 0.3074899911880493, 0.15374499559402466, 0.08652658760547638, 0.08652658760547638, 0.08652658760547638, 0.08652658760547638, 0.17305317521095276, 0.08652658760547638, 0.08652658760547638, 0.08652658760547638, 0.08652658760547638, 0.17305317521095276, 0.31143611669540405, 0.31143611669540405, 0.31143611669540405, 0.42597171664237976, 0.42597171664237976, 0.40566790103912354, 0.40566790103912354, 0.40783095359802246, 0.40783095359802246, 0.40735357999801636, 0.24423523247241974, 0.24423523247241974, 0.24423523247241974, 0.24423523247241974, 0.30420300364494324, 0.30420300364494324, 0.30420300364494324, 0.4021896421909332, 0.4021896421909332, 0.40998002886772156, 0.40998002886772156, 0.09416837245225906, 0.09416837245225906, 0.18833674490451813, 0.2825050950050354, 0.09416837245225906, 0.18833674490451813, 0.09416837245225906, 0.09416837245225906, 0.422824889421463, 0.422824889421463, 0.07300619035959244, 0.14601238071918488, 0.14601238071918488, 0.07300619035959244, 0.14601238071918488, 0.07300619035959244, 0.07300619035959244, 0.07300619035959244, 0.14601238071918488, 0.07300619035959244, 0.4247781038284302, 0.4247781038284302, 0.412334144115448, 0.412334144115448, 0.40218961238861084, 0.40218961238861084, 0.12118653953075409, 0.12118653953075409, 0.12118653953075409, 0.24237307906150818, 0.24237307906150818, 0.12118653953075409, 0.12118653953075409, 0.2462303787469864, 0.2462303787469864, 0.2462303787469864, 0.2462303787469864, 0.29811781644821167, 0.29811781644821167, 0.29811781644821167, 0.4089098870754242, 0.4089098870754242, 0.20850522816181183, 0.20850522816181183, 0.20850522816181183, 0.20850522816181183, 0.20850522816181183, 0.3054410219192505, 0.610882043838501, 0.4100831151008606, 0.4100831151008606, 0.6007330417633057, 0.30036652088165283, 0.39710867404937744, 0.39710867404937744, 0.09431576728820801, 0.18863153457641602, 0.09431576728820801, 0.23578941822052002, 0.047157883644104004, 0.09431576728820801, 0.047157883644104004, 0.047157883644104004, 0.047157883644104004, 0.047157883644104004, 0.047157883644104004, 0.09431576728820801, 0.14273601770401, 0.071368008852005, 0.071368008852005, 0.071368008852005, 0.14273601770401, 0.28547203540802, 0.14273601770401, 0.071368008852005, 0.071368008852005, 0.83268141746521, 0.3095543682575226, 0.6191087365150452, 0.40878087282180786, 0.40878087282180786, 0.40515825152397156, 0.40515825152397156, 0.4165786802768707, 0.4165786802768707, 0.40986043214797974, 0.20493021607398987, 0.20493021607398987, 0.20493021607398987, 0.4005768597126007, 0.4005768597126007, 0.4202880263328552, 0.4202880263328552, 0.13681663572788239, 0.13681663572788239, 0.13681663572788239, 0.27363327145576477, 0.13681663572788239, 0.13681663572788239, 0.13681663572788239, 0.5081477165222168, 0.2540738582611084, 0.42609891295433044, 0.12174254655838013, 0.060871273279190063, 0.060871273279190063, 0.060871273279190063, 0.12174254655838013, 0.060871273279190063, 0.060871273279190063, 0.060871273279190063, 0.47982165217399597, 0.23991082608699799, 0.23991082608699799, 0.4142747223377228, 0.4142747223377228, 0.4026409089565277, 0.4026409089565277, 0.3487425148487091, 0.17437125742435455, 0.17437125742435455, 0.17437125742435455, 0.17437125742435455, 0.06496629118919373, 0.32483145594596863, 0.06496629118919373, 0.06496629118919373, 0.19489887356758118, 0.06496629118919373, 0.06496629118919373, 0.12993258237838745, 0.06496629118919373, 0.8463907837867737, 0.2430204451084137, 0.12151022255420685, 0.2430204451084137, 0.36453068256378174, 0.12151022255420685, 0.4150230586528778, 0.4150230586528778, 0.407858282327652, 0.407858282327652, 0.40838709473609924, 0.40838709473609924, 0.08724576979875565, 0.1744915395975113, 0.1744915395975113, 0.08724576979875565, 0.08724576979875565, 0.1744915395975113, 0.08724576979875565, 0.08724576979875565, 0.08724576979875565, 0.476522296667099, 0.11913057416677475, 0.11913057416677475, 0.11913057416677475, 0.11913057416677475, 0.11913057416677475, 0.5913606286048889, 0.19712020456790924, 0.19712020456790924, 0.837131142616272, 0.4105588495731354, 0.4105588495731354, 0.41173210740089417, 0.41173210740089417, 0.40016990900039673, 0.20008495450019836, 0.20008495450019836, 0.20008495450019836, 0.06393236666917801, 0.31966185569763184, 0.12786473333835602, 0.06393236666917801, 0.12786473333835602, 0.06393236666917801, 0.06393236666917801, 0.12786473333835602, 0.06393236666917801, 0.06393236666917801, 0.13526923954486847, 0.13526923954486847, 0.13526923954486847, 0.13526923954486847, 0.13526923954486847, 0.27053847908973694, 0.07269147038459778, 0.14538294076919556, 0.21807441115379333, 0.07269147038459778, 0.07269147038459778, 0.21807441115379333, 0.14538294076919556, 0.14538294076919556, 0.3087143301963806, 0.3087143301963806, 0.3087143301963806, 0.20046287775039673, 0.10023143887519836, 0.20046287775039673, 0.10023143887519836, 0.3006943166255951, 0.10023143887519836, 0.10023143887519836, 0.4093649685382843, 0.4093649685382843, 0.3102542757987976, 0.3102542757987976, 0.3102542757987976, 0.9060525894165039, 0.1791958510875702, 0.1791958510875702, 0.1791958510875702, 0.3583917021751404, 0.41440504789352417, 0.41440504789352417, 0.2652883529663086, 0.044214725494384766, 0.044214725494384766, 0.1326441764831543, 0.1326441764831543, 0.08842945098876953, 0.1326441764831543, 0.08842945098876953, 0.044214725494384766, 0.044214725494384766, 0.044214725494384766, 0.4184362292289734, 0.4184362292289734, 0.412817120552063, 0.412817120552063, 0.40675392746925354, 0.40675392746925354, 0.24529814720153809, 0.49059629440307617, 0.24529814720153809, 0.40442368388175964, 0.40442368388175964, 0.20891058444976807, 0.20891058444976807, 0.20891058444976807, 0.20891058444976807, 0.20891058444976807, 0.41203224658966064, 0.41203224658966064, 0.35061487555503845, 0.17530743777751923, 0.17530743777751923, 0.17530743777751923, 0.17530743777751923, 0.1373702436685562, 0.1373702436685562, 0.1373702436685562, 0.2747404873371124, 0.1373702436685562, 0.2747404873371124, 0.24723055958747864, 0.24723055958747864, 0.24723055958747864, 0.24723055958747864, 0.1505332738161087, 0.1505332738161087, 0.1505332738161087, 0.1505332738161087, 0.3010665476322174, 0.1505332738161087, 0.4014700651168823, 0.4014700651168823, 0.21829064190387726, 0.21829064190387726, 0.054572660475969315, 0.10914532095193863, 0.054572660475969315, 0.16371798515319824, 0.16371798515319824, 0.054572660475969315, 0.054572660475969315, 0.054572660475969315, 0.23293745517730713, 0.046587493270635605, 0.046587493270635605, 0.09317498654127121, 0.18634997308254242, 0.046587493270635605, 0.09317498654127121, 0.09317498654127121, 0.09317498654127121, 0.046587493270635605, 0.046587493270635605, 0.046587493270635605, 0.39742088317871094, 0.39742088317871094, 0.40368330478668213, 0.40368330478668213, 0.37541261315345764, 0.2502750754356384, 0.1251375377178192, 0.1251375377178192, 0.1251375377178192, 0.17401930689811707, 0.34803861379623413, 0.17401930689811707, 0.17401930689811707, 0.17401930689811707, 0.20940691232681274, 0.4188138246536255, 0.20940691232681274, 0.3947317898273468, 0.3947317898273468, 0.25002050399780273, 0.5000410079956055, 0.25002050399780273, 0.3059109151363373, 0.15295545756816864, 0.15295545756816864, 0.3059109151363373, 0.15295545756816864, 0.11469686031341553, 0.1433710753917694, 0.1720452904701233, 0.20071950554847717, 0.028674215078353882, 0.028674215078353882, 0.08602264523506165, 0.028674215078353882, 0.028674215078353882, 0.057348430156707764, 0.028674215078353882, 0.057348430156707764, 0.028674215078353882, 0.057348430156707764, 0.4099554419517517, 0.4099554419517517, 0.4208677411079407, 0.4208677411079407, 0.15326610207557678, 0.15326610207557678, 0.45979830622673035, 0.15326610207557678, 0.15326610207557678, 0.1357915848493576, 0.1357915848493576, 0.1357915848493576, 0.1357915848493576, 0.1357915848493576, 0.1357915848493576, 0.1357915848493576, 0.1357915848493576, 0.3028777539730072, 0.3028777539730072, 0.3028777539730072, 0.15490257740020752, 0.30980515480041504, 0.15490257740020752, 0.15490257740020752, 0.15490257740020752, 0.15059413015842438, 0.30118826031684875, 0.15059413015842438, 0.15059413015842438, 0.15059413015842438, 0.15059413015842438, 0.4173762798309326, 0.4173762798309326, 0.4028112292289734, 0.4028112292289734, 0.18664617836475372, 0.12443078309297562, 0.06221539154648781, 0.18664617836475372, 0.12443078309297562, 0.18664617836475372, 0.06221539154648781, 0.12443078309297562, 0.06221539154648781, 0.5902156233787537, 0.14755390584468842, 0.14755390584468842, 0.20208367705345154, 0.20208367705345154, 0.4041673541069031, 0.24922727048397064, 0.24922727048397064, 0.4984545409679413, 0.4208677411079407, 0.4208677411079407, 0.3151406943798065, 0.3151406943798065, 0.3151406943798065, 0.4202880263328552, 0.4202880263328552, 0.40507742762565613, 0.40507742762565613, 0.24351529777050018, 0.48703059554100037, 0.33200523257255554, 0.11066841334104538, 0.11066841334104538, 0.11066841334104538, 0.11066841334104538, 0.11066841334104538, 0.11066841334104538, 0.11066841334104538, 0.4174501895904541, 0.4174501895904541, 0.4092409908771515, 0.4092409908771515, 0.15297752618789673, 0.30595505237579346, 0.15297752618789673, 0.15297752618789673, 0.15297752618789673, 0.4105588495731354, 0.4105588495731354, 0.3984668552875519, 0.19923342764377594, 0.19923342764377594, 0.19923342764377594, 0.3060927093029022, 0.1530463546514511, 0.1530463546514511, 0.1530463546514511, 0.1530463546514511, 0.1530463546514511, 0.2266751527786255, 0.0755583867430687, 0.0755583867430687, 0.0755583867430687, 0.2266751527786255, 0.1511167734861374, 0.0755583867430687, 0.0755583867430687, 0.13637420535087585, 0.13637420535087585, 0.2727484107017517, 0.13637420535087585, 0.13637420535087585, 0.2727484107017517, 0.4230569005012512, 0.4230569005012512, 0.3051441013813019, 0.3051441013813019, 0.3051441013813019, 0.30383428931236267, 0.30383428931236267, 0.30383428931236267, 0.49857452511787415, 0.49857452511787415, 0.4171852469444275, 0.4171852469444275, 0.2023221254348755, 0.2023221254348755, 0.404644250869751, 0.2023221254348755, 0.4138985276222229, 0.4138985276222229, 0.4174933433532715, 0.4174933433532715, 0.588931679725647, 0.2944658398628235, 0.39542609453201294, 0.39542609453201294, 0.1006024107336998, 0.2012048214673996, 0.2012048214673996, 0.1006024107336998, 0.2012048214673996, 0.1006024107336998, 0.1006024107336998, 0.4089098572731018, 0.4089098572731018, 0.41726744174957275, 0.41726744174957275, 0.4165786802768707, 0.4165786802768707, 0.4096006453037262, 0.4096006453037262, 0.34720098972320557, 0.17360049486160278, 0.17360049486160278, 0.17360049486160278, 0.17360049486160278, 0.41863295435905457, 0.41863295435905457, 0.30560556054115295, 0.30560556054115295, 0.41068828105926514, 0.41068828105926514, 0.4221896231174469, 0.4221896231174469, 0.606171190738678, 0.303085595369339, 0.41494229435920715, 0.41494229435920715, 0.4148344099521637, 0.4148344099521637, 0.41559216380119324, 0.41559216380119324, 0.20795446634292603, 0.20795446634292603, 0.20795446634292603, 0.41590893268585205, 0.416959673166275, 0.416959673166275, 0.39422279596328735, 0.39422279596328735, 0.3084186017513275, 0.3084186017513275, 0.3084186017513275, 0.4000527262687683, 0.4000527262687683, 0.2415836900472641, 0.2415836900472641, 0.2415836900472641, 0.2415836900472641, 0.4179849326610565, 0.20899246633052826, 0.4179849326610565, 0.25284674763679504, 0.5056934952735901, 0.25284674763679504, 0.3152533769607544, 0.3152533769607544, 0.3152533769607544, 0.41292405128479004, 0.41292405128479004, 0.41173210740089417, 0.41173210740089417, 0.2037406861782074, 0.6112220883369446, 0.2037406861782074, 0.4070086181163788, 0.4070086181163788, 0.41255471110343933, 0.41255471110343933, 0.42028874158859253, 0.42028874158859253, 0.4082825183868408, 0.4082825183868408, 0.398786336183548, 0.398786336183548, 0.4072212278842926, 0.4072212278842926, 0.13471461832523346, 0.13471461832523346, 0.13471461832523346, 0.2694292366504669, 0.13471461832523346, 0.13471461832523346, 0.13471461832523346, 0.1727171540260315, 0.1727171540260315, 0.1727171540260315, 0.1727171540260315, 0.1727171540260315, 0.34793394804000854, 0.17396697402000427, 0.17396697402000427, 0.17396697402000427, 0.4109187126159668, 0.4109187126159668, 0.41402870416641235, 0.41402870416641235, 0.1792251616716385, 0.1792251616716385, 0.358450323343277, 0.1792251616716385, 0.3089814782142639, 0.3089814782142639, 0.41018497943878174, 0.41018497943878174, 0.83268141746521, 0.41255471110343933, 0.41255471110343933, 0.17954608798027039, 0.35909217596054077, 0.17954608798027039, 0.17954608798027039, 0.17954608798027039, 0.4270082116127014, 0.4270082116127014, 0.13487479090690613, 0.1011560931801796, 0.03371869772672653, 0.03371869772672653, 0.06743739545345306, 0.03371869772672653, 0.16859349608421326, 0.1011560931801796, 0.06743739545345306, 0.06743739545345306, 0.06743739545345306, 0.06743739545345306, 0.03371869772672653, 0.06743739545345306, 0.8527454733848572, 0.4815486967563629, 0.24077434837818146, 0.24077434837818146, 0.83268141746521, 0.06788184493780136, 0.06788184493780136, 0.06788184493780136, 0.13576368987560272, 0.06788184493780136, 0.2036455273628235, 0.3394092321395874, 0.13576368987560272, 0.4713331162929535, 0.04284846410155296, 0.12854540348052979, 0.04284846410155296, 0.04284846410155296, 0.08569692820310593, 0.08569692820310593, 0.04284846410155296, 0.08569692820310593, 0.3180548846721649, 0.3180548846721649, 0.3180548846721649, 0.4021896421909332, 0.4021896421909332, 0.814448893070221, 0.21005204319953918, 0.42010408639907837, 0.21005204319953918, 0.4100854694843292, 0.4100854694843292, 0.24605268239974976, 0.24605268239974976, 0.24605268239974976, 0.24605268239974976, 0.4183265268802643, 0.4183265268802643, 0.42117634415626526, 0.42117634415626526, 0.2187226116657257, 0.10936130583286285, 0.32808393239974976, 0.10936130583286285, 0.10936130583286285, 0.10936130583286285, 0.189491406083107, 0.0947457030415535, 0.2842371165752411, 0.0947457030415535, 0.0947457030415535, 0.189491406083107, 0.0947457030415535, 0.0947457030415535, 0.4054712951183319, 0.4054712951183319, 0.8223382830619812, 0.2069719135761261, 0.2069719135761261, 0.2069719135761261, 0.2069719135761261, 0.2069719135761261, 0.24745486676692963, 0.24745486676692963, 0.24745486676692963, 0.24745486676692963, 0.4094836711883545, 0.4094836711883545, 0.39718005061149597, 0.39718005061149597, 0.4165786802768707, 0.4165786802768707, 0.10210825502872467, 0.10210825502872467, 0.3063247501850128, 0.10210825502872467, 0.20421651005744934, 0.10210825502872467, 0.10210825502872467, 0.4099138081073761, 0.4099138081073761, 0.40690478682518005, 0.40690478682518005, 0.4093649685382843, 0.4093649685382843, 0.4230569005012512, 0.4230569005012512, 0.20052611827850342, 0.20052611827850342, 0.40105223655700684, 0.20052611827850342, 0.6036658883094788, 0.3018329441547394, 0.41449734568595886, 0.41449734568595886, 0.4066011607646942, 0.4066011607646942, 0.41863295435905457, 0.41863295435905457, 0.4046478867530823, 0.4046478867530823, 0.41459956765174866, 0.41459956765174866, 0.785166323184967, 0.4208677411079407, 0.4208677411079407, 0.3979381322860718, 0.3979381322860718, 0.40713247656822205, 0.40713247656822205, 0.20356623828411102, 0.4100831151008606, 0.4100831151008606, 0.09383530914783478, 0.2815059423446655, 0.18767061829566956, 0.09383530914783478, 0.09383530914783478, 0.09383530914783478, 0.09383530914783478, 0.09383530914783478, 0.4046478867530823, 0.4046478867530823, 0.5928165316581726, 0.2964082658290863, 0.4109187126159668, 0.4109187126159668, 0.12307056784629822, 0.24614113569259644, 0.12307056784629822, 0.12307056784629822, 0.24614113569259644, 0.17806315422058105, 0.3561263084411621, 0.17806315422058105, 0.17806315422058105, 0.17806315422058105, 0.406399667263031, 0.406399667263031, 0.40878087282180786, 0.40878087282180786, 0.15605834126472473, 0.15605834126472473, 0.31211668252944946, 0.15605834126472473, 0.15605834126472473, 0.3989803194999695, 0.3989803194999695, 0.41196149587631226, 0.41196149587631226, 0.30100446939468384, 0.6020089387893677, 0.2991308867931366, 0.2991308867931366, 0.2991308867931366, 0.10974941402673721, 0.10974941402673721, 0.21949882805347443, 0.10974941402673721, 0.10974941402673721, 0.10974941402673721, 0.10974941402673721, 0.10974941402673721, 0.3947317600250244, 0.3947317600250244, 0.11052629351615906, 0.11052629351615906, 0.11052629351615906, 0.11052629351615906, 0.22105258703231812, 0.11052629351615906, 0.11052629351615906, 0.11052629351615906, 0.11052629351615906, 0.4020591974258423, 0.4020591974258423, 0.7969852685928345, 0.40193650126457214, 0.40193650126457214, 0.4103128910064697, 0.4103128910064697, 0.31185588240623474, 0.31185588240623474, 0.31185588240623474, 0.40672674775123596, 0.40672674775123596, 0.24836678802967072, 0.24836678802967072, 0.24836678802967072, 0.24836678802967072, 0.41449734568595886, 0.41449734568595886, 0.31257301568984985, 0.31257301568984985, 0.31257301568984985, 0.043616969138383865, 0.043616969138383865, 0.043616969138383865, 0.043616969138383865, 0.043616969138383865, 0.08723393827676773, 0.043616969138383865, 0.043616969138383865, 0.08723393827676773, 0.1308509111404419, 0.043616969138383865, 0.17446787655353546, 0.08723393827676773, 0.08723393827676773, 0.4046478867530823, 0.4046478867530823, 0.12157635390758514, 0.12157635390758514, 0.3647290766239166, 0.12157635390758514, 0.12157635390758514, 0.12157635390758514, 0.056804120540618896, 0.22721648216247559, 0.056804120540618896, 0.056804120540618896, 0.3408247232437134, 0.1704123616218567, 0.056804120540618896, 0.056804120540618896, 0.056804120540618896, 0.4138985276222229, 0.4138985276222229, 0.15256188809871674, 0.15256188809871674, 0.15256188809871674, 0.15256188809871674, 0.15256188809871674, 0.15256188809871674, 0.15256188809871674, 0.17499005794525146, 0.17499005794525146, 0.34998011589050293, 0.17499005794525146, 0.17499005794525146, 0.4047316908836365, 0.4047316908836365, 0.41924554109573364, 0.41924554109573364, 0.4000526964664459, 0.4000526964664459, 0.4000527262687683, 0.4000527262687683, 0.40092894434928894, 0.40092894434928894, 0.40828248858451843, 0.40828248858451843, 0.2068600356578827, 0.2068600356578827, 0.2068600356578827, 0.2068600356578827, 0.2068600356578827, 0.49185627698898315, 0.24592813849449158, 0.24592813849449158, 0.251507967710495, 0.251507967710495, 0.251507967710495, 0.251507967710495, 0.41459956765174866, 0.41459956765174866, 0.3179004490375519, 0.3179004490375519, 0.3179004490375519, 0.16400237381458282, 0.16400237381458282, 0.08200118690729141, 0.08200118690729141, 0.24600356817245483, 0.08200118690729141, 0.08200118690729141, 0.08200118690729141, 0.08200118690729141, 0.4047316908836365, 0.4047316908836365, 0.4054712951183319, 0.4054712951183319, 0.13580359518527985, 0.13580359518527985, 0.40741077065467834, 0.13580359518527985, 0.13580359518527985, 0.13580359518527985, 0.13771364092826843, 0.13771364092826843, 0.27542728185653687, 0.13771364092826843, 0.27542728185653687, 0.837131142616272, 0.254028856754303, 0.508057713508606, 0.254028856754303, 0.41029050946235657, 0.41029050946235657, 0.4901195466518402, 0.4901195466518402, 0.10401162505149841, 0.05200581252574921, 0.05200581252574921, 0.20802325010299683, 0.05200581252574921, 0.026002906262874603, 0.07800871878862381, 0.026002906262874603, 0.10401162505149841, 0.026002906262874603, 0.026002906262874603, 0.05200581252574921, 0.05200581252574921, 0.05200581252574921, 0.026002906262874603, 0.026002906262874603, 0.07800871878862381, 0.42117634415626526, 0.42117634415626526, 0.42258089780807495, 0.42258089780807495, 0.20712143182754517, 0.41424286365509033, 0.20712143182754517, 0.20712143182754517, 0.40424108505249023, 0.20212054252624512, 0.40424108505249023, 0.4171852469444275, 0.4171852469444275, 0.8361753225326538, 0.3955158591270447, 0.3955158591270447, 0.24577553570270538, 0.24577553570270538, 0.49155107140541077, 0.31065016984939575, 0.31065016984939575, 0.31065016984939575, 0.2434120774269104, 0.2434120774269104, 0.4868241548538208, 0.4033777713775635, 0.4033777713775635, 0.1456277072429657, 0.1456277072429657, 0.07281385362148285, 0.07281385362148285, 0.1456277072429657, 0.07281385362148285, 0.21844156086444855, 0.1456277072429657, 0.07281385362148285, 0.24223420023918152, 0.24223420023918152, 0.24223420023918152, 0.24223420023918152, 0.12098067998886108, 0.12098067998886108, 0.12098067998886108, 0.24196135997772217, 0.12098067998886108, 0.12098067998886108, 0.12098067998886108, 0.12098067998886108, 0.30819171667099, 0.61638343334198, 0.30919092893600464, 0.30919092893600464, 0.30919092893600464, 0.4028112292289734, 0.4028112292289734, 0.20417523384094238, 0.20417523384094238, 0.20417523384094238, 0.20417523384094238, 0.20417523384094238, 0.4536237418651581, 0.15120790898799896, 0.15120790898799896, 0.15120790898799896, 0.15120790898799896, 0.40975067019462585, 0.40975067019462585, 0.30403172969818115, 0.6080634593963623, 0.30294743180274963, 0.30294743180274963, 0.30294743180274963, 0.4152497351169586, 0.4152497351169586, 0.2527852952480316, 0.5055705904960632, 0.2527852952480316, 0.41292399168014526, 0.41292399168014526, 0.30763477087020874, 0.6152695417404175, 0.40283864736557007, 0.40283864736557007, 0.3996743857860565, 0.3996743857860565, 0.41462787985801697, 0.41462787985801697, 0.2045551985502243, 0.4091103971004486, 0.2045551985502243, 0.2045551985502243, 0.8527454733848572, 0.4152465760707855, 0.4152465760707855, 0.3132094442844391, 0.3132094442844391, 0.3132094442844391, 0.40475308895111084, 0.40475308895111084, 0.17461273074150085, 0.17461273074150085, 0.17461273074150085, 0.3492254614830017, 0.17461273074150085, 0.4143831729888916, 0.3033682405948639, 0.15168412029743195, 0.15168412029743195, 0.15168412029743195, 0.15168412029743195, 0.15168412029743195, 0.40193650126457214, 0.40193650126457214, 0.41863295435905457, 0.41863295435905457, 0.4073220491409302, 0.4073220491409302, 0.412395715713501, 0.412395715713501, 0.4070086181163788, 0.4070086181163788, 0.40526121854782104, 0.40526121854782104, 0.4270082116127014, 0.4270082116127014, 0.41271689534187317, 0.41271689534187317, 0.3012036383152008, 0.6024072766304016, 0.40495285391807556, 0.40495285391807556, 0.17808851599693298, 0.17808851599693298, 0.17808851599693298, 0.17808851599693298, 0.17808851599693298, 0.4072212278842926, 0.4072212278842926, 0.4186127781867981, 0.804758608341217, 0.30955007672309875, 0.15477503836154938, 0.15477503836154938, 0.15477503836154938, 0.15477503836154938, 0.15477503836154938, 0.40301281213760376, 0.20150640606880188, 0.40301281213760376, 0.41440504789352417, 0.41440504789352417, 0.4095965325832367, 0.4152465760707855, 0.4152465760707855, 0.24549254775047302, 0.24549254775047302, 0.24549254775047302, 0.24549254775047302, 0.34857794642448425, 0.17428897321224213, 0.17428897321224213, 0.17428897321224213, 0.17428897321224213, 0.4125846028327942, 0.4125846028327942, 0.2420763373374939, 0.0806921124458313, 0.1613842248916626, 0.0806921124458313, 0.0806921124458313, 0.2420763373374939, 0.0806921124458313, 0.0806921124458313, 0.08312097936868668, 0.16624195873737335, 0.3324839174747467, 0.16624195873737335, 0.08312097936868668, 0.16624195873737335, 0.6198666095733643, 0.30993330478668213, 0.4000527262687683, 0.4000527262687683, 0.8810432553291321, 0.30669358372688293, 0.30669358372688293, 0.30669358372688293, 0.4026409089565277, 0.4026409089565277, 0.412817120552063, 0.412817120552063, 0.5920525789260864, 0.2960262894630432, 0.4093649685382843, 0.4093649685382843, 0.40984365344047546, 0.40984365344047546, 0.414274662733078, 0.414274662733078, 0.3112354576587677, 0.6224709153175354, 0.4150230586528778, 0.4150230586528778, 0.4138985276222229, 0.4138985276222229, 0.40566790103912354, 0.40566790103912354, 0.4174501895904541, 0.4174501895904541, 0.3979381322860718, 0.3979381322860718, 0.4152465760707855, 0.4152465760707855, 0.8552911281585693, 0.41440504789352417, 0.41440504789352417, 0.41203224658966064, 0.41203224658966064, 0.13212424516677856, 0.26424849033355713, 0.26424849033355713, 0.26424849033355713, 0.13212424516677856, 0.4005768597126007, 0.4005768597126007, 0.41721242666244507, 0.41721242666244507, 0.37973207235336304, 0.2531547248363495, 0.12657736241817474, 0.12657736241817474, 0.12657736241817474, 0.3095249831676483, 0.3095249831676483, 0.3095249831676483, 0.40515825152397156, 0.40515825152397156, 0.2024201601743698, 0.2024201601743698, 0.2024201601743698, 0.4048403203487396, 0.3182145953178406, 0.3182145953178406, 0.3182145953178406, 0.41173210740089417, 0.41173210740089417, 0.20327754318714142, 0.20327754318714142, 0.20327754318714142, 0.20327754318714142, 0.20327754318714142, 0.40566790103912354, 0.40566790103912354, 0.5128181576728821, 0.25640907883644104, 0.40751802921295166, 0.40751802921295166, 0.3137708604335785, 0.3137708604335785, 0.3137708604335785, 0.2562640309333801, 0.2562640309333801, 0.2562640309333801, 0.2562640309333801, 0.24769191443920135, 0.24769191443920135, 0.24769191443920135, 0.24769191443920135, 0.3092047870159149, 0.3092047870159149, 0.3092047870159149, 0.13353241980075836, 0.13353241980075836, 0.13353241980075836, 0.4005972743034363, 0.13353241980075836, 0.13353241980075836, 0.2073488086462021, 0.2073488086462021, 0.2073488086462021, 0.4146976172924042, 0.42533931136131287, 0.42533931136131287, 0.41559216380119324, 0.41559216380119324, 0.3117104470729828, 0.3117104470729828, 0.3117104470729828, 0.4136897921562195, 0.4136897921562195, 0.588931679725647, 0.2944658398628235, 0.8486218452453613, 0.12275354564189911, 0.12275354564189911, 0.24550709128379822, 0.12275354564189911, 0.24550709128379822, 0.12275354564189911, 0.12275354564189911, 0.5882948040962219, 0.19609826803207397, 0.19609826803207397, 0.4184606075286865, 0.8070924878120422, 0.10960065573453903, 0.21920131146907806, 0.21920131146907806, 0.10960065573453903, 0.10960065573453903, 0.10960065573453903, 0.10960065573453903, 0.10960065573453903, 0.48151177167892456, 0.24075588583946228, 0.24075588583946228, 0.3978179097175598, 0.3978179097175598, 0.8042670488357544, 0.3144240081310272, 0.6288480162620544, 0.406399667263031, 0.406399667263031, 0.4089173674583435, 0.4089173674583435, 0.40838709473609924, 0.40838709473609924, 0.40100353956222534, 0.40100353956222534, 0.412817120552063, 0.412817120552063, 0.2470250129699707, 0.2470250129699707, 0.2470250129699707, 0.2470250129699707, 0.30893561244010925, 0.30893561244010925, 0.30893561244010925, 0.17589907348155975, 0.08794953674077988, 0.17589907348155975, 0.17589907348155975, 0.08794953674077988, 0.17589907348155975, 0.08794953674077988, 0.08794953674077988, 0.06570377200841904, 0.1971113234758377, 0.3285188674926758, 0.1971113234758377, 0.06570377200841904, 0.06570377200841904, 0.4101850390434265, 0.4101850390434265, 0.40100353956222534, 0.40100353956222534, 0.40918734669685364, 0.40918734669685364, 0.4105588495731354, 0.4105588495731354, 0.590908408164978, 0.295454204082489, 0.4044634699821472, 0.4044634699821472, 0.4017554521560669, 0.4017554521560669], \"Term\": [\"1000\\u4e07\\u5186\", \"1000\\u4e07\\u5186\", \"10\\u5e74\", \"10\\u5e74\", \"EU\", \"EU\", \"F\\u30e9\\u30f3\", \"F\\u30e9\\u30f3\", \"K\", \"K\", \"\\u3042\\u3044\\u3064\\u3089\", \"\\u3042\\u3044\\u3064\\u3089\", \"\\u3042\\u305f\\u308a\", \"\\u3042\\u305f\\u308a\", \"\\u3044\\u3044\\u3093\\u3058\\u3083\\u306a\\u3044\", \"\\u3044\\u3044\\u3093\\u3058\\u3083\\u306a\\u3044\", \"\\u3044\\u3044\\u3093\\u3058\\u3083\\u306a\\u3044\", \"\\u3044\\u3046\", \"\\u3044\\u3046\", \"\\u3044\\u3046\", \"\\u3044\\u3089\", \"\\u3044\\u3089\", \"\\u3044\\u3089\", \"\\u3044\\u3089\", \"\\u3044\\u3089\", \"\\u3044\\u4eba\", \"\\u3044\\u4eba\", \"\\u3044\\u4eba\", \"\\u3044\\u56fd\", \"\\u3044\\u56fd\", \"\\u3046\\u307e\\u304f\", \"\\u3046\\u307e\\u304f\", \"\\u304a\\u304b\\u3057\\u3044\", \"\\u304a\\u304b\\u3057\\u3044\", \"\\u304a\\u304b\\u3057\\u3044\", \"\\u304a\\u304b\\u3057\\u3044\", \"\\u304a\\u304b\\u3057\\u3044\", \"\\u304a\\u304b\\u3057\\u3044\", \"\\u304a\\u304b\\u3057\\u3044\", \"\\u304a\\u304b\\u3057\\u3044\", \"\\u304a\\u91d1\", \"\\u304a\\u91d1\", \"\\u304a\\u91d1\", \"\\u304a\\u91d1\", \"\\u304a\\u91d1\", \"\\u304b\\u3089\\u3060\", \"\\u304b\\u3089\\u3060\", \"\\u304f\\u3089\\u307e\\u3057\", \"\\u304f\\u3089\\u307e\\u3057\", \"\\u3053\\u3044\\u3064\", \"\\u3053\\u3044\\u3064\", \"\\u3053\\u306e\\u307e\\u307e\", \"\\u3053\\u306e\\u307e\\u307e\", \"\\u3053\\u306e\\u56fd\", \"\\u3053\\u306e\\u56fd\", \"\\u3057\\u308c\", \"\\u3057\\u308c\", \"\\u3057\\u308c\", \"\\u3057\\u308c\", \"\\u3057\\u308d\", \"\\u3057\\u308d\", \"\\u3057\\u308d\", \"\\u3057\\u308d\", \"\\u3057\\u308d\", \"\\u3057\\u308d\", \"\\u3057\\u308d\", \"\\u3057\\u308d\", \"\\u3057\\u308d\", \"\\u3059\\u308c\", \"\\u3059\\u308c\", \"\\u3059\\u308c\", \"\\u3059\\u308c\", \"\\u3059\\u308c\", \"\\u3059\\u308c\", \"\\u3059\\u308c\", \"\\u3059\\u308c\", \"\\u3059\\u308c\", \"\\u305b\\u3088\", \"\\u305b\\u3088\", \"\\u305b\\u308b\", \"\\u305b\\u308b\", \"\\u305b\\u308b\", \"\\u305b\\u308b\", \"\\u305b\\u308b\", \"\\u305b\\u308b\", \"\\u305b\\u308b\", \"\\u305b\\u308b\", \"\\u305b\\u308b\", \"\\u305b\\u308b\", \"\\u305b\\u308c\", \"\\u305b\\u308c\", \"\\u305d\\u3061\\u3089\", \"\\u305d\\u3061\\u3089\", \"\\u305d\\u308c\\u306a\\u308a\", \"\\u305d\\u308c\\u306a\\u308a\", \"\\u305d\\u308c\\u306a\\u308a\", \"\\u305d\\u308c\\u306a\\u308a\", \"\\u3067\\u3042\\u308b\", \"\\u3067\\u3042\\u308b\", \"\\u3067\\u308b\", \"\\u3067\\u308b\", \"\\u3068\\u3063\\u304f\", \"\\u3069\\u3061\\u3089\", \"\\u3069\\u3061\\u3089\", \"\\u3069\\u308c\", \"\\u3069\\u308c\", \"\\u306a\\u3051\\u308c\", \"\\u306a\\u3051\\u308c\", \"\\u306a\\u3057\", \"\\u306a\\u3057\", \"\\u306a\\u3063\", \"\\u306a\\u3063\", \"\\u306a\\u3063\", \"\\u306a\\u3063\", \"\\u306a\\u3063\", \"\\u306a\\u3063\", \"\\u306a\\u3063\", \"\\u306a\\u3063\", \"\\u306a\\u3063\", \"\\u306a\\u3063\", \"\\u306a\\u3063\", \"\\u306a\\u3063\", \"\\u306a\\u3063\", \"\\u306a\\u3063\", \"\\u306a\\u3063\", \"\\u306a\\u306e\\u304b\", \"\\u306a\\u306e\\u304b\", \"\\u306f\\u3044\\u308a\", \"\\u306f\\u3044\\u308a\", \"\\u306f\\u306d\", \"\\u306f\\u306d\", \"\\u306f\\u308b\\u304b\", \"\\u306f\\u308b\\u304b\", \"\\u3080\\u3084\\u307f\", \"\\u3080\\u3084\\u307f\", \"\\u3082\\u3063\\u3068\\u3082\\u3063\\u3068\", \"\\u3082\\u3063\\u3068\\u3082\\u3063\\u3068\", \"\\u3082\\u3063\\u3068\\u3082\\u3063\\u3068\", \"\\u3082\\u3063\\u3068\\u3082\\u3063\\u3068\", \"\\u3084\\u3063\", \"\\u3084\\u3063\", \"\\u3084\\u3063\", \"\\u3084\\u3063\", \"\\u3084\\u3063\", \"\\u3084\\u3063\", \"\\u3084\\u3063\", \"\\u3084\\u308a\\u65b9\", \"\\u3084\\u308a\\u65b9\", \"\\u3088\\u305d\", \"\\u3088\\u305d\", \"\\u3089\\u308c\", \"\\u3089\\u308c\", \"\\u3089\\u308c\", \"\\u3089\\u308c\", \"\\u3089\\u308c\", \"\\u3089\\u308c\", \"\\u3089\\u308c\", \"\\u3089\\u308c\", \"\\u308b\\u3057\", \"\\u308b\\u3057\", \"\\u308f\\u304b\\u3063\", \"\\u308f\\u304b\\u3063\", \"\\u308f\\u304b\\u3089\", \"\\u308f\\u304b\\u3089\", \"\\u308f\\u304b\\u3089\", \"\\u308f\\u304b\\u3089\", \"\\u308f\\u304b\\u3089\", \"\\u308f\\u304b\\u3089\", \"\\u308f\\u304b\\u3089\", \"\\u308f\\u304b\\u3089\\u3093\", \"\\u308f\\u304b\\u3089\\u3093\", \"\\u30a2\\u30b8\\u30a2\", \"\\u30a2\\u30b8\\u30a2\", \"\\u30a2\\u30e1\\u30ea\\u30ab\", \"\\u30a2\\u30e1\\u30ea\\u30ab\", \"\\u30a2\\u30e1\\u30ea\\u30ab\", \"\\u30a2\\u30e1\\u30ea\\u30ab\", \"\\u30a2\\u30e1\\u30ea\\u30ab\", \"\\u30a2\\u30eb\\u30d0\\u30a4\\u30c8\", \"\\u30a2\\u30eb\\u30d0\\u30a4\\u30c8\", \"\\u30a2\\u30eb\\u30d0\\u30a4\\u30c8\", \"\\u30a2\\u30eb\\u30d0\\u30a4\\u30c8\", \"\\u30a2\\u30eb\\u30d0\\u30a4\\u30c8\", \"\\u30a2\\u30eb\\u30d0\\u30a4\\u30c8\", \"\\u30a2\\u30eb\\u30d0\\u30a4\\u30c8\", \"\\u30a4\\u30f3\\u30c9\\u30cd\\u30b7\\u30a2\", \"\\u30a4\\u30f3\\u30c9\\u30cd\\u30b7\\u30a2\", \"\\u30ab\\u30cd\", \"\\u30ab\\u30cd\", \"\\u30af\\u30ba\", \"\\u30af\\u30ba\", \"\\u30b3\\u30f3\\u30d3\\u30cb\", \"\\u30b3\\u30f3\\u30d3\\u30cb\", \"\\u30b3\\u30f3\\u30d3\\u30cb\", \"\\u30b3\\u30f3\\u30d3\\u30cb\", \"\\u30b3\\u30f3\\u30d3\\u30cb\", \"\\u30b3\\u30f3\\u30d3\\u30cb\", \"\\u30b4\\u30df\", \"\\u30b4\\u30df\", \"\\u30b5\\u30fc\\u30d3\\u30b9\\u696d\", \"\\u30b5\\u30fc\\u30d3\\u30b9\\u696d\", \"\\u30b6\\u30eb\", \"\\u30b6\\u30eb\", \"\\u30b6\\u30eb\", \"\\u30b7\\u30b9\\u30c6\\u30e0\", \"\\u30b7\\u30b9\\u30c6\\u30e0\", \"\\u30b7\\u30b9\\u30c6\\u30e0\", \"\\u30b7\\u30b9\\u30c6\\u30e0\", \"\\u30b9\\u30d1\\u30a4\", \"\\u30b9\\u30d1\\u30a4\", \"\\u30b9\\u30d1\\u30a4\", \"\\u30b9\\u30fc\\u30d1\\u30fc\", \"\\u30b9\\u30fc\\u30d1\\u30fc\", \"\\u30c1\\u30a7\\u30c3\\u30af\", \"\\u30c1\\u30a7\\u30c3\\u30af\", \"\\u30c1\\u30a7\\u30c3\\u30af\", \"\\u30c6\\u30ec\\u30d3\", \"\\u30c6\\u30ec\\u30d3\", \"\\u30c8\\u30e9\\u30d6\\u30eb\", \"\\u30c8\\u30e9\\u30d6\\u30eb\", \"\\u30cd\\u30c3\\u30c8\", \"\\u30cd\\u30c3\\u30c8\", \"\\u30cd\\u30c8\\u30a6\\u30e8\", \"\\u30cd\\u30c8\\u30a6\\u30e8\", \"\\u30cd\\u30c8\\u30a6\\u30e8\", \"\\u30cd\\u30c8\\u30a6\\u30e8\", \"\\u30cd\\u30d1\\u30fc\\u30eb\", \"\\u30ce\\u30fc\", \"\\u30ce\\u30fc\", \"\\u30ce\\u30fc\", \"\\u30d0\\u30a4\\u30c8\", \"\\u30d0\\u30a4\\u30c8\", \"\\u30d0\\u30a4\\u30c8\", \"\\u30d0\\u30a4\\u30c8\", \"\\u30d0\\u30a4\\u30c8\", \"\\u30d0\\u30a4\\u30c8\", \"\\u30d0\\u30a4\\u30c8\", \"\\u30d0\\u30ab\", \"\\u30d0\\u30ab\", \"\\u30d0\\u30ab\", \"\\u30d0\\u30ab\", \"\\u30d1\\u30bf\\u30fc\\u30f3\", \"\\u30d1\\u30bf\\u30fc\\u30f3\", \"\\u30d3\\u30b6\", \"\\u30d3\\u30b6\", \"\\u30d3\\u30b6\", \"\\u30d3\\u30b6\", \"\\u30d3\\u30b6\", \"\\u30d3\\u30b6\", \"\\u30d3\\u30b6\", \"\\u30d3\\u30b6\", \"\\u30d3\\u30b6\", \"\\u30d3\\u30b6\", \"\\u30d3\\u30b6\", \"\\u30d3\\u30b6\", \"\\u30d3\\u30b6\", \"\\u30d3\\u30b6\", \"\\u30d3\\u30b8\\u30cd\\u30b9\", \"\\u30d3\\u30b8\\u30cd\\u30b9\", \"\\u30d3\\u30b8\\u30cd\\u30b9\", \"\\u30d5\\u30a4\\u30ea\\u30c3\\u30d4\\u30f3\", \"\\u30d5\\u30a4\\u30ea\\u30c3\\u30d4\\u30f3\", \"\\u30d6\\u30e9\\u30c3\\u30af\\u4f01\\u696d\", \"\\u30d6\\u30e9\\u30c3\\u30af\\u4f01\\u696d\", \"\\u30d6\\u30e9\\u30c3\\u30af\\u4f01\\u696d\", \"\\u30d6\\u30e9\\u30c3\\u30af\\u4f01\\u696d\", \"\\u30d9\\u30c8\\u30ca\\u30e0\", \"\\u30d9\\u30c8\\u30ca\\u30e0\", \"\\u30d9\\u30c8\\u30ca\\u30e0\", \"\\u30d9\\u30c8\\u30ca\\u30e0\", \"\\u30d9\\u30c8\\u30ca\\u30e0\", \"\\u30d9\\u30c8\\u30ca\\u30e0\\u4eba\", \"\\u30d9\\u30c8\\u30ca\\u30e0\\u4eba\", \"\\u30d9\\u30c8\\u30ca\\u30e0\\u4eba\", \"\\u30de\\u30ca\\u30fc\", \"\\u30de\\u30ca\\u30fc\", \"\\u30e1\\u30c7\\u30a3\\u30a2\", \"\\u30e1\\u30c7\\u30a3\\u30a2\", \"\\u30e1\\u30ea\\u30c3\\u30c8\", \"\\u30e1\\u30ea\\u30c3\\u30c8\", \"\\u30e6\\u30eb\\u30e6\\u30eb\", \"\\u30eb\\u30fc\\u30c8\", \"\\u30eb\\u30fc\\u30c8\", \"\\u30eb\\u30fc\\u30eb\", \"\\u30eb\\u30fc\\u30eb\", \"\\u30eb\\u30fc\\u30eb\", \"\\u30eb\\u30fc\\u30eb\", \"\\u30f6\\u6708\", \"\\u30f6\\u6708\", \"\\u4e00\\u6383\", \"\\u4e00\\u6383\", \"\\u4e00\\u90e8\", \"\\u4e00\\u90e8\", \"\\u4e00\\u90e8\", \"\\u4e0b\\u3052\", \"\\u4e0b\\u3052\", \"\\u4e0d\\u5f53\", \"\\u4e0d\\u5f53\", \"\\u4e0d\\u6b63\", \"\\u4e0d\\u6b63\", \"\\u4e0d\\u6b63\", \"\\u4e0d\\u6b63\", \"\\u4e0d\\u6b63\", \"\\u4e0d\\u6cd5\", \"\\u4e0d\\u6cd5\", \"\\u4e0d\\u6cd5\", \"\\u4e0d\\u6cd5\", \"\\u4e0d\\u6cd5\", \"\\u4e0d\\u6cd5\", \"\\u4e0d\\u6cd5\", \"\\u4e0d\\u6cd5\", \"\\u4e0d\\u6cd5\\u5165\\u56fd\", \"\\u4e0d\\u6cd5\\u5165\\u56fd\", \"\\u4e0d\\u6cd5\\u5165\\u56fd\", \"\\u4e0d\\u6cd5\\u5165\\u56fd\", \"\\u4e0d\\u6cd5\\u5c31\\u52b4\", \"\\u4e0d\\u6cd5\\u5c31\\u52b4\", \"\\u4e0d\\u6cd5\\u5c31\\u52b4\", \"\\u4e0d\\u6cd5\\u5c31\\u52b4\", \"\\u4e0d\\u6cd5\\u5c31\\u52b4\", \"\\u4e0d\\u6cd5\\u5c31\\u52b4\", \"\\u4e0d\\u6cd5\\u5c31\\u52b4\", \"\\u4e0d\\u6cd5\\u5c31\\u52b4\", \"\\u4e0d\\u6cd5\\u5c31\\u52b4\", \"\\u4e0d\\u6cd5\\u5c31\\u52b4\\u8005\", \"\\u4e0d\\u6cd5\\u5c31\\u52b4\\u8005\", \"\\u4e0d\\u6cd5\\u6ede\\u5728\", \"\\u4e0d\\u6cd5\\u6ede\\u5728\", \"\\u4e0d\\u6cd5\\u6ede\\u5728\", \"\\u4e0d\\u6cd5\\u6ede\\u5728\", \"\\u4e0d\\u6cd5\\u6ede\\u5728\", \"\\u4e0d\\u6cd5\\u6ede\\u5728\", \"\\u4e0d\\u6cd5\\u6ede\\u5728\", \"\\u4e0d\\u6cd5\\u6ede\\u5728\", \"\\u4e0d\\u6cd5\\u6ede\\u5728\", \"\\u4e0d\\u6cd5\\u6ede\\u5728\\u8005\", \"\\u4e0d\\u6cd5\\u6ede\\u5728\\u8005\", \"\\u4e0d\\u826f\", \"\\u4e0d\\u826f\", \"\\u4e0d\\u826f\\u5916\\u56fd\\u4eba\", \"\\u4e0d\\u826f\\u5916\\u56fd\\u4eba\", \"\\u4e0d\\u826f\\u5916\\u56fd\\u4eba\", \"\\u4e0d\\u826f\\u5916\\u56fd\\u4eba\", \"\\u4e0d\\u826f\\u5916\\u56fd\\u4eba\", \"\\u4e0d\\u826f\\u5916\\u56fd\\u4eba\", \"\\u4e0d\\u826f\\u5916\\u56fd\\u4eba\", \"\\u4e0d\\u826f\\u5916\\u56fd\\u4eba\", \"\\u4e0d\\u8db3\", \"\\u4e0d\\u8db3\", \"\\u4e0d\\u90fd\\u5408\", \"\\u4e0d\\u90fd\\u5408\", \"\\u4e0e\\u3048\", \"\\u4e0e\\u3048\", \"\\u4e0e\\u3048\", \"\\u4e0e\\u3048\", \"\\u4e0e\\u3048\\u308b\", \"\\u4e16\", \"\\u4e16\", \"\\u4e16\\u754c\", \"\\u4e16\\u754c\", \"\\u4e16\\u754c\", \"\\u4e16\\u754c\", \"\\u4e16\\u754c\", \"\\u4e2d\\u56fd\", \"\\u4e2d\\u56fd\", \"\\u4e2d\\u56fd\", \"\\u4e2d\\u56fd\", \"\\u4e2d\\u56fd\", \"\\u4e2d\\u56fd\", \"\\u4e2d\\u56fd\\u4eba\", \"\\u4e2d\\u56fd\\u4eba\", \"\\u4e2d\\u56fd\\u4eba\", \"\\u4e2d\\u56fd\\u4eba\", \"\\u4e2d\\u56fd\\u4eba\", \"\\u4e2d\\u56fd\\u4eba\", \"\\u4e2d\\u56fd\\u4eba\", \"\\u4e2d\\u56fd\\u4eba\", \"\\u4e2d\\u56fd\\u4eba\", \"\\u4e2d\\u56fd\\u4eba\", \"\\u4e2d\\u56fd\\u4eba\", \"\\u4e3b\", \"\\u4e3b\", \"\\u4e3b\", \"\\u4e8b\\u4ef6\", \"\\u4e8b\\u4ef6\", \"\\u4eba\\u305f\\u3061\", \"\\u4eba\\u305f\\u3061\", \"\\u4eba\\u53e3\", \"\\u4eba\\u53e3\", \"\\u4eba\\u54e1\", \"\\u4eba\\u54e1\", \"\\u4eba\\u624b\\u4e0d\\u8db3\", \"\\u4eba\\u624b\\u4e0d\\u8db3\", \"\\u4eba\\u624b\\u4e0d\\u8db3\", \"\\u4eba\\u6750\", \"\\u4eba\\u6750\", \"\\u4eba\\u6750\", \"\\u4eba\\u6750\", \"\\u4eba\\u9054\", \"\\u4eba\\u9054\", \"\\u4eba\\u9054\", \"\\u4eba\\u9593\", \"\\u4eba\\u9593\", \"\\u4eba\\u9593\", \"\\u4eba\\u9593\", \"\\u4eba\\u9593\", \"\\u4eba\\u9593\", \"\\u4eba\\u9593\", \"\\u4eba\\u9593\", \"\\u4eba\\u9593\", \"\\u4eca\\u5f8c\", \"\\u4eca\\u5f8c\", \"\\u4eca\\u9803\", \"\\u4eca\\u9803\", \"\\u4ed6\", \"\\u4ed6\", \"\\u4ed6\", \"\\u4ed6\", \"\\u4ed6\", \"\\u4ed6\\u56fd\", \"\\u4ed6\\u56fd\", \"\\u4ee5\\u524d\", \"\\u4ee5\\u524d\", \"\\u4ef2\\u4ecb\\u696d\\u8005\", \"\\u4ef2\\u4ecb\\u696d\\u8005\", \"\\u4ef6\", \"\\u4ef6\", \"\\u4f01\\u696d\", \"\\u4f01\\u696d\", \"\\u4f01\\u696d\", \"\\u4f1a\\u8a71\", \"\\u4f1a\\u8a71\", \"\\u4f4e\\u8cc3\\u91d1\", \"\\u4f4e\\u8cc3\\u91d1\", \"\\u4f4f\\u307f\", \"\\u4f4f\\u307f\", \"\\u4f4f\\u3093\", \"\\u4f4f\\u3093\", \"\\u4f4f\\u3093\", \"\\u4f4f\\u3093\", \"\\u4f55\\u51e6\", \"\\u4f55\\u51e6\", \"\\u4f5c\\u308b\", \"\\u4f5c\\u308b\", \"\\u4f7f\\u3046\", \"\\u4f7f\\u3046\", \"\\u4f7f\\u3046\", \"\\u4f7f\\u3046\", \"\\u4f7f\\u3046\", \"\\u4f7f\\u3046\", \"\\u4f7f\\u3046\", \"\\u4f7f\\u308f\", \"\\u4f7f\\u308f\", \"\\u4f7f\\u308f\", \"\\u4fb5\\u5165\", \"\\u4fb5\\u5165\", \"\\u4fdd\\u8a3c\\u4eba\", \"\\u4fdd\\u967a\", \"\\u4fdd\\u967a\", \"\\u4fdd\\u967a\", \"\\u4fdd\\u967a\", \"\\u5065\\u4fdd\", \"\\u5065\\u4fdd\", \"\\u5065\\u5eb7\\u4fdd\\u967a\", \"\\u5065\\u5eb7\\u4fdd\\u967a\", \"\\u5065\\u5eb7\\u4fdd\\u967a\", \"\\u5074\", \"\\u5074\", \"\\u5074\", \"\\u5074\", \"\\u50cd\\u304b\", \"\\u50cd\\u304b\", \"\\u50cd\\u304d\", \"\\u50cd\\u304d\", \"\\u50cd\\u304d\", \"\\u50cd\\u304f\", \"\\u50cd\\u304f\", \"\\u50cd\\u304f\", \"\\u50cd\\u304f\", \"\\u50cd\\u304f\", \"\\u50cd\\u304f\", \"\\u50cd\\u304f\", \"\\u512a\\u79c0\", \"\\u512a\\u79c0\", \"\\u512a\\u79c0\", \"\\u512a\\u79c0\", \"\\u512a\\u79c0\", \"\\u512a\\u9047\", \"\\u512a\\u9047\", \"\\u512a\\u9047\", \"\\u512a\\u9047\", \"\\u512a\\u9047\", \"\\u512a\\u9047\", \"\\u5148\", \"\\u5148\", \"\\u5148\", \"\\u5148\", \"\\u5148\", \"\\u5148\", \"\\u5148\\u751f\", \"\\u5148\\u751f\", \"\\u514d\\u9664\", \"\\u514d\\u9664\", \"\\u5165\\u3063\", \"\\u5165\\u3063\", \"\\u5165\\u3063\", \"\\u5165\\u3063\", \"\\u5165\\u3063\", \"\\u5165\\u3063\", \"\\u5165\\u3063\", \"\\u5165\\u308a\\u53e3\", \"\\u5165\\u308a\\u53e3\", \"\\u5165\\u308a\\u53e3\", \"\\u5165\\u308c\\u308b\", \"\\u5165\\u308c\\u308b\", \"\\u5165\\u308c\\u308b\", \"\\u5165\\u308c\\u308b\", \"\\u5165\\u53e3\", \"\\u5165\\u53e3\", \"\\u5165\\u56fd\", \"\\u5165\\u56fd\", \"\\u5165\\u56fd\", \"\\u5165\\u56fd\", \"\\u5165\\u56fd\", \"\\u5165\\u56fd\", \"\\u5165\\u56fd\", \"\\u5165\\u56fd\", \"\\u5165\\u56fd\", \"\\u5165\\u56fd\", \"\\u5165\\u56fd\", \"\\u5165\\u56fd\", \"\\u5165\\u56fd\", \"\\u5165\\u56fd\", \"\\u5165\\u56fd\\u5be9\\u67fb\", \"\\u5165\\u56fd\\u5be9\\u67fb\", \"\\u5165\\u56fd\\u5be9\\u67fb\", \"\\u5165\\u56fd\\u5be9\\u67fb\", \"\\u5165\\u56fd\\u5be9\\u67fb\", \"\\u5165\\u56fd\\u5be9\\u67fb\", \"\\u5165\\u56fd\\u5be9\\u67fb\", \"\\u5165\\u56fd\\u62d2\\u5426\", \"\\u5165\\u56fd\\u62d2\\u5426\", \"\\u5165\\u56fd\\u7ba1\\u7406\", \"\\u5165\\u56fd\\u7ba1\\u7406\", \"\\u5165\\u7ba1\", \"\\u5165\\u7ba1\", \"\\u5165\\u7ba1\\u6cd5\", \"\\u5165\\u7ba1\\u6cd5\", \"\\u5168\\u3066\", \"\\u5168\\u3066\", \"\\u5168\\u3066\", \"\\u5168\\u3066\", \"\\u516c\\u8868\", \"\\u516c\\u8868\", \"\\u5185\\u90e8\", \"\\u5185\\u95a3\", \"\\u5185\\u95a3\", \"\\u51b7\\u305f\\u3044\", \"\\u51b7\\u305f\\u3044\", \"\\u51e6\\u7f70\", \"\\u51e6\\u7f70\", \"\\u51f6\\u60aa\\u72af\\u7f6a\", \"\\u51f6\\u60aa\\u72af\\u7f6a\", \"\\u51fa\\u5e2d\", \"\\u51fa\\u7a3c\\u304e\", \"\\u51fa\\u7a3c\\u304e\", \"\\u51fa\\u7a3c\\u304e\", \"\\u51fa\\u7a3c\\u304e\", \"\\u51fa\\u7a3c\\u304e\", \"\\u51fa\\u7a3c\\u304e\", \"\\u51fa\\u7a3c\\u304e\", \"\\u51fa\\u7a3c\\u304e\", \"\\u5206\\u304b\\u3063\", \"\\u5206\\u304b\\u3063\", \"\\u5206\\u304b\\u3089\", \"\\u5206\\u304b\\u3089\", \"\\u5206\\u304b\\u3089\", \"\\u5206\\u304b\\u3089\", \"\\u5206\\u304b\\u3089\", \"\\u5206\\u304b\\u3089\", \"\\u5206\\u304b\\u3089\\u3093\", \"\\u5206\\u304b\\u3089\\u3093\", \"\\u5206\\u304b\\u3089\\u3093\", \"\\u5224\\u65ad\", \"\\u5224\\u65ad\", \"\\u5224\\u65ad\", \"\\u5229\\u7528\", \"\\u5229\\u7528\", \"\\u5229\\u76ca\", \"\\u5236\\u5ea6\", \"\\u5236\\u5ea6\", \"\\u5236\\u5ea6\", \"\\u5236\\u5ea6\", \"\\u5236\\u5ea6\", \"\\u5236\\u5ea6\", \"\\u5236\\u5ea6\", \"\\u5236\\u5ea6\", \"\\u5236\\u5ea6\", \"\\u5236\\u5ea6\", \"\\u5236\\u5ea6\", \"\\u5236\\u9650\", \"\\u5236\\u9650\", \"\\u5236\\u9650\", \"\\u52a0\\u5165\", \"\\u52a0\\u5165\", \"\\u52a9\\u3051\", \"\\u52a9\\u3051\", \"\\u52b4\\u50cd\", \"\\u52b4\\u50cd\", \"\\u52b4\\u50cd\", \"\\u52b4\\u50cd\", \"\\u52b4\\u50cd\", \"\\u52b4\\u50cd\", \"\\u52b4\\u50cd\", \"\\u52b4\\u50cd\", \"\\u52b4\\u50cd\", \"\\u52b4\\u50cd\", \"\\u52b4\\u50cd\", \"\\u52b4\\u50cd\", \"\\u52b4\\u50cd\", \"\\u52b4\\u50cd\", \"\\u52b4\\u50cd\\u529b\", \"\\u52b4\\u50cd\\u529b\", \"\\u52b4\\u50cd\\u529b\", \"\\u52b4\\u50cd\\u529b\", \"\\u52b4\\u50cd\\u529b\", \"\\u52b4\\u50cd\\u8005\", \"\\u52b4\\u50cd\\u8005\", \"\\u52b4\\u50cd\\u8005\", \"\\u52b4\\u50cd\\u8005\", \"\\u52b4\\u50cd\\u8005\", \"\\u52b4\\u50cd\\u8005\", \"\\u52b4\\u50cd\\u8005\", \"\\u52b4\\u50cd\\u8005\", \"\\u52b4\\u50cd\\u8005\", \"\\u52b4\\u50cd\\u8005\", \"\\u52c9\\u5b66\", \"\\u52c9\\u5b66\", \"\\u52c9\\u5b66\", \"\\u52d5\\u304b\", \"\\u52d5\\u304b\", \"\\u52dd\\u624b\", \"\\u52dd\\u624b\", \"\\u533b\\u7642\", \"\\u533b\\u7642\", \"\\u533b\\u7642\\u4fdd\\u967a\", \"\\u5341\", \"\\u5341\", \"\\u5341\", \"\\u5341\", \"\\u534a\\u5206\", \"\\u534a\\u5206\", \"\\u534a\\u5206\", \"\\u5352\\u696d\", \"\\u5352\\u696d\", \"\\u5370\\u8c61\", \"\\u5370\\u8c61\", \"\\u53b3\\u3057\\u3044\", \"\\u53b3\\u3057\\u3044\", \"\\u53b3\\u3057\\u3044\", \"\\u53b3\\u3057\\u3044\", \"\\u53b3\\u3057\\u3044\", \"\\u53b3\\u3057\\u3044\", \"\\u53b3\\u3057\\u3044\", \"\\u53b3\\u3057\\u3044\", \"\\u53b3\\u5bc6\", \"\\u53b3\\u5bc6\", \"\\u53b3\\u683c\\u5316\", \"\\u53b3\\u683c\\u5316\", \"\\u53b3\\u683c\\u5316\", \"\\u53b3\\u683c\\u5316\", \"\\u53b3\\u683c\\u5316\", \"\\u53b3\\u683c\\u5316\", \"\\u53b3\\u683c\\u5316\", \"\\u53b3\\u683c\\u5316\", \"\\u53b3\\u683c\\u5316\", \"\\u53b3\\u683c\\u5316\", \"\\u53b3\\u7f70\\u5316\", \"\\u53b3\\u7f70\\u5316\", \"\\u53ca\\u3070\", \"\\u53ca\\u3070\", \"\\u53cc\\u65b9\", \"\\u53cc\\u65b9\", \"\\u53cd\\u5bfe\", \"\\u53cd\\u5bfe\", \"\\u53cd\\u5bfe\", \"\\u53cd\\u5bfe\", \"\\u53cd\\u5bfe\", \"\\u53cd\\u5bfe\", \"\\u53cd\\u5bfe\", \"\\u53cd\\u65e5\", \"\\u53cd\\u65e5\", \"\\u53cd\\u65e5\", \"\\u53cd\\u65e5\", \"\\u53cd\\u65e5\\u6559\\u80b2\", \"\\u53cd\\u65e5\\u6559\\u80b2\", \"\\u53cd\\u65e5\\u6559\\u80b2\", \"\\u53ce\\u5165\", \"\\u53ce\\u5165\", \"\\u53d6\\u308a\\u7de0\\u307e\\u3063\", \"\\u53d6\\u308a\\u7de0\\u307e\\u3063\", \"\\u53d6\\u308a\\u7de0\\u307e\\u3063\", \"\\u53d6\\u308a\\u7de0\\u307e\\u3063\", \"\\u53d6\\u308a\\u7de0\\u307e\\u3063\", \"\\u53d6\\u308a\\u7de0\\u307e\\u3089\", \"\\u53d6\\u308a\\u7de0\\u307e\\u3089\", \"\\u53d6\\u308c\", \"\\u53d6\\u308c\", \"\\u53d6\\u5f97\", \"\\u53d6\\u5f97\", \"\\u53d7\\u3051\\u3066\", \"\\u53d7\\u3051\\u3066\", \"\\u53d7\\u3051\\u5165\\u308c\", \"\\u53d7\\u3051\\u5165\\u308c\", \"\\u53d7\\u3051\\u5165\\u308c\", \"\\u53d7\\u3051\\u5165\\u308c\", \"\\u53d7\\u3051\\u5165\\u308c\", \"\\u53d7\\u3051\\u5165\\u308c\", \"\\u53d7\\u3051\\u5165\\u308c\", \"\\u53d7\\u3051\\u5165\\u308c\", \"\\u53d7\\u3051\\u5165\\u308c\", \"\\u53d7\\u3051\\u5165\\u308c\", \"\\u53d7\\u3051\\u5165\\u308c\", \"\\u53d7\\u3051\\u5165\\u308c\", \"\\u53d7\\u3051\\u5165\\u308c\\u308b\", \"\\u53d7\\u3051\\u5165\\u308c\\u308b\", \"\\u53d7\\u3051\\u5165\\u308c\\u308b\", \"\\u53d7\\u3051\\u5165\\u308c\\u308b\", \"\\u53d7\\u3051\\u5165\\u308c\\u308b\", \"\\u53d7\\u3051\\u5165\\u308c\\u308b\", \"\\u53d7\\u3051\\u5165\\u308c\\u308b\", \"\\u53d7\\u3051\\u5165\\u308c\\u308b\", \"\\u53d7\\u3051\\u5165\\u308c\\u308b\", \"\\u53d7\\u5165\", \"\\u53e3\\u5ea7\", \"\\u53e3\\u5ea7\", \"\\u5408\\u308f\\u305b\", \"\\u5408\\u308f\\u305b\", \"\\u5408\\u683c\", \"\\u5408\\u683c\", \"\\u540c\\u69d8\", \"\\u540c\\u69d8\", \"\\u540d\\u76ee\", \"\\u540d\\u76ee\", \"\\u540d\\u76ee\", \"\\u540d\\u76ee\", \"\\u559c\\u3093\", \"\\u559c\\u3093\", \"\\u56f0\\u96e3\", \"\\u56f0\\u96e3\", \"\\u56fd\\u5185\", \"\\u56fd\\u5185\", \"\\u56fd\\u5185\", \"\\u56fd\\u5185\", \"\\u56fd\\u5185\", \"\\u56fd\\u5185\", \"\\u56fd\\u5185\", \"\\u56fd\\u5916\\u8ffd\\u653e\", \"\\u56fd\\u5916\\u8ffd\\u653e\", \"\\u56fd\\u6c11\", \"\\u56fd\\u6c11\", \"\\u56fd\\u6c11\", \"\\u56fd\\u6c11\", \"\\u56fd\\u6c11\", \"\\u56fd\\u6c11\", \"\\u56fd\\u6c11\", \"\\u56fd\\u6c11\", \"\\u56fd\\u6c11\", \"\\u56fd\\u6c11\\u5065\\u5eb7\\u4fdd\\u967a\", \"\\u56fd\\u6c11\\u5065\\u5eb7\\u4fdd\\u967a\", \"\\u56fd\\u6c11\\u5065\\u5eb7\\u4fdd\\u967a\", \"\\u56fd\\u8cbb\", \"\\u56fd\\u8cbb\", \"\\u570f\", \"\\u570f\", \"\\u5728\\u7559\", \"\\u5728\\u7559\", \"\\u5728\\u7559\", \"\\u5728\\u7559\", \"\\u5728\\u7559\", \"\\u5728\\u7559\\u8cc7\\u683c\", \"\\u5728\\u7559\\u8cc7\\u683c\", \"\\u5728\\u7559\\u8cc7\\u683c\", \"\\u5728\\u7559\\u8cc7\\u683c\", \"\\u5728\\u7559\\u8cc7\\u683c\", \"\\u5728\\u7559\\u8cc7\\u683c\", \"\\u5728\\u7559\\u8cc7\\u683c\", \"\\u5728\\u7559\\u8cc7\\u683c\", \"\\u5728\\u7559\\u8cc7\\u683c\", \"\\u57fa\\u672c\", \"\\u57fa\\u6e96\", \"\\u57fa\\u6e96\", \"\\u57fa\\u6e96\", \"\\u57fa\\u6e96\", \"\\u57fa\\u6e96\", \"\\u5834\", \"\\u5834\", \"\\u5834\\u5f53\\u305f\\u308a\", \"\\u5834\\u5f53\\u305f\\u308a\", \"\\u585e\\u3044\", \"\\u585e\\u3044\", \"\\u5897\\u3048\", \"\\u5897\\u3048\", \"\\u5897\\u3048\", \"\\u5897\\u3048\", \"\\u5897\\u3048\", \"\\u5897\\u3048\", \"\\u5897\\u3048\", \"\\u5897\\u3048\", \"\\u5897\\u3048\", \"\\u5897\\u3048\\u308b\", \"\\u5897\\u3048\\u308b\", \"\\u5897\\u3048\\u308b\", \"\\u5897\\u3048\\u308b\", \"\\u5897\\u3048\\u308b\", \"\\u5897\\u3048\\u308b\", \"\\u5897\\u3084\\u3057\", \"\\u5897\\u3084\\u3057\", \"\\u5897\\u3084\\u3057\", \"\\u5897\\u7a0e\", \"\\u58f2\\u6625\\u5a66\", \"\\u58f2\\u6625\\u5a66\", \"\\u5909\\u308f\\u3063\", \"\\u5909\\u308f\\u3063\", \"\\u5909\\u308f\\u3089\", \"\\u5909\\u308f\\u3089\", \"\\u5909\\u308f\\u3089\", \"\\u5909\\u308f\\u3089\", \"\\u5916\\u4eba\", \"\\u5916\\u4eba\", \"\\u5916\\u4eba\", \"\\u5916\\u4eba\", \"\\u5916\\u4eba\", \"\\u5916\\u4eba\", \"\\u5916\\u4eba\", \"\\u5916\\u4eba\", \"\\u5916\\u4eba\", \"\\u5916\\u4eba\", \"\\u5916\\u56fd\", \"\\u5916\\u56fd\", \"\\u5916\\u56fd\", \"\\u5916\\u56fd\", \"\\u5916\\u56fd\", \"\\u5916\\u56fd\", \"\\u5916\\u56fd\\u4eba\\u52b4\\u50cd\\u8005\", \"\\u5916\\u56fd\\u4eba\\u52b4\\u50cd\\u8005\", \"\\u5916\\u56fd\\u4eba\\u52b4\\u50cd\\u8005\", \"\\u5916\\u56fd\\u4eba\\u52b4\\u50cd\\u8005\", \"\\u5916\\u56fd\\u4eba\\u52b4\\u50cd\\u8005\", \"\\u5916\\u56fd\\u4eba\\u52b4\\u50cd\\u8005\", \"\\u5916\\u56fd\\u4eba\\u52b4\\u50cd\\u8005\", \"\\u5916\\u56fd\\u4eba\\u52b4\\u50cd\\u8005\", \"\\u5916\\u56fd\\u4eba\\u72af\\u7f6a\", \"\\u5916\\u56fd\\u4eba\\u72af\\u7f6a\", \"\\u5916\\u56fd\\u4eba\\u72af\\u7f6a\", \"\\u591a\", \"\\u591a\", \"\\u591a\", \"\\u591a\", \"\\u591a\", \"\\u591a\", \"\\u591a\", \"\\u591a\\u984d\", \"\\u591a\\u984d\", \"\\u5927\\u304d\\u3044\", \"\\u5927\\u304d\\u3044\", \"\\u5927\\u304d\\u3044\", \"\\u5927\\u52e2\", \"\\u5927\\u534a\", \"\\u5927\\u534a\", \"\\u5927\\u534a\", \"\\u5927\\u534a\", \"\\u5927\\u5352\", \"\\u5927\\u5352\", \"\\u5927\\u5b66\", \"\\u5927\\u5b66\", \"\\u5927\\u5b66\", \"\\u5927\\u5b66\", \"\\u5927\\u5b66\", \"\\u5927\\u5b66\", \"\\u5927\\u5b66\", \"\\u5927\\u5b66\", \"\\u5927\\u5b66\", \"\\u5927\\u5b66\", \"\\u5927\\u5b66\", \"\\u5927\\u5b66\\u9662\", \"\\u5927\\u5b66\\u9662\", \"\\u5927\\u91cf\", \"\\u5927\\u91cf\", \"\\u5927\\u962a\", \"\\u5927\\u962a\", \"\\u5968\\u5b66\\u91d1\", \"\\u5968\\u5b66\\u91d1\", \"\\u5968\\u5b66\\u91d1\", \"\\u5973\\u6027\", \"\\u5973\\u6027\", \"\\u5974\\u3089\", \"\\u5974\\u3089\", \"\\u5974\\u3089\", \"\\u5974\\u3089\", \"\\u5974\\u3089\", \"\\u5974\\u7b49\", \"\\u5974\\u7b49\", \"\\u5974\\u96b7\", \"\\u5974\\u96b7\", \"\\u5974\\u96b7\", \"\\u5974\\u96b7\", \"\\u5974\\u96b7\", \"\\u5b50\\u4f9b\", \"\\u5b50\\u4f9b\", \"\\u5b50\\u4f9b\", \"\\u5b50\\u4f9b\", \"\\u5b50\\u4f9b\", \"\\u5b50\\u4f9b\", \"\\u5b66\\u3073\", \"\\u5b66\\u3073\", \"\\u5b66\\u3073\", \"\\u5b66\\u3073\", \"\\u5b66\\u3076\", \"\\u5b66\\u3076\", \"\\u5b66\\u3076\", \"\\u5b66\\u3076\", \"\\u5b66\\u3076\", \"\\u5b66\\u3076\", \"\\u5b66\\u554f\", \"\\u5b66\\u554f\", \"\\u5b66\\u6821\", \"\\u5b66\\u6821\", \"\\u5b66\\u6821\", \"\\u5b66\\u6821\", \"\\u5b66\\u6821\", \"\\u5b66\\u6821\", \"\\u5b66\\u6821\", \"\\u5b66\\u6821\", \"\\u5b66\\u6821\", \"\\u5b66\\u6821\", \"\\u5b66\\u751f\", \"\\u5b66\\u751f\", \"\\u5b66\\u751f\", \"\\u5b66\\u751f\", \"\\u5b66\\u751f\", \"\\u5b66\\u751f\", \"\\u5b66\\u751f\", \"\\u5b66\\u751f\", \"\\u5b66\\u751f\", \"\\u5b66\\u751f\", \"\\u5b66\\u751f\", \"\\u5b66\\u751f\", \"\\u5b66\\u7fd2\", \"\\u5b66\\u7fd2\", \"\\u5b89\\u4fa1\", \"\\u5b89\\u4fa1\", \"\\u5b89\\u500d\", \"\\u5b89\\u500d\", \"\\u5b89\\u500d\", \"\\u5b89\\u500d\", \"\\u5b89\\u500d\", \"\\u5b89\\u6613\", \"\\u5b89\\u6613\", \"\\u5b89\\u6613\", \"\\u5b89\\u6613\", \"\\u5b89\\u6613\", \"\\u5b98\\u50da\", \"\\u5b98\\u50da\", \"\\u5b98\\u50da\", \"\\u5b9a\\u54e1\", \"\\u5b9a\\u54e1\", \"\\u5b9f\\u614b\", \"\\u5b9f\\u614b\", \"\\u5b9f\\u614b\", \"\\u5bb6\\u65cf\", \"\\u5bb6\\u65cf\", \"\\u5bb6\\u65cf\", \"\\u5bb6\\u65cf\", \"\\u5bb6\\u65cf\", \"\\u5be9\\u67fb\", \"\\u5be9\\u67fb\", \"\\u5be9\\u67fb\", \"\\u5be9\\u67fb\", \"\\u5be9\\u67fb\", \"\\u5be9\\u67fb\", \"\\u5be9\\u67fb\", \"\\u5be9\\u67fb\", \"\\u5be9\\u67fb\", \"\\u5be9\\u67fb\", \"\\u5be9\\u67fb\", \"\\u5be9\\u67fb\", \"\\u5be9\\u67fb\", \"\\u5be9\\u67fb\", \"\\u5be9\\u67fb\\u7d50\\u679c\", \"\\u5be9\\u67fb\\u7d50\\u679c\", \"\\u5bfe\\u51e6\", \"\\u5bfe\\u51e6\", \"\\u5bfe\\u5fdc\", \"\\u5bfe\\u5fdc\", \"\\u5bfe\\u5fdc\", \"\\u5bfe\\u5fdc\", \"\\u5bfe\\u5fdc\", \"\\u5bfe\\u7b56\", \"\\u5bfe\\u7b56\", \"\\u5bfe\\u7b56\", \"\\u5bfe\\u7b56\", \"\\u5bfe\\u7b56\", \"\\u5bfe\\u7b56\", \"\\u5bfe\\u7b56\", \"\\u5bfe\\u7b56\", \"\\u5bfe\\u8c61\", \"\\u5bfe\\u8c61\", \"\\u5bfe\\u8c61\", \"\\u5c02\\u9580\\u5b66\\u6821\", \"\\u5c02\\u9580\\u5b66\\u6821\", \"\\u5c02\\u9580\\u5b66\\u6821\", \"\\u5c02\\u9580\\u5b66\\u6821\", \"\\u5c02\\u9580\\u5b66\\u6821\", \"\\u5c06\\u6765\", \"\\u5c06\\u6765\", \"\\u5c06\\u6765\", \"\\u5c06\\u6765\", \"\\u5c06\\u6765\", \"\\u5c06\\u6765\", \"\\u5c0e\\u5165\", \"\\u5c0e\\u5165\", \"\\u5c16\\u95a3\\u8af8\\u5cf6\", \"\\u5c16\\u95a3\\u8af8\\u5cf6\", \"\\u5c31\\u52b4\", \"\\u5c31\\u52b4\", \"\\u5c31\\u52b4\", \"\\u5c31\\u52b4\", \"\\u5c31\\u52b4\", \"\\u5c31\\u52b4\", \"\\u5c31\\u52b4\", \"\\u5c31\\u52b4\", \"\\u5c31\\u52b4\", \"\\u5c31\\u52b4\\u30d3\\u30b6\", \"\\u5c31\\u52b4\\u30d3\\u30b6\", \"\\u5c31\\u52b4\\u30d3\\u30b6\", \"\\u5c31\\u5b66\", \"\\u5c31\\u5b66\", \"\\u5c31\\u5b66\", \"\\u5c45\\u308b\", \"\\u5c45\\u308b\", \"\\u5c45\\u308b\", \"\\u5c45\\u9152\\u5c4b\", \"\\u5c45\\u9152\\u5c4b\", \"\\u5de5\\u4f5c\\u54e1\", \"\\u5de5\\u4f5c\\u54e1\", \"\\u5de5\\u4f5c\\u54e1\", \"\\u5dee\\u5225\", \"\\u5dee\\u5225\", \"\\u5e0c\\u671b\", \"\\u5e0c\\u671b\", \"\\u5e30\\u5316\", \"\\u5e30\\u5316\", \"\\u5e30\\u56fd\", \"\\u5e30\\u56fd\", \"\\u5e30\\u56fd\", \"\\u5e30\\u56fd\", \"\\u5e30\\u56fd\", \"\\u5e30\\u56fd\", \"\\u5e30\\u56fd\", \"\\u5e30\\u56fd\", \"\\u5e73\\u548c\", \"\\u5e73\\u548c\", \"\\u5e97\", \"\\u5e97\", \"\\u5ec3\\u6b62\", \"\\u5ec3\\u6b62\", \"\\u5ec3\\u6b62\", \"\\u5ec3\\u6b62\", \"\\u5ec3\\u6b62\", \"\\u5f15\\u3063\\u5f35\\u3063\", \"\\u5f15\\u3063\\u5f35\\u3063\", \"\\u5f37\\u5236\", \"\\u5f37\\u5236\", \"\\u5f37\\u5236\", \"\\u5f37\\u5236\", \"\\u5f37\\u5316\", \"\\u5f37\\u5316\", \"\\u5f37\\u5316\", \"\\u5f37\\u5316\", \"\\u5f37\\u5316\", \"\\u5f37\\u5316\", \"\\u5f53\\u305f\\u308a\\u524d\", \"\\u5f53\\u305f\\u308a\\u524d\", \"\\u5f53\\u305f\\u308a\\u524d\", \"\\u5f53\\u305f\\u308a\\u524d\", \"\\u5f53\\u305f\\u308a\\u524d\", \"\\u5f53\\u305f\\u308a\\u524d\", \"\\u5f53\\u305f\\u308a\\u524d\", \"\\u5f53\\u305f\\u308a\\u524d\", \"\\u5f62\", \"\\u5f62\", \"\\u5f62\", \"\\u5f62\", \"\\u5f62\", \"\\u5f62\", \"\\u5f71\\u97ff\", \"\\u5f71\\u97ff\", \"\\u5f79\\u6240\", \"\\u5f79\\u6240\", \"\\u5f79\\u6240\", \"\\u5f7c\\u3089\", \"\\u5f7c\\u3089\", \"\\u5f7c\\u3089\", \"\\u5f8c\\u624b\", \"\\u5f8c\\u624b\", \"\\u5f97\\u4f53\", \"\\u5f97\\u4f53\", \"\\u5fa9\\u6d3b\", \"\\u5fa9\\u6d3b\", \"\\u5fa9\\u6d3b\", \"\\u5fa9\\u6d3b\", \"\\u5fb9\\u5e95\", \"\\u5fb9\\u5e95\", \"\\u5fc5\\u6b7b\", \"\\u5fc5\\u6b7b\", \"\\u6012\\u3089\", \"\\u6012\\u3089\", \"\\u601d\\u3048\", \"\\u601d\\u3048\", \"\\u601d\\u3063\", \"\\u601d\\u3063\", \"\\u601d\\u3063\", \"\\u601d\\u3063\", \"\\u601d\\u3063\", \"\\u601d\\u3063\", \"\\u601d\\u3063\", \"\\u6025\\u5897\", \"\\u6025\\u5897\", \"\\u6027\", \"\\u6027\", \"\\u6027\\u72af\\u7f6a\", \"\\u6027\\u72af\\u7f6a\", \"\\u602a\\u3057\\u3044\", \"\\u602a\\u3057\\u3044\", \"\\u60aa\\u5316\", \"\\u60aa\\u5316\", \"\\u60aa\\u5316\", \"\\u60aa\\u5316\", \"\\u60aa\\u5316\", \"\\u60aa\\u5fb3\", \"\\u60aa\\u5fb3\", \"\\u60aa\\u7528\", \"\\u60aa\\u7528\", \"\\u60c5\\u3051\\u306a\\u3044\", \"\\u60c5\\u3051\\u306a\\u3044\", \"\\u60c5\\u5831\", \"\\u60c5\\u5831\", \"\\u6170\\u5b89\\u5a66\\u554f\\u984c\", \"\\u6170\\u5b89\\u5a66\\u554f\\u984c\", \"\\u6210\\u308a\\u7acb\\u305f\", \"\\u6210\\u308a\\u7acb\\u305f\", \"\\u6210\\u308a\\u7acb\\u3063\", \"\\u6210\\u308a\\u7acb\\u3063\", \"\\u624b\\u7d9a\\u304d\", \"\\u624b\\u7d9a\\u304d\", \"\\u6271\\u3044\", \"\\u6271\\u3044\", \"\\u6271\\u3044\", \"\\u6271\\u3044\", \"\\u6280\\u80fd\\u5b9f\\u7fd2\", \"\\u6280\\u80fd\\u5b9f\\u7fd2\", \"\\u6280\\u80fd\\u5b9f\\u7fd2\\u5236\\u5ea6\", \"\\u6280\\u80fd\\u5b9f\\u7fd2\\u5236\\u5ea6\", \"\\u6280\\u8853\", \"\\u6280\\u8853\", \"\\u6280\\u8853\", \"\\u629c\\u3051\\u7a74\", \"\\u629c\\u3051\\u7a74\", \"\\u62d2\\u5426\", \"\\u62d2\\u5426\", \"\\u62d2\\u5426\", \"\\u62d2\\u5426\", \"\\u62e1\\u5927\", \"\\u62e1\\u5927\", \"\\u62e1\\u5927\", \"\\u6301\\u3063\", \"\\u6301\\u3063\", \"\\u6301\\u3063\", \"\\u6307\\u7d0b\", \"\\u6307\\u7d0b\", \"\\u6307\\u7d0b\", \"\\u6368\\u3066\", \"\\u6368\\u3066\", \"\\u6392\\u65a5\", \"\\u6392\\u65a5\", \"\\u63aa\\u7f6e\", \"\\u63aa\\u7f6e\", \"\\u63aa\\u7f6e\", \"\\u6492\\u3044\", \"\\u6492\\u3044\", \"\\u64b2\\u6ec5\", \"\\u64b2\\u6ec5\", \"\\u652f\\u63f4\", \"\\u652f\\u63f4\", \"\\u652f\\u7d66\", \"\\u652f\\u7d66\", \"\\u653e\\u7f6e\", \"\\u653e\\u7f6e\", \"\\u653e\\u984c\", \"\\u653e\\u984c\", \"\\u653f\\u5e9c\", \"\\u653f\\u5e9c\", \"\\u653f\\u5e9c\", \"\\u653f\\u5e9c\", \"\\u653f\\u5e9c\", \"\\u653f\\u5e9c\", \"\\u653f\\u5e9c\", \"\\u653f\\u6cbb\\u5bb6\", \"\\u653f\\u6cbb\\u5bb6\", \"\\u653f\\u6cbb\\u5bb6\", \"\\u653f\\u6cbb\\u5bb6\", \"\\u653f\\u6cbb\\u5bb6\", \"\\u653f\\u7b56\", \"\\u653f\\u7b56\", \"\\u653f\\u7b56\", \"\\u653f\\u7b56\", \"\\u6570\\u5e74\", \"\\u6570\\u5e74\", \"\\u6587\\u5316\", \"\\u6587\\u5316\", \"\\u6587\\u53e5\", \"\\u6587\\u53e5\", \"\\u6587\\u53e5\", \"\\u6587\\u53e5\", \"\\u65b0\\u3057\\u3044\", \"\\u65b0\\u3057\\u3044\", \"\\u65b0\\u305f\", \"\\u65b0\\u305f\", \"\\u65b0\\u5927\\u4e45\\u4fdd\", \"\\u65b0\\u805e\\u793e\", \"\\u65b0\\u805e\\u793e\", \"\\u65b9\\u3005\", \"\\u65b9\\u3005\", \"\\u65b9\\u3005\", \"\\u65b9\\u3005\", \"\\u65b9\\u3005\", \"\\u65b9\\u5411\", \"\\u65b9\\u5411\", \"\\u65e5\\u672c\\u4eba\", \"\\u65e5\\u672c\\u4eba\", \"\\u65e5\\u672c\\u4eba\", \"\\u65e5\\u672c\\u4eba\", \"\\u65e5\\u672c\\u4eba\", \"\\u65e5\\u672c\\u4eba\", \"\\u65e5\\u672c\\u4eba\", \"\\u65e5\\u672c\\u4eba\", \"\\u65e5\\u672c\\u4eba\", \"\\u65e5\\u672c\\u4eba\", \"\\u65e5\\u672c\\u4eba\", \"\\u65e5\\u672c\\u4eba\", \"\\u65e5\\u672c\\u4eba\", \"\\u65e5\\u672c\\u4eba\", \"\\u65e5\\u672c\\u56fd\", \"\\u65e5\\u672c\\u56fd\\u5185\", \"\\u65e5\\u672c\\u56fd\\u5185\", \"\\u65e5\\u672c\\u56fd\\u5185\", \"\\u65e5\\u672c\\u56fd\\u7c4d\", \"\\u65e5\\u672c\\u8a9e\", \"\\u65e5\\u672c\\u8a9e\", \"\\u65e5\\u672c\\u8a9e\", \"\\u65e5\\u672c\\u8a9e\", \"\\u65e5\\u672c\\u8a9e\", \"\\u65e5\\u672c\\u8a9e\", \"\\u65e5\\u672c\\u8a9e\", \"\\u65e5\\u672c\\u8a9e\", \"\\u65e5\\u672c\\u8a9e\\u5b66\\u6821\", \"\\u65e5\\u672c\\u8a9e\\u5b66\\u6821\", \"\\u65e5\\u672c\\u8a9e\\u5b66\\u6821\", \"\\u65e5\\u672c\\u8a9e\\u5b66\\u6821\", \"\\u65e5\\u672c\\u8a9e\\u5b66\\u6821\", \"\\u65e5\\u672c\\u8a9e\\u5b66\\u6821\", \"\\u65e5\\u672c\\u8a9e\\u5b66\\u6821\", \"\\u65e5\\u672c\\u8a9e\\u5b66\\u6821\", \"\\u65e5\\u672c\\u8a9e\\u5b66\\u6821\", \"\\u65e9\\u6025\", \"\\u65e9\\u6025\", \"\\u65e9\\u6025\", \"\\u660e\\u3089\\u304b\", \"\\u660e\\u3089\\u304b\", \"\\u6642\\u4ee3\", \"\\u666e\\u901a\\u306b\", \"\\u666e\\u901a\\u306b\", \"\\u666e\\u901a\\u306b\", \"\\u66b4\\u52d5\", \"\\u66b4\\u52d5\", \"\\u66f8\\u3044\", \"\\u66f8\\u3044\", \"\\u66f8\\u3044\", \"\\u66f8\\u3044\", \"\\u66f8\\u304b\", \"\\u66f8\\u304b\", \"\\u6709\\u76ca\", \"\\u6709\\u76ca\", \"\\u671d\\u65e5\", \"\\u671d\\u65e5\", \"\\u671d\\u65e5\", \"\\u671d\\u65e5\", \"\\u671d\\u65e5\", \"\\u671d\\u65e5\", \"\\u671d\\u65e5\\u65b0\\u805e\", \"\\u671d\\u65e5\\u65b0\\u805e\", \"\\u671d\\u65e5\\u65b0\\u805e\", \"\\u671d\\u65e5\\u65b0\\u805e\", \"\\u671d\\u65e5\\u65b0\\u805e\", \"\\u671d\\u65e5\\u65b0\\u805e\", \"\\u671d\\u65e5\\u65b0\\u805e\", \"\\u671d\\u65e5\\u65b0\\u805e\", \"\\u671d\\u65e5\\u65b0\\u805e\\u793e\", \"\\u671d\\u65e5\\u65b0\\u805e\\u793e\", \"\\u671d\\u9bae\", \"\\u671d\\u9bae\\u4eba\", \"\\u671d\\u9bae\\u4eba\", \"\\u671d\\u9bae\\u4eba\", \"\\u671d\\u9bae\\u4eba\", \"\\u671d\\u9bae\\u4eba\", \"\\u672c\\u6765\", \"\\u672c\\u6765\", \"\\u672c\\u6765\", \"\\u672c\\u6765\", \"\\u6761\\u4ef6\", \"\\u6761\\u4ef6\", \"\\u6765\\u308c\", \"\\u6765\\u308c\", \"\\u6765\\u5e74\", \"\\u6765\\u5e74\", \"\\u6771\\u5357\\u30a2\\u30b8\\u30a2\", \"\\u6771\\u5357\\u30a2\\u30b8\\u30a2\", \"\\u6771\\u5357\\u30a2\\u30b8\\u30a2\", \"\\u6771\\u5357\\u30a2\\u30b8\\u30a2\", \"\\u6771\\u5357\\u30a2\\u30b8\\u30a2\", \"\\u6771\\u5357\\u30a2\\u30b8\\u30a2\", \"\\u6771\\u5357\\u30a2\\u30b8\\u30a2\", \"\\u67d0\\u56fd\", \"\\u67d0\\u56fd\", \"\\u696d\\u8005\", \"\\u696d\\u8005\", \"\\u69d8\\u5b50\", \"\\u69d8\\u5b50\", \"\\u6b32\\u3057\", \"\\u6b32\\u3057\", \"\\u6b62\\u3081\", \"\\u6b62\\u3081\", \"\\u6b62\\u3081\", \"\\u6b62\\u3081\", \"\\u6b63\\u3057\\u3044\", \"\\u6b63\\u3057\\u3044\", \"\\u6b63\\u76f4\", \"\\u6b63\\u76f4\", \"\\u6b63\\u898f\", \"\\u6b63\\u898f\", \"\\u6b74\\u53f2\", \"\\u6b74\\u53f2\", \"\\u6b86\\u3069\", \"\\u6b86\\u3069\", \"\\u6b8b\\u308b\", \"\\u6b8b\\u308b\", \"\\u6bcd\\u56fd\", \"\\u6c17\\u3065\\u3044\", \"\\u6c17\\u3065\\u3044\", \"\\u6c17\\u3065\\u3051\", \"\\u6c17\\u3065\\u3051\", \"\\u6c38\\u4f4f\", \"\\u6c38\\u4f4f\", \"\\u6c38\\u4f4f\", \"\\u6c38\\u4f4f\\u6a29\", \"\\u6c38\\u4f4f\\u6a29\", \"\\u6cbb\\u5b89\", \"\\u6cbb\\u5b89\", \"\\u6cbb\\u5b89\", \"\\u6cbb\\u5b89\", \"\\u6cbb\\u5b89\", \"\\u6cbb\\u5b89\", \"\\u6cbb\\u5b89\", \"\\u6cbb\\u5b89\", \"\\u6cbb\\u5b89\\u306e\\u60aa\\u5316\", \"\\u6cbb\\u5b89\\u306e\\u60aa\\u5316\", \"\\u6cbb\\u7642\", \"\\u6cbb\\u7642\", \"\\u6cd5\\u52d9\\u7701\", \"\\u6cd5\\u52d9\\u7701\", \"\\u6cd5\\u5f8b\", \"\\u6cd5\\u5f8b\", \"\\u6cd5\\u5f8b\", \"\\u6cd5\\u5f8b\", \"\\u6cd5\\u5f8b\", \"\\u6cd5\\u6848\", \"\\u6cd5\\u6848\", \"\\u6cd5\\u6848\", \"\\u6cd5\\u6848\", \"\\u6cd5\\u6848\", \"\\u6d41\\u308c\", \"\\u6d41\\u308c\", \"\\u6d41\\u5165\", \"\\u6d41\\u5165\", \"\\u6d77\\u5916\", \"\\u6d77\\u5916\", \"\\u6d77\\u5916\", \"\\u6d77\\u5916\", \"\\u6d77\\u5916\", \"\\u6dd8\\u6c70\", \"\\u6dd8\\u6c70\", \"\\u6e1b\\u3063\", \"\\u6e1b\\u3063\", \"\\u6e1b\\u3089\", \"\\u6e1b\\u3089\", \"\\u6e1b\\u3089\\u3057\", \"\\u6e1b\\u3089\\u3057\", \"\\u6e1b\\u3089\\u3057\", \"\\u6e1b\\u308b\", \"\\u6e1b\\u308b\", \"\\u6e1b\\u308b\", \"\\u6e1b\\u308b\", \"\\u6e1b\\u308b\", \"\\u6e1b\\u308b\", \"\\u6e1b\\u308b\", \"\\u6e1b\\u308b\", \"\\u6e29\\u5e8a\", \"\\u6e29\\u5e8a\", \"\\u6ede\\u5728\", \"\\u6ede\\u5728\", \"\\u6ede\\u5728\", \"\\u6ede\\u5728\", \"\\u6ede\\u5728\", \"\\u6ede\\u5728\", \"\\u6ede\\u5728\", \"\\u6ede\\u5728\", \"\\u6ede\\u5728\", \"\\u6fc0\\u5897\", \"\\u6fc0\\u5897\", \"\\u6fc0\\u6e1b\", \"\\u7121\\u3057\", \"\\u7121\\u3057\", \"\\u7121\\u511f\", \"\\u7121\\u511f\", \"\\u7121\\u8996\", \"\\u7121\\u8996\", \"\\u7121\\u8996\", \"\\u7269\\u4fa1\", \"\\u7269\\u4fa1\", \"\\u7279\\u4e9c\", \"\\u7279\\u4e9c\", \"\\u7279\\u4e9c\", \"\\u7279\\u4e9c\", \"\\u7279\\u5b9a\", \"\\u7279\\u5b9a\", \"\\u72af\\u3057\", \"\\u72af\\u3057\", \"\\u72af\\u3057\", \"\\u72af\\u7f6a\", \"\\u72af\\u7f6a\", \"\\u72af\\u7f6a\", \"\\u72af\\u7f6a\", \"\\u72af\\u7f6a\", \"\\u72af\\u7f6a\", \"\\u72af\\u7f6a\", \"\\u72af\\u7f6a\", \"\\u72af\\u7f6a\", \"\\u72af\\u7f6a\", \"\\u72af\\u7f6a\", \"\\u72af\\u7f6a\", \"\\u72af\\u7f6a\", \"\\u72af\\u7f6a\", \"\\u72af\\u7f6a\\u6b74\", \"\\u72af\\u7f6a\\u6b74\", \"\\u72af\\u7f6a\\u8005\", \"\\u72af\\u7f6a\\u8005\", \"\\u72af\\u7f6a\\u8005\", \"\\u72af\\u7f6a\\u8005\", \"\\u72af\\u7f6a\\u8005\", \"\\u72af\\u7f6a\\u8005\", \"\\u72ed\\u304f\", \"\\u72ed\\u304f\", \"\\u72ed\\u304f\", \"\\u72ed\\u304f\", \"\\u72ed\\u304f\", \"\\u72ed\\u304f\", \"\\u72ed\\u304f\", \"\\u72ed\\u304f\", \"\\u72ed\\u304f\", \"\\u72ed\\u3081\\u308b\", \"\\u72ed\\u3081\\u308b\", \"\\u7387\", \"\\u7387\", \"\\u7387\", \"\\u7387\", \"\\u7387\", \"\\u7387\", \"\\u7387\", \"\\u73fe\\u5728\", \"\\u73fe\\u5728\", \"\\u73fe\\u5728\", \"\\u73fe\\u5728\", \"\\u73fe\\u5728\", \"\\u73fe\\u5730\", \"\\u73fe\\u5730\", \"\\u73fe\\u5b9f\", \"\\u73fe\\u5b9f\", \"\\u73fe\\u6642\\u70b9\", \"\\u73fe\\u6642\\u70b9\", \"\\u73fe\\u72b6\", \"\\u73fe\\u72b6\", \"\\u73fe\\u884c\", \"\\u73fe\\u884c\", \"\\u73fe\\u91d1\", \"\\u73fe\\u91d1\", \"\\u7406\\u89e3\", \"\\u7406\\u89e3\", \"\\u7406\\u89e3\", \"\\u7406\\u89e3\", \"\\u7406\\u89e3\", \"\\u74b0\\u5883\", \"\\u74b0\\u5883\", \"\\u74b0\\u5883\", \"\\u7518\\u3044\", \"\\u7518\\u3044\", \"\\u7518\\u3044\", \"\\u7518\\u3044\", \"\\u7518\\u304b\\u3063\", \"\\u7518\\u304b\\u3063\", \"\\u751f\\u6d3b\", \"\\u751f\\u6d3b\", \"\\u751f\\u6d3b\", \"\\u751f\\u6d3b\\u4fdd\\u8b77\", \"\\u751f\\u6d3b\\u4fdd\\u8b77\", \"\\u751f\\u6d3b\\u4fdd\\u8b77\", \"\\u751f\\u6d3b\\u4fdd\\u8b77\", \"\\u751f\\u6d3b\\u4fdd\\u8b77\", \"\\u751f\\u6d3b\\u4fdd\\u8b77\", \"\\u751f\\u6d3b\\u4fdd\\u8b77\", \"\\u751f\\u6d3b\\u4fdd\\u8b77\", \"\\u751f\\u6d3b\\u4fdd\\u8b77\", \"\\u751f\\u6d3b\\u8cbb\", \"\\u751f\\u6d3b\\u8cbb\", \"\\u7533\\u3057\\u8a33\\u306a\\u3044\", \"\\u7533\\u3057\\u8a33\\u306a\\u3044\", \"\\u7533\\u8acb\", \"\\u7533\\u8acb\", \"\\u7533\\u8acb\", \"\\u7533\\u8acb\", \"\\u7533\\u8acb\", \"\\u7533\\u8acb\", \"\\u7570\\u5e38\", \"\\u7570\\u5e38\", \"\\u7570\\u5e38\", \"\\u7570\\u5e38\", \"\\u7570\\u5e38\", \"\\u767a\\u899a\", \"\\u767b\\u9332\", \"\\u767b\\u9332\", \"\\u767b\\u9332\", \"\\u76e3\\u7763\", \"\\u76e3\\u7763\", \"\\u76e3\\u8996\", \"\\u76e3\\u8996\", \"\\u76ee\\u7684\", \"\\u76ee\\u7684\", \"\\u76ee\\u7684\", \"\\u76ee\\u7684\", \"\\u76ee\\u7684\", \"\\u76ee\\u7684\", \"\\u76ee\\u7684\", \"\\u76ee\\u7684\", \"\\u76ee\\u7684\", \"\\u76ee\\u7684\", \"\\u76ee\\u7684\", \"\\u76ee\\u7684\", \"\\u76ee\\u7684\", \"\\u76ee\\u7684\", \"\\u76ee\\u7684\", \"\\u76ee\\u7684\", \"\\u76ee\\u7684\", \"\\u76f8\\u5fdc\", \"\\u76f8\\u5fdc\", \"\\u771f\\u5263\", \"\\u771f\\u5263\", \"\\u771f\\u9762\\u76ee\", \"\\u771f\\u9762\\u76ee\", \"\\u771f\\u9762\\u76ee\", \"\\u771f\\u9762\\u76ee\", \"\\u77db\\u76fe\", \"\\u77db\\u76fe\", \"\\u77db\\u76fe\", \"\\u77e5\\u308c\", \"\\u77e5\\u308c\", \"\\u793a\\u3057\", \"\\u793a\\u3059\", \"\\u793a\\u3059\", \"\\u793e\\u4f1a\", \"\\u793e\\u4f1a\", \"\\u793e\\u4f1a\", \"\\u793e\\u4f1a\\u4fdd\\u969c\", \"\\u793e\\u4f1a\\u4fdd\\u969c\", \"\\u793e\\u4f1a\\u4fdd\\u969c\", \"\\u7981\\u6b62\", \"\\u7981\\u6b62\", \"\\u7981\\u6b62\", \"\\u79c1\\u7acb\\u5927\\u5b66\", \"\\u79c1\\u7acb\\u5927\\u5b66\", \"\\u79fb\\u6c11\", \"\\u79fb\\u6c11\", \"\\u79fb\\u6c11\", \"\\u79fb\\u6c11\", \"\\u79fb\\u6c11\", \"\\u79fb\\u6c11\", \"\\u79fb\\u6c11\", \"\\u79fb\\u6c11\", \"\\u79fb\\u6c11\", \"\\u79fb\\u6c11\\u653f\\u7b56\", \"\\u79fb\\u6c11\\u653f\\u7b56\", \"\\u79fb\\u6c11\\u653f\\u7b56\", \"\\u79fb\\u6c11\\u653f\\u7b56\", \"\\u7a0e\\u91d1\", \"\\u7a0e\\u91d1\", \"\\u7a0e\\u91d1\", \"\\u7a0e\\u91d1\", \"\\u7a0e\\u91d1\", \"\\u7a0e\\u91d1\", \"\\u7a0e\\u91d1\", \"\\u7a0e\\u91d1\", \"\\u7a3c\\u304e\", \"\\u7a3c\\u304e\", \"\\u7a74\", \"\\u7a74\", \"\\u7a74\", \"\\u7af9\\u5cf6\", \"\\u7af9\\u5cf6\", \"\\u7ba1\\u7406\", \"\\u7ba1\\u7406\", \"\\u7ba1\\u7406\", \"\\u7ba1\\u7406\", \"\\u7ba1\\u7406\", \"\\u7c21\\u5358\", \"\\u7c21\\u5358\", \"\\u7c21\\u5358\", \"\\u7c21\\u5358\", \"\\u7c21\\u5358\", \"\\u7cde\", \"\\u7cde\", \"\\u7d0d\\u5f97\", \"\\u7d0d\\u5f97\", \"\\u7d4c\\u55b6\", \"\\u7d4c\\u55b6\", \"\\u7d4c\\u55b6\", \"\\u7d4c\\u56e3\\u9023\", \"\\u7d4c\\u56e3\\u9023\", \"\\u7d50\\u5a5a\", \"\\u7d50\\u5a5a\", \"\\u7d50\\u5a5a\", \"\\u7d66\\u6599\", \"\\u7d66\\u6599\", \"\\u7d71\\u8a08\", \"\\u7d71\\u8a08\", \"\\u7d9a\\u3044\", \"\\u7d9a\\u3044\", \"\\u7de0\\u3081\\u51fa\\u3057\", \"\\u7de0\\u3081\\u51fa\\u3057\", \"\\u7de0\\u3081\\u51fa\\u3059\", \"\\u7de0\\u3081\\u51fa\\u3059\", \"\\u7de9\", \"\\u7de9\", \"\\u7de9\", \"\\u7de9\", \"\\u7de9\\u548c\", \"\\u7f70\\u5247\", \"\\u7f70\\u5247\", \"\\u7f70\\u91d1\", \"\\u7f70\\u91d1\", \"\\u7f70\\u91d1\", \"\\u8077\\u5834\", \"\\u8077\\u5834\", \"\\u81ea\\u4f53\", \"\\u81ea\\u4f53\", \"\\u81ea\\u4f53\", \"\\u81ea\\u4f53\", \"\\u81ea\\u4f53\", \"\\u81ea\\u5206\\u305f\\u3061\", \"\\u81ea\\u6c11\\u515a\", \"\\u81ea\\u6c11\\u515a\", \"\\u81ea\\u6c11\\u515a\", \"\\u81ea\\u6c11\\u515a\", \"\\u81ea\\u6c11\\u515a\", \"\\u81ea\\u6c11\\u515a\", \"\\u82e5\\u3044\", \"\\u82e5\\u3044\", \"\\u82e6\\u52b4\", \"\\u82e6\\u52b4\", \"\\u82f1\\u8a9e\", \"\\u82f1\\u8a9e\", \"\\u884c\\u3051\", \"\\u884c\\u3051\", \"\\u884c\\u65b9\", \"\\u884c\\u65b9\", \"\\u884c\\u65b9\\u4e0d\\u660e\", \"\\u884c\\u65b9\\u4e0d\\u660e\", \"\\u8857\", \"\\u8857\", \"\\u8868\\u73fe\", \"\\u8868\\u73fe\", \"\\u88cf\", \"\\u88cf\", \"\\u88dc\\u52a9\\u91d1\", \"\\u88dc\\u52a9\\u91d1\", \"\\u8981\\u3089\", \"\\u8981\\u3089\", \"\\u8981\\u3089\", \"\\u8981\\u3089\", \"\\u8981\\u3089\", \"\\u898b\\u305b\", \"\\u898b\\u305b\", \"\\u898b\\u51fa\\u3057\", \"\\u898b\\u6975\\u3081\\u308b\", \"\\u898f\\u5236\", \"\\u898f\\u5236\", \"\\u898f\\u5236\", \"\\u898f\\u5236\", \"\\u898f\\u5236\", \"\\u898f\\u5236\", \"\\u899a\\u3048\", \"\\u899a\\u3048\", \"\\u899a\\u3048\", \"\\u89b3\\u5149\\u5ba2\", \"\\u89b3\\u5149\\u5ba2\", \"\\u89b3\\u70b9\", \"\\u89e3\\u308b\", \"\\u89e3\\u308b\", \"\\u8a00\\u3044\", \"\\u8a00\\u3044\", \"\\u8a00\\u3044\", \"\\u8a00\\u3044\", \"\\u8a00\\u3048\", \"\\u8a00\\u3048\", \"\\u8a00\\u3048\", \"\\u8a00\\u3048\", \"\\u8a00\\u3048\", \"\\u8a00\\u3048\\u308b\", \"\\u8a00\\u3048\\u308b\", \"\\u8a00\\u3063\", \"\\u8a00\\u3063\", \"\\u8a00\\u3063\", \"\\u8a00\\u3063\", \"\\u8a00\\u3063\", \"\\u8a00\\u3063\", \"\\u8a00\\u3063\", \"\\u8a00\\u3063\", \"\\u8a18\\u4e8b\", \"\\u8a18\\u4e8b\", \"\\u8a18\\u4e8b\", \"\\u8a18\\u4e8b\", \"\\u8a18\\u4e8b\", \"\\u8a18\\u4e8b\", \"\\u8a2d\\u3051\", \"\\u8a2d\\u3051\", \"\\u8a34\\u3048\\u308b\", \"\\u8a34\\u3048\\u308b\", \"\\u8a3c\", \"\\u8a3c\\u660e\", \"\\u8a3c\\u660e\", \"\\u8a3c\\u660e\", \"\\u8a55\\u4fa1\", \"\\u8a55\\u4fa1\", \"\\u8a66\\u9a13\", \"\\u8a66\\u9a13\", \"\\u8a8d\\u53ef\", \"\\u8a8d\\u53ef\", \"\\u8ab0\\u5f7c\", \"\\u8ab0\\u5f7c\", \"\\u8abf\\u3079\", \"\\u8abf\\u3079\", \"\\u8abf\\u5b50\", \"\\u8abf\\u5b50\", \"\\u8abf\\u67fb\", \"\\u8abf\\u67fb\", \"\\u8af8\\u541b\", \"\\u8af8\\u541b\", \"\\u8af8\\u56fd\", \"\\u8af8\\u56fd\", \"\\u8b70\\u8ad6\", \"\\u8b70\\u8ad6\", \"\\u8ca2\\u732e\", \"\\u8ca2\\u732e\", \"\\u8ca7\\u56f0\", \"\\u8ca7\\u56f0\", \"\\u8cac\\u4efb\", \"\\u8cac\\u4efb\", \"\\u8cac\\u4efb\\u8005\", \"\\u8cc3\\u4e0a\\u3052\", \"\\u8cc3\\u4e0a\\u3052\", \"\\u8cc3\\u91d1\", \"\\u8cc3\\u91d1\", \"\\u8cc7\\u683c\", \"\\u8cc7\\u683c\", \"\\u8cc7\\u683c\", \"\\u8cc7\\u683c\", \"\\u8cc7\\u683c\", \"\\u8cc7\\u683c\\u8005\", \"\\u8cc7\\u683c\\u8005\", \"\\u8cc7\\u91d1\", \"\\u8cc7\\u91d1\", \"\\u8cdb\\u6210\", \"\\u8cdb\\u6210\", \"\\u8cdb\\u6210\", \"\\u8cdb\\u6210\", \"\\u8cdb\\u6210\", \"\\u8cea\", \"\\u8cea\", \"\\u8cea\", \"\\u8db3\\u308a\", \"\\u8db3\\u308a\", \"\\u8f9e\\u3081\", \"\\u8f9e\\u3081\", \"\\u8f9e\\u3081\", \"\\u8f9e\\u3081\", \"\\u8ffd\\u3044\\u8fd4\\u3057\", \"\\u8ffd\\u3044\\u8fd4\\u3057\", \"\\u8ffd\\u3044\\u8fd4\\u3057\", \"\\u9001\\u308a\", \"\\u9001\\u308a\", \"\\u9001\\u9084\", \"\\u9001\\u9084\", \"\\u9001\\u9084\", \"\\u9001\\u9084\", \"\\u9001\\u9084\", \"\\u9003\\u3052\", \"\\u9003\\u3052\", \"\\u9006\", \"\\u9006\", \"\\u9006\\u884c\", \"\\u9006\\u884c\", \"\\u9045\", \"\\u9045\", \"\\u9045\", \"\\u9045\\u3044\", \"\\u9045\\u3044\", \"\\u9045\\u3044\", \"\\u9045\\u3044\", \"\\u904e\\u53bb\", \"\\u904e\\u53bb\", \"\\u904e\\u53bb\", \"\\u904e\\u53bb\", \"\\u9055\\u53cd\", \"\\u9055\\u53cd\", \"\\u9055\\u53cd\", \"\\u9055\\u6cd5\", \"\\u9055\\u6cd5\", \"\\u9055\\u6cd5\", \"\\u9055\\u6cd5\", \"\\u9055\\u6cd5\", \"\\u9055\\u6cd5\", \"\\u9069\\u7528\", \"\\u9069\\u7528\", \"\\u9069\\u7528\", \"\\u9069\\u7528\", \"\\u90e8\\u5206\", \"\\u90e8\\u5206\", \"\\u90fd\\u5185\", \"\\u90fd\\u5185\", \"\\u90fd\\u5408\", \"\\u90fd\\u5408\", \"\\u90fd\\u5408\", \"\\u90fd\\u5e02\\u90e8\", \"\\u90fd\\u5e02\\u90e8\", \"\\u91ce\\u515a\", \"\\u91ce\\u515a\", \"\\u91ce\\u653e\\u3057\", \"\\u91d1\", \"\\u91d1\", \"\\u91d1\", \"\\u91d1\", \"\\u91d1\", \"\\u91d1\", \"\\u91d1\", \"\\u91d1\\u5132\\u3051\", \"\\u91d1\\u5132\\u3051\", \"\\u91d1\\u5132\\u3051\", \"\\u9280\\u884c\", \"\\u9577\\u3044\", \"\\u9580\", \"\\u9580\", \"\\u9580\", \"\\u9580\", \"\\u9580\", \"\\u9580\", \"\\u9580\", \"\\u9580\", \"\\u9580\\u6238\", \"\\u9580\\u6238\", \"\\u9580\\u6238\", \"\\u958b\\u304f\", \"\\u958b\\u304f\", \"\\u95a2\\u308f\\u3063\", \"\\u95a2\\u4fc2\\u8005\", \"\\u95a2\\u4fc2\\u8005\", \"\\u963b\\u6b62\", \"\\u963b\\u6b62\", \"\\u9664\\u67d3\", \"\\u9664\\u67d3\", \"\\u96c6\\u307e\\u3063\", \"\\u96c6\\u307e\\u3063\", \"\\u96c7\\u3046\", \"\\u96c7\\u3046\", \"\\u96c7\\u7528\", \"\\u96c7\\u7528\", \"\\u96e3\\u3057\\u3044\", \"\\u96e3\\u3057\\u3044\", \"\\u96e3\\u3057\\u3044\", \"\\u96e3\\u3057\\u3044\", \"\\u96e3\\u6c11\", \"\\u96e3\\u6c11\", \"\\u96e3\\u6c11\", \"\\u97d3\\u56fd\", \"\\u97d3\\u56fd\", \"\\u97d3\\u56fd\", \"\\u97d3\\u56fd\", \"\\u97d3\\u56fd\", \"\\u97d3\\u56fd\", \"\\u97d3\\u56fd\", \"\\u97d3\\u56fd\", \"\\u97d3\\u56fd\\u4eba\", \"\\u97d3\\u56fd\\u4eba\", \"\\u97d3\\u56fd\\u4eba\", \"\\u97d3\\u56fd\\u4eba\", \"\\u97d3\\u56fd\\u4eba\", \"\\u97d3\\u56fd\\u4eba\", \"\\u9805\\u76ee\", \"\\u9805\\u76ee\", \"\\u9811\\u5f35\\u3063\", \"\\u9811\\u5f35\\u3063\", \"\\u98f2\\u98df\\u5e97\", \"\\u98f2\\u98df\\u5e97\", \"\\u99ac\\u9e7f\", \"\\u99ac\\u9e7f\", \"\\u99c5\", \"\\u99c5\", \"\\u9ad8\\u304f\", \"\\u9ad8\\u304f\", \"\\u9ebb\\u85ac\", \"\\u9ebb\\u85ac\"]}, \"R\": 30, \"lambda.step\": 0.01, \"plot.opts\": {\"xlab\": \"PC1\", \"ylab\": \"PC2\"}, \"topic.order\": [4, 13, 2, 19, 17, 10, 11, 16, 14, 3, 8, 15, 18, 7, 9, 6, 1, 12, 5, 20]};\n",
       "\n",
       "function LDAvis_load_lib(url, callback){\n",
       "  var s = document.createElement('script');\n",
       "  s.src = url;\n",
       "  s.async = true;\n",
       "  s.onreadystatechange = s.onload = callback;\n",
       "  s.onerror = function(){console.warn(\"failed to load library \" + url);};\n",
       "  document.getElementsByTagName(\"head\")[0].appendChild(s);\n",
       "}\n",
       "\n",
       "if(typeof(LDAvis) !== \"undefined\"){\n",
       "   // already loaded: just create the visualization\n",
       "   !function(LDAvis){\n",
       "       new LDAvis(\"#\" + \"ldavis_el7057757050920968834833248\", ldavis_el7057757050920968834833248_data);\n",
       "   }(LDAvis);\n",
       "}else if(typeof define === \"function\" && define.amd){\n",
       "   // require.js is available: use it to load d3/LDAvis\n",
       "   require.config({paths: {d3: \"https://cdnjs.cloudflare.com/ajax/libs/d3/3.5.5/d3.min\"}});\n",
       "   require([\"d3\"], function(d3){\n",
       "      window.d3 = d3;\n",
       "      LDAvis_load_lib(\"https://cdn.rawgit.com/bmabey/pyLDAvis/files/ldavis.v1.0.0.js\", function(){\n",
       "        new LDAvis(\"#\" + \"ldavis_el7057757050920968834833248\", ldavis_el7057757050920968834833248_data);\n",
       "      });\n",
       "    });\n",
       "}else{\n",
       "    // require.js not available: dynamically load d3 & LDAvis\n",
       "    LDAvis_load_lib(\"https://cdnjs.cloudflare.com/ajax/libs/d3/3.5.5/d3.min.js\", function(){\n",
       "         LDAvis_load_lib(\"https://cdn.rawgit.com/bmabey/pyLDAvis/files/ldavis.v1.0.0.js\", function(){\n",
       "                 new LDAvis(\"#\" + \"ldavis_el7057757050920968834833248\", ldavis_el7057757050920968834833248_data);\n",
       "            })\n",
       "         });\n",
       "}\n",
       "</script>"
      ],
      "text/plain": [
       "PreparedData(topic_coordinates=              x         y  topics  cluster      Freq\n",
       "topic                                               \n",
       "3     -0.040094 -0.098827       1        1  8.583449\n",
       "12     0.006253 -0.107789       2        1  6.513201\n",
       "1      0.069435 -0.041399       3        1  6.445032\n",
       "18    -0.007014 -0.074922       4        1  6.257403\n",
       "16     0.064508 -0.066888       5        1  5.894820\n",
       "9     -0.030648  0.022279       6        1  5.854464\n",
       "10     0.094260 -0.025363       7        1  5.789567\n",
       "15     0.162595  0.029689       8        1  5.505211\n",
       "13    -0.072702  0.058328       9        1  5.435796\n",
       "2     -0.117036 -0.052410      10        1  5.352506\n",
       "7      0.116871  0.109858      11        1  5.035540\n",
       "14    -0.076694  0.157081      12        1  4.773398\n",
       "17    -0.042652 -0.050888      13        1  4.587060\n",
       "6     -0.016709 -0.000952      14        1  4.463264\n",
       "8      0.001233  0.054688      15        1  4.217972\n",
       "5     -0.016617  0.102308      16        1  3.397980\n",
       "0     -0.027769 -0.032019      17        1  3.227507\n",
       "11     0.010906  0.034541      18        1  3.187230\n",
       "4      0.029449 -0.034636      19        1  3.066853\n",
       "19    -0.107575  0.017320      20        1  2.411750, topic_info=     Category       Freq    Term      Total  loglift  logprob\n",
       "term                                                         \n",
       "192   Default  23.000000   日本語学校  23.000000  30.0000  30.0000\n",
       "398   Default  15.000000     韓国人  15.000000  29.0000  29.0000\n",
       "9     Default  34.000000      審査  34.000000  28.0000  28.0000\n",
       "247   Default  21.000000     中国人  21.000000  27.0000  27.0000\n",
       "204   Default  17.000000      狭く  17.000000  26.0000  26.0000\n",
       "33    Default  13.000000    不法滞在  13.000000  25.0000  25.0000\n",
       "11    Default   8.000000     ルール   8.000000  24.0000  24.0000\n",
       "35    Default  16.000000      国民  16.000000  23.0000  23.0000\n",
       "28    Default  14.000000     日本語  14.000000  22.0000  22.0000\n",
       "78    Default  16.000000      就労  16.000000  21.0000  21.0000\n",
       "52    Default  38.000000      目的  38.000000  20.0000  20.0000\n",
       "236   Default  22.000000      大学  22.000000  19.0000  19.0000\n",
       "95    Default  26.000000      入国  26.000000  18.0000  18.0000\n",
       "126   Default  12.000000      記事  12.000000  17.0000  17.0000\n",
       "91    Default  22.000000      犯罪  22.000000  16.0000  16.0000\n",
       "150   Default  15.000000    在留資格  15.000000  15.0000  15.0000\n",
       "173   Default   7.000000      異常   7.000000  14.0000  14.0000\n",
       "177   Default  21.000000      学生  21.000000  13.0000  13.0000\n",
       "299   Default  29.000000     日本人  29.000000  12.0000  12.0000\n",
       "46    Default   9.000000    ベトナム   9.000000  11.0000  11.0000\n",
       "113   Default  13.000000  外国人労働者  13.000000  10.0000  10.0000\n",
       "111   Default  21.000000    受け入れ  21.000000   9.0000   9.0000\n",
       "122   Default  13.000000      移民  13.000000   8.0000   8.0000\n",
       "47    Default  10.000000      中国  10.000000   7.0000   7.0000\n",
       "117   Default  32.000000      なっ  32.000000   6.0000   6.0000\n",
       "106   Default  15.000000      外人  15.000000   5.0000   5.0000\n",
       "138   Default   8.000000      法律   8.000000   4.0000   4.0000\n",
       "48    Default  14.000000   受け入れる  14.000000   3.0000   3.0000\n",
       "76    Default  22.000000      ビザ  22.000000   2.0000   2.0000\n",
       "139   Default  12.000000    生活保護  12.000000   1.0000   1.0000\n",
       "...       ...        ...     ...        ...      ...      ...\n",
       "173   Topic20   2.365297      異常   7.261445   2.6031  -3.4276\n",
       "244   Topic20   0.814283      早急   3.144111   2.3738  -4.4940\n",
       "500   Topic20   0.814283      生活   3.145639   2.3734  -4.4940\n",
       "222   Topic20   0.814283      指紋   3.172052   2.3650  -4.4940\n",
       "611   Topic20   0.814283      罰金   3.192752   2.3585  -4.4940\n",
       "472   Topic20   0.814283      犯し   3.199253   2.3565  -4.4940\n",
       "5     Topic20   0.814283    社会保障   3.219055   2.3503  -4.4940\n",
       "634   Topic20   0.814283      技術   3.242347   2.3431  -4.4940\n",
       "83    Topic20   0.814283    健康保険   3.319468   2.3196  -4.4940\n",
       "107   Topic20   1.589790      子供   7.279597   2.2033  -3.8249\n",
       "223   Topic20   0.814283      登録   3.936561   2.1491  -4.4940\n",
       "418   Topic20   0.814283      結婚   3.955926   2.1442  -4.4940\n",
       "397   Topic20   0.814283      甘い   3.976017   2.1391  -4.4940\n",
       "601   Topic20   0.814283      反日   4.061237   2.1179  -4.4940\n",
       "110   Topic20   0.814283      環境   4.066228   2.1167  -4.4940\n",
       "400   Topic20   0.814283      言い   4.073443   2.1149  -4.4940\n",
       "602   Topic20   0.814283      門戸   4.153585   2.0954  -4.4940\n",
       "33    Topic20   2.365298    不法滞在  13.583570   1.9769  -3.4276\n",
       "84    Topic20   1.589790      制度  14.723786   1.4990  -3.8249\n",
       "247   Topic20   0.814283     中国人  21.493372   0.4516  -4.4940\n",
       "396   Topic20   0.814283      保険   4.779284   1.9551  -4.4940\n",
       "386   Topic20   0.814283      奴ら   4.786737   1.9535  -4.4940\n",
       "61    Topic20   0.814283   アルバイト   6.421787   1.6597  -4.4940\n",
       "603   Topic20   0.814283     朝鮮人   4.831573   1.9442  -4.4940\n",
       "58    Topic20   0.814283     真面目   4.828085   1.9449  -4.4940\n",
       "273   Topic20   0.814283   取り締まっ   4.796043   1.9516  -4.4940\n",
       "617   Topic20   0.814283    ネトウヨ   4.798998   1.9510  -4.4940\n",
       "246   Topic20   0.814283      不法   7.235885   1.5403  -4.4940\n",
       "177   Topic20   0.814283      学生  21.464989   0.4529  -4.4940\n",
       "184   Topic20   0.814283      労働  16.468210   0.7179  -4.4940\n",
       "\n",
       "[1074 rows x 6 columns], token_table=      Topic      Freq     Term\n",
       "term                          \n",
       "636       6  0.409844   1000万円\n",
       "636      10  0.409844   1000万円\n",
       "621       5  0.406601      10年\n",
       "621      11  0.406601      10年\n",
       "303      10  0.402641       EU\n",
       "303      14  0.402641       EU\n",
       "440       5  0.404953      Fラン\n",
       "440      13  0.404953      Fラン\n",
       "513       1  0.397938        K\n",
       "513      12  0.397938        K\n",
       "669       8  0.408055     あいつら\n",
       "669      16  0.408055     あいつら\n",
       "618       5  0.398980      あたり\n",
       "618       7  0.398980      あたり\n",
       "339       3  0.319507  いいんじゃない\n",
       "339      15  0.319507  いいんじゃない\n",
       "339      18  0.319507  いいんじゃない\n",
       "6         1  0.490221       いう\n",
       "6         3  0.245110       いう\n",
       "6        19  0.245110       いう\n",
       "312       1  0.133216       いら\n",
       "312       3  0.133216       いら\n",
       "312       6  0.133216       いら\n",
       "312       7  0.399648       いら\n",
       "312       8  0.266432       いら\n",
       "199       3  0.506944       い人\n",
       "199      12  0.253472       い人\n",
       "199      15  0.253472       い人\n",
       "490       1  0.396028       い国\n",
       "490       8  0.396028       い国\n",
       "...     ...       ...      ...\n",
       "471      14  0.308936       難民\n",
       "471      17  0.308936       難民\n",
       "18        3  0.175899       韓国\n",
       "18        6  0.087950       韓国\n",
       "18        7  0.175899       韓国\n",
       "18       11  0.175899       韓国\n",
       "18       12  0.087950       韓国\n",
       "18       13  0.175899       韓国\n",
       "18       14  0.087950       韓国\n",
       "18       19  0.087950       韓国\n",
       "398       1  0.065704      韓国人\n",
       "398       5  0.197111      韓国人\n",
       "398       7  0.328519      韓国人\n",
       "398       8  0.197111      韓国人\n",
       "398      12  0.065704      韓国人\n",
       "398      13  0.065704      韓国人\n",
       "265       4  0.410185       項目\n",
       "265       5  0.410185       項目\n",
       "251       8  0.401004      頑張っ\n",
       "251      10  0.401004      頑張っ\n",
       "451       9  0.409187      飲食店\n",
       "451      11  0.409187      飲食店\n",
       "666       3  0.410559       馬鹿\n",
       "666       7  0.410559       馬鹿\n",
       "537       2  0.590908        駅\n",
       "537       5  0.295454        駅\n",
       "322       9  0.404463       高く\n",
       "322      14  0.404463       高く\n",
       "555       7  0.401755       麻薬\n",
       "555      13  0.401755       麻薬\n",
       "\n",
       "[1938 rows x 3 columns], R=30, lambda_step=0.01, plot_opts={'xlab': 'PC1', 'ylab': 'PC2'}, topic_order=[4, 13, 2, 19, 17, 10, 11, 16, 14, 3, 8, 15, 18, 7, 9, 6, 1, 12, 5, 20])"
      ]
     },
     "execution_count": 24,
     "metadata": {},
     "output_type": "execute_result"
    }
   ],
   "source": [
    "pyLDAvis.enable_notebook()\n",
    "vis = pyLDAvis.gensim.prepare(lda, corpus, dictionary)\n",
    "vis"
   ]
  },
  {
   "cell_type": "code",
   "execution_count": 25,
   "metadata": {},
   "outputs": [
    {
     "data": {
      "text/html": [
       "<div>\n",
       "<style scoped>\n",
       "    .dataframe tbody tr th:only-of-type {\n",
       "        vertical-align: middle;\n",
       "    }\n",
       "\n",
       "    .dataframe tbody tr th {\n",
       "        vertical-align: top;\n",
       "    }\n",
       "\n",
       "    .dataframe thead th {\n",
       "        text-align: right;\n",
       "    }\n",
       "</style>\n",
       "<table border=\"1\" class=\"dataframe\">\n",
       "  <thead>\n",
       "    <tr style=\"text-align: right;\">\n",
       "      <th></th>\n",
       "      <th>Document_No</th>\n",
       "      <th>Dominant_Topic</th>\n",
       "      <th>Topic_Perc_Contrib</th>\n",
       "      <th>Keywords</th>\n",
       "      <th>Text</th>\n",
       "    </tr>\n",
       "  </thead>\n",
       "  <tbody>\n",
       "    <tr>\n",
       "      <th>0</th>\n",
       "      <td>0</td>\n",
       "      <td>14.0</td>\n",
       "      <td>0.8643</td>\n",
       "      <td>犯罪, 大学, 生活保護, 措置, 増え, 優秀, 日本語, 日本人, せる, 社会</td>\n",
       "      <td>もっと厳しくして欲しい  不良外国人を入れたら治安も悪化するし、将来的に外国人生活保護も激増...</td>\n",
       "    </tr>\n",
       "    <tr>\n",
       "      <th>1</th>\n",
       "      <td>1</td>\n",
       "      <td>1.0</td>\n",
       "      <td>0.8417</td>\n",
       "      <td>入国, 審査, 記事, すれ, 賛成, 安倍, 国外追放, 不法滞在, 厳格化, 治安</td>\n",
       "      <td>どう厳格化されたのかが分からない  この内容じゃ、厳格化というより申請が集中するから審査が追...</td>\n",
       "    </tr>\n",
       "    <tr>\n",
       "      <th>2</th>\n",
       "      <td>2</td>\n",
       "      <td>6.0</td>\n",
       "      <td>0.8944</td>\n",
       "      <td>犯罪, ルール, なっ, 基準, 学生, 移民, 中国, 減ら, 先, 自体</td>\n",
       "      <td>ルールを 厳格化することじゃない ルール自体が的得てないんだ ルールであってルールで無してっ...</td>\n",
       "    </tr>\n",
       "    <tr>\n",
       "      <th>3</th>\n",
       "      <td>3</td>\n",
       "      <td>17.0</td>\n",
       "      <td>0.7625</td>\n",
       "      <td>移民, ビザ, 言っ, 働き, 入国, 日本人, 厳格化, 目的, なっ, 韓国</td>\n",
       "      <td>特に、韓国から入ってくる人間は厳格に扱うべきだ</td>\n",
       "    </tr>\n",
       "    <tr>\n",
       "      <th>4</th>\n",
       "      <td>4</td>\n",
       "      <td>7.0</td>\n",
       "      <td>0.7625</td>\n",
       "      <td>日本語, 入国, ベトナム, 日本人, 帰化, 朝日新聞, 朝鮮, 方々, 移民, 内部</td>\n",
       "      <td>人数を絞るより悪徳仲介業者を取り除く方が双方のため</td>\n",
       "    </tr>\n",
       "    <tr>\n",
       "      <th>5</th>\n",
       "      <td>5</td>\n",
       "      <td>10.0</td>\n",
       "      <td>0.9136</td>\n",
       "      <td>狭く, 韓国人, 学生, 朝日, ベトナム, 大学, 中国人, いら, 中国, 多</td>\n",
       "      <td>現在の日本語専門学校の留学生には、問題が多すぎる  留学生とは名ばかりで不法就労の温床であり...</td>\n",
       "    </tr>\n",
       "    <tr>\n",
       "      <th>6</th>\n",
       "      <td>6</td>\n",
       "      <td>12.0</td>\n",
       "      <td>0.9136</td>\n",
       "      <td>国民, 外人, 受け入れ, 増える, 学校, 狭く, 日本人, 中国人, 治安, 法律</td>\n",
       "      <td>人が足りていないのはわかるが、このままを維持するために誰彼侵入させるのは本当にどうかと思う ...</td>\n",
       "    </tr>\n",
       "    <tr>\n",
       "      <th>7</th>\n",
       "      <td>7</td>\n",
       "      <td>7.0</td>\n",
       "      <td>0.8417</td>\n",
       "      <td>日本語, 入国, ベトナム, 日本人, 帰化, 朝日新聞, 朝鮮, 方々, 移民, 内部</td>\n",
       "      <td>警察も日本語が話せないという理由で、大柄な態度の外国人に甘かったり、見て見ぬふりするのももう...</td>\n",
       "    </tr>\n",
       "    <tr>\n",
       "      <th>8</th>\n",
       "      <td>8</td>\n",
       "      <td>7.0</td>\n",
       "      <td>0.9050</td>\n",
       "      <td>日本語, 入国, ベトナム, 日本人, 帰化, 朝日新聞, 朝鮮, 方々, 移民, 内部</td>\n",
       "      <td>さらなる厳格化をおねがいしたいです  ベトナムや、中国を受け入れるデメリットの方がはるかに大...</td>\n",
       "    </tr>\n",
       "    <tr>\n",
       "      <th>9</th>\n",
       "      <td>9</td>\n",
       "      <td>14.0</td>\n",
       "      <td>0.8944</td>\n",
       "      <td>犯罪, 大学, 生活保護, 措置, 増え, 優秀, 日本語, 日本人, せる, 社会</td>\n",
       "      <td>日本に来るのは本当に真面目に仕事をする人なのか勉強ができて優秀な人かこのふたパターンでいいと...</td>\n",
       "    </tr>\n",
       "  </tbody>\n",
       "</table>\n",
       "</div>"
      ],
      "text/plain": [
       "   Document_No  Dominant_Topic  Topic_Perc_Contrib  \\\n",
       "0            0            14.0              0.8643   \n",
       "1            1             1.0              0.8417   \n",
       "2            2             6.0              0.8944   \n",
       "3            3            17.0              0.7625   \n",
       "4            4             7.0              0.7625   \n",
       "5            5            10.0              0.9136   \n",
       "6            6            12.0              0.9136   \n",
       "7            7             7.0              0.8417   \n",
       "8            8             7.0              0.9050   \n",
       "9            9            14.0              0.8944   \n",
       "\n",
       "                                       Keywords  \\\n",
       "0    犯罪, 大学, 生活保護, 措置, 増え, 優秀, 日本語, 日本人, せる, 社会   \n",
       "1   入国, 審査, 記事, すれ, 賛成, 安倍, 国外追放, 不法滞在, 厳格化, 治安   \n",
       "2        犯罪, ルール, なっ, 基準, 学生, 移民, 中国, 減ら, 先, 自体   \n",
       "3      移民, ビザ, 言っ, 働き, 入国, 日本人, 厳格化, 目的, なっ, 韓国   \n",
       "4  日本語, 入国, ベトナム, 日本人, 帰化, 朝日新聞, 朝鮮, 方々, 移民, 内部   \n",
       "5     狭く, 韓国人, 学生, 朝日, ベトナム, 大学, 中国人, いら, 中国, 多   \n",
       "6   国民, 外人, 受け入れ, 増える, 学校, 狭く, 日本人, 中国人, 治安, 法律   \n",
       "7  日本語, 入国, ベトナム, 日本人, 帰化, 朝日新聞, 朝鮮, 方々, 移民, 内部   \n",
       "8  日本語, 入国, ベトナム, 日本人, 帰化, 朝日新聞, 朝鮮, 方々, 移民, 内部   \n",
       "9    犯罪, 大学, 生活保護, 措置, 増え, 優秀, 日本語, 日本人, せる, 社会   \n",
       "\n",
       "                                                Text  \n",
       "0  もっと厳しくして欲しい  不良外国人を入れたら治安も悪化するし、将来的に外国人生活保護も激増...  \n",
       "1  どう厳格化されたのかが分からない  この内容じゃ、厳格化というより申請が集中するから審査が追...  \n",
       "2  ルールを 厳格化することじゃない ルール自体が的得てないんだ ルールであってルールで無してっ...  \n",
       "3                           特に、韓国から入ってくる人間は厳格に扱うべきだ   \n",
       "4                          人数を絞るより悪徳仲介業者を取り除く方が双方のため  \n",
       "5  現在の日本語専門学校の留学生には、問題が多すぎる  留学生とは名ばかりで不法就労の温床であり...  \n",
       "6  人が足りていないのはわかるが、このままを維持するために誰彼侵入させるのは本当にどうかと思う ...  \n",
       "7  警察も日本語が話せないという理由で、大柄な態度の外国人に甘かったり、見て見ぬふりするのももう...  \n",
       "8  さらなる厳格化をおねがいしたいです  ベトナムや、中国を受け入れるデメリットの方がはるかに大...  \n",
       "9  日本に来るのは本当に真面目に仕事をする人なのか勉強ができて優秀な人かこのふたパターンでいいと...  "
      ]
     },
     "execution_count": 25,
     "metadata": {},
     "output_type": "execute_result"
    }
   ],
   "source": [
    "# 各文章のトピック\n",
    "df_topic_sents_keywords = format_topics_sentences(lda, corpus, comment_sentences, topic_num)\n",
    "\n",
    "# Format\n",
    "df_dominant_topic = df_topic_sents_keywords.reset_index()\n",
    "df_dominant_topic.columns = ['Document_No', 'Dominant_Topic', 'Topic_Perc_Contrib', 'Keywords', 'Text']\n",
    "\n",
    "# Show\n",
    "df_dominant_topic.head(10)"
   ]
  },
  {
   "cell_type": "code",
   "execution_count": 26,
   "metadata": {
    "scrolled": true
   },
   "outputs": [
    {
     "data": {
      "text/html": [
       "<div>\n",
       "<style scoped>\n",
       "    .dataframe tbody tr th:only-of-type {\n",
       "        vertical-align: middle;\n",
       "    }\n",
       "\n",
       "    .dataframe tbody tr th {\n",
       "        vertical-align: top;\n",
       "    }\n",
       "\n",
       "    .dataframe thead th {\n",
       "        text-align: right;\n",
       "    }\n",
       "</style>\n",
       "<table border=\"1\" class=\"dataframe\">\n",
       "  <thead>\n",
       "    <tr style=\"text-align: right;\">\n",
       "      <th></th>\n",
       "      <th>Topic_Num</th>\n",
       "      <th>Topic_Perc_Contrib</th>\n",
       "      <th>Keywords</th>\n",
       "      <th>Text</th>\n",
       "    </tr>\n",
       "  </thead>\n",
       "  <tbody>\n",
       "    <tr>\n",
       "      <th>0</th>\n",
       "      <td>0.0</td>\n",
       "      <td>0.9136</td>\n",
       "      <td>法律, 文句, 中国人, 形, 就労, 審査, 登録, 経団連, 大学, 難民</td>\n",
       "      <td>やっと着手したかと言う感想  留学生の肩書き持った不法就労者や犯罪者が あまりにも多すぎる ...</td>\n",
       "    </tr>\n",
       "    <tr>\n",
       "      <th>1</th>\n",
       "      <td>1.0</td>\n",
       "      <td>0.9367</td>\n",
       "      <td>入国, 審査, 記事, すれ, 賛成, 安倍, 国外追放, 不法滞在, 厳格化, 治安</td>\n",
       "      <td>入口を狭めるのと同時に、入国後の監視/フォローも強化して欲しい   入国さえ出来れば後はユル...</td>\n",
       "    </tr>\n",
       "    <tr>\n",
       "      <th>2</th>\n",
       "      <td>2.0</td>\n",
       "      <td>0.9321</td>\n",
       "      <td>目的, しろ, ビザ, 大勢, 対応, 日本人, 労働, 入れる, 日本国内, 不法就労</td>\n",
       "      <td>就学ビザで来た人が働ける現行制度がそもそも異常 諸外国並みに労働ビザと就学ビザをきっちり分け...</td>\n",
       "    </tr>\n",
       "    <tr>\n",
       "      <th>3</th>\n",
       "      <td>3.0</td>\n",
       "      <td>0.9321</td>\n",
       "      <td>日本語学校, なっ, 大学, 学生, 目的, 日本人, 審査, 就労ビザ, 学校, 言っ</td>\n",
       "      <td>厳格化というより適正化したんだろ  いままで就労目的の留学生もどんどん入れてきたけど、学生は...</td>\n",
       "    </tr>\n",
       "    <tr>\n",
       "      <th>4</th>\n",
       "      <td>4.0</td>\n",
       "      <td>0.9321</td>\n",
       "      <td>目的, 日本語学校, 入国, 受け入れ, 審査, 不法滞在, 野放し, 使う, 外国人労働者...</td>\n",
       "      <td>いや、本来の目的ではない入国を野放しにしておく方が問題だ 正しい手続きで入国したな人への差別...</td>\n",
       "    </tr>\n",
       "    <tr>\n",
       "      <th>5</th>\n",
       "      <td>5.0</td>\n",
       "      <td>0.9208</td>\n",
       "      <td>記事, 結婚, 入っ, 分から, 示し, 関係者, 犯罪, 人たち, 口座, 人手不足</td>\n",
       "      <td>アメリカでの留学ビザの場合、 相応の残高証明が求められます   留学が目的ですから就労しなく...</td>\n",
       "    </tr>\n",
       "    <tr>\n",
       "      <th>6</th>\n",
       "      <td>6.0</td>\n",
       "      <td>0.9367</td>\n",
       "      <td>犯罪, ルール, なっ, 基準, 学生, 移民, 中国, 減ら, 先, 自体</td>\n",
       "      <td>労働の禁止をしてやったら罰金刑におけばいい  他の記事では除染させられたとか書いてたけど、何...</td>\n",
       "    </tr>\n",
       "    <tr>\n",
       "      <th>7</th>\n",
       "      <td>7.0</td>\n",
       "      <td>0.9321</td>\n",
       "      <td>日本語, 入国, ベトナム, 日本人, 帰化, 朝日新聞, 朝鮮, 方々, 移民, 内部</td>\n",
       "      <td>今迄が物凄く緩すぎただけ 在留資格審査を厳格化しても、 その分、簡単に永住できるようにするの...</td>\n",
       "    </tr>\n",
       "    <tr>\n",
       "      <th>8</th>\n",
       "      <td>8.0</td>\n",
       "      <td>0.9208</td>\n",
       "      <td>就労, 処罰, 大半, 先, ビザ, 犯罪, 目的, ベトナム人, 居る, 日本人</td>\n",
       "      <td>入国させてからも定期的にイレギュラーで様子を見に行き、 現実に則してなければ即帰国させるべき...</td>\n",
       "    </tr>\n",
       "    <tr>\n",
       "      <th>9</th>\n",
       "      <td>9.0</td>\n",
       "      <td>0.9367</td>\n",
       "      <td>入国, 東南アジア, 日本人, ビザ, 普通に, 犯罪, 目的, 海外, おかしい, 持っ</td>\n",
       "      <td>同時に新大久保辺りの東南アジア系のお店の取締りも強化してください 観光ビザで不法侵入してその...</td>\n",
       "    </tr>\n",
       "    <tr>\n",
       "      <th>10</th>\n",
       "      <td>10.0</td>\n",
       "      <td>0.9136</td>\n",
       "      <td>狭く, 韓国人, 学生, 朝日, ベトナム, 大学, 中国人, いら, 中国, 多</td>\n",
       "      <td>現在の日本語専門学校の留学生には、問題が多すぎる  留学生とは名ばかりで不法就労の温床であり...</td>\n",
       "    </tr>\n",
       "    <tr>\n",
       "      <th>11</th>\n",
       "      <td>11.0</td>\n",
       "      <td>0.9269</td>\n",
       "      <td>人間, ルール, 労働者, とっく, 優秀, 適用, なっ, 日本人, 入学, 成り立た</td>\n",
       "      <td>今頃遅すぎる 行方不明者が数万人いるらしいし この人たちも税金も納めずどっかで働いてるだろう...</td>\n",
       "    </tr>\n",
       "    <tr>\n",
       "      <th>12</th>\n",
       "      <td>12.0</td>\n",
       "      <td>0.9367</td>\n",
       "      <td>国民, 外人, 受け入れ, 増える, 学校, 狭く, 日本人, 中国人, 治安, 法律</td>\n",
       "      <td>さらに厳しくしてもらいたい  犯罪増加や不法就労問題もあるが、高齢者留学生 が健康保険制度を...</td>\n",
       "    </tr>\n",
       "    <tr>\n",
       "      <th>13</th>\n",
       "      <td>13.0</td>\n",
       "      <td>0.9406</td>\n",
       "      <td>日本人, 受け入れる, 中国人, 当たり前, 審査, 学校, せる, 政府, 入国, 制限</td>\n",
       "      <td>遅えよ 今頃かよ  留学生だけではなく、就労ビザの資格審査も厳格にしろ  シンガポール では...</td>\n",
       "    </tr>\n",
       "    <tr>\n",
       "      <th>14</th>\n",
       "      <td>14.0</td>\n",
       "      <td>0.9321</td>\n",
       "      <td>犯罪, 大学, 生活保護, 措置, 増え, 優秀, 日本語, 日本人, せる, 社会</td>\n",
       "      <td>しかるべき資格を有して来る者にちゃんとした待遇を そうでない者にはそうでない措置を取ればよい...</td>\n",
       "    </tr>\n",
       "    <tr>\n",
       "      <th>15</th>\n",
       "      <td>15.0</td>\n",
       "      <td>0.9441</td>\n",
       "      <td>中国人, 韓国人, 犯罪者, 在留資格, なっ, 違法, 申請, 外国人労働者, 日本語, すれ</td>\n",
       "      <td>＞東南アジアなど一部の国では在留資格の交付率が激減し、日本留学への門が一気に閉ざされた形とな...</td>\n",
       "    </tr>\n",
       "    <tr>\n",
       "      <th>16</th>\n",
       "      <td>16.0</td>\n",
       "      <td>0.9208</td>\n",
       "      <td>目的, 審査, 韓国人, 大学, 日本語学校, 朝日新聞, 厳しい, 関わっ, 他, 多</td>\n",
       "      <td>31万て あまりにも多すぎます  彼らはアルバイト目的そして失踪ですからね  今回は正規のル...</td>\n",
       "    </tr>\n",
       "    <tr>\n",
       "      <th>17</th>\n",
       "      <td>17.0</td>\n",
       "      <td>0.9321</td>\n",
       "      <td>移民, ビザ, 言っ, 働き, 入国, 日本人, 厳格化, 目的, なっ, 韓国</td>\n",
       "      <td>だって留学生でしょ 学ぶためにやってくるんだから、その通り学ぶことを主にやって欲しいわけです...</td>\n",
       "    </tr>\n",
       "    <tr>\n",
       "      <th>18</th>\n",
       "      <td>18.0</td>\n",
       "      <td>0.9441</td>\n",
       "      <td>審査, 在留資格, なっ, 受け入れ, 外国人労働者, 全て, やっ, 厳格化, 設け, 生活保護</td>\n",
       "      <td>これも朝日新聞の印象操作ではないかと感じました 在留資格審査が厳格になったのが悪いような印象...</td>\n",
       "    </tr>\n",
       "    <tr>\n",
       "      <th>19</th>\n",
       "      <td>19.0</td>\n",
       "      <td>0.8812</td>\n",
       "      <td>不法滞在, 異常, 基本, 子供, 制度, アルバイト, 反日, 不法滞在者, 言い, 規制</td>\n",
       "      <td>日本の留学生制度は確かに異常 アルバイトの為に留学するような制度は異常 学生が勉強できる環境...</td>\n",
       "    </tr>\n",
       "  </tbody>\n",
       "</table>\n",
       "</div>"
      ],
      "text/plain": [
       "    Topic_Num  Topic_Perc_Contrib  \\\n",
       "0         0.0              0.9136   \n",
       "1         1.0              0.9367   \n",
       "2         2.0              0.9321   \n",
       "3         3.0              0.9321   \n",
       "4         4.0              0.9321   \n",
       "5         5.0              0.9208   \n",
       "6         6.0              0.9367   \n",
       "7         7.0              0.9321   \n",
       "8         8.0              0.9208   \n",
       "9         9.0              0.9367   \n",
       "10       10.0              0.9136   \n",
       "11       11.0              0.9269   \n",
       "12       12.0              0.9367   \n",
       "13       13.0              0.9406   \n",
       "14       14.0              0.9321   \n",
       "15       15.0              0.9441   \n",
       "16       16.0              0.9208   \n",
       "17       17.0              0.9321   \n",
       "18       18.0              0.9441   \n",
       "19       19.0              0.8812   \n",
       "\n",
       "                                             Keywords  \\\n",
       "0             法律, 文句, 中国人, 形, 就労, 審査, 登録, 経団連, 大学, 難民   \n",
       "1         入国, 審査, 記事, すれ, 賛成, 安倍, 国外追放, 不法滞在, 厳格化, 治安   \n",
       "2        目的, しろ, ビザ, 大勢, 対応, 日本人, 労働, 入れる, 日本国内, 不法就労   \n",
       "3        日本語学校, なっ, 大学, 学生, 目的, 日本人, 審査, 就労ビザ, 学校, 言っ   \n",
       "4   目的, 日本語学校, 入国, 受け入れ, 審査, 不法滞在, 野放し, 使う, 外国人労働者...   \n",
       "5         記事, 結婚, 入っ, 分から, 示し, 関係者, 犯罪, 人たち, 口座, 人手不足   \n",
       "6              犯罪, ルール, なっ, 基準, 学生, 移民, 中国, 減ら, 先, 自体   \n",
       "7        日本語, 入国, ベトナム, 日本人, 帰化, 朝日新聞, 朝鮮, 方々, 移民, 内部   \n",
       "8           就労, 処罰, 大半, 先, ビザ, 犯罪, 目的, ベトナム人, 居る, 日本人   \n",
       "9       入国, 東南アジア, 日本人, ビザ, 普通に, 犯罪, 目的, 海外, おかしい, 持っ   \n",
       "10          狭く, 韓国人, 学生, 朝日, ベトナム, 大学, 中国人, いら, 中国, 多   \n",
       "11       人間, ルール, 労働者, とっく, 優秀, 適用, なっ, 日本人, 入学, 成り立た   \n",
       "12        国民, 外人, 受け入れ, 増える, 学校, 狭く, 日本人, 中国人, 治安, 法律   \n",
       "13      日本人, 受け入れる, 中国人, 当たり前, 審査, 学校, せる, 政府, 入国, 制限   \n",
       "14         犯罪, 大学, 生活保護, 措置, 増え, 優秀, 日本語, 日本人, せる, 社会   \n",
       "15   中国人, 韓国人, 犯罪者, 在留資格, なっ, 違法, 申請, 外国人労働者, 日本語, すれ   \n",
       "16       目的, 審査, 韓国人, 大学, 日本語学校, 朝日新聞, 厳しい, 関わっ, 他, 多   \n",
       "17           移民, ビザ, 言っ, 働き, 入国, 日本人, 厳格化, 目的, なっ, 韓国   \n",
       "18  審査, 在留資格, なっ, 受け入れ, 外国人労働者, 全て, やっ, 厳格化, 設け, 生活保護   \n",
       "19     不法滞在, 異常, 基本, 子供, 制度, アルバイト, 反日, 不法滞在者, 言い, 規制   \n",
       "\n",
       "                                                 Text  \n",
       "0   やっと着手したかと言う感想  留学生の肩書き持った不法就労者や犯罪者が あまりにも多すぎる ...  \n",
       "1   入口を狭めるのと同時に、入国後の監視/フォローも強化して欲しい   入国さえ出来れば後はユル...  \n",
       "2   就学ビザで来た人が働ける現行制度がそもそも異常 諸外国並みに労働ビザと就学ビザをきっちり分け...  \n",
       "3   厳格化というより適正化したんだろ  いままで就労目的の留学生もどんどん入れてきたけど、学生は...  \n",
       "4   いや、本来の目的ではない入国を野放しにしておく方が問題だ 正しい手続きで入国したな人への差別...  \n",
       "5   アメリカでの留学ビザの場合、 相応の残高証明が求められます   留学が目的ですから就労しなく...  \n",
       "6   労働の禁止をしてやったら罰金刑におけばいい  他の記事では除染させられたとか書いてたけど、何...  \n",
       "7   今迄が物凄く緩すぎただけ 在留資格審査を厳格化しても、 その分、簡単に永住できるようにするの...  \n",
       "8   入国させてからも定期的にイレギュラーで様子を見に行き、 現実に則してなければ即帰国させるべき...  \n",
       "9   同時に新大久保辺りの東南アジア系のお店の取締りも強化してください 観光ビザで不法侵入してその...  \n",
       "10  現在の日本語専門学校の留学生には、問題が多すぎる  留学生とは名ばかりで不法就労の温床であり...  \n",
       "11  今頃遅すぎる 行方不明者が数万人いるらしいし この人たちも税金も納めずどっかで働いてるだろう...  \n",
       "12  さらに厳しくしてもらいたい  犯罪増加や不法就労問題もあるが、高齢者留学生 が健康保険制度を...  \n",
       "13  遅えよ 今頃かよ  留学生だけではなく、就労ビザの資格審査も厳格にしろ  シンガポール では...  \n",
       "14  しかるべき資格を有して来る者にちゃんとした待遇を そうでない者にはそうでない措置を取ればよい...  \n",
       "15  ＞東南アジアなど一部の国では在留資格の交付率が激減し、日本留学への門が一気に閉ざされた形とな...  \n",
       "16  31万て あまりにも多すぎます  彼らはアルバイト目的そして失踪ですからね  今回は正規のル...  \n",
       "17  だって留学生でしょ 学ぶためにやってくるんだから、その通り学ぶことを主にやって欲しいわけです...  \n",
       "18  これも朝日新聞の印象操作ではないかと感じました 在留資格審査が厳格になったのが悪いような印象...  \n",
       "19  日本の留学生制度は確かに異常 アルバイトの為に留学するような制度は異常 学生が勉強できる環境...  "
      ]
     },
     "execution_count": 26,
     "metadata": {},
     "output_type": "execute_result"
    }
   ],
   "source": [
    "#　各トピックで最も寄与率が高い文章\n",
    "top_topic_df = top_topic_sentences(df_topic_sents_keywords)\n",
    "top_topic_df"
   ]
  },
  {
   "cell_type": "code",
   "execution_count": 27,
   "metadata": {},
   "outputs": [],
   "source": [
    "sentences = article_text.split(\"。\")\n",
    "mecabed_article, _ = mecab_util.basic_process(sentences)"
   ]
  },
  {
   "cell_type": "code",
   "execution_count": 28,
   "metadata": {
    "scrolled": true
   },
   "outputs": [
    {
     "name": "stdout",
     "output_type": "stream",
     "text": [
      "[['東京入国管理局', '日本語学校', '学ぶ', '来日', '留学生', '在留資格', '審査', '厳格', '関係者', '分かっ'],\n",
      " ['不法就労',\n",
      "  '対策',\n",
      "  '強化',\n",
      "  '背景',\n",
      "  '東南アジア',\n",
      "  '一部',\n",
      "  '国',\n",
      "  '在留資格',\n",
      "  '交付',\n",
      "  '率',\n",
      "  '激減',\n",
      "  '日本',\n",
      "  '留学',\n",
      "  '門',\n",
      "  '閉ざさ',\n",
      "  '形',\n",
      "  'なっ'],\n",
      " ['写真', '外国人労働者', '野党', '合同', 'ヒアリング', '出席', '述べ', '涙', '拭う', '技能実習生'],\n",
      " ['法務省', 'よる', '留学生', '末', '国内', '増え'],\n",
      " ['就労', '目的', '来日', '指摘', '在留資格', '取り消さ', '例'],\n",
      " ['政府',\n",
      "  '現在',\n",
      "  '外国人労働者',\n",
      "  '受け入れ',\n",
      "  '拡大',\n",
      "  '新た',\n",
      "  '在留',\n",
      "  '資格',\n",
      "  '盛り込ん',\n",
      "  '出入国管理法',\n",
      "  '改正',\n",
      "  '案',\n",
      "  '成立',\n",
      "  '目指し'],\n",
      " ['成立', '就労', '目的', '外国人', '新た', '道', '開ける', '留学', '希望者', '減る', '可能性'],\n",
      " ['留学生', '主', '１０月', '入学', '在留資格', '審査', '時期', '集中'],\n",
      " ['入管',\n",
      "  '日本語学校',\n",
      "  '向け',\n",
      "  '資料',\n",
      "  'よる',\n",
      "  '今年',\n",
      "  '期',\n",
      "  '件',\n",
      "  '申請',\n",
      "  '交付',\n",
      "  '１０月',\n",
      "  '期',\n",
      "  '件',\n",
      "  '申請',\n",
      "  '交付',\n",
      "  'とどまっ'],\n",
      " ['数値', '一部', '専門学校', 'データ', '含ま']]\n"
     ]
    }
   ],
   "source": [
    "pprint.pprint(mecabed_article[:10])"
   ]
  },
  {
   "cell_type": "code",
   "execution_count": 29,
   "metadata": {},
   "outputs": [
    {
     "name": "stdout",
     "output_type": "stream",
     "text": [
      "要約の文章数:  3\n"
     ]
    }
   ],
   "source": [
    "if SELECT_SENTENCE_NUM is None:\n",
    "    select_sentence_num = int(len(sentences) / 3) # 文書数の何パーセントか\n",
    "else:\n",
    "    select_sentence_num = SELECT_SENTENCE_NUM\n",
    "    \n",
    "print(\"要約の文章数: \", select_sentence_num)"
   ]
  },
  {
   "cell_type": "code",
   "execution_count": 30,
   "metadata": {},
   "outputs": [],
   "source": [
    "# 既存の辞書を使用して、コーパスを作成\n",
    "test_corpus = [dictionary.doc2bow(text) for text in mecabed_article]\n",
    "#test_corpus"
   ]
  },
  {
   "cell_type": "code",
   "execution_count": 31,
   "metadata": {},
   "outputs": [],
   "source": [
    "def topic_getter(lda, corpus):\n",
    "    topics = []\n",
    "    for topics_per_document in lda[corpus]:\n",
    "        #print(topics_per_document)\n",
    "        sentence_sorted_topic = sorted(topics_per_document, key=(lambda x: x[1]), reverse=True)\n",
    "        #print(\"sorted: \", sentence_sorted_topic)\n",
    "        topics.append(sentence_sorted_topic[0])\n",
    "    return topics"
   ]
  },
  {
   "cell_type": "code",
   "execution_count": 32,
   "metadata": {},
   "outputs": [
    {
     "name": "stdout",
     "output_type": "stream",
     "text": [
      "[(3, 0.3857888),\n",
      " (15, 0.6204229),\n",
      " (12, 0.5690769),\n",
      " (18, 0.45376083),\n",
      " (15, 0.81000006),\n",
      " (18, 0.34223214),\n",
      " (16, 0.37530875),\n",
      " (18, 0.3679972),\n",
      " (15, 0.6898951),\n",
      " (8, 0.68333334)]\n"
     ]
    }
   ],
   "source": [
    "topics = topic_getter(lda, test_corpus)\n",
    "pprint.pprint(topics)"
   ]
  },
  {
   "cell_type": "code",
   "execution_count": 33,
   "metadata": {
    "scrolled": true
   },
   "outputs": [
    {
     "name": "stdout",
     "output_type": "stream",
     "text": [
      "[(3, 0.3857888, 0),\n",
      " (15, 0.6204229, 1),\n",
      " (12, 0.5690769, 2),\n",
      " (18, 0.45376083, 3),\n",
      " (15, 0.81000006, 4),\n",
      " (18, 0.34223214, 5),\n",
      " (16, 0.37530875, 6),\n",
      " (18, 0.3679972, 7),\n",
      " (15, 0.6898951, 8),\n",
      " (8, 0.68333334, 9)]\n"
     ]
    }
   ],
   "source": [
    "order_topics = [(t[0], t[1], i) for i, t in enumerate(topics)]\n",
    "pprint.pprint(order_topics)"
   ]
  },
  {
   "cell_type": "code",
   "execution_count": 34,
   "metadata": {},
   "outputs": [],
   "source": [
    "def kiyoritu(order_topics, select_sentence_num, sentences):\n",
    "    \"\"\" 寄与率のみに着目 \"\"\"\n",
    "    sort_topics = sorted(order_topics, key=lambda order_topics: order_topics[1], reverse=True)\n",
    "    top = []\n",
    "    for i in sort_topics[:select_sentence_num]:\n",
    "        top.append(i[2])\n",
    "    top = sorted(top)\n",
    "    summary = []\n",
    "    for i in top:\n",
    "        summary.append(sentences[i])\n",
    "    return summary \n",
    "\n",
    "def topic_count(order_topics, df_dominant_topic, select_sentence_num, sentences, reverse=False):\n",
    "    \"\"\" コメントのトピック数をカウント \"\"\"\n",
    "    topic_counter = {}\n",
    "    for i in df_dominant_topic[\"Dominant_Topic\"]:\n",
    "        if i not in topic_counter:\n",
    "            topic_counter[i] = 1\n",
    "        else:\n",
    "            topic_counter[i] += 1\n",
    "\n",
    "    if reverse is False:\n",
    "        topic_counter_list = sorted(topic_counter, key=topic_counter.get, reverse=True)\n",
    "    else:\n",
    "        topic_counter_list = sorted(topic_counter, key=topic_counter.get)\n",
    "\n",
    "    top = []\n",
    "    for c in topic_counter_list:\n",
    "        for o in order_topics:\n",
    "            sentence_topic = o[0]\n",
    "            if sentence_topic == c:\n",
    "                top.append(o[2])\n",
    "    top = top[:select_sentence_num]\n",
    "    top = sorted(top)\n",
    "    summary = []\n",
    "    for i in top:\n",
    "        summary.append(sentences[i])\n",
    "    return summary\n",
    "\n",
    "def different_topic(order_topics, select_sentence_num, sentences):\n",
    "    \"\"\" なるべく異なるトピックを抽出 \"\"\"\n",
    "    li = [i[0] for i in order_topics]\n",
    "    import collections\n",
    "    c = collections.Counter(li)\n",
    "    #print(c.most_common()[::-1])\n",
    "    top = []\n",
    "    for i in c.most_common()[::-1]:\n",
    "        top.append(i[0])\n",
    "    top = top[:select_sentence_num]\n",
    "    top = sorted(top)\n",
    "    summary = []\n",
    "    for i in top:\n",
    "        for o in order_topics:\n",
    "            if o[0] == i:\n",
    "                summary.append(sentences[o[2]])\n",
    "    return summary"
   ]
  },
  {
   "cell_type": "code",
   "execution_count": 35,
   "metadata": {},
   "outputs": [],
   "source": [
    "topic1 = kiyoritu(order_topics, select_sentence_num, sentences)\n",
    "topic2 = topic_count(order_topics, df_dominant_topic, select_sentence_num, sentences)\n",
    "topic3 = topic_count(order_topics, df_dominant_topic, select_sentence_num, sentences, True)\n",
    "topic4 = different_topic(order_topics, select_sentence_num, sentences)"
   ]
  },
  {
   "cell_type": "markdown",
   "metadata": {},
   "source": [
    "## 生成した要約1"
   ]
  },
  {
   "cell_type": "code",
   "execution_count": 36,
   "metadata": {},
   "outputs": [
    {
     "name": "stdout",
     "output_type": "stream",
     "text": [
      "一方、就労目的の来日も指摘され、在留資格が取り消される例も出ている。\n",
      "\n",
      "東京入管が日本語学校向けにまとめた資料によると、今年の４月期は２万９８０１件の申請があり、７７・７％が交付されたが、１０月期は１万６４９５件の申請に対し、６５・６％の交付にとどまった。\n",
      "\n",
      "数値には一部の専門学校などのデータが含まれていないという\n"
     ]
    }
   ],
   "source": [
    "print(\"。\\n\\n\".join(topic1))"
   ]
  },
  {
   "cell_type": "markdown",
   "metadata": {},
   "source": [
    "## 生成した要約2"
   ]
  },
  {
   "cell_type": "code",
   "execution_count": 37,
   "metadata": {},
   "outputs": [
    {
     "name": "stdout",
     "output_type": "stream",
     "text": [
      "東京入国管理局が、日本語学校などで学ぶため来日する留学生の在留資格審査を厳格化させていることが、関係者の話で分かった。\n",
      "\n",
      "法務省によると、留学生は２０１７年末で国内に約３１万人おり、５年前から１０万人以上増えている。\n",
      "\n",
      "成立した場合は就労目的の外国人に新たな道が開ける一方、留学希望者は減る可能性がある\n"
     ]
    }
   ],
   "source": [
    "print(\"。\\n\\n\".join(topic2))"
   ]
  },
  {
   "cell_type": "markdown",
   "metadata": {},
   "source": [
    "## 生成した要約 3"
   ]
  },
  {
   "cell_type": "code",
   "execution_count": 38,
   "metadata": {},
   "outputs": [
    {
     "name": "stdout",
     "output_type": "stream",
     "text": [
      "不法就労などへの対策強化が背景にあるが、東南アジアなど一部の国では在留資格の交付率が激減し、日本留学への門が一気に閉ざされた形となっている。\n",
      "\n",
      "一方、就労目的の来日も指摘され、在留資格が取り消される例も出ている。\n",
      "\n",
      "東京入管が日本語学校向けにまとめた資料によると、今年の４月期は２万９８０１件の申請があり、７７・７％が交付されたが、１０月期は１万６４９５件の申請に対し、６５・６％の交付にとどまった\n"
     ]
    }
   ],
   "source": [
    "print(\"。\\n\\n\".join(topic3))"
   ]
  },
  {
   "cell_type": "markdown",
   "metadata": {},
   "source": [
    "## 生成した要約 4"
   ]
  },
  {
   "cell_type": "code",
   "execution_count": 39,
   "metadata": {},
   "outputs": [
    {
     "name": "stdout",
     "output_type": "stream",
     "text": [
      "数値には一部の専門学校などのデータが含まれていないという。\n",
      "\n",
      "【写真】外国人労働者に関する野党合同ヒアリングに出席し、思いを述べた後、涙を拭う技能実習生。\n",
      "\n",
      "成立した場合は就労目的の外国人に新たな道が開ける一方、留学希望者は減る可能性がある\n"
     ]
    }
   ],
   "source": [
    "print(\"。\\n\\n\".join(topic4))"
   ]
  },
  {
   "cell_type": "code",
   "execution_count": 40,
   "metadata": {},
   "outputs": [],
   "source": [
    "import lexrank\n",
    "lex =  lexrank.summarize(article_text, sent_limit=select_sentence_num)"
   ]
  },
  {
   "cell_type": "markdown",
   "metadata": {},
   "source": [
    "## LexRank"
   ]
  },
  {
   "cell_type": "code",
   "execution_count": 41,
   "metadata": {},
   "outputs": [
    {
     "name": "stdout",
     "output_type": "stream",
     "text": [
      "東京入国管理局が、日本語学校などで学ぶため来日する留学生の在留資格審査を厳格化させていることが、関係者の話で分かった。\n",
      "\n",
      "不法就労などへの対策強化が背景にあるが、東南アジアなど一部の国では在留資格の交付率が激減し、日本留学への門が一気に閉ざされた形となっている。\n",
      "\n",
      "留学生は主に４月と１０月に入学するため、在留資格審査の時期が集中する。\n"
     ]
    }
   ],
   "source": [
    "print(\"\\n\\n\".join(lex))"
   ]
  },
  {
   "cell_type": "code",
   "execution_count": 42,
   "metadata": {},
   "outputs": [],
   "source": [
    "import random\n",
    "index = random.sample(range(len(article_text.split(\"。\"))), select_sentence_num)\n",
    "index = sorted(index)\n",
    "test = []\n",
    "for i in range(select_sentence_num):\n",
    "    test.append(article_text.split(\"。\")[index[i]])"
   ]
  },
  {
   "cell_type": "markdown",
   "metadata": {},
   "source": [
    "## random"
   ]
  },
  {
   "cell_type": "code",
   "execution_count": 43,
   "metadata": {},
   "outputs": [
    {
     "name": "stdout",
     "output_type": "stream",
     "text": [
      "[2, 5, 9]\n",
      "【写真】外国人労働者に関する野党合同ヒアリングに出席し、思いを述べた後、涙を拭う技能実習生。\n",
      "\n",
      "政府は現在、外国人労働者受け入れ拡大のため、新たな在留資格を盛り込んだ出入国管理法改正案の成立を目指している。\n",
      "\n",
      "数値には一部の専門学校などのデータが含まれていないという\n"
     ]
    }
   ],
   "source": [
    "print(index)\n",
    "print(\"。\\n\\n\".join(test))"
   ]
  },
  {
   "cell_type": "code",
   "execution_count": 44,
   "metadata": {
    "scrolled": true
   },
   "outputs": [
    {
     "name": "stdout",
     "output_type": "stream",
     "text": [
      "title:  留学生の在留資格審査が厳格に　日本への門、一気に狭く（朝日新聞デジタル） - Yahoo!ニュース\n",
      "文書数:  10\n",
      "使えるコメント数:  505\n",
      "辞書数:  679\n",
      "トピック数:  20\n",
      "要約の文章数:  3\n"
     ]
    }
   ],
   "source": [
    "print(\"title: \", title)\n",
    "#print(\"本文: \\n\", article_text)\n",
    "#print(\"文字数: \", len(article_text))\n",
    "print(\"文書数: \", len(article_text.split(\"。\")))\n",
    "print(\"使えるコメント数: \", len(mecabed_list))\n",
    "print(\"辞書数: \", len(dictionary))\n",
    "print(\"トピック数: \", topic_num)\n",
    "print(\"要約の文章数: \", select_sentence_num)"
   ]
  },
  {
   "cell_type": "code",
   "execution_count": 45,
   "metadata": {},
   "outputs": [],
   "source": [
    "result = []\n",
    "result.append(title)\n",
    "result.append(len(article_text.split(\"。\")))\n",
    "result.append(len(mecabed_list))"
   ]
  },
  {
   "cell_type": "code",
   "execution_count": 46,
   "metadata": {},
   "outputs": [],
   "source": [
    "from sumeval.metrics.rouge import RougeCalculator\n",
    "rouge = RougeCalculator(stopwords=True, lang=\"ja\")\n",
    "def cal_rouge(summary, ref):\n",
    "    rouge_1 = rouge.rouge_n(summary=summary, references=ref, n=1)\n",
    "    rouge_2 = rouge.rouge_n(summary=summary, references=ref, n=2)\n",
    "    return rouge_1, rouge_2"
   ]
  },
  {
   "cell_type": "code",
   "execution_count": 47,
   "metadata": {},
   "outputs": [],
   "source": [
    "lex_summary = \"\".join(lex)"
   ]
  },
  {
   "cell_type": "code",
   "execution_count": 48,
   "metadata": {},
   "outputs": [],
   "source": [
    "# randomとlexのrougeを計算\n",
    "test_summary = \"。\".join(test) + \"。\"\n",
    "r1, r2 = cal_rouge(test_summary, lex_summary)\n",
    "result.append(r1)\n",
    "result.append(r2)"
   ]
  },
  {
   "cell_type": "code",
   "execution_count": 49,
   "metadata": {},
   "outputs": [],
   "source": [
    "# topic1とlexのrougeを計算\n",
    "topic1_summary = \"。\".join(topic1) + \"。\"\n",
    "r1, r2 = cal_rouge(topic1_summary, lex_summary)\n",
    "result.append(r1)\n",
    "result.append(r2)"
   ]
  },
  {
   "cell_type": "code",
   "execution_count": 50,
   "metadata": {},
   "outputs": [],
   "source": [
    "# topic2とlexのrougeを計算\n",
    "topic2_summary = \"。\".join(topic2) + \"。\"\n",
    "r1, r2 = cal_rouge(topic2_summary, lex_summary)\n",
    "result.append(r1)\n",
    "result.append(r2)"
   ]
  },
  {
   "cell_type": "code",
   "execution_count": 51,
   "metadata": {},
   "outputs": [],
   "source": [
    "# topic3とlexのrougeを計算\n",
    "topic3_summary = \"。\".join(topic3) + \"。\"\n",
    "r1, r2 = cal_rouge(topic3_summary, lex_summary)\n",
    "result.append(r1)\n",
    "result.append(r2)"
   ]
  },
  {
   "cell_type": "code",
   "execution_count": 52,
   "metadata": {},
   "outputs": [],
   "source": [
    "# topic4とlexのrougeを計算\n",
    "topic4_summary = \"。\".join(topic4) + \"。\"\n",
    "r1, r2 = cal_rouge(topic4_summary, lex_summary)\n",
    "result.append(r1)\n",
    "result.append(r2)"
   ]
  },
  {
   "cell_type": "code",
   "execution_count": 53,
   "metadata": {},
   "outputs": [],
   "source": [
    "result_df = pd.DataFrame()\n",
    "result_df = result_df.append(pd.Series([result[i] for i in range(1, 13)]), ignore_index=True)"
   ]
  },
  {
   "cell_type": "code",
   "execution_count": 54,
   "metadata": {},
   "outputs": [],
   "source": [
    "result_df.columns = ['本文の文書数', 'コメント数','random_r1', 'random_r2', '寄与率_r1', '寄与率_r2', \"topic-count_r1\", \"topic-count_r2\", \"topic-count-reverse_r1\", \"topic-count-reverse_r2\", \"topic-least_r1\", \"topic-least_r2\"]"
   ]
  },
  {
   "cell_type": "code",
   "execution_count": 55,
   "metadata": {},
   "outputs": [
    {
     "data": {
      "text/html": [
       "<div>\n",
       "<style scoped>\n",
       "    .dataframe tbody tr th:only-of-type {\n",
       "        vertical-align: middle;\n",
       "    }\n",
       "\n",
       "    .dataframe tbody tr th {\n",
       "        vertical-align: top;\n",
       "    }\n",
       "\n",
       "    .dataframe thead th {\n",
       "        text-align: right;\n",
       "    }\n",
       "</style>\n",
       "<table border=\"1\" class=\"dataframe\">\n",
       "  <thead>\n",
       "    <tr style=\"text-align: right;\">\n",
       "      <th></th>\n",
       "      <th>本文の文書数</th>\n",
       "      <th>コメント数</th>\n",
       "      <th>random_r1</th>\n",
       "      <th>random_r2</th>\n",
       "      <th>寄与率_r1</th>\n",
       "      <th>寄与率_r2</th>\n",
       "      <th>topic-count_r1</th>\n",
       "      <th>topic-count_r2</th>\n",
       "      <th>topic-count-reverse_r1</th>\n",
       "      <th>topic-count-reverse_r2</th>\n",
       "      <th>topic-least_r1</th>\n",
       "      <th>topic-least_r2</th>\n",
       "    </tr>\n",
       "  </thead>\n",
       "  <tbody>\n",
       "    <tr>\n",
       "      <th>0</th>\n",
       "      <td>10.0</td>\n",
       "      <td>505.0</td>\n",
       "      <td>0.293706</td>\n",
       "      <td>0.042553</td>\n",
       "      <td>0.425287</td>\n",
       "      <td>0.081395</td>\n",
       "      <td>0.584416</td>\n",
       "      <td>0.368421</td>\n",
       "      <td>0.612245</td>\n",
       "      <td>0.42268</td>\n",
       "      <td>0.316547</td>\n",
       "      <td>0.014599</td>\n",
       "    </tr>\n",
       "  </tbody>\n",
       "</table>\n",
       "</div>"
      ],
      "text/plain": [
       "   本文の文書数  コメント数  random_r1  random_r2    寄与率_r1    寄与率_r2  topic-count_r1  \\\n",
       "0    10.0  505.0   0.293706   0.042553  0.425287  0.081395        0.584416   \n",
       "\n",
       "   topic-count_r2  topic-count-reverse_r1  topic-count-reverse_r2  \\\n",
       "0        0.368421                0.612245                 0.42268   \n",
       "\n",
       "   topic-least_r1  topic-least_r2  \n",
       "0        0.316547        0.014599  "
      ]
     },
     "execution_count": 55,
     "metadata": {},
     "output_type": "execute_result"
    }
   ],
   "source": [
    "result_df"
   ]
  },
  {
   "cell_type": "code",
   "execution_count": 56,
   "metadata": {
    "scrolled": true
   },
   "outputs": [
    {
     "data": {
      "text/plain": [
       "'【写真】外国人労働者に関する野党合同ヒアリングに出席し、思いを述べた後、涙を拭う技能実習生。政府は現在、外国人労働者受け入れ拡大のため、新たな在留資格を盛り込んだ出入国管理法改正案の成立を目指している。数値には一部の専門学校などのデータが含まれていないという。'"
      ]
     },
     "execution_count": 56,
     "metadata": {},
     "output_type": "execute_result"
    }
   ],
   "source": [
    "test_summary"
   ]
  },
  {
   "cell_type": "code",
   "execution_count": 57,
   "metadata": {},
   "outputs": [
    {
     "data": {
      "text/plain": [
       "'東京入国管理局が、日本語学校などで学ぶため来日する留学生の在留資格審査を厳格化させていることが、関係者の話で分かった。不法就労などへの対策強化が背景にあるが、東南アジアなど一部の国では在留資格の交付率が激減し、日本留学への門が一気に閉ざされた形となっている。留学生は主に４月と１０月に入学するため、在留資格審査の時期が集中する。'"
      ]
     },
     "execution_count": 57,
     "metadata": {},
     "output_type": "execute_result"
    }
   ],
   "source": [
    "lex_summary"
   ]
  },
  {
   "cell_type": "code",
   "execution_count": 58,
   "metadata": {},
   "outputs": [
    {
     "data": {
      "text/plain": [
       "'一方、就労目的の来日も指摘され、在留資格が取り消される例も出ている。東京入管が日本語学校向けにまとめた資料によると、今年の４月期は２万９８０１件の申請があり、７７・７％が交付されたが、１０月期は１万６４９５件の申請に対し、６５・６％の交付にとどまった。数値には一部の専門学校などのデータが含まれていないという。'"
      ]
     },
     "execution_count": 58,
     "metadata": {},
     "output_type": "execute_result"
    }
   ],
   "source": [
    "topic1_summary"
   ]
  },
  {
   "cell_type": "code",
   "execution_count": 59,
   "metadata": {},
   "outputs": [
    {
     "data": {
      "text/plain": [
       "'東京入国管理局が、日本語学校などで学ぶため来日する留学生の在留資格審査を厳格化させていることが、関係者の話で分かった。法務省によると、留学生は２０１７年末で国内に約３１万人おり、５年前から１０万人以上増えている。成立した場合は就労目的の外国人に新たな道が開ける一方、留学希望者は減る可能性がある。'"
      ]
     },
     "execution_count": 59,
     "metadata": {},
     "output_type": "execute_result"
    }
   ],
   "source": [
    "topic2_summary"
   ]
  },
  {
   "cell_type": "code",
   "execution_count": 60,
   "metadata": {},
   "outputs": [
    {
     "data": {
      "text/plain": [
       "'不法就労などへの対策強化が背景にあるが、東南アジアなど一部の国では在留資格の交付率が激減し、日本留学への門が一気に閉ざされた形となっている。一方、就労目的の来日も指摘され、在留資格が取り消される例も出ている。東京入管が日本語学校向けにまとめた資料によると、今年の４月期は２万９８０１件の申請があり、７７・７％が交付されたが、１０月期は１万６４９５件の申請に対し、６５・６％の交付にとどまった。'"
      ]
     },
     "execution_count": 60,
     "metadata": {},
     "output_type": "execute_result"
    }
   ],
   "source": [
    "topic3_summary"
   ]
  }
 ],
 "metadata": {
  "kernelspec": {
   "display_name": "Python 3",
   "language": "python",
   "name": "python3"
  },
  "language_info": {
   "codemirror_mode": {
    "name": "ipython",
    "version": 3
   },
   "file_extension": ".py",
   "mimetype": "text/x-python",
   "name": "python",
   "nbconvert_exporter": "python",
   "pygments_lexer": "ipython3",
   "version": "3.6.4"
  }
 },
 "nbformat": 4,
 "nbformat_minor": 2
}
